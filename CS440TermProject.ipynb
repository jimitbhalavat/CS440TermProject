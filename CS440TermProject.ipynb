{
 "cells": [
  {
   "cell_type": "markdown",
   "metadata": {
    "cell_id": "00000-d4eea66f-f8f3-4864-b5a5-3756b5f11083",
    "deepnote_cell_type": "markdown",
    "tags": []
   },
   "source": [
    "# CS440 Term Project"
   ]
  },
  {
   "cell_type": "markdown",
   "metadata": {
    "cell_id": "00001-5083d6c9-5b03-46c8-b045-84301a3a5885",
    "deepnote_cell_type": "markdown",
    "tags": []
   },
   "source": [
    "Data Source: https://finance.yahoo.com/"
   ]
  },
  {
   "cell_type": "markdown",
   "metadata": {
    "cell_id": "00002-14950b5c-7f87-41e8-bcf7-fb159839f653",
    "deepnote_cell_type": "markdown",
    "tags": []
   },
   "source": [
    "### Project Description\n",
    "\n",
    "In today’s modern world, staying updated on technological advancements has become a necessity for businesses to satisfy their customers, achieve desired business goals, and most importantly outsmart the competition. In recent years, the financial sector has seen a rapid acceleration in the use of Artificial Intelligence (AI) and Machine Learning (ML) due to improved software and hardware. This has led to better outcomes for both consumers and businesses. Hedge funds were the primary users of AI and ML in financial services, but in the last few years, the spread of ML applications was seen in banks, insurance firms, and other financial institutions, to name a few. But the most steadfast and steep increase has been seen in the stock markets. AI and ML are shaping the future of stock markets. Using different techniques and deep learning algorithms, it analyzes millions of data points, predicts forecast markets with better accuracy, and as a result, there is a higher probability for higher profits and returns. \n",
    "\n",
    "The prediction of the volatile and unpredictable stock market has been challenging in recent years, since there are so many factors to take into consideration, such as economic factors, interest rate changes, and fiscal policy. While humans remain a large part of the trading, the stock market has become more efficient and accurate because of the recent developments in AI and ML. These techniques have made it easier for beginners to invest in the stock market. AI and ML also use pattern recognition and help gather unbiased information which leads to better predictions for traders and investors. \n",
    "\n",
    "The goal of this project is to train stock market datasets using different AI and ML algorithms such as Neural Networks, k-Nearest Neighbors (kNN), and Logistic Regression and try to find the best predictions. We aim to get results using the above three algorithms and see which ones best predict the outcomes of the stock market. The goal is to see which algorithm more accurately and efficiently predicts the stock market. The benefits of using these algorithms to predict outcomes are that it extracts noise and leaves out as much signal as possible and time complexity is less, hence results are available faster. "
   ]
  },
  {
   "cell_type": "markdown",
   "metadata": {
    "cell_id": "00003-898ee7a3-0a3d-4810-bfe1-685476258557",
    "deepnote_cell_type": "markdown",
    "tags": []
   },
   "source": [
    "### Data Description\n",
    "\n",
    "This dataset includes the historical daily prices and volume information for US stocks and ETFs trading on NASDAQ, NYSE, and NYSE MKT. We do not believe using stock open and close prices and volume will be enough to predict accurately. We will need to use other ‘technical’ data like RSI which represents the relative strength of a stock and other indicators along with the open and close price."
   ]
  },
  {
   "cell_type": "code",
   "execution_count": 1,
   "metadata": {
    "cell_id": "00003-4430d918-c1cc-454a-a744-818807a337d3",
    "deepnote_cell_type": "code",
    "deepnote_to_be_reexecuted": false,
    "execution_millis": 8451,
    "execution_start": 1636849659259,
    "source_hash": "8aebdde6",
    "tags": []
   },
   "outputs": [],
   "source": [
    "# Imports\n",
    "import numpy as np\n",
    "import pandas as pd\n",
    "import math\n",
    "import pandas_ta as pta\n",
    "from matplotlib import pyplot as plt\n",
    "%matplotlib inline\n",
    "import talib as ta\n",
    "import tensorflow as tf\n",
    "from tensorflow.keras import datasets, layers, models\n",
    "from tensorflow.keras.models import Sequential\n",
    "from tensorflow.keras.layers import Dense, Conv1D, Flatten, MaxPooling1D, Dropout, LeakyReLU, LSTM\n",
    "from sklearn import model_selection\n",
    "from sklearn.preprocessing import MinMaxScaler, StandardScaler, MinMaxScaler\n",
    "from sklearn.metrics import accuracy_score, precision_score, confusion_matrix\n",
    "from sklearn.neighbors import KNeighborsClassifier\n",
    "from pandas.plotting import register_matplotlib_converters\n",
    "from sklearn.linear_model import LogisticRegression\n",
    "from sklearn import metrics\n",
    "from sklearn.model_selection import cross_val_score, train_test_split\n",
    "from sklearn.metrics import mean_squared_error\n",
    "from sklearn.metrics import mean_absolute_error"
   ]
  },
  {
   "cell_type": "markdown",
   "metadata": {},
   "source": [
    "### S&P 500"
   ]
  },
  {
   "cell_type": "code",
   "execution_count": 2,
   "metadata": {
    "cell_id": "00006-df5634a5-2baa-457b-b670-efd2ed7963fe",
    "deepnote_cell_type": "code",
    "deepnote_to_be_reexecuted": false,
    "execution_millis": 424,
    "execution_start": 1636847863835,
    "source_hash": "917f2514",
    "tags": []
   },
   "outputs": [],
   "source": [
    "# Read SpyData CSV\n",
    "spyData = pd.read_csv('Data/SPY.csv', sep = \",\")\n",
    "\n",
    "#Compute RSI\n",
    "\"\"\"\n",
    "rsi = pta.rsi(np.array(spyData.Close), length = 14)\n",
    "\"\"\"\n",
    "\n",
    "#Compute EMA**\n",
    "\n",
    "#Compute STOCH %K & %D\n",
    "\n",
    "stochKD = pta.stoch(low = spyData.Low, high = spyData.High, close = spyData.Close, k=14, d=3, smooth_k = 9)\n",
    "stochKD = stochKD.iloc[10: , :]\n",
    "spyData = spyData.iloc[23: , :]\n",
    "\n",
    "spyData.reset_index(inplace = True)\n",
    "spyData = spyData.drop(\"index\", 1)\n",
    "\n",
    "spyData[\"%K\"] = np.array(stochKD.STOCHk_14_3_9)\n",
    "spyData[\"%D\"] = np.array(stochKD.STOCHd_14_3_9)\n",
    "\n",
    "#Adding the slope the stoch lines (1 pos, 0 neg)\n",
    "\"\"\"\"\n",
    "stochSlope = []\n",
    "for i in range(spyData.shape[0]):\n",
    "    if(spyData[\"%K\"][i] > spyData[\"%D\"][i]):\n",
    "        stochSlope.append(1)\n",
    "    if(spyData[\"%K\"][i] < spyData[\"%D\"][i]):\n",
    "        stochSlope.append(0)\n",
    "\n",
    "spyData[\"Stoch Slope\"] = np.array(stochSlope)\n",
    "\"\"\"\n",
    "\n",
    "#Compute Price 1 | 0 price in 10d (1 = up & 0 = down)\n",
    "\n",
    "tenDay = []\n",
    "for i in range(spyData.shape[0]-10):\n",
    "    if(spyData.Close[i] - spyData.Close[i+10] < 0):\n",
    "        tenDay.append(1)\n",
    "    else:\n",
    "        tenDay.append(0)\n",
    "spyData = spyData.iloc[:-10]\n",
    "spyData[\"Ten Day Gain\"] = np.array(tenDay)"
   ]
  },
  {
   "cell_type": "code",
   "execution_count": 3,
   "metadata": {
    "cell_id": "00007-621629e7-0293-4a5f-9763-cee685cd4e74",
    "deepnote_cell_type": "code",
    "deepnote_to_be_reexecuted": false,
    "execution_millis": 13,
    "execution_start": 1636847864269,
    "source_hash": "325d4463",
    "tags": []
   },
   "outputs": [],
   "source": [
    "#Remove Columns\n",
    "\n",
    "spyData = spyData.drop([\"Adj Close\", \"Volume\",\"Date\", \"%K\", \"%D\"], 1)\n",
    "#spyData = spyData.drop(\"Stoch Slope\", 1)"
   ]
  },
  {
   "cell_type": "code",
   "execution_count": 4,
   "metadata": {
    "cell_id": "00008-0067e481-758d-4d94-9ccb-32e2f8ccfe86",
    "deepnote_cell_type": "code",
    "deepnote_to_be_reexecuted": false,
    "execution_millis": 771,
    "execution_start": 1636847864291,
    "source_hash": "f64db71d",
    "tags": []
   },
   "outputs": [
    {
     "data": {
      "image/png": "[encoded data removed]",
      "text/plain": [
       "<Figure size 432x288 with 1 Axes>"
      ]
     },
     "metadata": {
      "needs_background": "light"
     },
     "output_type": "display_data"
    }
   ],
   "source": [
    "n = spyData.shape[0]\n",
    "splitRow = int(n * 0.80)\n",
    "spyData2 = spyData.to_numpy()\n",
    "\n",
    "#Splits\n",
    "x_train = spyData2[:splitRow, :-1]\n",
    "y_train = spyData2[:splitRow, -1]\n",
    "x_test = spyData2[splitRow:, :-1]\n",
    "y_test = spyData2[splitRow:, -1]\n",
    "\n",
    "#Chart Plot\n",
    "xPlot = range(0, n)\n",
    "plt.figure()\n",
    "plt.title('Data Separation')\n",
    "plt.grid(True)\n",
    "plt.ylabel('Open Price')\n",
    "plt.plot(xPlot[:splitRow], x_train[:,0], 'blue', label='Train data')\n",
    "plt.plot(xPlot[splitRow:], x_test[:,0], 'red', label='Test data')\n",
    "plt.legend()\n",
    "plt.show()\n",
    "plt.close()"
   ]
  },
  {
   "cell_type": "code",
   "execution_count": 5,
   "metadata": {
    "cell_id": "00009-17bb81a5-c404-4a37-b89a-1c6d17bda6a4",
    "deepnote_cell_type": "code",
    "deepnote_to_be_reexecuted": false,
    "execution_millis": 22,
    "execution_start": 1636847865071,
    "source_hash": "4122185c",
    "tags": []
   },
   "outputs": [],
   "source": [
    "norm = MinMaxScaler()\n",
    "x_train = norm.fit_transform(x_train)\n",
    "\n",
    "x_train = x_train.reshape(x_train.shape[0], x_train.shape[1], 1)\n",
    "x_test = x_test.reshape(x_test.shape[0], x_test.shape[1], 1)\n",
    "\n",
    "nFeatures = x_train.shape[1]\n",
    "epochs = 10\n",
    "batchSize = 1000\n",
    "nOutput = 1\n",
    "kernelSize = 1"
   ]
  },
  {
   "cell_type": "code",
   "execution_count": 6,
   "metadata": {
    "cell_id": "00010-daecc2cd-555a-47d1-8794-cf767b8ad163",
    "deepnote_cell_type": "code",
    "deepnote_to_be_reexecuted": false,
    "execution_millis": 3947,
    "execution_start": 1636843891053,
    "source_hash": "aa6a8169",
    "tags": []
   },
   "outputs": [
    {
     "name": "stdout",
     "output_type": "stream",
     "text": [
      "Epoch 1/10\n",
      "4/4 [==============================] - 1s 71ms/step - loss: 0.6885 - accuracy: 0.5503 - val_loss: 42.3800 - val_accuracy: 0.6930\n",
      "Epoch 2/10\n",
      "4/4 [==============================] - 0s 22ms/step - loss: 0.6740 - accuracy: 0.6098 - val_loss: 82.6664 - val_accuracy: 0.6930\n",
      "Epoch 3/10\n",
      "4/4 [==============================] - 0s 27ms/step - loss: 0.6729 - accuracy: 0.6098 - val_loss: 81.6072 - val_accuracy: 0.6930\n",
      "Epoch 4/10\n",
      "4/4 [==============================] - 0s 29ms/step - loss: 0.6740 - accuracy: 0.6098 - val_loss: 60.5455 - val_accuracy: 0.6930\n",
      "Epoch 5/10\n",
      "4/4 [==============================] - 0s 40ms/step - loss: 0.6703 - accuracy: 0.6098 - val_loss: 53.2826 - val_accuracy: 0.6930\n",
      "Epoch 6/10\n",
      "4/4 [==============================] - 0s 25ms/step - loss: 0.6723 - accuracy: 0.6098 - val_loss: 49.2535 - val_accuracy: 0.6930\n",
      "Epoch 7/10\n",
      "4/4 [==============================] - 0s 20ms/step - loss: 0.6728 - accuracy: 0.6098 - val_loss: 45.9457 - val_accuracy: 0.6930\n",
      "Epoch 8/10\n",
      "4/4 [==============================] - 0s 25ms/step - loss: 0.6712 - accuracy: 0.6098 - val_loss: 43.6643 - val_accuracy: 0.6930\n",
      "Epoch 9/10\n",
      "4/4 [==============================] - 0s 34ms/step - loss: 0.6710 - accuracy: 0.6098 - val_loss: 41.6947 - val_accuracy: 0.6930\n",
      "Epoch 10/10\n",
      "4/4 [==============================] - 0s 20ms/step - loss: 0.6696 - accuracy: 0.6098 - val_loss: 40.8935 - val_accuracy: 0.6930\n"
     ]
    }
   ],
   "source": [
    "model = Sequential()\n",
    "model.add(Conv1D(filters = 32, kernel_size = kernelSize, padding = 'same', activation = 'relu', input_shape = (nFeatures, 1)))\n",
    "model.add(Conv1D(filters = 64, kernel_size = kernelSize, padding = 'same'))\n",
    "model.add(LeakyReLU(alpha = 0.01))\n",
    "model.add(MaxPooling1D(pool_size = (1)))\n",
    "model.add(Conv1D(filters = 128, kernel_size = kernelSize, padding = 'same'))\n",
    "model.add(LeakyReLU(alpha = 0.01))\n",
    "model.add(Flatten())\n",
    "model.add(Dense(256,))\n",
    "model.add(LeakyReLU(alpha=0.01))\n",
    "model.add(Dropout(0.8))\n",
    "model.add(Dense(nOutput, activation='sigmoid'))\n",
    "model.compile(loss = 'binary_crossentropy', optimizer = 'adam', metrics = ['accuracy'])\n",
    "\n",
    "fitReturn = model.fit(x_train, y_train, validation_data=(x_test, y_test), epochs = epochs, batch_size = batchSize, verbose = 1)"
   ]
  },
  {
   "cell_type": "code",
   "execution_count": 7,
   "metadata": {
    "cell_id": "00011-516e6674-1a6d-4ede-b629-0956ced1e37c",
    "deepnote_cell_type": "code",
    "deepnote_to_be_reexecuted": false,
    "execution_millis": 230,
    "execution_start": 1636843898136,
    "source_hash": "da94b64a",
    "tags": []
   },
   "outputs": [
    {
     "data": {
      "image/png": "[encoded data removed]",
      "text/plain": [
       "<Figure size 432x288 with 1 Axes>"
      ]
     },
     "metadata": {
      "needs_background": "light"
     },
     "output_type": "display_data"
    }
   ],
   "source": [
    "plt.title('Loss')\n",
    "plt.grid(True)\n",
    "plt.xlabel('Epochs')\n",
    "plt.ylabel('Values')\n",
    "plt.plot(fitReturn.history['loss'], 'blue', label='Train Loss')\n",
    "plt.plot(fitReturn.history['val_loss'], 'red', label='Test Loss')\n",
    "plt.legend()\n",
    "plt.show()\n",
    "plt.close()"
   ]
  },
  {
   "cell_type": "code",
   "execution_count": 8,
   "metadata": {
    "cell_id": "00012-d2e33965-2467-4aee-a02f-7fc6ca97bd12",
    "deepnote_cell_type": "code",
    "deepnote_to_be_reexecuted": false,
    "execution_millis": 243,
    "execution_start": 1636843900811,
    "source_hash": "75abef69",
    "tags": []
   },
   "outputs": [
    {
     "data": {
      "image/png": "[encoded data removed]",
      "text/plain": [
       "<Figure size 432x288 with 1 Axes>"
      ]
     },
     "metadata": {
      "needs_background": "light"
     },
     "output_type": "display_data"
    }
   ],
   "source": [
    "plt.title('Accuracy')\n",
    "plt.grid(True)\n",
    "plt.xlabel('Epochs')\n",
    "plt.ylabel('Values')\n",
    "plt.plot(fitReturn.history['accuracy'], 'blue', label='Train Accuracy')\n",
    "plt.plot(fitReturn.history['val_accuracy'], 'red', label='Test Accuracy')\n",
    "plt.legend()\n",
    "plt.show()\n",
    "plt.close()"
   ]
  },
  {
   "cell_type": "code",
   "execution_count": 9,
   "metadata": {
    "cell_id": "00013-f6c9af98-9ae0-402e-8ba3-dea2ae9c4920",
    "deepnote_cell_type": "code",
    "deepnote_to_be_reexecuted": false,
    "execution_millis": 165,
    "execution_start": 1636843903074,
    "source_hash": "3471f1ee",
    "tags": []
   },
   "outputs": [
    {
     "name": "stdout",
     "output_type": "stream",
     "text": [
      "Test Set - Sell signal : 257\n",
      "Test Set - Buy signal  : 580\n",
      "Predicted - Sell signal : 0\n",
      "Predicted - Buy signal  : 837\n"
     ]
    }
   ],
   "source": [
    "#print(x_test)\n",
    "predictY = model.predict(x_test, verbose=0)\n",
    "#print(predictY)\n",
    "predictY = predictY[:, 0]\n",
    "\n",
    "# Basic Counting\n",
    "testY0 = (y_test == 0).sum()\n",
    "testY1 = (y_test == 1).sum()\n",
    "print(\"Test Set - Sell signal : \"+str(testY0))\n",
    "print(\"Test Set - Buy signal  : \"+str(testY1))\n",
    "#print(\"=\"*40)\n",
    "predictY0 = (predictY == 0).sum()\n",
    "predictY1 = (predictY == 1).sum()\n",
    "print(\"Predicted - Sell signal : \"+str(predictY0))\n",
    "print(\"Predicted - Buy signal  : \"+str(predictY1))"
   ]
  },
  {
   "cell_type": "code",
   "execution_count": 10,
   "metadata": {
    "cell_id": "00014-34a241fb-f91c-41a2-a33e-af0225095c60",
    "deepnote_cell_type": "code",
    "deepnote_to_be_reexecuted": false,
    "execution_millis": 13,
    "execution_start": 1636843905259,
    "source_hash": "f0c5292b",
    "tags": []
   },
   "outputs": [
    {
     "name": "stdout",
     "output_type": "stream",
     "text": [
      "Accuracy: 0.6929510155316607\n",
      "Precision: 0.6929510155316607\n"
     ]
    }
   ],
   "source": [
    "\n",
    "#print(y_test)\n",
    "#print(predictY)\n",
    "accuracy = accuracy_score(y_test, predictY)\n",
    "precision = precision_score(y_test, predictY)\n",
    "print('Accuracy: '+str(accuracy))\n",
    "print('Precision: '+str(precision))"
   ]
  },
  {
   "cell_type": "markdown",
   "metadata": {
    "cell_id": "00011-1d1b35eb-533a-4ddb-b497-f2547e5889aa",
    "deepnote_cell_type": "markdown",
    "tags": []
   },
   "source": [
    "### TESLA"
   ]
  },
  {
   "cell_type": "markdown",
   "metadata": {
    "cell_id": "00008-12b6e59d-cd73-4a20-a6cd-ca3700b4e0fc",
    "deepnote_cell_type": "markdown",
    "tags": []
   },
   "source": [
    "#### Data Preprocessing"
   ]
  },
  {
   "cell_type": "code",
   "execution_count": 11,
   "metadata": {
    "cell_id": "00013-dcf2e576-606b-4911-889e-1fd0e9a48b23",
    "deepnote_cell_type": "code",
    "deepnote_to_be_reexecuted": false,
    "execution_millis": 13,
    "execution_start": 1636852179386,
    "source_hash": "8ad363a6",
    "tags": []
   },
   "outputs": [
    {
     "data": {
      "text/html": [
       "<div>\n",
       "<style scoped>\n",
       "    .dataframe tbody tr th:only-of-type {\n",
       "        vertical-align: middle;\n",
       "    }\n",
       "\n",
       "    .dataframe tbody tr th {\n",
       "        vertical-align: top;\n",
       "    }\n",
       "\n",
       "    .dataframe thead th {\n",
       "        text-align: right;\n",
       "    }\n",
       "</style>\n",
       "<table border=\"1\" class=\"dataframe\">\n",
       "  <thead>\n",
       "    <tr style=\"text-align: right;\">\n",
       "      <th></th>\n",
       "      <th>Date</th>\n",
       "      <th>Open</th>\n",
       "      <th>High</th>\n",
       "      <th>Low</th>\n",
       "      <th>Close</th>\n",
       "      <th>Adj Close</th>\n",
       "      <th>Volume</th>\n",
       "    </tr>\n",
       "  </thead>\n",
       "  <tbody>\n",
       "    <tr>\n",
       "      <th>0</th>\n",
       "      <td>2010-06-30</td>\n",
       "      <td>5.158</td>\n",
       "      <td>6.084</td>\n",
       "      <td>4.660</td>\n",
       "      <td>4.766</td>\n",
       "      <td>4.766</td>\n",
       "      <td>85935500</td>\n",
       "    </tr>\n",
       "    <tr>\n",
       "      <th>1</th>\n",
       "      <td>2010-07-01</td>\n",
       "      <td>5.000</td>\n",
       "      <td>5.184</td>\n",
       "      <td>4.054</td>\n",
       "      <td>4.392</td>\n",
       "      <td>4.392</td>\n",
       "      <td>41094000</td>\n",
       "    </tr>\n",
       "    <tr>\n",
       "      <th>2</th>\n",
       "      <td>2010-07-02</td>\n",
       "      <td>4.600</td>\n",
       "      <td>4.620</td>\n",
       "      <td>3.742</td>\n",
       "      <td>3.840</td>\n",
       "      <td>3.840</td>\n",
       "      <td>25699000</td>\n",
       "    </tr>\n",
       "    <tr>\n",
       "      <th>3</th>\n",
       "      <td>2010-07-06</td>\n",
       "      <td>4.000</td>\n",
       "      <td>4.000</td>\n",
       "      <td>3.166</td>\n",
       "      <td>3.222</td>\n",
       "      <td>3.222</td>\n",
       "      <td>34334500</td>\n",
       "    </tr>\n",
       "    <tr>\n",
       "      <th>4</th>\n",
       "      <td>2010-07-07</td>\n",
       "      <td>3.280</td>\n",
       "      <td>3.326</td>\n",
       "      <td>2.996</td>\n",
       "      <td>3.160</td>\n",
       "      <td>3.160</td>\n",
       "      <td>34608500</td>\n",
       "    </tr>\n",
       "  </tbody>\n",
       "</table>\n",
       "</div>"
      ],
      "text/plain": [
       "         Date   Open   High    Low  Close  Adj Close    Volume\n",
       "0  2010-06-30  5.158  6.084  4.660  4.766      4.766  85935500\n",
       "1  2010-07-01  5.000  5.184  4.054  4.392      4.392  41094000\n",
       "2  2010-07-02  4.600  4.620  3.742  3.840      3.840  25699000\n",
       "3  2010-07-06  4.000  4.000  3.166  3.222      3.222  34334500\n",
       "4  2010-07-07  3.280  3.326  2.996  3.160      3.160  34608500"
      ]
     },
     "execution_count": 11,
     "metadata": {},
     "output_type": "execute_result"
    }
   ],
   "source": [
    "# Read In Data\n",
    "tsla = pd.read_csv('Data/TSLA.csv', sep = \",\")\n",
    "tsla.head()"
   ]
  },
  {
   "cell_type": "markdown",
   "metadata": {
    "cell_id": "00011-6ed4d8a3-ef1c-4113-b098-b91418d22732",
    "deepnote_cell_type": "markdown",
    "tags": []
   },
   "source": [
    "#### Convolutional Neural Network"
   ]
  },
  {
   "cell_type": "code",
   "execution_count": 12,
   "metadata": {
    "cell_id": "00011-0600dd01-ad3c-409f-b149-cb1fbb3b98fe",
    "deepnote_cell_type": "code",
    "deepnote_to_be_reexecuted": false,
    "execution_millis": 55,
    "execution_start": 1636844261908,
    "source_hash": "6fe5663",
    "tags": []
   },
   "outputs": [
    {
     "data": {
      "text/html": [
       "<div>\n",
       "<style scoped>\n",
       "    .dataframe tbody tr th:only-of-type {\n",
       "        vertical-align: middle;\n",
       "    }\n",
       "\n",
       "    .dataframe tbody tr th {\n",
       "        vertical-align: top;\n",
       "    }\n",
       "\n",
       "    .dataframe thead th {\n",
       "        text-align: right;\n",
       "    }\n",
       "</style>\n",
       "<table border=\"1\" class=\"dataframe\">\n",
       "  <thead>\n",
       "    <tr style=\"text-align: right;\">\n",
       "      <th></th>\n",
       "      <th>Open</th>\n",
       "      <th>High</th>\n",
       "      <th>Low</th>\n",
       "      <th>Close</th>\n",
       "      <th>Volume</th>\n",
       "      <th>label</th>\n",
       "    </tr>\n",
       "  </thead>\n",
       "  <tbody>\n",
       "    <tr>\n",
       "      <th>0</th>\n",
       "      <td>5.158000</td>\n",
       "      <td>6.084000</td>\n",
       "      <td>4.660000</td>\n",
       "      <td>4.766000</td>\n",
       "      <td>85935500</td>\n",
       "      <td>0</td>\n",
       "    </tr>\n",
       "    <tr>\n",
       "      <th>1</th>\n",
       "      <td>5.000000</td>\n",
       "      <td>5.184000</td>\n",
       "      <td>4.054000</td>\n",
       "      <td>4.392000</td>\n",
       "      <td>41094000</td>\n",
       "      <td>0</td>\n",
       "    </tr>\n",
       "    <tr>\n",
       "      <th>2</th>\n",
       "      <td>4.600000</td>\n",
       "      <td>4.620000</td>\n",
       "      <td>3.742000</td>\n",
       "      <td>3.840000</td>\n",
       "      <td>25699000</td>\n",
       "      <td>0</td>\n",
       "    </tr>\n",
       "    <tr>\n",
       "      <th>3</th>\n",
       "      <td>4.000000</td>\n",
       "      <td>4.000000</td>\n",
       "      <td>3.166000</td>\n",
       "      <td>3.222000</td>\n",
       "      <td>34334500</td>\n",
       "      <td>1</td>\n",
       "    </tr>\n",
       "    <tr>\n",
       "      <th>4</th>\n",
       "      <td>3.280000</td>\n",
       "      <td>3.326000</td>\n",
       "      <td>2.996000</td>\n",
       "      <td>3.160000</td>\n",
       "      <td>34608500</td>\n",
       "      <td>1</td>\n",
       "    </tr>\n",
       "    <tr>\n",
       "      <th>...</th>\n",
       "      <td>...</td>\n",
       "      <td>...</td>\n",
       "      <td>...</td>\n",
       "      <td>...</td>\n",
       "      <td>...</td>\n",
       "      <td>...</td>\n",
       "    </tr>\n",
       "    <tr>\n",
       "      <th>2832</th>\n",
       "      <td>779.799988</td>\n",
       "      <td>793.500000</td>\n",
       "      <td>770.679993</td>\n",
       "      <td>781.309998</td>\n",
       "      <td>20942900</td>\n",
       "      <td>1</td>\n",
       "    </tr>\n",
       "    <tr>\n",
       "      <th>2833</th>\n",
       "      <td>781.000000</td>\n",
       "      <td>789.130005</td>\n",
       "      <td>775.000000</td>\n",
       "      <td>775.479980</td>\n",
       "      <td>17956000</td>\n",
       "      <td>1</td>\n",
       "    </tr>\n",
       "    <tr>\n",
       "      <th>2834</th>\n",
       "      <td>778.400024</td>\n",
       "      <td>780.780029</td>\n",
       "      <td>763.590027</td>\n",
       "      <td>775.219971</td>\n",
       "      <td>17031400</td>\n",
       "      <td>1</td>\n",
       "    </tr>\n",
       "    <tr>\n",
       "      <th>2835</th>\n",
       "      <td>796.500000</td>\n",
       "      <td>806.969971</td>\n",
       "      <td>776.119995</td>\n",
       "      <td>781.530029</td>\n",
       "      <td>30483300</td>\n",
       "      <td>1</td>\n",
       "    </tr>\n",
       "    <tr>\n",
       "      <th>2836</th>\n",
       "      <td>784.799988</td>\n",
       "      <td>797.309998</td>\n",
       "      <td>774.200012</td>\n",
       "      <td>780.590027</td>\n",
       "      <td>18432600</td>\n",
       "      <td>1</td>\n",
       "    </tr>\n",
       "  </tbody>\n",
       "</table>\n",
       "<p>2837 rows × 6 columns</p>\n",
       "</div>"
      ],
      "text/plain": [
       "            Open        High         Low       Close    Volume  label\n",
       "0       5.158000    6.084000    4.660000    4.766000  85935500      0\n",
       "1       5.000000    5.184000    4.054000    4.392000  41094000      0\n",
       "2       4.600000    4.620000    3.742000    3.840000  25699000      0\n",
       "3       4.000000    4.000000    3.166000    3.222000  34334500      1\n",
       "4       3.280000    3.326000    2.996000    3.160000  34608500      1\n",
       "...          ...         ...         ...         ...       ...    ...\n",
       "2832  779.799988  793.500000  770.679993  781.309998  20942900      1\n",
       "2833  781.000000  789.130005  775.000000  775.479980  17956000      1\n",
       "2834  778.400024  780.780029  763.590027  775.219971  17031400      1\n",
       "2835  796.500000  806.969971  776.119995  781.530029  30483300      1\n",
       "2836  784.799988  797.309998  774.200012  780.590027  18432600      1\n",
       "\n",
       "[2837 rows x 6 columns]"
      ]
     },
     "execution_count": 12,
     "metadata": {},
     "output_type": "execute_result"
    }
   ],
   "source": [
    "tsla1 = tsla.dropna()\n",
    "tsla1['Open10'] = tsla1['Open'].shift(periods = -14)\n",
    "tsla1 = tsla1.dropna()\n",
    "tsla1['label'] = np.where(tsla1['Open'] < tsla1['Open10'], 1, 0)\n",
    "tsla1a = tsla1.drop(labels = ['Date', 'Adj Close', 'Open10'], axis = 1)\n",
    "tsla1a"
   ]
  },
  {
   "cell_type": "code",
   "execution_count": 13,
   "metadata": {
    "cell_id": "00012-28afce52-76b3-4d6c-80ca-e192697c9379",
    "deepnote_cell_type": "code",
    "deepnote_to_be_reexecuted": false,
    "execution_millis": 351,
    "execution_start": 1636844265700,
    "source_hash": "b11b88bc",
    "tags": []
   },
   "outputs": [
    {
     "data": {
      "image/png": "[encoded data removed]",
      "text/plain": [
       "<Figure size 432x288 with 1 Axes>"
      ]
     },
     "metadata": {
      "needs_background": "light"
     },
     "output_type": "display_data"
    }
   ],
   "source": [
    "x, _ = tsla1a.shape\n",
    "splitRow = int(x * 0.80)\n",
    "tsla1b = tsla1a.to_numpy()\n",
    "\n",
    "# Training data and testing data\n",
    "trainX = tsla1b[:splitRow, :-1]\n",
    "trainY = tsla1b[:splitRow, -1]\n",
    "testX = tsla1b[splitRow:, :-1]\n",
    "testY = tsla1b[splitRow:, -1] \n",
    "\n",
    "xPlot = range(0, x)\n",
    "plt.figure()\n",
    "plt.title('Data Separation')\n",
    "plt.grid(True)\n",
    "plt.ylabel('Open Price')\n",
    "plt.plot(xPlot[:splitRow], trainX[:,0], 'blue', label='Train data')\n",
    "plt.plot(xPlot[splitRow:], testX[:,0], 'red', label='Test data')\n",
    "plt.legend()\n",
    "plt.show()\n",
    "plt.close()"
   ]
  },
  {
   "cell_type": "code",
   "execution_count": 14,
   "metadata": {
    "cell_id": "00013-8e26aff8-2751-4d36-9c2a-d4e26de0e232",
    "deepnote_cell_type": "code",
    "deepnote_to_be_reexecuted": false,
    "execution_millis": 11,
    "execution_start": 1636844268897,
    "source_hash": "31fdc661",
    "tags": []
   },
   "outputs": [],
   "source": [
    "norm = MinMaxScaler()\n",
    "trainX = norm.fit_transform(trainX)\n",
    "\n",
    "trainX = trainX.reshape(trainX.shape[0], trainX.shape[1], 1)\n",
    "testX = testX.reshape(testX.shape[0], testX.shape[1], 1)\n",
    "\n",
    "nFeatures = trainX.shape[1]\n",
    "epochs = 20\n",
    "batchSize = 1000\n",
    "nOutput = 1\n",
    "kernelSize = 1\n"
   ]
  },
  {
   "cell_type": "code",
   "execution_count": 15,
   "metadata": {
    "cell_id": "00014-219d8dca-1cce-4492-8ee6-c90636884d0d",
    "deepnote_cell_type": "code",
    "deepnote_to_be_reexecuted": false,
    "execution_millis": 4487,
    "execution_start": 1636844272853,
    "source_hash": "e6208a8d",
    "tags": []
   },
   "outputs": [
    {
     "name": "stdout",
     "output_type": "stream",
     "text": [
      "Model: \"sequential_1\"\n",
      "_________________________________________________________________\n",
      " Layer (type)                Output Shape              Param #   \n",
      "=================================================================\n",
      " conv1d_3 (Conv1D)           (None, 5, 32)             64        \n",
      "                                                                 \n",
      " conv1d_4 (Conv1D)           (None, 5, 64)             2112      \n",
      "                                                                 \n",
      " leaky_re_lu_3 (LeakyReLU)   (None, 5, 64)             0         \n",
      "                                                                 \n",
      " max_pooling1d_1 (MaxPooling  (None, 5, 64)            0         \n",
      " 1D)                                                             \n",
      "                                                                 \n",
      " conv1d_5 (Conv1D)           (None, 5, 128)            8320      \n",
      "                                                                 \n",
      " leaky_re_lu_4 (LeakyReLU)   (None, 5, 128)            0         \n",
      "                                                                 \n",
      " flatten_1 (Flatten)         (None, 640)               0         \n",
      "                                                                 \n",
      " dense_2 (Dense)             (None, 256)               164096    \n",
      "                                                                 \n",
      " leaky_re_lu_5 (LeakyReLU)   (None, 256)               0         \n",
      "                                                                 \n",
      " dropout_1 (Dropout)         (None, 256)               0         \n",
      "                                                                 \n",
      " dense_3 (Dense)             (None, 1)                 257       \n",
      "                                                                 \n",
      "=================================================================\n",
      "Total params: 174,849\n",
      "Trainable params: 174,849\n",
      "Non-trainable params: 0\n",
      "_________________________________________________________________\n",
      "Epoch 1/20\n",
      "3/3 [==============================] - 1s 82ms/step - loss: 0.6938 - accuracy: 0.5165 - val_loss: 591183.8750 - val_accuracy: 0.6708\n",
      "Epoch 2/20\n",
      "3/3 [==============================] - 0s 34ms/step - loss: 0.6912 - accuracy: 0.5580 - val_loss: 1544539.7500 - val_accuracy: 0.6708\n",
      "Epoch 3/20\n",
      "3/3 [==============================] - 0s 26ms/step - loss: 0.6891 - accuracy: 0.5571 - val_loss: 2207539.2500 - val_accuracy: 0.6708\n",
      "Epoch 4/20\n",
      "3/3 [==============================] - 0s 33ms/step - loss: 0.6864 - accuracy: 0.5632 - val_loss: 2990938.2500 - val_accuracy: 0.6708\n",
      "Epoch 5/20\n",
      "3/3 [==============================] - 0s 45ms/step - loss: 0.6845 - accuracy: 0.5734 - val_loss: 3656719.7500 - val_accuracy: 0.6708\n",
      "Epoch 6/20\n",
      "3/3 [==============================] - 0s 23ms/step - loss: 0.6840 - accuracy: 0.5544 - val_loss: 4100374.5000 - val_accuracy: 0.6708\n",
      "Epoch 7/20\n",
      "3/3 [==============================] - 0s 23ms/step - loss: 0.6829 - accuracy: 0.5602 - val_loss: 4463446.5000 - val_accuracy: 0.6708\n",
      "Epoch 8/20\n",
      "3/3 [==============================] - 0s 27ms/step - loss: 0.6819 - accuracy: 0.5597 - val_loss: 4760761.0000 - val_accuracy: 0.6708\n",
      "Epoch 9/20\n",
      "3/3 [==============================] - 0s 53ms/step - loss: 0.6770 - accuracy: 0.5822 - val_loss: 5077287.5000 - val_accuracy: 0.6708\n",
      "Epoch 10/20\n",
      "3/3 [==============================] - 0s 23ms/step - loss: 0.6762 - accuracy: 0.5769 - val_loss: 5299019.0000 - val_accuracy: 0.6708\n",
      "Epoch 11/20\n",
      "3/3 [==============================] - 0s 24ms/step - loss: 0.6764 - accuracy: 0.5738 - val_loss: 5491391.0000 - val_accuracy: 0.6708\n",
      "Epoch 12/20\n",
      "3/3 [==============================] - 0s 23ms/step - loss: 0.6754 - accuracy: 0.5760 - val_loss: 5696986.0000 - val_accuracy: 0.6708\n",
      "Epoch 13/20\n",
      "3/3 [==============================] - 0s 37ms/step - loss: 0.6740 - accuracy: 0.5835 - val_loss: 5766429.5000 - val_accuracy: 0.6708\n",
      "Epoch 14/20\n",
      "3/3 [==============================] - 0s 24ms/step - loss: 0.6744 - accuracy: 0.5879 - val_loss: 5807828.5000 - val_accuracy: 0.6708\n",
      "Epoch 15/20\n",
      "3/3 [==============================] - 0s 23ms/step - loss: 0.6734 - accuracy: 0.5831 - val_loss: 5926567.0000 - val_accuracy: 0.6708\n",
      "Epoch 16/20\n",
      "3/3 [==============================] - 0s 71ms/step - loss: 0.6740 - accuracy: 0.5800 - val_loss: 6045221.0000 - val_accuracy: 0.6708\n",
      "Epoch 17/20\n",
      "3/3 [==============================] - 0s 28ms/step - loss: 0.6733 - accuracy: 0.5712 - val_loss: 6215484.5000 - val_accuracy: 0.6708\n",
      "Epoch 18/20\n",
      "3/3 [==============================] - 0s 64ms/step - loss: 0.6701 - accuracy: 0.5888 - val_loss: 6330427.5000 - val_accuracy: 0.6708\n",
      "Epoch 19/20\n",
      "3/3 [==============================] - 0s 37ms/step - loss: 0.6713 - accuracy: 0.5822 - val_loss: 6430311.0000 - val_accuracy: 0.6708\n",
      "Epoch 20/20\n",
      "3/3 [==============================] - 0s 31ms/step - loss: 0.6718 - accuracy: 0.5906 - val_loss: 6452468.0000 - val_accuracy: 0.6708\n"
     ]
    }
   ],
   "source": [
    "model = Sequential()\n",
    "model.add(Conv1D(filters = 32, kernel_size = kernelSize, padding = 'same', activation = 'relu', input_shape = (nFeatures, 1)))\n",
    "model.add(Conv1D(filters = 64, kernel_size = kernelSize, padding = 'same'))\n",
    "model.add(LeakyReLU(alpha = 0.01))\n",
    "model.add(MaxPooling1D(pool_size = (1)))\n",
    "model.add(Conv1D(filters = 128, kernel_size = kernelSize, padding = 'same'))\n",
    "model.add(LeakyReLU(alpha = 0.01))\n",
    "model.add(Flatten())\n",
    "model.add(Dense(256,))\n",
    "model.add(LeakyReLU(alpha=0.01))\n",
    "model.add(Dropout(0.8))\n",
    "model.add(Dense(nOutput, activation='sigmoid'))\n",
    "model.compile(loss = 'binary_crossentropy', optimizer = 'adam', metrics = ['accuracy'])\n",
    "model.summary()\n",
    "\n",
    "fitReturn = model.fit(trainX, trainY, validation_data=(testX, testY), epochs = epochs, batch_size = batchSize, verbose = 1)"
   ]
  },
  {
   "cell_type": "code",
   "execution_count": 16,
   "metadata": {
    "cell_id": "00015-bd6258d0-b0bd-47df-b20a-d310c4acbaa5",
    "deepnote_cell_type": "code",
    "deepnote_to_be_reexecuted": false,
    "execution_millis": 336,
    "execution_start": 1636844283761,
    "source_hash": "da94b64a",
    "tags": []
   },
   "outputs": [
    {
     "data": {
      "image/png": "[encoded data removed]",
      "text/plain": [
       "<Figure size 432x288 with 1 Axes>"
      ]
     },
     "metadata": {
      "needs_background": "light"
     },
     "output_type": "display_data"
    }
   ],
   "source": [
    "plt.title('Loss')\n",
    "plt.grid(True)\n",
    "plt.xlabel('Epochs')\n",
    "plt.ylabel('Values')\n",
    "plt.plot(fitReturn.history['loss'], 'blue', label='Train Loss')\n",
    "plt.plot(fitReturn.history['val_loss'], 'red', label='Test Loss')\n",
    "plt.legend()\n",
    "plt.show()\n",
    "plt.close()"
   ]
  },
  {
   "cell_type": "code",
   "execution_count": 17,
   "metadata": {
    "cell_id": "00016-1d26fbf9-1e65-4ed5-b2d3-c96b371b6971",
    "deepnote_cell_type": "code",
    "deepnote_to_be_reexecuted": false,
    "execution_millis": 248,
    "execution_start": 1636844288403,
    "source_hash": "75abef69",
    "tags": []
   },
   "outputs": [
    {
     "data": {
      "image/png": "[encoded data removed]",
      "text/plain": [
       "<Figure size 432x288 with 1 Axes>"
      ]
     },
     "metadata": {
      "needs_background": "light"
     },
     "output_type": "display_data"
    }
   ],
   "source": [
    "plt.title('Accuracy')\n",
    "plt.grid(True)\n",
    "plt.xlabel('Epochs')\n",
    "plt.ylabel('Values')\n",
    "plt.plot(fitReturn.history['accuracy'], 'blue', label='Train Accuracy')\n",
    "plt.plot(fitReturn.history['val_accuracy'], 'red', label='Test Accuracy')\n",
    "plt.legend()\n",
    "plt.show()\n",
    "plt.close()"
   ]
  },
  {
   "cell_type": "code",
   "execution_count": 18,
   "metadata": {
    "cell_id": "00017-932911aa-8fbc-414b-85ca-7cf63fb4d0ee",
    "deepnote_cell_type": "code",
    "deepnote_to_be_reexecuted": false,
    "execution_millis": 152,
    "execution_start": 1636844294546,
    "source_hash": "187cdca6",
    "tags": []
   },
   "outputs": [
    {
     "name": "stdout",
     "output_type": "stream",
     "text": [
      "Test Set - Sell signal : 187\n",
      "Test Set - Buy signal  : 381\n",
      "========================================\n",
      "Predicted - Sell signal : 0\n",
      "Predicted - Buy signal  : 568\n"
     ]
    }
   ],
   "source": [
    "predictY = model.predict(testX)\n",
    "predictY = predictY[:, 0]\n",
    "\n",
    "# Basic Counting\n",
    "testY0 = (testY == 0).sum()\n",
    "testY1 = (testY == 1).sum()\n",
    "print(\"Test Set - Sell signal : \"+str(testY0))\n",
    "print(\"Test Set - Buy signal  : \"+str(testY1))\n",
    "print(\"=\"*40)\n",
    "predictY0 = (predictY == 0).sum()\n",
    "predictY1 = (predictY == 1).sum()\n",
    "print(\"Predicted - Sell signal : \"+str(predictY0))\n",
    "print(\"Predicted - Buy signal  : \"+str(predictY1))"
   ]
  },
  {
   "cell_type": "code",
   "execution_count": 19,
   "metadata": {
    "cell_id": "00018-286dc761-1f21-47ec-b5f4-af019625d868",
    "deepnote_cell_type": "code",
    "deepnote_to_be_reexecuted": false,
    "execution_millis": 251,
    "execution_start": 1636844735386,
    "source_hash": "23d2ec43",
    "tags": []
   },
   "outputs": [
    {
     "name": "stdout",
     "output_type": "stream",
     "text": [
      "Accuracy: 0.670774647887324\n",
      "Precision: 0.670774647887324\n"
     ]
    }
   ],
   "source": [
    "accuracy = accuracy_score(testY, predictY)\n",
    "precision = precision_score(testY, predictY)\n",
    "print('Accuracy: '+str(accuracy))\n",
    "print('Precision: '+str(precision))"
   ]
  },
  {
   "cell_type": "markdown",
   "metadata": {
    "cell_id": "00012-bcbec868-8a20-4c7b-bb1c-2e3feb16bdc0",
    "deepnote_cell_type": "markdown",
    "tags": []
   },
   "source": [
    "#### Logistic Regression"
   ]
  },
  {
   "cell_type": "code",
   "execution_count": 20,
   "metadata": {
    "cell_id": "00014-d4c8bc47-7dc1-4e28-b2b0-d47d277240d0",
    "deepnote_cell_type": "code",
    "deepnote_to_be_reexecuted": false,
    "execution_millis": 75,
    "execution_start": 1636829354114,
    "source_hash": "41340919",
    "tags": []
   },
   "outputs": [
    {
     "data": {
      "text/html": [
       "<div>\n",
       "<style scoped>\n",
       "    .dataframe tbody tr th:only-of-type {\n",
       "        vertical-align: middle;\n",
       "    }\n",
       "\n",
       "    .dataframe tbody tr th {\n",
       "        vertical-align: top;\n",
       "    }\n",
       "\n",
       "    .dataframe thead th {\n",
       "        text-align: right;\n",
       "    }\n",
       "</style>\n",
       "<table border=\"1\" class=\"dataframe\">\n",
       "  <thead>\n",
       "    <tr style=\"text-align: right;\">\n",
       "      <th></th>\n",
       "      <th>Date</th>\n",
       "      <th>Open</th>\n",
       "      <th>High</th>\n",
       "      <th>Low</th>\n",
       "      <th>Close</th>\n",
       "      <th>Adj Close</th>\n",
       "      <th>Volume</th>\n",
       "    </tr>\n",
       "  </thead>\n",
       "  <tbody>\n",
       "    <tr>\n",
       "      <th>0</th>\n",
       "      <td>2010-06-30</td>\n",
       "      <td>5.158000</td>\n",
       "      <td>6.084000</td>\n",
       "      <td>4.660000</td>\n",
       "      <td>4.766000</td>\n",
       "      <td>4.766000</td>\n",
       "      <td>85935500</td>\n",
       "    </tr>\n",
       "    <tr>\n",
       "      <th>1</th>\n",
       "      <td>2010-07-01</td>\n",
       "      <td>5.000000</td>\n",
       "      <td>5.184000</td>\n",
       "      <td>4.054000</td>\n",
       "      <td>4.392000</td>\n",
       "      <td>4.392000</td>\n",
       "      <td>41094000</td>\n",
       "    </tr>\n",
       "    <tr>\n",
       "      <th>2</th>\n",
       "      <td>2010-07-02</td>\n",
       "      <td>4.600000</td>\n",
       "      <td>4.620000</td>\n",
       "      <td>3.742000</td>\n",
       "      <td>3.840000</td>\n",
       "      <td>3.840000</td>\n",
       "      <td>25699000</td>\n",
       "    </tr>\n",
       "    <tr>\n",
       "      <th>3</th>\n",
       "      <td>2010-07-06</td>\n",
       "      <td>4.000000</td>\n",
       "      <td>4.000000</td>\n",
       "      <td>3.166000</td>\n",
       "      <td>3.222000</td>\n",
       "      <td>3.222000</td>\n",
       "      <td>34334500</td>\n",
       "    </tr>\n",
       "    <tr>\n",
       "      <th>4</th>\n",
       "      <td>2010-07-07</td>\n",
       "      <td>3.280000</td>\n",
       "      <td>3.326000</td>\n",
       "      <td>2.996000</td>\n",
       "      <td>3.160000</td>\n",
       "      <td>3.160000</td>\n",
       "      <td>34608500</td>\n",
       "    </tr>\n",
       "    <tr>\n",
       "      <th>...</th>\n",
       "      <td>...</td>\n",
       "      <td>...</td>\n",
       "      <td>...</td>\n",
       "      <td>...</td>\n",
       "      <td>...</td>\n",
       "      <td>...</td>\n",
       "      <td>...</td>\n",
       "    </tr>\n",
       "    <tr>\n",
       "      <th>2846</th>\n",
       "      <td>2021-10-19</td>\n",
       "      <td>877.530029</td>\n",
       "      <td>877.950012</td>\n",
       "      <td>862.510010</td>\n",
       "      <td>864.270020</td>\n",
       "      <td>864.270020</td>\n",
       "      <td>17381100</td>\n",
       "    </tr>\n",
       "    <tr>\n",
       "      <th>2847</th>\n",
       "      <td>2021-10-20</td>\n",
       "      <td>865.349976</td>\n",
       "      <td>869.489990</td>\n",
       "      <td>857.380005</td>\n",
       "      <td>865.799988</td>\n",
       "      <td>865.799988</td>\n",
       "      <td>14032100</td>\n",
       "    </tr>\n",
       "    <tr>\n",
       "      <th>2848</th>\n",
       "      <td>2021-10-21</td>\n",
       "      <td>856.000000</td>\n",
       "      <td>900.000000</td>\n",
       "      <td>855.500000</td>\n",
       "      <td>894.000000</td>\n",
       "      <td>894.000000</td>\n",
       "      <td>31481500</td>\n",
       "    </tr>\n",
       "    <tr>\n",
       "      <th>2849</th>\n",
       "      <td>2021-10-22</td>\n",
       "      <td>895.500000</td>\n",
       "      <td>910.000000</td>\n",
       "      <td>890.960022</td>\n",
       "      <td>909.679993</td>\n",
       "      <td>909.679993</td>\n",
       "      <td>22836800</td>\n",
       "    </tr>\n",
       "    <tr>\n",
       "      <th>2850</th>\n",
       "      <td>2021-10-25</td>\n",
       "      <td>950.530029</td>\n",
       "      <td>1045.020020</td>\n",
       "      <td>944.200012</td>\n",
       "      <td>1024.859985</td>\n",
       "      <td>1024.859985</td>\n",
       "      <td>62852100</td>\n",
       "    </tr>\n",
       "  </tbody>\n",
       "</table>\n",
       "<p>2851 rows × 7 columns</p>\n",
       "</div>"
      ],
      "text/plain": [
       "            Date        Open         High         Low        Close  \\\n",
       "0     2010-06-30    5.158000     6.084000    4.660000     4.766000   \n",
       "1     2010-07-01    5.000000     5.184000    4.054000     4.392000   \n",
       "2     2010-07-02    4.600000     4.620000    3.742000     3.840000   \n",
       "3     2010-07-06    4.000000     4.000000    3.166000     3.222000   \n",
       "4     2010-07-07    3.280000     3.326000    2.996000     3.160000   \n",
       "...          ...         ...          ...         ...          ...   \n",
       "2846  2021-10-19  877.530029   877.950012  862.510010   864.270020   \n",
       "2847  2021-10-20  865.349976   869.489990  857.380005   865.799988   \n",
       "2848  2021-10-21  856.000000   900.000000  855.500000   894.000000   \n",
       "2849  2021-10-22  895.500000   910.000000  890.960022   909.679993   \n",
       "2850  2021-10-25  950.530029  1045.020020  944.200012  1024.859985   \n",
       "\n",
       "        Adj Close    Volume  \n",
       "0        4.766000  85935500  \n",
       "1        4.392000  41094000  \n",
       "2        3.840000  25699000  \n",
       "3        3.222000  34334500  \n",
       "4        3.160000  34608500  \n",
       "...           ...       ...  \n",
       "2846   864.270020  17381100  \n",
       "2847   865.799988  14032100  \n",
       "2848   894.000000  31481500  \n",
       "2849   909.679993  22836800  \n",
       "2850  1024.859985  62852100  \n",
       "\n",
       "[2851 rows x 7 columns]"
      ]
     },
     "execution_count": 20,
     "metadata": {},
     "output_type": "execute_result"
    }
   ],
   "source": [
    "tsla2 = tsla.dropna()\n",
    "tsla2"
   ]
  },
  {
   "cell_type": "code",
   "execution_count": 21,
   "metadata": {
    "cell_id": "00015-ac6ebd16-d63e-4ae5-ade5-64cbdf3fb955",
    "deepnote_cell_type": "code",
    "deepnote_to_be_reexecuted": false,
    "execution_millis": 115,
    "execution_start": 1636756283662,
    "source_hash": "ad0c460c",
    "tags": []
   },
   "outputs": [
    {
     "data": {
      "text/html": [
       "<div>\n",
       "<style scoped>\n",
       "    .dataframe tbody tr th:only-of-type {\n",
       "        vertical-align: middle;\n",
       "    }\n",
       "\n",
       "    .dataframe tbody tr th {\n",
       "        vertical-align: top;\n",
       "    }\n",
       "\n",
       "    .dataframe thead th {\n",
       "        text-align: right;\n",
       "    }\n",
       "</style>\n",
       "<table border=\"1\" class=\"dataframe\">\n",
       "  <thead>\n",
       "    <tr style=\"text-align: right;\">\n",
       "      <th></th>\n",
       "      <th>Open</th>\n",
       "      <th>High</th>\n",
       "      <th>Low</th>\n",
       "      <th>Close</th>\n",
       "      <th>S_10</th>\n",
       "      <th>Corr</th>\n",
       "      <th>RSI</th>\n",
       "      <th>Open-Close</th>\n",
       "      <th>Open-Open</th>\n",
       "    </tr>\n",
       "  </thead>\n",
       "  <tbody>\n",
       "    <tr>\n",
       "      <th>26</th>\n",
       "      <td>4.020000</td>\n",
       "      <td>4.032000</td>\n",
       "      <td>3.904000</td>\n",
       "      <td>3.918000</td>\n",
       "      <td>4.135571</td>\n",
       "      <td>0.002894</td>\n",
       "      <td>39.801858</td>\n",
       "      <td>-0.070000</td>\n",
       "      <td>-0.288000</td>\n",
       "    </tr>\n",
       "    <tr>\n",
       "      <th>27</th>\n",
       "      <td>3.980000</td>\n",
       "      <td>3.996000</td>\n",
       "      <td>3.890000</td>\n",
       "      <td>3.920000</td>\n",
       "      <td>4.125571</td>\n",
       "      <td>-0.140996</td>\n",
       "      <td>39.855375</td>\n",
       "      <td>0.062000</td>\n",
       "      <td>-0.040000</td>\n",
       "    </tr>\n",
       "    <tr>\n",
       "      <th>28</th>\n",
       "      <td>3.930000</td>\n",
       "      <td>3.930000</td>\n",
       "      <td>3.764000</td>\n",
       "      <td>3.806000</td>\n",
       "      <td>4.108571</td>\n",
       "      <td>-0.286179</td>\n",
       "      <td>37.792968</td>\n",
       "      <td>0.010000</td>\n",
       "      <td>-0.050000</td>\n",
       "    </tr>\n",
       "    <tr>\n",
       "      <th>29</th>\n",
       "      <td>3.738000</td>\n",
       "      <td>3.776000</td>\n",
       "      <td>3.570000</td>\n",
       "      <td>3.580000</td>\n",
       "      <td>4.064286</td>\n",
       "      <td>-0.185847</td>\n",
       "      <td>34.033064</td>\n",
       "      <td>-0.068000</td>\n",
       "      <td>-0.192000</td>\n",
       "    </tr>\n",
       "    <tr>\n",
       "      <th>30</th>\n",
       "      <td>3.560000</td>\n",
       "      <td>3.580000</td>\n",
       "      <td>3.478000</td>\n",
       "      <td>3.520000</td>\n",
       "      <td>4.011571</td>\n",
       "      <td>0.101116</td>\n",
       "      <td>33.091795</td>\n",
       "      <td>-0.020000</td>\n",
       "      <td>-0.178000</td>\n",
       "    </tr>\n",
       "    <tr>\n",
       "      <th>...</th>\n",
       "      <td>...</td>\n",
       "      <td>...</td>\n",
       "      <td>...</td>\n",
       "      <td>...</td>\n",
       "      <td>...</td>\n",
       "      <td>...</td>\n",
       "      <td>...</td>\n",
       "      <td>...</td>\n",
       "      <td>...</td>\n",
       "    </tr>\n",
       "    <tr>\n",
       "      <th>2846</th>\n",
       "      <td>877.530029</td>\n",
       "      <td>877.950012</td>\n",
       "      <td>862.510010</td>\n",
       "      <td>864.270020</td>\n",
       "      <td>805.652858</td>\n",
       "      <td>0.954407</td>\n",
       "      <td>77.905531</td>\n",
       "      <td>7.420044</td>\n",
       "      <td>25.740051</td>\n",
       "    </tr>\n",
       "    <tr>\n",
       "      <th>2847</th>\n",
       "      <td>865.349976</td>\n",
       "      <td>869.489990</td>\n",
       "      <td>857.380005</td>\n",
       "      <td>865.799988</td>\n",
       "      <td>812.104287</td>\n",
       "      <td>0.961354</td>\n",
       "      <td>78.155131</td>\n",
       "      <td>1.079956</td>\n",
       "      <td>-12.180053</td>\n",
       "    </tr>\n",
       "    <tr>\n",
       "      <th>2848</th>\n",
       "      <td>856.000000</td>\n",
       "      <td>900.000000</td>\n",
       "      <td>855.500000</td>\n",
       "      <td>894.000000</td>\n",
       "      <td>820.588575</td>\n",
       "      <td>0.970934</td>\n",
       "      <td>82.156379</td>\n",
       "      <td>-9.799988</td>\n",
       "      <td>-9.349976</td>\n",
       "    </tr>\n",
       "    <tr>\n",
       "      <th>2849</th>\n",
       "      <td>895.500000</td>\n",
       "      <td>910.000000</td>\n",
       "      <td>890.960022</td>\n",
       "      <td>909.679993</td>\n",
       "      <td>829.742144</td>\n",
       "      <td>0.978317</td>\n",
       "      <td>83.920029</td>\n",
       "      <td>1.500000</td>\n",
       "      <td>39.500000</td>\n",
       "    </tr>\n",
       "    <tr>\n",
       "      <th>2850</th>\n",
       "      <td>950.530029</td>\n",
       "      <td>1045.020020</td>\n",
       "      <td>944.200012</td>\n",
       "      <td>1024.859985</td>\n",
       "      <td>847.189998</td>\n",
       "      <td>0.962327</td>\n",
       "      <td>90.975888</td>\n",
       "      <td>40.850036</td>\n",
       "      <td>55.030029</td>\n",
       "    </tr>\n",
       "  </tbody>\n",
       "</table>\n",
       "<p>2825 rows × 9 columns</p>\n",
       "</div>"
      ],
      "text/plain": [
       "            Open         High         Low        Close        S_10      Corr  \\\n",
       "26      4.020000     4.032000    3.904000     3.918000    4.135571  0.002894   \n",
       "27      3.980000     3.996000    3.890000     3.920000    4.125571 -0.140996   \n",
       "28      3.930000     3.930000    3.764000     3.806000    4.108571 -0.286179   \n",
       "29      3.738000     3.776000    3.570000     3.580000    4.064286 -0.185847   \n",
       "30      3.560000     3.580000    3.478000     3.520000    4.011571  0.101116   \n",
       "...          ...          ...         ...          ...         ...       ...   \n",
       "2846  877.530029   877.950012  862.510010   864.270020  805.652858  0.954407   \n",
       "2847  865.349976   869.489990  857.380005   865.799988  812.104287  0.961354   \n",
       "2848  856.000000   900.000000  855.500000   894.000000  820.588575  0.970934   \n",
       "2849  895.500000   910.000000  890.960022   909.679993  829.742144  0.978317   \n",
       "2850  950.530029  1045.020020  944.200012  1024.859985  847.189998  0.962327   \n",
       "\n",
       "            RSI  Open-Close  Open-Open  \n",
       "26    39.801858   -0.070000  -0.288000  \n",
       "27    39.855375    0.062000  -0.040000  \n",
       "28    37.792968    0.010000  -0.050000  \n",
       "29    34.033064   -0.068000  -0.192000  \n",
       "30    33.091795   -0.020000  -0.178000  \n",
       "...         ...         ...        ...  \n",
       "2846  77.905531    7.420044  25.740051  \n",
       "2847  78.155131    1.079956 -12.180053  \n",
       "2848  82.156379   -9.799988  -9.349976  \n",
       "2849  83.920029    1.500000  39.500000  \n",
       "2850  90.975888   40.850036  55.030029  \n",
       "\n",
       "[2825 rows x 9 columns]"
      ]
     },
     "execution_count": 21,
     "metadata": {},
     "output_type": "execute_result"
    }
   ],
   "source": [
    "tsla2['S_10'] = tsla2['Close'].rolling(window = 14).mean()\n",
    "tsla2['Corr'] = tsla2['Close'].rolling(window = 14).corr(tsla2['S_10'])\n",
    "tsla2['RSI'] = ta.RSI(np.array(tsla2['Close']), timeperiod = 14)\n",
    "# The difference between the open price of yesterday and today\n",
    "tsla2['Open-Close'] = tsla2['Open'] - tsla2['Close'].shift(1)\n",
    "# The difference close price of yesterday and the open price of today\n",
    "tsla2['Open-Open'] = tsla2['Open'] - tsla2['Open'].shift(1)\n",
    "tsla2 = tsla2.dropna()\n",
    "tsla2 = tsla2.drop(['Date', 'Adj Close', 'Volume'], axis = 1)\n",
    "X = tsla2.iloc[:,:9]\n",
    "tsla2\n",
    "X"
   ]
  },
  {
   "cell_type": "code",
   "execution_count": 22,
   "metadata": {
    "cell_id": "00015-9dab7005-94f4-4572-8656-c1c5aba2f639",
    "deepnote_cell_type": "code",
    "deepnote_to_be_reexecuted": false,
    "execution_millis": 0,
    "execution_start": 1636756286850,
    "source_hash": "8920b792",
    "tags": []
   },
   "outputs": [],
   "source": [
    "y = np.where(tsla2['Close'].shift(-1) > tsla2['Close'],1,-1)"
   ]
  },
  {
   "cell_type": "code",
   "execution_count": 23,
   "metadata": {
    "cell_id": "00016-a03da9ac-5e52-4aba-8133-dd09879fdcb9",
    "deepnote_cell_type": "code",
    "deepnote_to_be_reexecuted": false,
    "execution_millis": 2,
    "execution_start": 1636756291888,
    "source_hash": "e77aa529",
    "tags": []
   },
   "outputs": [],
   "source": [
    "split = int(0.7 * len(tsla2))\n",
    "X_train, X_test, y_train, y_test = X[:split], X[split:], y[:split], y[split:]"
   ]
  },
  {
   "cell_type": "code",
   "execution_count": 24,
   "metadata": {
    "cell_id": "00017-49fffcff-b93a-4987-b9ac-a268e57dda9d",
    "deepnote_cell_type": "code",
    "deepnote_to_be_reexecuted": false,
    "execution_millis": 189,
    "execution_start": 1636756295867,
    "source_hash": "2eaeef42",
    "tags": []
   },
   "outputs": [
    {
     "name": "stderr",
     "output_type": "stream",
     "text": [
      "/Users/jimitbhalavat/opt/anaconda3/lib/python3.8/site-packages/sklearn/linear_model/_logistic.py:763: ConvergenceWarning: lbfgs failed to converge (status=1):\n",
      "STOP: TOTAL NO. of ITERATIONS REACHED LIMIT.\n",
      "\n",
      "Increase the number of iterations (max_iter) or scale the data as shown in:\n",
      "    https://scikit-learn.org/stable/modules/preprocessing.html\n",
      "Please also refer to the documentation for alternative solver options:\n",
      "    https://scikit-learn.org/stable/modules/linear_model.html#logistic-regression\n",
      "  n_iter_i = _check_optimize_result(\n"
     ]
    },
    {
     "data": {
      "text/html": [
       "<div>\n",
       "<style scoped>\n",
       "    .dataframe tbody tr th:only-of-type {\n",
       "        vertical-align: middle;\n",
       "    }\n",
       "\n",
       "    .dataframe tbody tr th {\n",
       "        vertical-align: top;\n",
       "    }\n",
       "\n",
       "    .dataframe thead th {\n",
       "        text-align: right;\n",
       "    }\n",
       "</style>\n",
       "<table border=\"1\" class=\"dataframe\">\n",
       "  <thead>\n",
       "    <tr style=\"text-align: right;\">\n",
       "      <th></th>\n",
       "      <th>0</th>\n",
       "      <th>1</th>\n",
       "    </tr>\n",
       "  </thead>\n",
       "  <tbody>\n",
       "    <tr>\n",
       "      <th>0</th>\n",
       "      <td>Open</td>\n",
       "      <td>[0.3037471457723646]</td>\n",
       "    </tr>\n",
       "    <tr>\n",
       "      <th>1</th>\n",
       "      <td>High</td>\n",
       "      <td>[-0.22613461367017546]</td>\n",
       "    </tr>\n",
       "    <tr>\n",
       "      <th>2</th>\n",
       "      <td>Low</td>\n",
       "      <td>[-0.2091599129080941]</td>\n",
       "    </tr>\n",
       "    <tr>\n",
       "      <th>3</th>\n",
       "      <td>Close</td>\n",
       "      <td>[0.13802902699981864]</td>\n",
       "    </tr>\n",
       "    <tr>\n",
       "      <th>4</th>\n",
       "      <td>S_10</td>\n",
       "      <td>[-0.007673439761046159]</td>\n",
       "    </tr>\n",
       "    <tr>\n",
       "      <th>5</th>\n",
       "      <td>Corr</td>\n",
       "      <td>[0.054339045538926704]</td>\n",
       "    </tr>\n",
       "    <tr>\n",
       "      <th>6</th>\n",
       "      <td>RSI</td>\n",
       "      <td>[-0.004489472786957012]</td>\n",
       "    </tr>\n",
       "    <tr>\n",
       "      <th>7</th>\n",
       "      <td>Open-Close</td>\n",
       "      <td>[-0.05601794381946111]</td>\n",
       "    </tr>\n",
       "    <tr>\n",
       "      <th>8</th>\n",
       "      <td>Open-Open</td>\n",
       "      <td>[0.018270039184202436]</td>\n",
       "    </tr>\n",
       "  </tbody>\n",
       "</table>\n",
       "</div>"
      ],
      "text/plain": [
       "            0                        1\n",
       "0        Open     [0.3037471457723646]\n",
       "1        High   [-0.22613461367017546]\n",
       "2         Low    [-0.2091599129080941]\n",
       "3       Close    [0.13802902699981864]\n",
       "4        S_10  [-0.007673439761046159]\n",
       "5        Corr   [0.054339045538926704]\n",
       "6         RSI  [-0.004489472786957012]\n",
       "7  Open-Close   [-0.05601794381946111]\n",
       "8   Open-Open   [0.018270039184202436]"
      ]
     },
     "execution_count": 24,
     "metadata": {},
     "output_type": "execute_result"
    }
   ],
   "source": [
    "model = LogisticRegression()\n",
    "model = model.fit (X_train, y_train)\n",
    "pd.DataFrame(zip(X.columns, np.transpose(model.coef_)))"
   ]
  },
  {
   "cell_type": "code",
   "execution_count": 25,
   "metadata": {
    "cell_id": "00018-77e868a9-0629-4122-9d75-a954dff43669",
    "deepnote_cell_type": "code",
    "deepnote_to_be_reexecuted": false,
    "execution_millis": 3,
    "execution_start": 1636756299635,
    "source_hash": "fb897462",
    "tags": []
   },
   "outputs": [
    {
     "name": "stdout",
     "output_type": "stream",
     "text": [
      "[[5.51710446e-01 4.48289554e-01]\n",
      " [5.48116120e-01 4.51883880e-01]\n",
      " [5.85572142e-01 4.14427858e-01]\n",
      " ...\n",
      " [9.93096128e-01 6.90387244e-03]\n",
      " [5.75143213e-01 4.24856787e-01]\n",
      " [9.99989296e-01 1.07043775e-05]]\n"
     ]
    }
   ],
   "source": [
    "probability = model.predict_proba(X_test)\n",
    "print(probability)"
   ]
  },
  {
   "cell_type": "code",
   "execution_count": 26,
   "metadata": {
    "cell_id": "00019-88e7420e-6b55-4430-8beb-16555782b23d",
    "deepnote_cell_type": "code",
    "deepnote_to_be_reexecuted": false,
    "execution_millis": 8,
    "execution_start": 1636756301451,
    "source_hash": "f6faeb2e",
    "tags": []
   },
   "outputs": [
    {
     "name": "stdout",
     "output_type": "stream",
     "text": [
      "[[5.51710446e-01 4.48289554e-01]\n",
      " [5.48116120e-01 4.51883880e-01]\n",
      " [5.85572142e-01 4.14427858e-01]\n",
      " ...\n",
      " [9.93096128e-01 6.90387244e-03]\n",
      " [5.75143213e-01 4.24856787e-01]\n",
      " [9.99989296e-01 1.07043775e-05]]\n"
     ]
    }
   ],
   "source": [
    "probability = model.predict_proba(X_test)\n",
    "print(probability)\n",
    "\n",
    "predicted = model.predict(X_test)"
   ]
  },
  {
   "cell_type": "code",
   "execution_count": 27,
   "metadata": {
    "cell_id": "00020-2f6aa4b3-9320-408f-9c70-6e10a4925f4c",
    "deepnote_cell_type": "code",
    "deepnote_to_be_reexecuted": false,
    "execution_millis": 20,
    "execution_start": 1636756303141,
    "source_hash": "b65bf41f",
    "tags": []
   },
   "outputs": [
    {
     "name": "stdout",
     "output_type": "stream",
     "text": [
      "[[214 183]\n",
      " [237 214]]\n",
      "              precision    recall  f1-score   support\n",
      "\n",
      "          -1       0.47      0.54      0.50       397\n",
      "           1       0.54      0.47      0.50       451\n",
      "\n",
      "    accuracy                           0.50       848\n",
      "   macro avg       0.51      0.51      0.50       848\n",
      "weighted avg       0.51      0.50      0.50       848\n",
      "\n",
      "0.5047169811320755\n"
     ]
    }
   ],
   "source": [
    "print(metrics.confusion_matrix(y_test, predicted))\n",
    "print(metrics.classification_report(y_test, predicted))\n",
    "print(model.score(X_test,y_test))"
   ]
  },
  {
   "cell_type": "code",
   "execution_count": 28,
   "metadata": {
    "cell_id": "00021-c96f9754-908b-4a79-a882-fa0f3d50d341",
    "deepnote_cell_type": "code",
    "deepnote_to_be_reexecuted": false,
    "execution_millis": 1044,
    "execution_start": 1636756305166,
    "source_hash": "483a455f",
    "tags": []
   },
   "outputs": [
    {
     "name": "stderr",
     "output_type": "stream",
     "text": [
      "/Users/jimitbhalavat/opt/anaconda3/lib/python3.8/site-packages/sklearn/linear_model/_logistic.py:763: ConvergenceWarning: lbfgs failed to converge (status=1):\n",
      "STOP: TOTAL NO. of ITERATIONS REACHED LIMIT.\n",
      "\n",
      "Increase the number of iterations (max_iter) or scale the data as shown in:\n",
      "    https://scikit-learn.org/stable/modules/preprocessing.html\n",
      "Please also refer to the documentation for alternative solver options:\n",
      "    https://scikit-learn.org/stable/modules/linear_model.html#logistic-regression\n",
      "  n_iter_i = _check_optimize_result(\n",
      "/Users/jimitbhalavat/opt/anaconda3/lib/python3.8/site-packages/sklearn/linear_model/_logistic.py:763: ConvergenceWarning: lbfgs failed to converge (status=1):\n",
      "STOP: TOTAL NO. of ITERATIONS REACHED LIMIT.\n",
      "\n",
      "Increase the number of iterations (max_iter) or scale the data as shown in:\n",
      "    https://scikit-learn.org/stable/modules/preprocessing.html\n",
      "Please also refer to the documentation for alternative solver options:\n",
      "    https://scikit-learn.org/stable/modules/linear_model.html#logistic-regression\n",
      "  n_iter_i = _check_optimize_result(\n",
      "/Users/jimitbhalavat/opt/anaconda3/lib/python3.8/site-packages/sklearn/linear_model/_logistic.py:763: ConvergenceWarning: lbfgs failed to converge (status=1):\n",
      "STOP: TOTAL NO. of ITERATIONS REACHED LIMIT.\n",
      "\n",
      "Increase the number of iterations (max_iter) or scale the data as shown in:\n",
      "    https://scikit-learn.org/stable/modules/preprocessing.html\n",
      "Please also refer to the documentation for alternative solver options:\n",
      "    https://scikit-learn.org/stable/modules/linear_model.html#logistic-regression\n",
      "  n_iter_i = _check_optimize_result(\n",
      "/Users/jimitbhalavat/opt/anaconda3/lib/python3.8/site-packages/sklearn/linear_model/_logistic.py:763: ConvergenceWarning: lbfgs failed to converge (status=1):\n",
      "STOP: TOTAL NO. of ITERATIONS REACHED LIMIT.\n",
      "\n",
      "Increase the number of iterations (max_iter) or scale the data as shown in:\n",
      "    https://scikit-learn.org/stable/modules/preprocessing.html\n",
      "Please also refer to the documentation for alternative solver options:\n",
      "    https://scikit-learn.org/stable/modules/linear_model.html#logistic-regression\n",
      "  n_iter_i = _check_optimize_result(\n",
      "/Users/jimitbhalavat/opt/anaconda3/lib/python3.8/site-packages/sklearn/linear_model/_logistic.py:763: ConvergenceWarning: lbfgs failed to converge (status=1):\n",
      "STOP: TOTAL NO. of ITERATIONS REACHED LIMIT.\n",
      "\n",
      "Increase the number of iterations (max_iter) or scale the data as shown in:\n",
      "    https://scikit-learn.org/stable/modules/preprocessing.html\n",
      "Please also refer to the documentation for alternative solver options:\n",
      "    https://scikit-learn.org/stable/modules/linear_model.html#logistic-regression\n",
      "  n_iter_i = _check_optimize_result(\n",
      "/Users/jimitbhalavat/opt/anaconda3/lib/python3.8/site-packages/sklearn/linear_model/_logistic.py:763: ConvergenceWarning: lbfgs failed to converge (status=1):\n",
      "STOP: TOTAL NO. of ITERATIONS REACHED LIMIT.\n",
      "\n",
      "Increase the number of iterations (max_iter) or scale the data as shown in:\n",
      "    https://scikit-learn.org/stable/modules/preprocessing.html\n",
      "Please also refer to the documentation for alternative solver options:\n",
      "    https://scikit-learn.org/stable/modules/linear_model.html#logistic-regression\n",
      "  n_iter_i = _check_optimize_result(\n"
     ]
    },
    {
     "name": "stdout",
     "output_type": "stream",
     "text": [
      "[0.51236749 0.50883392 0.49116608 0.51236749 0.5229682  0.5177305\n",
      " 0.4751773  0.5212766  0.46099291 0.5212766 ]\n",
      "0.5044157080921233\n"
     ]
    },
    {
     "name": "stderr",
     "output_type": "stream",
     "text": [
      "/Users/jimitbhalavat/opt/anaconda3/lib/python3.8/site-packages/sklearn/linear_model/_logistic.py:763: ConvergenceWarning: lbfgs failed to converge (status=1):\n",
      "STOP: TOTAL NO. of ITERATIONS REACHED LIMIT.\n",
      "\n",
      "Increase the number of iterations (max_iter) or scale the data as shown in:\n",
      "    https://scikit-learn.org/stable/modules/preprocessing.html\n",
      "Please also refer to the documentation for alternative solver options:\n",
      "    https://scikit-learn.org/stable/modules/linear_model.html#logistic-regression\n",
      "  n_iter_i = _check_optimize_result(\n"
     ]
    }
   ],
   "source": [
    "cross_val = cross_val_score(LogisticRegression(), X, y, scoring='accuracy', cv=10)\n",
    "print(cross_val)\n",
    "print(cross_val.mean())"
   ]
  },
  {
   "cell_type": "markdown",
   "metadata": {
    "cell_id": "00013-50d91828-508c-4fef-af6a-befc04215a29",
    "deepnote_cell_type": "markdown",
    "tags": []
   },
   "source": [
    "#### k-Nearest Neigbors"
   ]
  },
  {
   "cell_type": "code",
   "execution_count": 29,
   "metadata": {
    "cell_id": "00033-362b3ce2-5056-4184-9571-ea9d24479fdd",
    "deepnote_cell_type": "code",
    "deepnote_to_be_reexecuted": false,
    "execution_millis": 68,
    "execution_start": 1636756309241,
    "source_hash": "81f7fc38",
    "tags": []
   },
   "outputs": [
    {
     "data": {
      "text/html": [
       "<div>\n",
       "<style scoped>\n",
       "    .dataframe tbody tr th:only-of-type {\n",
       "        vertical-align: middle;\n",
       "    }\n",
       "\n",
       "    .dataframe tbody tr th {\n",
       "        vertical-align: top;\n",
       "    }\n",
       "\n",
       "    .dataframe thead th {\n",
       "        text-align: right;\n",
       "    }\n",
       "</style>\n",
       "<table border=\"1\" class=\"dataframe\">\n",
       "  <thead>\n",
       "    <tr style=\"text-align: right;\">\n",
       "      <th></th>\n",
       "      <th>Date</th>\n",
       "      <th>Open</th>\n",
       "      <th>High</th>\n",
       "      <th>Low</th>\n",
       "      <th>Close</th>\n",
       "      <th>Adj Close</th>\n",
       "      <th>Volume</th>\n",
       "    </tr>\n",
       "  </thead>\n",
       "  <tbody>\n",
       "    <tr>\n",
       "      <th>0</th>\n",
       "      <td>2010-06-30</td>\n",
       "      <td>5.158000</td>\n",
       "      <td>6.084000</td>\n",
       "      <td>4.660000</td>\n",
       "      <td>4.766000</td>\n",
       "      <td>4.766000</td>\n",
       "      <td>85935500</td>\n",
       "    </tr>\n",
       "    <tr>\n",
       "      <th>1</th>\n",
       "      <td>2010-07-01</td>\n",
       "      <td>5.000000</td>\n",
       "      <td>5.184000</td>\n",
       "      <td>4.054000</td>\n",
       "      <td>4.392000</td>\n",
       "      <td>4.392000</td>\n",
       "      <td>41094000</td>\n",
       "    </tr>\n",
       "    <tr>\n",
       "      <th>2</th>\n",
       "      <td>2010-07-02</td>\n",
       "      <td>4.600000</td>\n",
       "      <td>4.620000</td>\n",
       "      <td>3.742000</td>\n",
       "      <td>3.840000</td>\n",
       "      <td>3.840000</td>\n",
       "      <td>25699000</td>\n",
       "    </tr>\n",
       "    <tr>\n",
       "      <th>3</th>\n",
       "      <td>2010-07-06</td>\n",
       "      <td>4.000000</td>\n",
       "      <td>4.000000</td>\n",
       "      <td>3.166000</td>\n",
       "      <td>3.222000</td>\n",
       "      <td>3.222000</td>\n",
       "      <td>34334500</td>\n",
       "    </tr>\n",
       "    <tr>\n",
       "      <th>4</th>\n",
       "      <td>2010-07-07</td>\n",
       "      <td>3.280000</td>\n",
       "      <td>3.326000</td>\n",
       "      <td>2.996000</td>\n",
       "      <td>3.160000</td>\n",
       "      <td>3.160000</td>\n",
       "      <td>34608500</td>\n",
       "    </tr>\n",
       "    <tr>\n",
       "      <th>...</th>\n",
       "      <td>...</td>\n",
       "      <td>...</td>\n",
       "      <td>...</td>\n",
       "      <td>...</td>\n",
       "      <td>...</td>\n",
       "      <td>...</td>\n",
       "      <td>...</td>\n",
       "    </tr>\n",
       "    <tr>\n",
       "      <th>2846</th>\n",
       "      <td>2021-10-19</td>\n",
       "      <td>877.530029</td>\n",
       "      <td>877.950012</td>\n",
       "      <td>862.510010</td>\n",
       "      <td>864.270020</td>\n",
       "      <td>864.270020</td>\n",
       "      <td>17381100</td>\n",
       "    </tr>\n",
       "    <tr>\n",
       "      <th>2847</th>\n",
       "      <td>2021-10-20</td>\n",
       "      <td>865.349976</td>\n",
       "      <td>869.489990</td>\n",
       "      <td>857.380005</td>\n",
       "      <td>865.799988</td>\n",
       "      <td>865.799988</td>\n",
       "      <td>14032100</td>\n",
       "    </tr>\n",
       "    <tr>\n",
       "      <th>2848</th>\n",
       "      <td>2021-10-21</td>\n",
       "      <td>856.000000</td>\n",
       "      <td>900.000000</td>\n",
       "      <td>855.500000</td>\n",
       "      <td>894.000000</td>\n",
       "      <td>894.000000</td>\n",
       "      <td>31481500</td>\n",
       "    </tr>\n",
       "    <tr>\n",
       "      <th>2849</th>\n",
       "      <td>2021-10-22</td>\n",
       "      <td>895.500000</td>\n",
       "      <td>910.000000</td>\n",
       "      <td>890.960022</td>\n",
       "      <td>909.679993</td>\n",
       "      <td>909.679993</td>\n",
       "      <td>22836800</td>\n",
       "    </tr>\n",
       "    <tr>\n",
       "      <th>2850</th>\n",
       "      <td>2021-10-25</td>\n",
       "      <td>950.530029</td>\n",
       "      <td>1045.020020</td>\n",
       "      <td>944.200012</td>\n",
       "      <td>1024.859985</td>\n",
       "      <td>1024.859985</td>\n",
       "      <td>62852100</td>\n",
       "    </tr>\n",
       "  </tbody>\n",
       "</table>\n",
       "<p>2851 rows × 7 columns</p>\n",
       "</div>"
      ],
      "text/plain": [
       "            Date        Open         High         Low        Close  \\\n",
       "0     2010-06-30    5.158000     6.084000    4.660000     4.766000   \n",
       "1     2010-07-01    5.000000     5.184000    4.054000     4.392000   \n",
       "2     2010-07-02    4.600000     4.620000    3.742000     3.840000   \n",
       "3     2010-07-06    4.000000     4.000000    3.166000     3.222000   \n",
       "4     2010-07-07    3.280000     3.326000    2.996000     3.160000   \n",
       "...          ...         ...          ...         ...          ...   \n",
       "2846  2021-10-19  877.530029   877.950012  862.510010   864.270020   \n",
       "2847  2021-10-20  865.349976   869.489990  857.380005   865.799988   \n",
       "2848  2021-10-21  856.000000   900.000000  855.500000   894.000000   \n",
       "2849  2021-10-22  895.500000   910.000000  890.960022   909.679993   \n",
       "2850  2021-10-25  950.530029  1045.020020  944.200012  1024.859985   \n",
       "\n",
       "        Adj Close    Volume  \n",
       "0        4.766000  85935500  \n",
       "1        4.392000  41094000  \n",
       "2        3.840000  25699000  \n",
       "3        3.222000  34334500  \n",
       "4        3.160000  34608500  \n",
       "...           ...       ...  \n",
       "2846   864.270020  17381100  \n",
       "2847   865.799988  14032100  \n",
       "2848   894.000000  31481500  \n",
       "2849   909.679993  22836800  \n",
       "2850  1024.859985  62852100  \n",
       "\n",
       "[2851 rows x 7 columns]"
      ]
     },
     "execution_count": 29,
     "metadata": {},
     "output_type": "execute_result"
    }
   ],
   "source": [
    "tsla3 = tsla.dropna()\n",
    "tsla3"
   ]
  },
  {
   "cell_type": "code",
   "execution_count": 30,
   "metadata": {
    "cell_id": "00034-60fb8c87-3b84-4510-8bd2-eb3fd775c91f",
    "deepnote_cell_type": "code",
    "deepnote_to_be_reexecuted": false,
    "execution_millis": 19,
    "execution_start": 1636756311497,
    "source_hash": "9ce5d7d6",
    "tags": []
   },
   "outputs": [
    {
     "name": "stderr",
     "output_type": "stream",
     "text": [
      "<ipython-input-30-cd4297f9873e>:2: SettingWithCopyWarning: \n",
      "A value is trying to be set on a copy of a slice from a DataFrame.\n",
      "Try using .loc[row_indexer,col_indexer] = value instead\n",
      "\n",
      "See the caveats in the documentation: https://pandas.pydata.org/pandas-docs/stable/user_guide/indexing.html#returning-a-view-versus-a-copy\n",
      "  tsla3['Open-Close'] = tsla3.Open - tsla3.Close\n",
      "<ipython-input-30-cd4297f9873e>:3: SettingWithCopyWarning: \n",
      "A value is trying to be set on a copy of a slice from a DataFrame.\n",
      "Try using .loc[row_indexer,col_indexer] = value instead\n",
      "\n",
      "See the caveats in the documentation: https://pandas.pydata.org/pandas-docs/stable/user_guide/indexing.html#returning-a-view-versus-a-copy\n",
      "  tsla3['High-Low'] = tsla3.High = tsla3.Low\n",
      "/Users/jimitbhalavat/opt/anaconda3/lib/python3.8/site-packages/pandas/core/generic.py:5494: SettingWithCopyWarning: \n",
      "A value is trying to be set on a copy of a slice from a DataFrame.\n",
      "Try using .loc[row_indexer,col_indexer] = value instead\n",
      "\n",
      "See the caveats in the documentation: https://pandas.pydata.org/pandas-docs/stable/user_guide/indexing.html#returning-a-view-versus-a-copy\n",
      "  self[name] = value\n"
     ]
    }
   ],
   "source": [
    "tsla3 = tsla3[['Open', 'High', 'Close', 'Low']]\n",
    "tsla3['Open-Close'] = tsla3.Open - tsla3.Close\n",
    "tsla3['High-Low'] = tsla3.High = tsla3.Low\n",
    "tsla3 = tsla3.dropna()\n",
    "X_knn = tsla3[['Open-Close', 'High-Low']]\n",
    "Y_knn = np.where(tsla3['Close'].shift(-1) > tsla3['Close'], 1, -1)\n",
    "split3 = int(0.7 * len(tsla3))\n",
    "\n",
    "X_train_knn = tsla3[:split3]\n",
    "Y_train_knn = Y_knn[:split3]\n",
    "X_test_knn = tsla3[split3:]\n",
    "Y_test_knn = Y_knn[split3:]"
   ]
  },
  {
   "cell_type": "code",
   "execution_count": 31,
   "metadata": {
    "cell_id": "00034-ed3a2a75-03a3-4e16-8f8e-2d5fd93fa8e6",
    "deepnote_cell_type": "code",
    "deepnote_to_be_reexecuted": false,
    "execution_millis": 15967,
    "execution_start": 1636756314296,
    "source_hash": "153f69da",
    "tags": []
   },
   "outputs": [],
   "source": [
    "train = []\n",
    "test = []\n",
    "\n",
    "for i in range(1, 151, 5):\n",
    "    knn = KNeighborsClassifier(n_neighbors = i * 10)\n",
    "    knn.fit(X_train_knn, Y_train_knn)\n",
    "    train.append(accuracy_score(Y_train_knn, knn.predict(X_train_knn)))\n",
    "    test.append(accuracy_score(Y_test_knn, knn.predict(X_test_knn)))"
   ]
  },
  {
   "cell_type": "code",
   "execution_count": 32,
   "metadata": {
    "cell_id": "00036-590303c4-6084-46ee-bc46-4aaaeccfe56a",
    "deepnote_cell_type": "code",
    "deepnote_to_be_reexecuted": false,
    "execution_millis": 291,
    "execution_start": 1636756341477,
    "source_hash": "d47cd524",
    "tags": []
   },
   "outputs": [
    {
     "data": {
      "text/plain": [
       "[<matplotlib.lines.Line2D at 0x7fb1b2b6bc10>]"
      ]
     },
     "execution_count": 32,
     "metadata": {},
     "output_type": "execute_result"
    },
    {
     "data": {
      "image/png": "[encoded data removed]",
      "text/plain": [
       "<Figure size 432x288 with 1 Axes>"
      ]
     },
     "metadata": {
      "needs_background": "light"
     },
     "output_type": "display_data"
    }
   ],
   "source": [
    "plt.plot(train)\n",
    "plt.plot(test)"
   ]
  },
  {
   "cell_type": "code",
   "execution_count": 33,
   "metadata": {
    "cell_id": "00037-1e3f1ae6-0537-4e86-b531-9f68569bd063",
    "deepnote_cell_type": "code",
    "deepnote_to_be_reexecuted": false,
    "execution_millis": 7,
    "execution_start": 1636756345535,
    "source_hash": "dbde019c",
    "tags": []
   },
   "outputs": [
    {
     "name": "stdout",
     "output_type": "stream",
     "text": [
      "Average of the training set = 0.52\n",
      "Average of the testing set = 0.49\n"
     ]
    }
   ],
   "source": [
    "print(\"Average of the training set =\", round(sum(train)/len(train), 2))\n",
    "print(\"Average of the testing set =\", round(sum(test)/len(test), 2))"
   ]
  },
  {
   "cell_type": "markdown",
   "metadata": {
    "cell_id": "00043-5c94cd62-3871-4f69-9a67-4c65be69fbcc",
    "deepnote_cell_type": "markdown",
    "tags": []
   },
   "source": [
    "### LSTM"
   ]
  },
  {
   "cell_type": "code",
   "execution_count": 34,
   "metadata": {
    "cell_id": "00046-168c4b6b-5fba-46c9-bb48-f246d31e9617",
    "deepnote_cell_type": "code",
    "deepnote_to_be_reexecuted": false,
    "execution_millis": 342,
    "execution_start": 1636852197528,
    "source_hash": "a80cf57e",
    "tags": []
   },
   "outputs": [
    {
     "data": {
      "image/png": "[encoded data removed]",
      "text/plain": [
       "<Figure size 1296x360 with 1 Axes>"
      ]
     },
     "metadata": {
      "needs_background": "light"
     },
     "output_type": "display_data"
    }
   ],
   "source": [
    "plt.figure(figsize=(18,5))\n",
    "plt.title('Close Price History')\n",
    "plt.plot(tsla['Close'])\n",
    "plt.xlabel('Data', fontsize=15 )\n",
    "plt.ylabel('Close Price USD ($)', fontsize=15)\n",
    "plt.show()"
   ]
  },
  {
   "cell_type": "code",
   "execution_count": 35,
   "metadata": {
    "cell_id": "00047-2e5af09b-a676-414b-87bd-916d79657916",
    "deepnote_cell_type": "code",
    "deepnote_to_be_reexecuted": false,
    "execution_millis": 6,
    "execution_start": 1636852200182,
    "source_hash": "b9025e39",
    "tags": []
   },
   "outputs": [],
   "source": [
    "#Create a dataframe with only the 'Create Column\n",
    "data= tsla.filter(['Close'])\n",
    "#convert the dataframe to a numpy array\n",
    "dataset= data.values\n",
    "#get the number of rows to train the model on\n",
    "training_data_len= math.ceil(len(dataset)* 0.85)"
   ]
  },
  {
   "cell_type": "code",
   "execution_count": 36,
   "metadata": {
    "cell_id": "00047-83cbeb26-78f9-4ebb-afc8-97e048c8809c",
    "deepnote_cell_type": "code",
    "deepnote_to_be_reexecuted": false,
    "execution_millis": 4,
    "execution_start": 1636852207488,
    "source_hash": "b8416c8c",
    "tags": []
   },
   "outputs": [],
   "source": [
    "#Scale the all of the data to be values between 0 and 1 \n",
    "scaler= MinMaxScaler(feature_range=(0,1))\n",
    "scaled_data= scaler.fit_transform(dataset)"
   ]
  },
  {
   "cell_type": "code",
   "execution_count": 37,
   "metadata": {
    "cell_id": "00048-7ddca1cc-9c7e-4a07-bad6-8370d69705dd",
    "deepnote_cell_type": "code",
    "deepnote_to_be_reexecuted": false,
    "execution_millis": 0,
    "execution_start": 1636852210930,
    "source_hash": "db3e25fb",
    "tags": []
   },
   "outputs": [],
   "source": [
    "#Create the scaled training data set \n",
    "train_data = scaled_data[0:training_data_len  , : ]\n",
    "#Split the data into x_train and y_train data sets\n",
    "x_train=[]\n",
    "y_train = []\n",
    "for i in range(180,len(train_data)):\n",
    "    x_train.append(train_data[i-180:i,0])\n",
    "    y_train.append(train_data[i,0])\n"
   ]
  },
  {
   "cell_type": "code",
   "execution_count": 38,
   "metadata": {
    "cell_id": "00049-7d72b903-999a-40f0-924e-5c22bbf47ee4",
    "deepnote_cell_type": "code",
    "deepnote_to_be_reexecuted": false,
    "execution_millis": 11,
    "execution_start": 1636852223358,
    "source_hash": "b3f24923",
    "tags": []
   },
   "outputs": [
    {
     "data": {
      "text/plain": [
       "(2244, 180, 1)"
      ]
     },
     "execution_count": 38,
     "metadata": {},
     "output_type": "execute_result"
    }
   ],
   "source": [
    "x_train, y_train = np.array(x_train), np.array(y_train)\n",
    "#Reshape the data into the shape accepted by the LSTM\n",
    "x_train = np.reshape(x_train, (x_train.shape[0],x_train.shape[1],1))\n",
    "x_train.shape"
   ]
  },
  {
   "cell_type": "code",
   "execution_count": 39,
   "metadata": {
    "cell_id": "00050-0f243b09-09b2-491b-95e7-7f6ebb3e2508",
    "deepnote_cell_type": "code",
    "deepnote_to_be_reexecuted": false,
    "execution_millis": 810,
    "execution_start": 1636852225838,
    "source_hash": "e6547dde",
    "tags": []
   },
   "outputs": [],
   "source": [
    "model = Sequential()\n",
    "model.add(LSTM(units=50, return_sequences=True,input_shape=(x_train.shape[1],1)))\n",
    "model.add(LSTM(units=50, return_sequences=False))\n",
    "model.add(Dense(units=25))\n",
    "model.add(Dense(units=1))"
   ]
  },
  {
   "cell_type": "code",
   "execution_count": 40,
   "metadata": {
    "cell_id": "00051-4232a14f-36fd-4744-88b9-7bab7229544d",
    "deepnote_cell_type": "code",
    "deepnote_to_be_reexecuted": false,
    "execution_millis": 220177,
    "execution_start": 1636852232015,
    "source_hash": "6ff8be3c",
    "tags": []
   },
   "outputs": [
    {
     "name": "stdout",
     "output_type": "stream",
     "text": [
      "2244/2244 [==============================] - 171s 75ms/step - loss: 4.2487e-05\n"
     ]
    },
    {
     "data": {
      "text/plain": [
       "<keras.callbacks.History at 0x7fb1b239e6a0>"
      ]
     },
     "execution_count": 40,
     "metadata": {},
     "output_type": "execute_result"
    }
   ],
   "source": [
    "#Compile the model\n",
    "model.compile(optimizer='adam', loss='mean_squared_error')\n",
    "#Train the model\n",
    "model.fit(x_train, y_train, batch_size=1, epochs=1)"
   ]
  },
  {
   "cell_type": "code",
   "execution_count": 41,
   "metadata": {
    "cell_id": "00052-8d153e66-cc4a-4b62-880b-e1da629832bf",
    "deepnote_cell_type": "code",
    "deepnote_to_be_reexecuted": false,
    "execution_millis": 0,
    "execution_start": 1636852452191,
    "source_hash": "4a642b83",
    "tags": []
   },
   "outputs": [],
   "source": [
    "#Test data set\n",
    "test_data = scaled_data[training_data_len - 180: , : ]\n",
    "#Create the x_test and y_test data sets\n",
    "x_test = []\n",
    "y_test =  dataset[training_data_len : , : ] \n",
    "for i in range(180,len(test_data)):\n",
    "    x_test.append(test_data[i-180:i,0])"
   ]
  },
  {
   "cell_type": "code",
   "execution_count": 42,
   "metadata": {
    "cell_id": "00053-fd733222-3ed4-437c-a375-96c9f823e1d8",
    "deepnote_cell_type": "code",
    "deepnote_to_be_reexecuted": false,
    "execution_millis": 1728,
    "execution_start": 1636852452191,
    "source_hash": "2540208c",
    "tags": []
   },
   "outputs": [
    {
     "name": "stdout",
     "output_type": "stream",
     "text": [
      "152.82808694397693\n",
      "119.85182464737746\n"
     ]
    }
   ],
   "source": [
    "x_test = np.array(x_test)\n",
    "x_test = np.reshape(x_test, (x_test.shape[0],x_test.shape[1],1))\n",
    "#Getting the models predicted price values\n",
    "predictions = model.predict(x_test) \n",
    "predictions = scaler.inverse_transform(predictions)\n",
    "#Undo scaling\n",
    "rmse = math.sqrt(mean_squared_error(y_test, predictions))\n",
    "mae = mean_absolute_error(y_test, predictions)\n",
    "print(rmse)\n",
    "print(mae)"
   ]
  },
  {
   "cell_type": "code",
   "execution_count": 43,
   "metadata": {
    "cell_id": "00054-2810e3f8-d2d5-40fb-9474-ff57c1221213",
    "deepnote_cell_type": "code",
    "deepnote_to_be_reexecuted": false,
    "execution_millis": 346,
    "execution_start": 1636852453921,
    "source_hash": "3e744801",
    "tags": []
   },
   "outputs": [
    {
     "data": {
      "image/png": "[encoded data removed]",
      "text/plain": [
       "<Figure size 432x288 with 1 Axes>"
      ]
     },
     "metadata": {
      "needs_background": "light"
     },
     "output_type": "display_data"
    }
   ],
   "source": [
    "# Visualising the results\n",
    "plt.plot(y_test,color='red',label='Real Tesla Stock price')\n",
    "plt.plot(predictions,color='blue',label='Predicted Tesla Stock price')\n",
    "plt.title('Tesla stock price prediction using LSTM')\n",
    "plt.xlabel('Timeline (13th July- 14th August 2020)')\n",
    "plt.ylabel('Stock Price')\n",
    "plt.legend()\n",
    "plt.show()"
   ]
  }
 ],
 "metadata": {
  "deepnote": {},
  "deepnoteSessionId": "dea8a0f5-35e3-4468-94eb-804ff5fc7baa",
  "deepnote_execution_queue": [],
  "deepnote_notebook_id": "0f460af1-1872-4aa4-804e-36716dbf15fd",
  "kernelspec": {
   "display_name": "Python 3",
   "language": "python",
   "name": "python3"
  },
  "language_info": {
   "codemirror_mode": {
    "name": "ipython",
    "version": 3
   },
   "file_extension": ".py",
   "mimetype": "text/x-python",
   "name": "python",
   "nbconvert_exporter": "python",
   "pygments_lexer": "ipython3",
   "version": "3.8.8"
  }
 },
 "nbformat": 4,
 "nbformat_minor": 2
}
