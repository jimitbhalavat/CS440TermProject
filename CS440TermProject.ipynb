{
 "cells": [
  {
   "cell_type": "markdown",
   "source": "# CS440 Term Project",
   "metadata": {
    "tags": [],
    "cell_id": "00000-d4eea66f-f8f3-4864-b5a5-3756b5f11083",
    "deepnote_cell_type": "markdown"
   }
  },
  {
   "cell_type": "markdown",
   "source": "Data Source: https://finance.yahoo.com/",
   "metadata": {
    "tags": [],
    "cell_id": "00001-5083d6c9-5b03-46c8-b045-84301a3a5885",
    "deepnote_cell_type": "markdown"
   }
  },
  {
   "cell_type": "markdown",
   "source": "### Project Description\n\nIn today’s modern world, staying updated on technological advancements has become a necessity for businesses to satisfy their customers, achieve desired business goals, and most importantly outsmart the competition. In recent years, the financial sector has seen a rapid acceleration in the use of Artificial Intelligence (AI) and Machine Learning (ML) due to improved software and hardware. This has led to better outcomes for both consumers and businesses. Hedge funds were the primary users of AI and ML in financial services, but in the last few years, the spread of ML applications was seen in banks, insurance firms, and other financial institutions, to name a few. But the most steadfast and steep increase has been seen in the stock markets. AI and ML are shaping the future of stock markets. Using different techniques and deep learning algorithms, it analyzes millions of data points, predicts forecast markets with better accuracy, and as a result, there is a higher probability for higher profits and returns. \n\nThe prediction of the volatile and unpredictable stock market has been challenging in recent years, since there are so many factors to take into consideration, such as economic factors, interest rate changes, and fiscal policy. While humans remain a large part of the trading, the stock market has become more efficient and accurate because of the recent developments in AI and ML. These techniques have made it easier for beginners to invest in the stock market. AI and ML also use pattern recognition and help gather unbiased information which leads to better predictions for traders and investors. \n\nThe goal of this project is to train stock market datasets using different AI and ML algorithms such as Neural Networks, k-Nearest Neighbors (kNN), and Logistic Regression and try to find the best predictions. We aim to get results using the above three algorithms and see which ones best predict the outcomes of the stock market. The goal is to see which algorithm more accurately and efficiently predicts the stock market. The benefits of using these algorithms to predict outcomes are that it extracts noise and leaves out as much signal as possible and time complexity is less, hence results are available faster. ",
   "metadata": {
    "tags": [],
    "cell_id": "00002-14950b5c-7f87-41e8-bcf7-fb159839f653",
    "deepnote_cell_type": "markdown"
   }
  },
  {
   "cell_type": "markdown",
   "source": "### Data Description\n\nThis dataset includes the historical daily prices and volume information for US stocks and ETFs trading on NASDAQ, NYSE, and NYSE MKT. We do not believe using stock open and close prices and volume will be enough to predict accurately. We will need to use other ‘technical’ data like RSI which represents the relative strength of a stock and other indicators along with the open and close price.",
   "metadata": {
    "tags": [],
    "cell_id": "00003-898ee7a3-0a3d-4810-bfe1-685476258557",
    "deepnote_cell_type": "markdown"
   }
  },
  {
   "cell_type": "markdown",
   "source": "### S&P 500",
   "metadata": {
    "tags": [],
    "cell_id": "00004-5ec6d435-6d7b-44c0-b0d1-755997284493",
    "deepnote_cell_type": "markdown"
   }
  },
  {
   "cell_type": "code",
   "metadata": {
    "tags": [],
    "cell_id": "00003-4430d918-c1cc-454a-a744-818807a337d3",
    "deepnote_to_be_reexecuted": false,
    "source_hash": "8aebdde6",
    "execution_start": 1636840729036,
    "execution_millis": 8522,
    "deepnote_cell_type": "code"
   },
   "source": "# Imports\nimport numpy as np\nimport pandas as pd\nimport pandas_ta as pta\nfrom matplotlib import pyplot as plt\n%matplotlib inline\nimport talib as ta\nimport tensorflow as tf\nfrom tensorflow.keras import datasets, layers, models\nfrom tensorflow.keras.models import Sequential\nfrom tensorflow.keras.layers import Dense, Conv1D, Flatten, MaxPooling1D, Dropout, LeakyReLU\nfrom sklearn.preprocessing import MinMaxScaler\nfrom sklearn.metrics import accuracy_score, precision_score\nfrom sklearn.neighbors import KNeighborsClassifier\nfrom pandas.plotting import register_matplotlib_converters\nfrom sklearn.linear_model import LogisticRegression\nfrom sklearn import metrics\nfrom sklearn.model_selection import cross_val_score",
   "execution_count": 1,
   "outputs": []
  },
  {
   "cell_type": "code",
   "metadata": {
    "tags": [],
    "cell_id": "00006-df5634a5-2baa-457b-b670-efd2ed7963fe",
    "deepnote_to_be_reexecuted": false,
    "source_hash": "917f2514",
    "execution_start": 1636840740988,
    "execution_millis": 173,
    "deepnote_cell_type": "code"
   },
   "source": "# Read SpyData CSV\nspyData = pd.read_csv('Data/SPY.csv', sep = \",\")\n\n#Compute RSI\n\"\"\"\nrsi = pta.rsi(np.array(spyData.Close), length = 14)\n\"\"\"\n\n#Compute EMA**\n\n#Compute STOCH %K & %D\n\nstochKD = pta.stoch(low = spyData.Low, high = spyData.High, close = spyData.Close, k=14, d=3, smooth_k = 9)\nstochKD = stochKD.iloc[10: , :]\nspyData = spyData.iloc[23: , :]\n\nspyData.reset_index(inplace = True)\nspyData = spyData.drop(\"index\", 1)\n\nspyData[\"%K\"] = np.array(stochKD.STOCHk_14_3_9)\nspyData[\"%D\"] = np.array(stochKD.STOCHd_14_3_9)\n\n#Adding the slope the stoch lines (1 pos, 0 neg)\n\"\"\"\"\nstochSlope = []\nfor i in range(spyData.shape[0]):\n    if(spyData[\"%K\"][i] > spyData[\"%D\"][i]):\n        stochSlope.append(1)\n    if(spyData[\"%K\"][i] < spyData[\"%D\"][i]):\n        stochSlope.append(0)\n\nspyData[\"Stoch Slope\"] = np.array(stochSlope)\n\"\"\"\n\n#Compute Price 1 | 0 price in 10d (1 = up & 0 = down)\n\ntenDay = []\nfor i in range(spyData.shape[0]-10):\n    if(spyData.Close[i] - spyData.Close[i+10] < 0):\n        tenDay.append(1)\n    else:\n        tenDay.append(0)\nspyData = spyData.iloc[:-10]\nspyData[\"Ten Day Gain\"] = np.array(tenDay)",
   "execution_count": 2,
   "outputs": []
  },
  {
   "cell_type": "code",
   "source": "#Remove Columns\n\n#spyData = spyData.drop(\"Adj Close\", 1)\n#spyData = spyData.drop(\"Volume\", 1)\n#spyData = spyData.drop(\"Date\", 1)\n#spyData = spyData.drop(\"%K\", 1)\n#spyData = spyData.drop(\"%D\", 1)\n#spyData = spyData.drop(\"Stoch Slope\", 1)",
   "metadata": {
    "tags": [],
    "cell_id": "00007-621629e7-0293-4a5f-9763-cee685cd4e74",
    "deepnote_to_be_reexecuted": false,
    "source_hash": "6a50500e",
    "execution_start": 1636840744044,
    "execution_millis": 6,
    "deepnote_cell_type": "code"
   },
   "outputs": [],
   "execution_count": 3
  },
  {
   "cell_type": "code",
   "source": "n = spyData.shape[0]\nsplitRow = int(n * 0.80)\nspyData2 = spyData.to_numpy()\n\n#Splits\nx_train = spyData2[:splitRow, :-1]\ny_train = spyData2[:splitRow, -1]\nx_test = spyData2[splitRow:, :-1]\ny_test = spyData2[splitRow:, -1]\n\n#Chart Plot\nxPlot = range(0, n)\nplt.figure()\nplt.title('Data Separation')\nplt.grid(True)\nplt.ylabel('Open Price')\nplt.plot(xPlot[:splitRow], x_train[:,0], 'blue', label='Train data')\nplt.plot(xPlot[splitRow:], x_test[:,0], 'red', label='Test data')\nplt.legend()\nplt.show()\nplt.close()",
   "metadata": {
    "tags": [],
    "cell_id": "00008-0067e481-758d-4d94-9ccb-32e2f8ccfe86",
    "deepnote_to_be_reexecuted": false,
    "source_hash": "f64db71d",
    "execution_start": 1636840746875,
    "execution_millis": 107967,
    "deepnote_cell_type": "code"
   },
   "outputs": [
    {
     "data": {
      "text/plain": "<Figure size 432x288 with 1 Axes>",
      "image/png": "[encoded data removed]"
     },
     "metadata": {
      "needs_background": "light",
      "image/png": {
       "width": 428,
       "height": 264
      }
     },
     "output_type": "display_data"
    }
   ],
   "execution_count": 4
  },
  {
   "cell_type": "code",
   "source": "norm = MinMaxScaler()\nx_train = norm.fit_transform(x_train)\n\nx_train = x_train.reshape(x_train.shape[0], x_train.shape[1], 1)\nx_test = x_test.reshape(x_test.shape[0], x_test.shape[1], 1)\n\nnFeatures = x_train.shape[1]\nepochs = 20\nbatchSize = 1000\nnOutput = 1\nkernelSize = 1",
   "metadata": {
    "tags": [],
    "cell_id": "00009-17bb81a5-c404-4a37-b89a-1c6d17bda6a4",
    "deepnote_to_be_reexecuted": false,
    "source_hash": "ca028ddf",
    "execution_start": 1636840478418,
    "execution_millis": 39,
    "deepnote_cell_type": "code"
   },
   "outputs": [
    {
     "output_type": "error",
     "ename": "ValueError",
     "evalue": "could not convert string to float: '2005-03-01'",
     "traceback": [
      "\u001b[0;31m---------------------------------------------------------------------------\u001b[0m",
      "\u001b[0;31mValueError\u001b[0m                                Traceback (most recent call last)",
      "\u001b[0;32m<ipython-input-8-ca5dc78aabc2>\u001b[0m in \u001b[0;36m<module>\u001b[0;34m\u001b[0m\n\u001b[1;32m      1\u001b[0m \u001b[0mnorm\u001b[0m \u001b[0;34m=\u001b[0m \u001b[0mMinMaxScaler\u001b[0m\u001b[0;34m(\u001b[0m\u001b[0;34m)\u001b[0m\u001b[0;34m\u001b[0m\u001b[0;34m\u001b[0m\u001b[0m\n\u001b[0;32m----> 2\u001b[0;31m \u001b[0mx_train\u001b[0m \u001b[0;34m=\u001b[0m \u001b[0mnorm\u001b[0m\u001b[0;34m.\u001b[0m\u001b[0mfit_transform\u001b[0m\u001b[0;34m(\u001b[0m\u001b[0mx_train\u001b[0m\u001b[0;34m)\u001b[0m\u001b[0;34m\u001b[0m\u001b[0;34m\u001b[0m\u001b[0m\n\u001b[0m\u001b[1;32m      3\u001b[0m \u001b[0;34m\u001b[0m\u001b[0m\n\u001b[1;32m      4\u001b[0m \u001b[0mx_train\u001b[0m \u001b[0;34m=\u001b[0m \u001b[0mx_train\u001b[0m\u001b[0;34m.\u001b[0m\u001b[0mreshape\u001b[0m\u001b[0;34m(\u001b[0m\u001b[0mx_train\u001b[0m\u001b[0;34m.\u001b[0m\u001b[0mshape\u001b[0m\u001b[0;34m[\u001b[0m\u001b[0;36m0\u001b[0m\u001b[0;34m]\u001b[0m\u001b[0;34m,\u001b[0m \u001b[0mx_train\u001b[0m\u001b[0;34m.\u001b[0m\u001b[0mshape\u001b[0m\u001b[0;34m[\u001b[0m\u001b[0;36m1\u001b[0m\u001b[0;34m]\u001b[0m\u001b[0;34m,\u001b[0m \u001b[0;36m1\u001b[0m\u001b[0;34m)\u001b[0m\u001b[0;34m\u001b[0m\u001b[0;34m\u001b[0m\u001b[0m\n\u001b[1;32m      5\u001b[0m \u001b[0mx_test\u001b[0m \u001b[0;34m=\u001b[0m \u001b[0mx_test\u001b[0m\u001b[0;34m.\u001b[0m\u001b[0mreshape\u001b[0m\u001b[0;34m(\u001b[0m\u001b[0mx_test\u001b[0m\u001b[0;34m.\u001b[0m\u001b[0mshape\u001b[0m\u001b[0;34m[\u001b[0m\u001b[0;36m0\u001b[0m\u001b[0;34m]\u001b[0m\u001b[0;34m,\u001b[0m \u001b[0mx_test\u001b[0m\u001b[0;34m.\u001b[0m\u001b[0mshape\u001b[0m\u001b[0;34m[\u001b[0m\u001b[0;36m1\u001b[0m\u001b[0;34m]\u001b[0m\u001b[0;34m,\u001b[0m \u001b[0;36m1\u001b[0m\u001b[0;34m)\u001b[0m\u001b[0;34m\u001b[0m\u001b[0;34m\u001b[0m\u001b[0m\n",
      "\u001b[0;32m/shared-libs/python3.7/py/lib/python3.7/site-packages/sklearn/base.py\u001b[0m in \u001b[0;36mfit_transform\u001b[0;34m(self, X, y, **fit_params)\u001b[0m\n\u001b[1;32m    842\u001b[0m         \u001b[0;32mif\u001b[0m \u001b[0my\u001b[0m \u001b[0;32mis\u001b[0m \u001b[0;32mNone\u001b[0m\u001b[0;34m:\u001b[0m\u001b[0;34m\u001b[0m\u001b[0;34m\u001b[0m\u001b[0m\n\u001b[1;32m    843\u001b[0m             \u001b[0;31m# fit method of arity 1 (unsupervised transformation)\u001b[0m\u001b[0;34m\u001b[0m\u001b[0;34m\u001b[0m\u001b[0;34m\u001b[0m\u001b[0m\n\u001b[0;32m--> 844\u001b[0;31m             \u001b[0;32mreturn\u001b[0m \u001b[0mself\u001b[0m\u001b[0;34m.\u001b[0m\u001b[0mfit\u001b[0m\u001b[0;34m(\u001b[0m\u001b[0mX\u001b[0m\u001b[0;34m,\u001b[0m \u001b[0;34m**\u001b[0m\u001b[0mfit_params\u001b[0m\u001b[0;34m)\u001b[0m\u001b[0;34m.\u001b[0m\u001b[0mtransform\u001b[0m\u001b[0;34m(\u001b[0m\u001b[0mX\u001b[0m\u001b[0;34m)\u001b[0m\u001b[0;34m\u001b[0m\u001b[0;34m\u001b[0m\u001b[0m\n\u001b[0m\u001b[1;32m    845\u001b[0m         \u001b[0;32melse\u001b[0m\u001b[0;34m:\u001b[0m\u001b[0;34m\u001b[0m\u001b[0;34m\u001b[0m\u001b[0m\n\u001b[1;32m    846\u001b[0m             \u001b[0;31m# fit method of arity 2 (supervised transformation)\u001b[0m\u001b[0;34m\u001b[0m\u001b[0;34m\u001b[0m\u001b[0;34m\u001b[0m\u001b[0m\n",
      "\u001b[0;32m/shared-libs/python3.7/py/lib/python3.7/site-packages/sklearn/preprocessing/_data.py\u001b[0m in \u001b[0;36mfit\u001b[0;34m(self, X, y)\u001b[0m\n\u001b[1;32m    414\u001b[0m         \u001b[0;31m# Reset internal state before fitting\u001b[0m\u001b[0;34m\u001b[0m\u001b[0;34m\u001b[0m\u001b[0;34m\u001b[0m\u001b[0m\n\u001b[1;32m    415\u001b[0m         \u001b[0mself\u001b[0m\u001b[0;34m.\u001b[0m\u001b[0m_reset\u001b[0m\u001b[0;34m(\u001b[0m\u001b[0;34m)\u001b[0m\u001b[0;34m\u001b[0m\u001b[0;34m\u001b[0m\u001b[0m\n\u001b[0;32m--> 416\u001b[0;31m         \u001b[0;32mreturn\u001b[0m \u001b[0mself\u001b[0m\u001b[0;34m.\u001b[0m\u001b[0mpartial_fit\u001b[0m\u001b[0;34m(\u001b[0m\u001b[0mX\u001b[0m\u001b[0;34m,\u001b[0m \u001b[0my\u001b[0m\u001b[0;34m)\u001b[0m\u001b[0;34m\u001b[0m\u001b[0;34m\u001b[0m\u001b[0m\n\u001b[0m\u001b[1;32m    417\u001b[0m \u001b[0;34m\u001b[0m\u001b[0m\n\u001b[1;32m    418\u001b[0m     \u001b[0;32mdef\u001b[0m \u001b[0mpartial_fit\u001b[0m\u001b[0;34m(\u001b[0m\u001b[0mself\u001b[0m\u001b[0;34m,\u001b[0m \u001b[0mX\u001b[0m\u001b[0;34m,\u001b[0m \u001b[0my\u001b[0m\u001b[0;34m=\u001b[0m\u001b[0;32mNone\u001b[0m\u001b[0;34m)\u001b[0m\u001b[0;34m:\u001b[0m\u001b[0;34m\u001b[0m\u001b[0;34m\u001b[0m\u001b[0m\n",
      "\u001b[0;32m/shared-libs/python3.7/py/lib/python3.7/site-packages/sklearn/preprocessing/_data.py\u001b[0m in \u001b[0;36mpartial_fit\u001b[0;34m(self, X, y)\u001b[0m\n\u001b[1;32m    456\u001b[0m             \u001b[0mestimator\u001b[0m\u001b[0;34m=\u001b[0m\u001b[0mself\u001b[0m\u001b[0;34m,\u001b[0m\u001b[0;34m\u001b[0m\u001b[0;34m\u001b[0m\u001b[0m\n\u001b[1;32m    457\u001b[0m             \u001b[0mdtype\u001b[0m\u001b[0;34m=\u001b[0m\u001b[0mFLOAT_DTYPES\u001b[0m\u001b[0;34m,\u001b[0m\u001b[0;34m\u001b[0m\u001b[0;34m\u001b[0m\u001b[0m\n\u001b[0;32m--> 458\u001b[0;31m             \u001b[0mforce_all_finite\u001b[0m\u001b[0;34m=\u001b[0m\u001b[0;34m\"allow-nan\"\u001b[0m\u001b[0;34m,\u001b[0m\u001b[0;34m\u001b[0m\u001b[0;34m\u001b[0m\u001b[0m\n\u001b[0m\u001b[1;32m    459\u001b[0m         )\n\u001b[1;32m    460\u001b[0m \u001b[0;34m\u001b[0m\u001b[0m\n",
      "\u001b[0;32m/shared-libs/python3.7/py/lib/python3.7/site-packages/sklearn/base.py\u001b[0m in \u001b[0;36m_validate_data\u001b[0;34m(self, X, y, reset, validate_separately, **check_params)\u001b[0m\n\u001b[1;32m    555\u001b[0m             \u001b[0;32mraise\u001b[0m \u001b[0mValueError\u001b[0m\u001b[0;34m(\u001b[0m\u001b[0;34m\"Validation should be done on X, y or both.\"\u001b[0m\u001b[0;34m)\u001b[0m\u001b[0;34m\u001b[0m\u001b[0;34m\u001b[0m\u001b[0m\n\u001b[1;32m    556\u001b[0m         \u001b[0;32melif\u001b[0m \u001b[0;32mnot\u001b[0m \u001b[0mno_val_X\u001b[0m \u001b[0;32mand\u001b[0m \u001b[0mno_val_y\u001b[0m\u001b[0;34m:\u001b[0m\u001b[0;34m\u001b[0m\u001b[0;34m\u001b[0m\u001b[0m\n\u001b[0;32m--> 557\u001b[0;31m             \u001b[0mX\u001b[0m \u001b[0;34m=\u001b[0m \u001b[0mcheck_array\u001b[0m\u001b[0;34m(\u001b[0m\u001b[0mX\u001b[0m\u001b[0;34m,\u001b[0m \u001b[0;34m**\u001b[0m\u001b[0mcheck_params\u001b[0m\u001b[0;34m)\u001b[0m\u001b[0;34m\u001b[0m\u001b[0;34m\u001b[0m\u001b[0m\n\u001b[0m\u001b[1;32m    558\u001b[0m             \u001b[0mout\u001b[0m \u001b[0;34m=\u001b[0m \u001b[0mX\u001b[0m\u001b[0;34m\u001b[0m\u001b[0;34m\u001b[0m\u001b[0m\n\u001b[1;32m    559\u001b[0m         \u001b[0;32melif\u001b[0m \u001b[0mno_val_X\u001b[0m \u001b[0;32mand\u001b[0m \u001b[0;32mnot\u001b[0m \u001b[0mno_val_y\u001b[0m\u001b[0;34m:\u001b[0m\u001b[0;34m\u001b[0m\u001b[0;34m\u001b[0m\u001b[0m\n",
      "\u001b[0;32m/shared-libs/python3.7/py/lib/python3.7/site-packages/sklearn/utils/validation.py\u001b[0m in \u001b[0;36mcheck_array\u001b[0;34m(array, accept_sparse, accept_large_sparse, dtype, order, copy, force_all_finite, ensure_2d, allow_nd, ensure_min_samples, ensure_min_features, estimator)\u001b[0m\n\u001b[1;32m    736\u001b[0m                     \u001b[0marray\u001b[0m \u001b[0;34m=\u001b[0m \u001b[0marray\u001b[0m\u001b[0;34m.\u001b[0m\u001b[0mastype\u001b[0m\u001b[0;34m(\u001b[0m\u001b[0mdtype\u001b[0m\u001b[0;34m,\u001b[0m \u001b[0mcasting\u001b[0m\u001b[0;34m=\u001b[0m\u001b[0;34m\"unsafe\"\u001b[0m\u001b[0;34m,\u001b[0m \u001b[0mcopy\u001b[0m\u001b[0;34m=\u001b[0m\u001b[0;32mFalse\u001b[0m\u001b[0;34m)\u001b[0m\u001b[0;34m\u001b[0m\u001b[0;34m\u001b[0m\u001b[0m\n\u001b[1;32m    737\u001b[0m                 \u001b[0;32melse\u001b[0m\u001b[0;34m:\u001b[0m\u001b[0;34m\u001b[0m\u001b[0;34m\u001b[0m\u001b[0m\n\u001b[0;32m--> 738\u001b[0;31m                     \u001b[0marray\u001b[0m \u001b[0;34m=\u001b[0m \u001b[0mnp\u001b[0m\u001b[0;34m.\u001b[0m\u001b[0masarray\u001b[0m\u001b[0;34m(\u001b[0m\u001b[0marray\u001b[0m\u001b[0;34m,\u001b[0m \u001b[0morder\u001b[0m\u001b[0;34m=\u001b[0m\u001b[0morder\u001b[0m\u001b[0;34m,\u001b[0m \u001b[0mdtype\u001b[0m\u001b[0;34m=\u001b[0m\u001b[0mdtype\u001b[0m\u001b[0;34m)\u001b[0m\u001b[0;34m\u001b[0m\u001b[0;34m\u001b[0m\u001b[0m\n\u001b[0m\u001b[1;32m    739\u001b[0m             \u001b[0;32mexcept\u001b[0m \u001b[0mComplexWarning\u001b[0m \u001b[0;32mas\u001b[0m \u001b[0mcomplex_warning\u001b[0m\u001b[0;34m:\u001b[0m\u001b[0;34m\u001b[0m\u001b[0;34m\u001b[0m\u001b[0m\n\u001b[1;32m    740\u001b[0m                 raise ValueError(\n",
      "\u001b[0;32m/shared-libs/python3.7/py/lib/python3.7/site-packages/numpy/core/_asarray.py\u001b[0m in \u001b[0;36masarray\u001b[0;34m(a, dtype, order)\u001b[0m\n\u001b[1;32m     81\u001b[0m \u001b[0;34m\u001b[0m\u001b[0m\n\u001b[1;32m     82\u001b[0m     \"\"\"\n\u001b[0;32m---> 83\u001b[0;31m     \u001b[0;32mreturn\u001b[0m \u001b[0marray\u001b[0m\u001b[0;34m(\u001b[0m\u001b[0ma\u001b[0m\u001b[0;34m,\u001b[0m \u001b[0mdtype\u001b[0m\u001b[0;34m,\u001b[0m \u001b[0mcopy\u001b[0m\u001b[0;34m=\u001b[0m\u001b[0;32mFalse\u001b[0m\u001b[0;34m,\u001b[0m \u001b[0morder\u001b[0m\u001b[0;34m=\u001b[0m\u001b[0morder\u001b[0m\u001b[0;34m)\u001b[0m\u001b[0;34m\u001b[0m\u001b[0;34m\u001b[0m\u001b[0m\n\u001b[0m\u001b[1;32m     84\u001b[0m \u001b[0;34m\u001b[0m\u001b[0m\n\u001b[1;32m     85\u001b[0m \u001b[0;34m\u001b[0m\u001b[0m\n",
      "\u001b[0;31mValueError\u001b[0m: could not convert string to float: '2005-03-01'"
     ]
    }
   ],
   "execution_count": null
  },
  {
   "cell_type": "code",
   "source": "model = Sequential()\nmodel.add(Conv1D(filters = 32, kernel_size = kernelSize, padding = 'same', activation = 'relu', input_shape = (nFeatures, 1)))\nmodel.add(Conv1D(filters = 64, kernel_size = kernelSize, padding = 'same'))\nmodel.add(LeakyReLU(alpha = 0.01))\nmodel.add(MaxPooling1D(pool_size = (1)))\nmodel.add(Conv1D(filters = 128, kernel_size = kernelSize, padding = 'same'))\nmodel.add(LeakyReLU(alpha = 0.01))\nmodel.add(Flatten())\nmodel.add(Dense(256,))\nmodel.add(LeakyReLU(alpha=0.01))\nmodel.add(Dropout(0.8))\nmodel.add(Dense(nOutput, activation='sigmoid'))\nmodel.compile(loss = 'binary_crossentropy', optimizer = 'adam', metrics = ['accuracy'])\n\nfitReturn = model.fit(x_train, y_train, validation_data=(x_test, y_test), epochs = epochs, batch_size = batchSize, verbose = 1)",
   "metadata": {
    "tags": [],
    "cell_id": "00010-daecc2cd-555a-47d1-8794-cf767b8ad163",
    "deepnote_cell_type": "code"
   },
   "outputs": [],
   "execution_count": null
  },
  {
   "cell_type": "code",
   "source": "plt.title('Loss')\nplt.grid(True)\nplt.xlabel('Epochs')\nplt.ylabel('Values')\nplt.plot(fitReturn.history['loss'], 'blue', label='Train Loss')\nplt.plot(fitReturn.history['val_loss'], 'red', label='Test Loss')\nplt.legend()\nplt.show()\nplt.close()",
   "metadata": {
    "tags": [],
    "cell_id": "00011-516e6674-1a6d-4ede-b629-0956ced1e37c",
    "deepnote_cell_type": "code"
   },
   "outputs": [],
   "execution_count": null
  },
  {
   "cell_type": "code",
   "source": "plt.title('Accuracy')\nplt.grid(True)\nplt.xlabel('Epochs')\nplt.ylabel('Values')\nplt.plot(fitReturn.history['accuracy'], 'blue', label='Train Accuracy')\nplt.plot(fitReturn.history['val_accuracy'], 'red', label='Test Accuracy')\nplt.legend()\nplt.show()\nplt.close()",
   "metadata": {
    "tags": [],
    "cell_id": "00012-d2e33965-2467-4aee-a02f-7fc6ca97bd12",
    "deepnote_cell_type": "code"
   },
   "outputs": [],
   "execution_count": null
  },
  {
   "cell_type": "code",
   "source": "print(x_test)\npredictY = model.predict(x_test, verbose=0)\nprint(predictY)\npredictY = predictY[:, 0]\n\n# Basic Counting\ntestY0 = (y_test == 0).sum()\ntestY1 = (y_test == 1).sum()\nprint(\"Test Set - Sell signal : \"+str(testY0))\nprint(\"Test Set - Buy signal  : \"+str(testY1))\nprint(\"=\"*40)\npredictY0 = (predictY == 0).sum()\npredictY1 = (predictY == 1).sum()\nprint(\"Predicted - Sell signal : \"+str(predictY0))\nprint(\"Predicted - Buy signal  : \"+str(predictY1))",
   "metadata": {
    "tags": [],
    "cell_id": "00013-f6c9af98-9ae0-402e-8ba3-dea2ae9c4920",
    "deepnote_cell_type": "code"
   },
   "outputs": [],
   "execution_count": null
  },
  {
   "cell_type": "code",
   "source": "\nprint(y_test)\nprint(predictY)\naccuracy = accuracy_score(y_test, predictY)\n\nprecision = precision_score(y_test, predictY)\nprint('Accuracy: '+str(accuracy))\nprint('Precision: '+str(precision))",
   "metadata": {
    "tags": [],
    "cell_id": "00014-34a241fb-f91c-41a2-a33e-af0225095c60",
    "deepnote_cell_type": "code"
   },
   "outputs": [],
   "execution_count": null
  },
  {
   "cell_type": "markdown",
   "source": "### TESLA",
   "metadata": {
    "tags": [],
    "cell_id": "00011-1d1b35eb-533a-4ddb-b497-f2547e5889aa",
    "deepnote_cell_type": "markdown"
   }
  },
  {
   "cell_type": "markdown",
   "source": "#### Data Preprocessing",
   "metadata": {
    "tags": [],
    "cell_id": "00008-12b6e59d-cd73-4a20-a6cd-ca3700b4e0fc",
    "deepnote_cell_type": "markdown"
   }
  },
  {
   "cell_type": "code",
   "metadata": {
    "tags": [],
    "cell_id": "00013-dcf2e576-606b-4911-889e-1fd0e9a48b23",
    "deepnote_to_be_reexecuted": false,
    "source_hash": "8ad363a6",
    "execution_start": 1636829314064,
    "execution_millis": 59,
    "deepnote_cell_type": "code"
   },
   "source": "# Read In Data\ntsla = pd.read_csv('Data/TSLA.csv', sep = \",\")\ntsla.head()",
   "execution_count": null,
   "outputs": [
    {
     "output_type": "execute_result",
     "execution_count": 2,
     "data": {
      "application/vnd.deepnote.dataframe.v2+json": {
       "row_count": 5,
       "column_count": 7,
       "columns": [
        {
         "name": "Date",
         "dtype": "object",
         "stats": {
          "unique_count": 5,
          "nan_count": 0,
          "categories": [
           {
            "name": "2010-06-30",
            "count": 1
           },
           {
            "name": "2010-07-01",
            "count": 1
           },
           {
            "name": "3 others",
            "count": 3
           }
          ]
         }
        },
        {
         "name": "Open",
         "dtype": "float64",
         "stats": {
          "unique_count": 5,
          "nan_count": 0,
          "min": "3.28",
          "max": "5.158",
          "histogram": [
           {
            "bin_start": 3.28,
            "bin_end": 3.4678,
            "count": 1
           },
           {
            "bin_start": 3.4678,
            "bin_end": 3.6555999999999997,
            "count": 0
           },
           {
            "bin_start": 3.6555999999999997,
            "bin_end": 3.8434,
            "count": 0
           },
           {
            "bin_start": 3.8434,
            "bin_end": 4.0312,
            "count": 1
           },
           {
            "bin_start": 4.0312,
            "bin_end": 4.219,
            "count": 0
           },
           {
            "bin_start": 4.219,
            "bin_end": 4.4068000000000005,
            "count": 0
           },
           {
            "bin_start": 4.4068000000000005,
            "bin_end": 4.5946,
            "count": 0
           },
           {
            "bin_start": 4.5946,
            "bin_end": 4.7824,
            "count": 1
           },
           {
            "bin_start": 4.7824,
            "bin_end": 4.9702,
            "count": 0
           },
           {
            "bin_start": 4.9702,
            "bin_end": 5.158,
            "count": 2
           }
          ]
         }
        },
        {
         "name": "High",
         "dtype": "float64",
         "stats": {
          "unique_count": 5,
          "nan_count": 0,
          "min": "3.326",
          "max": "6.084",
          "histogram": [
           {
            "bin_start": 3.326,
            "bin_end": 3.6018,
            "count": 1
           },
           {
            "bin_start": 3.6018,
            "bin_end": 3.8776,
            "count": 0
           },
           {
            "bin_start": 3.8776,
            "bin_end": 4.1533999999999995,
            "count": 1
           },
           {
            "bin_start": 4.1533999999999995,
            "bin_end": 4.4292,
            "count": 0
           },
           {
            "bin_start": 4.4292,
            "bin_end": 4.705,
            "count": 1
           },
           {
            "bin_start": 4.705,
            "bin_end": 4.9807999999999995,
            "count": 0
           },
           {
            "bin_start": 4.9807999999999995,
            "bin_end": 5.2566,
            "count": 1
           },
           {
            "bin_start": 5.2566,
            "bin_end": 5.532399999999999,
            "count": 0
           },
           {
            "bin_start": 5.532399999999999,
            "bin_end": 5.808199999999999,
            "count": 0
           },
           {
            "bin_start": 5.808199999999999,
            "bin_end": 6.084,
            "count": 1
           }
          ]
         }
        },
        {
         "name": "Low",
         "dtype": "float64",
         "stats": {
          "unique_count": 5,
          "nan_count": 0,
          "min": "2.996",
          "max": "4.66",
          "histogram": [
           {
            "bin_start": 2.996,
            "bin_end": 3.1624,
            "count": 1
           },
           {
            "bin_start": 3.1624,
            "bin_end": 3.3288,
            "count": 1
           },
           {
            "bin_start": 3.3288,
            "bin_end": 3.4952,
            "count": 0
           },
           {
            "bin_start": 3.4952,
            "bin_end": 3.6616,
            "count": 0
           },
           {
            "bin_start": 3.6616,
            "bin_end": 3.8280000000000003,
            "count": 1
           },
           {
            "bin_start": 3.8280000000000003,
            "bin_end": 3.9944,
            "count": 0
           },
           {
            "bin_start": 3.9944,
            "bin_end": 4.1608,
            "count": 1
           },
           {
            "bin_start": 4.1608,
            "bin_end": 4.3272,
            "count": 0
           },
           {
            "bin_start": 4.3272,
            "bin_end": 4.493600000000001,
            "count": 0
           },
           {
            "bin_start": 4.493600000000001,
            "bin_end": 4.66,
            "count": 1
           }
          ]
         }
        },
        {
         "name": "Close",
         "dtype": "float64",
         "stats": {
          "unique_count": 5,
          "nan_count": 0,
          "min": "3.16",
          "max": "4.766",
          "histogram": [
           {
            "bin_start": 3.16,
            "bin_end": 3.3206,
            "count": 2
           },
           {
            "bin_start": 3.3206,
            "bin_end": 3.4812000000000003,
            "count": 0
           },
           {
            "bin_start": 3.4812000000000003,
            "bin_end": 3.6418,
            "count": 0
           },
           {
            "bin_start": 3.6418,
            "bin_end": 3.8024,
            "count": 0
           },
           {
            "bin_start": 3.8024,
            "bin_end": 3.963,
            "count": 1
           },
           {
            "bin_start": 3.963,
            "bin_end": 4.1236,
            "count": 0
           },
           {
            "bin_start": 4.1236,
            "bin_end": 4.2842,
            "count": 0
           },
           {
            "bin_start": 4.2842,
            "bin_end": 4.4448,
            "count": 1
           },
           {
            "bin_start": 4.4448,
            "bin_end": 4.6054,
            "count": 0
           },
           {
            "bin_start": 4.6054,
            "bin_end": 4.766,
            "count": 1
           }
          ]
         }
        },
        {
         "name": "Adj Close",
         "dtype": "float64",
         "stats": {
          "unique_count": 5,
          "nan_count": 0,
          "min": "3.16",
          "max": "4.766",
          "histogram": [
           {
            "bin_start": 3.16,
            "bin_end": 3.3206,
            "count": 2
           },
           {
            "bin_start": 3.3206,
            "bin_end": 3.4812000000000003,
            "count": 0
           },
           {
            "bin_start": 3.4812000000000003,
            "bin_end": 3.6418,
            "count": 0
           },
           {
            "bin_start": 3.6418,
            "bin_end": 3.8024,
            "count": 0
           },
           {
            "bin_start": 3.8024,
            "bin_end": 3.963,
            "count": 1
           },
           {
            "bin_start": 3.963,
            "bin_end": 4.1236,
            "count": 0
           },
           {
            "bin_start": 4.1236,
            "bin_end": 4.2842,
            "count": 0
           },
           {
            "bin_start": 4.2842,
            "bin_end": 4.4448,
            "count": 1
           },
           {
            "bin_start": 4.4448,
            "bin_end": 4.6054,
            "count": 0
           },
           {
            "bin_start": 4.6054,
            "bin_end": 4.766,
            "count": 1
           }
          ]
         }
        },
        {
         "name": "Volume",
         "dtype": "int64",
         "stats": {
          "unique_count": 5,
          "nan_count": 0,
          "min": "25699000",
          "max": "85935500",
          "histogram": [
           {
            "bin_start": 25699000,
            "bin_end": 31722650,
            "count": 1
           },
           {
            "bin_start": 31722650,
            "bin_end": 37746300,
            "count": 2
           },
           {
            "bin_start": 37746300,
            "bin_end": 43769950,
            "count": 1
           },
           {
            "bin_start": 43769950,
            "bin_end": 49793600,
            "count": 0
           },
           {
            "bin_start": 49793600,
            "bin_end": 55817250,
            "count": 0
           },
           {
            "bin_start": 55817250,
            "bin_end": 61840900,
            "count": 0
           },
           {
            "bin_start": 61840900,
            "bin_end": 67864550,
            "count": 0
           },
           {
            "bin_start": 67864550,
            "bin_end": 73888200,
            "count": 0
           },
           {
            "bin_start": 73888200,
            "bin_end": 79911850,
            "count": 0
           },
           {
            "bin_start": 79911850,
            "bin_end": 85935500,
            "count": 1
           }
          ]
         }
        },
        {
         "name": "_deepnote_index_column",
         "dtype": "int64"
        }
       ],
       "rows_top": [
        {
         "Date": "2010-06-30",
         "Open": 5.158,
         "High": 6.084,
         "Low": 4.66,
         "Close": 4.766,
         "Adj Close": 4.766,
         "Volume": 85935500,
         "_deepnote_index_column": 0
        },
        {
         "Date": "2010-07-01",
         "Open": 5,
         "High": 5.184,
         "Low": 4.054,
         "Close": 4.392,
         "Adj Close": 4.392,
         "Volume": 41094000,
         "_deepnote_index_column": 1
        },
        {
         "Date": "2010-07-02",
         "Open": 4.6,
         "High": 4.62,
         "Low": 3.742,
         "Close": 3.84,
         "Adj Close": 3.84,
         "Volume": 25699000,
         "_deepnote_index_column": 2
        },
        {
         "Date": "2010-07-06",
         "Open": 4,
         "High": 4,
         "Low": 3.166,
         "Close": 3.222,
         "Adj Close": 3.222,
         "Volume": 34334500,
         "_deepnote_index_column": 3
        },
        {
         "Date": "2010-07-07",
         "Open": 3.28,
         "High": 3.326,
         "Low": 2.996,
         "Close": 3.16,
         "Adj Close": 3.16,
         "Volume": 34608500,
         "_deepnote_index_column": 4
        }
       ],
       "rows_bottom": null
      },
      "text/plain": "         Date   Open   High    Low  Close  Adj Close    Volume\n0  2010-06-30  5.158  6.084  4.660  4.766      4.766  85935500\n1  2010-07-01  5.000  5.184  4.054  4.392      4.392  41094000\n2  2010-07-02  4.600  4.620  3.742  3.840      3.840  25699000\n3  2010-07-06  4.000  4.000  3.166  3.222      3.222  34334500\n4  2010-07-07  3.280  3.326  2.996  3.160      3.160  34608500",
      "text/html": "<div>\n<style scoped>\n    .dataframe tbody tr th:only-of-type {\n        vertical-align: middle;\n    }\n\n    .dataframe tbody tr th {\n        vertical-align: top;\n    }\n\n    .dataframe thead th {\n        text-align: right;\n    }\n</style>\n<table border=\"1\" class=\"dataframe\">\n  <thead>\n    <tr style=\"text-align: right;\">\n      <th></th>\n      <th>Date</th>\n      <th>Open</th>\n      <th>High</th>\n      <th>Low</th>\n      <th>Close</th>\n      <th>Adj Close</th>\n      <th>Volume</th>\n    </tr>\n  </thead>\n  <tbody>\n    <tr>\n      <th>0</th>\n      <td>2010-06-30</td>\n      <td>5.158</td>\n      <td>6.084</td>\n      <td>4.660</td>\n      <td>4.766</td>\n      <td>4.766</td>\n      <td>85935500</td>\n    </tr>\n    <tr>\n      <th>1</th>\n      <td>2010-07-01</td>\n      <td>5.000</td>\n      <td>5.184</td>\n      <td>4.054</td>\n      <td>4.392</td>\n      <td>4.392</td>\n      <td>41094000</td>\n    </tr>\n    <tr>\n      <th>2</th>\n      <td>2010-07-02</td>\n      <td>4.600</td>\n      <td>4.620</td>\n      <td>3.742</td>\n      <td>3.840</td>\n      <td>3.840</td>\n      <td>25699000</td>\n    </tr>\n    <tr>\n      <th>3</th>\n      <td>2010-07-06</td>\n      <td>4.000</td>\n      <td>4.000</td>\n      <td>3.166</td>\n      <td>3.222</td>\n      <td>3.222</td>\n      <td>34334500</td>\n    </tr>\n    <tr>\n      <th>4</th>\n      <td>2010-07-07</td>\n      <td>3.280</td>\n      <td>3.326</td>\n      <td>2.996</td>\n      <td>3.160</td>\n      <td>3.160</td>\n      <td>34608500</td>\n    </tr>\n  </tbody>\n</table>\n</div>"
     },
     "metadata": {}
    }
   ]
  },
  {
   "cell_type": "markdown",
   "source": "#### Convolutional Neural Network",
   "metadata": {
    "tags": [],
    "cell_id": "00011-6ed4d8a3-ef1c-4113-b098-b91418d22732",
    "deepnote_cell_type": "markdown"
   }
  },
  {
   "cell_type": "code",
   "metadata": {
    "tags": [],
    "cell_id": "00011-0600dd01-ad3c-409f-b149-cb1fbb3b98fe",
    "deepnote_to_be_reexecuted": false,
    "source_hash": "df9835ad",
    "execution_start": 1636829315600,
    "execution_millis": 85,
    "deepnote_cell_type": "code"
   },
   "source": "tsla1 = tsla.dropna()\ntsla1['Open10'] = tsla1['Open'].shift(periods = -14)\ntsla1 = tsla1.dropna()\ntsla1['label'] = np.where(tsla1['Open'] < tsla1['Open10'], 1, 0)\ntsla1a = tsla1.drop(labels = ['Date', 'Adj Close', 'Open10'], axis = 1)\ntsla1a",
   "execution_count": null,
   "outputs": [
    {
     "output_type": "execute_result",
     "execution_count": 3,
     "data": {
      "application/vnd.deepnote.dataframe.v2+json": {
       "row_count": 2837,
       "column_count": 6,
       "columns": [
        {
         "name": "Open",
         "dtype": "float64",
         "stats": {
          "unique_count": 2549,
          "nan_count": 0,
          "min": "3.228",
          "max": "891.380005",
          "histogram": [
           {
            "bin_start": 3.228,
            "bin_end": 92.0432005,
            "count": 2401
           },
           {
            "bin_start": 92.0432005,
            "bin_end": 180.85840100000001,
            "count": 97
           },
           {
            "bin_start": 180.85840100000001,
            "bin_end": 269.6736015,
            "count": 23
           },
           {
            "bin_start": 269.6736015,
            "bin_end": 358.488802,
            "count": 32
           },
           {
            "bin_start": 358.488802,
            "bin_end": 447.3040025,
            "count": 54
           },
           {
            "bin_start": 447.3040025,
            "bin_end": 536.119203,
            "count": 13
           },
           {
            "bin_start": 536.119203,
            "bin_end": 624.9344035,
            "count": 45
           },
           {
            "bin_start": 624.9344035,
            "bin_end": 713.749604,
            "count": 97
           },
           {
            "bin_start": 713.749604,
            "bin_end": 802.5648044999999,
            "count": 50
           },
           {
            "bin_start": 802.5648044999999,
            "bin_end": 891.380005,
            "count": 25
           }
          ]
         }
        },
        {
         "name": "High",
         "dtype": "float64",
         "stats": {
          "unique_count": 2545,
          "nan_count": 0,
          "min": "3.326",
          "max": "900.400024",
          "histogram": [
           {
            "bin_start": 3.326,
            "bin_end": 93.0334024,
            "count": 2399
           },
           {
            "bin_start": 93.0334024,
            "bin_end": 182.7408048,
            "count": 100
           },
           {
            "bin_start": 182.7408048,
            "bin_end": 272.44820720000007,
            "count": 21
           },
           {
            "bin_start": 272.44820720000007,
            "bin_end": 362.15560960000005,
            "count": 30
           },
           {
            "bin_start": 362.15560960000005,
            "bin_end": 451.863012,
            "count": 53
           },
           {
            "bin_start": 451.863012,
            "bin_end": 541.5704144000001,
            "count": 17
           },
           {
            "bin_start": 541.5704144000001,
            "bin_end": 631.2778168000001,
            "count": 40
           },
           {
            "bin_start": 631.2778168000001,
            "bin_end": 720.9852192000001,
            "count": 98
           },
           {
            "bin_start": 720.9852192000001,
            "bin_end": 810.6926216,
            "count": 52
           },
           {
            "bin_start": 810.6926216,
            "bin_end": 900.400024,
            "count": 27
           }
          ]
         }
        },
        {
         "name": "Low",
         "dtype": "float64",
         "stats": {
          "unique_count": 2554,
          "nan_count": 0,
          "min": "2.996",
          "max": "871.599976",
          "histogram": [
           {
            "bin_start": 2.996,
            "bin_end": 89.8563976,
            "count": 2403
           },
           {
            "bin_start": 89.8563976,
            "bin_end": 176.7167952,
            "count": 97
           },
           {
            "bin_start": 176.7167952,
            "bin_end": 263.5771928,
            "count": 22
           },
           {
            "bin_start": 263.5771928,
            "bin_end": 350.4375904,
            "count": 31
           },
           {
            "bin_start": 350.4375904,
            "bin_end": 437.297988,
            "count": 56
           },
           {
            "bin_start": 437.297988,
            "bin_end": 524.1583856,
            "count": 11
           },
           {
            "bin_start": 524.1583856,
            "bin_end": 611.0187832,
            "count": 47
           },
           {
            "bin_start": 611.0187832,
            "bin_end": 697.8791808,
            "count": 88
           },
           {
            "bin_start": 697.8791808,
            "bin_end": 784.7395783999999,
            "count": 57
           },
           {
            "bin_start": 784.7395783999999,
            "bin_end": 871.599976,
            "count": 25
           }
          ]
         }
        },
        {
         "name": "Close",
         "dtype": "float64",
         "stats": {
          "unique_count": 2646,
          "nan_count": 0,
          "min": "3.16",
          "max": "883.090027",
          "histogram": [
           {
            "bin_start": 3.16,
            "bin_end": 91.1530027,
            "count": 2403
           },
           {
            "bin_start": 91.1530027,
            "bin_end": 179.1460054,
            "count": 94
           },
           {
            "bin_start": 179.1460054,
            "bin_end": 267.1390081,
            "count": 23
           },
           {
            "bin_start": 267.1390081,
            "bin_end": 355.13201080000005,
            "count": 31
           },
           {
            "bin_start": 355.13201080000005,
            "bin_end": 443.1250135000001,
            "count": 55
           },
           {
            "bin_start": 443.1250135000001,
            "bin_end": 531.1180161999999,
            "count": 14
           },
           {
            "bin_start": 531.1180161999999,
            "bin_end": 619.1110189,
            "count": 37
           },
           {
            "bin_start": 619.1110189,
            "bin_end": 707.1040216,
            "count": 94
           },
           {
            "bin_start": 707.1040216,
            "bin_end": 795.0970243,
            "count": 59
           },
           {
            "bin_start": 795.0970243,
            "bin_end": 883.090027,
            "count": 27
           }
          ]
         }
        },
        {
         "name": "Volume",
         "dtype": "int64",
         "stats": {
          "unique_count": 2807,
          "nan_count": 0,
          "min": "592500",
          "max": "304694000",
          "histogram": [
           {
            "bin_start": 592500,
            "bin_end": 31002650,
            "count": 1752
           },
           {
            "bin_start": 31002650,
            "bin_end": 61412800,
            "count": 757
           },
           {
            "bin_start": 61412800,
            "bin_end": 91822950,
            "count": 200
           },
           {
            "bin_start": 91822950,
            "bin_end": 122233100,
            "count": 88
           },
           {
            "bin_start": 122233100,
            "bin_end": 152643250,
            "count": 24
           },
           {
            "bin_start": 152643250,
            "bin_end": 183053400,
            "count": 9
           },
           {
            "bin_start": 183053400,
            "bin_end": 213463550,
            "count": 3
           },
           {
            "bin_start": 213463550,
            "bin_end": 243873700,
            "count": 3
           },
           {
            "bin_start": 243873700,
            "bin_end": 274283850,
            "count": 0
           },
           {
            "bin_start": 274283850,
            "bin_end": 304694000,
            "count": 1
           }
          ]
         }
        },
        {
         "name": "label",
         "dtype": "int64",
         "stats": {
          "unique_count": 2,
          "nan_count": 0,
          "min": "0",
          "max": "1",
          "histogram": [
           {
            "bin_start": 0,
            "bin_end": 0.1,
            "count": 1191
           },
           {
            "bin_start": 0.1,
            "bin_end": 0.2,
            "count": 0
           },
           {
            "bin_start": 0.2,
            "bin_end": 0.30000000000000004,
            "count": 0
           },
           {
            "bin_start": 0.30000000000000004,
            "bin_end": 0.4,
            "count": 0
           },
           {
            "bin_start": 0.4,
            "bin_end": 0.5,
            "count": 0
           },
           {
            "bin_start": 0.5,
            "bin_end": 0.6000000000000001,
            "count": 0
           },
           {
            "bin_start": 0.6000000000000001,
            "bin_end": 0.7000000000000001,
            "count": 0
           },
           {
            "bin_start": 0.7000000000000001,
            "bin_end": 0.8,
            "count": 0
           },
           {
            "bin_start": 0.8,
            "bin_end": 0.9,
            "count": 0
           },
           {
            "bin_start": 0.9,
            "bin_end": 1,
            "count": 1646
           }
          ]
         }
        },
        {
         "name": "_deepnote_index_column",
         "dtype": "int64"
        }
       ],
       "rows_top": [
        {
         "Open": 5.158,
         "High": 6.084,
         "Low": 4.66,
         "Close": 4.766,
         "Volume": 85935500,
         "label": 0,
         "_deepnote_index_column": 0
        },
        {
         "Open": 5,
         "High": 5.184,
         "Low": 4.054,
         "Close": 4.392,
         "Volume": 41094000,
         "label": 0,
         "_deepnote_index_column": 1
        },
        {
         "Open": 4.6,
         "High": 4.62,
         "Low": 3.742,
         "Close": 3.84,
         "Volume": 25699000,
         "label": 0,
         "_deepnote_index_column": 2
        },
        {
         "Open": 4,
         "High": 4,
         "Low": 3.166,
         "Close": 3.222,
         "Volume": 34334500,
         "label": 1,
         "_deepnote_index_column": 3
        },
        {
         "Open": 3.28,
         "High": 3.326,
         "Low": 2.996,
         "Close": 3.16,
         "Volume": 34608500,
         "label": 1,
         "_deepnote_index_column": 4
        },
        {
         "Open": 3.228,
         "High": 3.504,
         "Low": 3.114,
         "Close": 3.492,
         "Volume": 38557000,
         "label": 1,
         "_deepnote_index_column": 5
        },
        {
         "Open": 3.516,
         "High": 3.58,
         "Low": 3.31,
         "Close": 3.48,
         "Volume": 20253000,
         "label": 1,
         "_deepnote_index_column": 6
        },
        {
         "Open": 3.59,
         "High": 3.614,
         "Low": 3.4,
         "Close": 3.41,
         "Volume": 11012500,
         "label": 1,
         "_deepnote_index_column": 7
        },
        {
         "Open": 3.478,
         "High": 3.728,
         "Low": 3.38,
         "Close": 3.628,
         "Volume": 13400500,
         "label": 1,
         "_deepnote_index_column": 8
        },
        {
         "Open": 3.588,
         "High": 4.03,
         "Low": 3.552,
         "Close": 3.968,
         "Volume": 20976000,
         "label": 1,
         "_deepnote_index_column": 9
        },
        {
         "Open": 3.988,
         "High": 4.3,
         "Low": 3.8,
         "Close": 3.978,
         "Volume": 18699000,
         "label": 1,
         "_deepnote_index_column": 10
        },
        {
         "Open": 4.14,
         "High": 4.26,
         "Low": 4.01,
         "Close": 4.128,
         "Volume": 13106500,
         "label": 1,
         "_deepnote_index_column": 11
        },
        {
         "Open": 4.274,
         "High": 4.45,
         "Low": 4.184,
         "Close": 4.382,
         "Volume": 12432500,
         "label": 0,
         "_deepnote_index_column": 12
        },
        {
         "Open": 4.37,
         "High": 4.37,
         "Low": 4.01,
         "Close": 4.06,
         "Volume": 9126500,
         "label": 0,
         "_deepnote_index_column": 13
        },
        {
         "Open": 4.132,
         "High": 4.18,
         "Low": 3.9,
         "Close": 4.044,
         "Volume": 6262500,
         "label": 0,
         "_deepnote_index_column": 14
        },
        {
         "Open": 4.1,
         "High": 4.25,
         "Low": 4.074,
         "Close": 4.2,
         "Volume": 4789000,
         "label": 0,
         "_deepnote_index_column": 15
        },
        {
         "Open": 4.238,
         "High": 4.312,
         "Low": 4.212,
         "Close": 4.258,
         "Volume": 3268000,
         "label": 0,
         "_deepnote_index_column": 16
        },
        {
         "Open": 4.3,
         "High": 4.3,
         "Low": 4.06,
         "Close": 4.19,
         "Volume": 4611000,
         "label": 0,
         "_deepnote_index_column": 17
        },
        {
         "Open": 4.182,
         "High": 4.236,
         "Low": 4.052,
         "Close": 4.11,
         "Volume": 3098500,
         "label": 0,
         "_deepnote_index_column": 18
        },
        {
         "Open": 4.11,
         "High": 4.18,
         "Low": 4.102,
         "Close": 4.144,
         "Volume": 2336000,
         "label": 0,
         "_deepnote_index_column": 19
        },
        {
         "Open": 4.154,
         "High": 4.176,
         "Low": 4,
         "Close": 4.07,
         "Volume": 3080000,
         "label": 0,
         "_deepnote_index_column": 20
        },
        {
         "Open": 4.04,
         "High": 4.088,
         "Low": 3.91,
         "Close": 3.988,
         "Volume": 2134500,
         "label": 0,
         "_deepnote_index_column": 21
        },
        {
         "Open": 4.1,
         "High": 4.194,
         "Low": 4.066,
         "Close": 4.184,
         "Volume": 3590500,
         "label": 0,
         "_deepnote_index_column": 22
        },
        {
         "Open": 4.2,
         "High": 4.39,
         "Low": 4.164,
         "Close": 4.39,
         "Volume": 6152500,
         "label": 0,
         "_deepnote_index_column": 23
        },
        {
         "Open": 4.39,
         "High": 4.436,
         "Low": 4.17,
         "Close": 4.252,
         "Volume": 4565000,
         "label": 0,
         "_deepnote_index_column": 24
        },
        {
         "Open": 4.308,
         "High": 4.31,
         "Low": 4.01,
         "Close": 4.09,
         "Volume": 3981000,
         "label": 0,
         "_deepnote_index_column": 25
        },
        {
         "Open": 4.02,
         "High": 4.032,
         "Low": 3.904,
         "Close": 3.918,
         "Volume": 3709500,
         "label": 0,
         "_deepnote_index_column": 26
        },
        {
         "Open": 3.98,
         "High": 3.996,
         "Low": 3.89,
         "Close": 3.92,
         "Volume": 4063500,
         "label": 0,
         "_deepnote_index_column": 27
        },
        {
         "Open": 3.93,
         "High": 3.93,
         "Low": 3.764,
         "Close": 3.806,
         "Volume": 6406500,
         "label": 1,
         "_deepnote_index_column": 28
        },
        {
         "Open": 3.738,
         "High": 3.776,
         "Low": 3.57,
         "Close": 3.58,
         "Volume": 3988000,
         "label": 1,
         "_deepnote_index_column": 29
        },
        {
         "Open": 3.56,
         "High": 3.58,
         "Low": 3.478,
         "Close": 3.52,
         "Volume": 3455000,
         "label": 1,
         "_deepnote_index_column": 30
        },
        {
         "Open": 3.636,
         "High": 3.69,
         "Low": 3.532,
         "Close": 3.664,
         "Volume": 3170000,
         "label": 1,
         "_deepnote_index_column": 31
        },
        {
         "Open": 3.69,
         "High": 3.76,
         "Low": 3.652,
         "Close": 3.756,
         "Volume": 2429000,
         "label": 1,
         "_deepnote_index_column": 32
        },
        {
         "Open": 3.792,
         "High": 3.88,
         "Low": 3.756,
         "Close": 3.83,
         "Volume": 2239500,
         "label": 1,
         "_deepnote_index_column": 33
        },
        {
         "Open": 3.918,
         "High": 3.918,
         "Low": 3.72,
         "Close": 3.754,
         "Volume": 3006500,
         "label": 1,
         "_deepnote_index_column": 34
        },
        {
         "Open": 3.708,
         "High": 3.85,
         "Low": 3.666,
         "Close": 3.758,
         "Volume": 2895500,
         "label": 1,
         "_deepnote_index_column": 35
        },
        {
         "Open": 3.73,
         "High": 3.822,
         "Low": 3.702,
         "Close": 3.82,
         "Volume": 1480000,
         "label": 1,
         "_deepnote_index_column": 36
        },
        {
         "Open": 3.818,
         "High": 4.078,
         "Low": 3.8,
         "Close": 4.026,
         "Volume": 5440500,
         "label": 1,
         "_deepnote_index_column": 37
        },
        {
         "Open": 3.85,
         "High": 3.942,
         "Low": 3.79,
         "Close": 3.84,
         "Volume": 3365500,
         "label": 1,
         "_deepnote_index_column": 38
        },
        {
         "Open": 3.832,
         "High": 3.996,
         "Low": 3.712,
         "Close": 3.98,
         "Volume": 2516500,
         "label": 1,
         "_deepnote_index_column": 39
        },
        {
         "Open": 3.978,
         "High": 4.054,
         "Low": 3.92,
         "Close": 3.95,
         "Volume": 2169000,
         "label": 1,
         "_deepnote_index_column": 40
        },
        {
         "Open": 3.95,
         "High": 3.974,
         "Low": 3.9,
         "Close": 3.94,
         "Volume": 1898000,
         "label": 1,
         "_deepnote_index_column": 41
        },
        {
         "Open": 3.94,
         "High": 4.038,
         "Low": 3.922,
         "Close": 3.974,
         "Volume": 3664000,
         "label": 1,
         "_deepnote_index_column": 42
        },
        {
         "Open": 3.932,
         "High": 3.958,
         "Low": 3.866,
         "Close": 3.896,
         "Volume": 1005500,
         "label": 1,
         "_deepnote_index_column": 43
        },
        {
         "Open": 3.924,
         "High": 4.138,
         "Low": 3.92,
         "Close": 4.09,
         "Volume": 2474500,
         "label": 1,
         "_deepnote_index_column": 44
        },
        {
         "Open": 4.074,
         "High": 4.248,
         "Low": 4.062,
         "Close": 4.212,
         "Volume": 2435500,
         "label": 0,
         "_deepnote_index_column": 45
        },
        {
         "Open": 4.174,
         "High": 4.26,
         "Low": 4.132,
         "Close": 4.21,
         "Volume": 2173000,
         "label": 0,
         "_deepnote_index_column": 46
        },
        {
         "Open": 4.122,
         "High": 4.2,
         "Low": 4.1,
         "Close": 4.108,
         "Volume": 1217000,
         "label": 0,
         "_deepnote_index_column": 47
        },
        {
         "Open": 4.132,
         "High": 4.19,
         "Low": 4.12,
         "Close": 4.18,
         "Volume": 1442000,
         "label": 1,
         "_deepnote_index_column": 48
        },
        {
         "Open": 4.2,
         "High": 4.21,
         "Low": 4.138,
         "Close": 4.142,
         "Volume": 1881000,
         "label": 1,
         "_deepnote_index_column": 49
        },
        {
         "Open": 4.15,
         "High": 4.186,
         "Low": 3.952,
         "Close": 4.034,
         "Volume": 1933000,
         "label": 1,
         "_deepnote_index_column": 50
        },
        {
         "Open": 4.178,
         "High": 4.18,
         "Low": 4.1,
         "Close": 4.144,
         "Volume": 1804000,
         "label": 0,
         "_deepnote_index_column": 51
        },
        {
         "Open": 4.108,
         "High": 4.32,
         "Low": 4.106,
         "Close": 4.224,
         "Volume": 3273500,
         "label": 0,
         "_deepnote_index_column": 52
        },
        {
         "Open": 4.196,
         "High": 4.4,
         "Low": 4.158,
         "Close": 4.396,
         "Volume": 3423000,
         "label": 1,
         "_deepnote_index_column": 53
        },
        {
         "Open": 4.43,
         "High": 4.632,
         "Low": 4.168,
         "Close": 4.188,
         "Volume": 13422500,
         "label": 0,
         "_deepnote_index_column": 54
        },
        {
         "Open": 4.204,
         "High": 4.264,
         "Low": 3.96,
         "Close": 4.046,
         "Volume": 5992500,
         "label": 0,
         "_deepnote_index_column": 55
        },
        {
         "Open": 4.134,
         "High": 4.27,
         "Low": 4.032,
         "Close": 4.212,
         "Volume": 4737500,
         "label": 0,
         "_deepnote_index_column": 56
        },
        {
         "Open": 4.178,
         "High": 4.31,
         "Low": 4.134,
         "Close": 4.154,
         "Volume": 3980000,
         "label": 0,
         "_deepnote_index_column": 57
        },
        {
         "Open": 4.174,
         "High": 4.19,
         "Low": 3.96,
         "Close": 3.974,
         "Volume": 4814500,
         "label": 0,
         "_deepnote_index_column": 58
        },
        {
         "Open": 3.978,
         "High": 4.028,
         "Low": 3.9,
         "Close": 3.912,
         "Volume": 3340500,
         "label": 1,
         "_deepnote_index_column": 59
        },
        {
         "Open": 3.99,
         "High": 4.038,
         "Low": 3.93,
         "Close": 4.02,
         "Volume": 2894500,
         "label": 1,
         "_deepnote_index_column": 60
        },
        {
         "Open": 4.08,
         "High": 4.162,
         "Low": 4.01,
         "Close": 4.106,
         "Volume": 2093000,
         "label": 1,
         "_deepnote_index_column": 61
        },
        {
         "Open": 4.208,
         "High": 4.298,
         "Low": 4.152,
         "Close": 4.28,
         "Volume": 6072500,
         "label": 0,
         "_deepnote_index_column": 62
        },
        {
         "Open": 4.238,
         "High": 4.406,
         "Low": 4.226,
         "Close": 4.396,
         "Volume": 9846500,
         "label": 0,
         "_deepnote_index_column": 63
        },
        {
         "Open": 4.4,
         "High": 4.43,
         "Low": 4.038,
         "Close": 4.082,
         "Volume": 10979000,
         "label": 0,
         "_deepnote_index_column": 64
        },
        {
         "Open": 4.138,
         "High": 4.15,
         "Low": 4.062,
         "Close": 4.12,
         "Volume": 2988500,
         "label": 0,
         "_deepnote_index_column": 65
        },
        {
         "Open": 4.086,
         "High": 4.234,
         "Low": 4.06,
         "Close": 4.198,
         "Volume": 3218000,
         "label": 1,
         "_deepnote_index_column": 66
        },
        {
         "Open": 4.23,
         "High": 4.256,
         "Low": 4.202,
         "Close": 4.224,
         "Volume": 1660000,
         "label": 0,
         "_deepnote_index_column": 67
        },
        {
         "Open": 4.212,
         "High": 4.252,
         "Low": 4.064,
         "Close": 4.092,
         "Volume": 1567000,
         "label": 0,
         "_deepnote_index_column": 68
        },
        {
         "Open": 4.114,
         "High": 4.128,
         "Low": 4.068,
         "Close": 4.086,
         "Volume": 705000,
         "label": 1,
         "_deepnote_index_column": 69
        },
        {
         "Open": 4.086,
         "High": 4.158,
         "Low": 4.078,
         "Close": 4.086,
         "Volume": 1339000,
         "label": 1,
         "_deepnote_index_column": 70
        },
        {
         "Open": 4.088,
         "High": 4.14,
         "Low": 4.014,
         "Close": 4.048,
         "Volume": 856000,
         "label": 1,
         "_deepnote_index_column": 71
        },
        {
         "Open": 4.04,
         "High": 4.056,
         "Low": 4.006,
         "Close": 4.048,
         "Volume": 1220000,
         "label": 1,
         "_deepnote_index_column": 72
        },
        {
         "Open": 4.128,
         "High": 4.17,
         "Low": 4.072,
         "Close": 4.108,
         "Volume": 1591000,
         "label": 1,
         "_deepnote_index_column": 73
        },
        {
         "Open": 4.2,
         "High": 4.206,
         "Low": 4.08,
         "Close": 4.15,
         "Volume": 1474000,
         "label": 1,
         "_deepnote_index_column": 74
        },
        {
         "Open": 4.178,
         "High": 4.18,
         "Low": 4.05,
         "Close": 4.108,
         "Volume": 1423500,
         "label": 1,
         "_deepnote_index_column": 75
        },
        {
         "Open": 4.104,
         "High": 4.128,
         "Low": 4.044,
         "Close": 4.046,
         "Volume": 814000,
         "label": 1,
         "_deepnote_index_column": 76
        },
        {
         "Open": 4.04,
         "High": 4.082,
         "Low": 4,
         "Close": 4.01,
         "Volume": 1226000,
         "label": 1,
         "_deepnote_index_column": 77
        },
        {
         "Open": 4.032,
         "High": 4.138,
         "Low": 4.008,
         "Close": 4.13,
         "Volume": 1562500,
         "label": 1,
         "_deepnote_index_column": 78
        },
        {
         "Open": 4.122,
         "High": 4.19,
         "Low": 4.09,
         "Close": 4.15,
         "Volume": 2085500,
         "label": 1,
         "_deepnote_index_column": 79
        },
        {
         "Open": 4.136,
         "High": 4.186,
         "Low": 4.11,
         "Close": 4.144,
         "Volume": 805500,
         "label": 1,
         "_deepnote_index_column": 80
        },
        {
         "Open": 4.188,
         "High": 4.196,
         "Low": 4.146,
         "Close": 4.17,
         "Volume": 592500,
         "label": 1,
         "_deepnote_index_column": 81
        },
        {
         "Open": 4.16,
         "High": 4.374,
         "Low": 4.102,
         "Close": 4.272,
         "Volume": 3304500,
         "label": 1,
         "_deepnote_index_column": 82
        }
       ],
       "rows_bottom": [
        {
         "Open": 602.169983,
         "High": 611.789978,
         "Low": 597.630005,
         "Close": 598.780029,
         "Volume": 16584600,
         "label": 1,
         "_deepnote_index_column": 2754
        },
        {
         "Open": 603.880005,
         "High": 616.590027,
         "Low": 600.5,
         "Close": 610.119995,
         "Volume": 23919600,
         "label": 1,
         "_deepnote_index_column": 2755
        },
        {
         "Open": 610.22998,
         "High": 612.559998,
         "Low": 601.52002,
         "Close": 609.890015,
         "Volume": 16205300,
         "label": 1,
         "_deepnote_index_column": 2756
        },
        {
         "Open": 612.22998,
         "High": 625.48999,
         "Low": 609.179993,
         "Close": 617.690002,
         "Volume": 20424000,
         "label": 1,
         "_deepnote_index_column": 2757
        },
        {
         "Open": 616.690002,
         "High": 616.789978,
         "Low": 598.22998,
         "Close": 599.359985,
         "Volume": 17764100,
         "label": 1,
         "_deepnote_index_column": 2758
        },
        {
         "Open": 597.539978,
         "High": 608.5,
         "Low": 593.5,
         "Close": 604.869995,
         "Volume": 22144100,
         "label": 1,
         "_deepnote_index_column": 2759
        },
        {
         "Open": 601.890015,
         "High": 621.469971,
         "Low": 601.340027,
         "Close": 616.599976,
         "Volume": 22701400,
         "label": 1,
         "_deepnote_index_column": 2760
        },
        {
         "Open": 613.369995,
         "High": 628.349976,
         "Low": 611.799988,
         "Close": 623.309998,
         "Volume": 24560900,
         "label": 1,
         "_deepnote_index_column": 2761
        },
        {
         "Open": 624.47998,
         "High": 631.390015,
         "Low": 608.880005,
         "Close": 620.830017,
         "Volume": 24812700,
         "label": 1,
         "_deepnote_index_column": 2762
        },
        {
         "Open": 618.25,
         "High": 628.570007,
         "Low": 615.5,
         "Close": 623.710022,
         "Volume": 19158900,
         "label": 1,
         "_deepnote_index_column": 2763
        },
        {
         "Open": 632,
         "High": 657.200012,
         "Low": 630.039978,
         "Close": 656.570007,
         "Volume": 31099200,
         "label": 1,
         "_deepnote_index_column": 2764
        },
        {
         "Open": 674.98999,
         "High": 697.619995,
         "Low": 667.609985,
         "Close": 679.820007,
         "Volume": 45982400,
         "label": 0,
         "_deepnote_index_column": 2765
        },
        {
         "Open": 689.580017,
         "High": 693.809998,
         "Low": 668.700012,
         "Close": 671.869995,
         "Volume": 32496700,
         "label": 0,
         "_deepnote_index_column": 2766
        },
        {
         "Open": 671.640015,
         "High": 694.700012,
         "Low": 670.320007,
         "Close": 688.719971,
         "Volume": 21628200,
         "label": 0,
         "_deepnote_index_column": 2767
        },
        {
         "Open": 684.650024,
         "High": 687.51001,
         "Low": 675.890015,
         "Close": 680.76001,
         "Volume": 17381300,
         "label": 0,
         "_deepnote_index_column": 2768
        },
        {
         "Open": 679.77002,
         "High": 692.809998,
         "Low": 678.140015,
         "Close": 679.700012,
         "Volume": 18924900,
         "label": 0,
         "_deepnote_index_column": 2769
        },
        {
         "Open": 683.919983,
         "High": 687.98999,
         "Low": 672.799988,
         "Close": 677.919983,
         "Volume": 18634500,
         "label": 0,
         "_deepnote_index_column": 2770
        },
        {
         "Open": 678.97998,
         "High": 700,
         "Low": 673.26001,
         "Close": 678.900024,
         "Volume": 27054500,
         "label": 0,
         "_deepnote_index_column": 2771
        },
        {
         "Open": 681.710022,
         "High": 684,
         "Low": 651.400024,
         "Close": 659.580017,
         "Volume": 23284500,
         "label": 0,
         "_deepnote_index_column": 2772
        },
        {
         "Open": 664.27002,
         "High": 665.700012,
         "Low": 638.320007,
         "Close": 644.650024,
         "Volume": 18792000,
         "label": 0,
         "_deepnote_index_column": 2773
        },
        {
         "Open": 628.369995,
         "High": 654.429993,
         "Low": 620.460022,
         "Close": 652.809998,
         "Volume": 22773300,
         "label": 1,
         "_deepnote_index_column": 2774
        },
        {
         "Open": 653.179993,
         "High": 658.909973,
         "Low": 644.690002,
         "Close": 656.950012,
         "Volume": 18140500,
         "label": 0,
         "_deepnote_index_column": 2775
        },
        {
         "Open": 662.200012,
         "High": 687.23999,
         "Low": 662.159973,
         "Close": 685.700012,
         "Volume": 25927000,
         "label": 1,
         "_deepnote_index_column": 2776
        },
        {
         "Open": 686.320007,
         "High": 693.280029,
         "Low": 666.299988,
         "Close": 668.539978,
         "Volume": 20966100,
         "label": 1,
         "_deepnote_index_column": 2777
        },
        {
         "Open": 670.75,
         "High": 678.609985,
         "Low": 652.840027,
         "Close": 653.380005,
         "Volume": 21641200,
         "label": 1,
         "_deepnote_index_column": 2778
        },
        {
         "Open": 658.390015,
         "High": 666.140015,
         "Low": 637.880005,
         "Close": 650.599976,
         "Volume": 20209600,
         "label": 1,
         "_deepnote_index_column": 2779
        },
        {
         "Open": 654.679993,
         "High": 656.700012,
         "Low": 642.200012,
         "Close": 644.219971,
         "Volume": 16371000,
         "label": 1,
         "_deepnote_index_column": 2780
        },
        {
         "Open": 629.890015,
         "High": 647.200012,
         "Low": 621.289978,
         "Close": 646.219971,
         "Volume": 21297100,
         "label": 1,
         "_deepnote_index_column": 2781
        },
        {
         "Open": 651.98999,
         "High": 662.390015,
         "Low": 640.5,
         "Close": 660.5,
         "Volume": 15487100,
         "label": 1,
         "_deepnote_index_column": 2782
        },
        {
         "Open": 659.609985,
         "High": 664.859985,
         "Low": 650.289978,
         "Close": 655.289978,
         "Volume": 13953300,
         "label": 1,
         "_deepnote_index_column": 2783
        },
        {
         "Open": 656.440002,
         "High": 662.169983,
         "Low": 644.599976,
         "Close": 649.26001,
         "Volume": 15105700,
         "label": 1,
         "_deepnote_index_column": 2784
        },
        {
         "Open": 646.359985,
         "High": 648.799988,
         "Low": 637.299988,
         "Close": 643.380005,
         "Volume": 14604900,
         "label": 1,
         "_deepnote_index_column": 2785
        },
        {
         "Open": 650.969971,
         "High": 668.200012,
         "Low": 647.109985,
         "Close": 657.619995,
         "Volume": 25336600,
         "label": 1,
         "_deepnote_index_column": 2786
        },
        {
         "Open": 663.400024,
         "High": 666.5,
         "Low": 627.23999,
         "Close": 644.780029,
         "Volume": 32813300,
         "label": 1,
         "_deepnote_index_column": 2787
        },
        {
         "Open": 647,
         "High": 654.969971,
         "Low": 639.400024,
         "Close": 646.97998,
         "Volume": 16006600,
         "label": 1,
         "_deepnote_index_column": 2788
        },
        {
         "Open": 649.789978,
         "High": 683.690002,
         "Low": 648.799988,
         "Close": 677.349976,
         "Volume": 30394600,
         "label": 1,
         "_deepnote_index_column": 2789
        },
        {
         "Open": 671.76001,
         "High": 697.530029,
         "Low": 669,
         "Close": 687.200012,
         "Volume": 29600500,
         "label": 1,
         "_deepnote_index_column": 2790
        },
        {
         "Open": 700,
         "High": 726.940002,
         "Low": 698.400024,
         "Close": 709.669983,
         "Volume": 33615800,
         "label": 0,
         "_deepnote_index_column": 2791
        },
        {
         "Open": 719,
         "High": 722.650024,
         "Low": 701.01001,
         "Close": 709.73999,
         "Volume": 21620300,
         "label": 0,
         "_deepnote_index_column": 2792
        },
        {
         "Open": 711,
         "High": 724.900024,
         "Low": 708.929993,
         "Close": 710.919983,
         "Volume": 17002600,
         "label": 0,
         "_deepnote_index_column": 2793
        },
        {
         "Open": 716,
         "High": 720.950012,
         "Low": 711.409973,
         "Close": 714.630005,
         "Volume": 12919600,
         "label": 0,
         "_deepnote_index_column": 2794
        },
        {
         "Open": 711.900024,
         "High": 716.330017,
         "Low": 697.630005,
         "Close": 699.099976,
         "Volume": 15576200,
         "label": 0,
         "_deepnote_index_column": 2795
        },
        {
         "Open": 710.169983,
         "High": 719.030029,
         "Low": 705.130005,
         "Close": 713.76001,
         "Volume": 14715300,
         "label": 0,
         "_deepnote_index_column": 2796
        },
        {
         "Open": 713.98999,
         "High": 716.590027,
         "Low": 701.880005,
         "Close": 709.98999,
         "Volume": 13432300,
         "label": 1,
         "_deepnote_index_column": 2797
        },
        {
         "Open": 712.710022,
         "High": 715.179993,
         "Low": 704.210022,
         "Close": 707.820007,
         "Volume": 9800600,
         "label": 1,
         "_deepnote_index_column": 2798
        },
        {
         "Open": 706.340027,
         "High": 722.799988,
         "Low": 699.400024,
         "Close": 722.25,
         "Volume": 17459100,
         "label": 1,
         "_deepnote_index_column": 2799
        },
        {
         "Open": 723.710022,
         "High": 729.900024,
         "Low": 714.340027,
         "Close": 717.169983,
         "Volume": 16698900,
         "label": 1,
         "_deepnote_index_column": 2800
        },
        {
         "Open": 705.070007,
         "High": 709.5,
         "Low": 676.400024,
         "Close": 686.169983,
         "Volume": 22677400,
         "label": 1,
         "_deepnote_index_column": 2801
        },
        {
         "Open": 672.659973,
         "High": 674.580017,
         "Low": 648.840027,
         "Close": 665.710022,
         "Volume": 23721300,
         "label": 1,
         "_deepnote_index_column": 2802
        },
        {
         "Open": 669.75,
         "High": 695.77002,
         "Low": 669.349976,
         "Close": 688.98999,
         "Volume": 20349400,
         "label": 1,
         "_deepnote_index_column": 2803
        },
        {
         "Open": 678.210022,
         "High": 686.549988,
         "Low": 667.590027,
         "Close": 673.469971,
         "Volume": 14313500,
         "label": 1,
         "_deepnote_index_column": 2804
        },
        {
         "Open": 682.849976,
         "High": 692.130005,
         "Low": 673.700012,
         "Close": 680.26001,
         "Volume": 14781800,
         "label": 1,
         "_deepnote_index_column": 2805
        },
        {
         "Open": 685.440002,
         "High": 712.130005,
         "Low": 680.75,
         "Close": 706.299988,
         "Volume": 20264900,
         "label": 1,
         "_deepnote_index_column": 2806
        },
        {
         "Open": 710.679993,
         "High": 715.219971,
         "Low": 702.640015,
         "Close": 708.48999,
         "Volume": 13083100,
         "label": 1,
         "_deepnote_index_column": 2807
        },
        {
         "Open": 707.030029,
         "High": 716.969971,
         "Low": 704,
         "Close": 711.200012,
         "Volume": 12645600,
         "label": 1,
         "_deepnote_index_column": 2808
        },
        {
         "Open": 708.309998,
         "High": 715.400024,
         "Low": 697.619995,
         "Close": 701.159973,
         "Volume": 13214300,
         "label": 1,
         "_deepnote_index_column": 2809
        },
        {
         "Open": 705,
         "High": 715,
         "Low": 702.099976,
         "Close": 711.919983,
         "Volume": 13762100,
         "label": 1,
         "_deepnote_index_column": 2810
        },
        {
         "Open": 714.719971,
         "High": 731,
         "Low": 712.72998,
         "Close": 730.909973,
         "Volume": 18604200,
         "label": 1,
         "_deepnote_index_column": 2811
        },
        {
         "Open": 733,
         "High": 740.390015,
         "Low": 726.440002,
         "Close": 735.719971,
         "Volume": 20855400,
         "label": 1,
         "_deepnote_index_column": 2812
        },
        {
         "Open": 734.080017,
         "High": 741.98999,
         "Low": 731.27002,
         "Close": 734.090027,
         "Volume": 13204300,
         "label": 1,
         "_deepnote_index_column": 2813
        },
        {
         "Open": 734.5,
         "High": 740.969971,
         "Low": 730.539978,
         "Close": 732.390015,
         "Volume": 12777300,
         "label": 1,
         "_deepnote_index_column": 2814
        },
        {
         "Open": 732.25,
         "High": 734,
         "Low": 724.200012,
         "Close": 733.570007,
         "Volume": 15246100,
         "label": 1,
         "_deepnote_index_column": 2815
        },
        {
         "Open": 740,
         "High": 760.200012,
         "Low": 739.26001,
         "Close": 752.919983,
         "Volume": 20039800,
         "label": 1,
         "_deepnote_index_column": 2816
        },
        {
         "Open": 761.580017,
         "High": 764.450012,
         "Low": 740.77002,
         "Close": 753.869995,
         "Volume": 18793000,
         "label": 1,
         "_deepnote_index_column": 2817
        },
        {
         "Open": 753.409973,
         "High": 762.099976,
         "Low": 751.630005,
         "Close": 754.859985,
         "Volume": 14077700,
         "label": 1,
         "_deepnote_index_column": 2818
        },
        {
         "Open": 759.599976,
         "High": 762.609985,
         "Low": 734.52002,
         "Close": 736.27002,
         "Volume": 15114300,
         "label": 1,
         "_deepnote_index_column": 2819
        },
        {
         "Open": 740.210022,
         "High": 744.780029,
         "Low": 708.849976,
         "Close": 743,
         "Volume": 22952500,
         "label": 1,
         "_deepnote_index_column": 2820
        },
        {
         "Open": 742.570007,
         "High": 754.469971,
         "Low": 736.400024,
         "Close": 744.48999,
         "Volume": 18524900,
         "label": 1,
         "_deepnote_index_column": 2821
        },
        {
         "Open": 745,
         "High": 756.859985,
         "Low": 738.359985,
         "Close": 755.830017,
         "Volume": 15357700,
         "label": 1,
         "_deepnote_index_column": 2822
        },
        {
         "Open": 752.830017,
         "High": 758.909973,
         "Low": 747.609985,
         "Close": 756.98999,
         "Volume": 13923400,
         "label": 1,
         "_deepnote_index_column": 2823
        },
        {
         "Open": 757.150024,
         "High": 761.039978,
         "Low": 750,
         "Close": 759.48999,
         "Volume": 28204200,
         "label": 1,
         "_deepnote_index_column": 2824
        },
        {
         "Open": 734.559998,
         "High": 742,
         "Low": 718.619995,
         "Close": 730.169983,
         "Volume": 24757700,
         "label": 1,
         "_deepnote_index_column": 2825
        },
        {
         "Open": 734.789978,
         "High": 744.73999,
         "Low": 730.440002,
         "Close": 739.380005,
         "Volume": 16330700,
         "label": 1,
         "_deepnote_index_column": 2826
        },
        {
         "Open": 743.530029,
         "High": 753.669983,
         "Low": 739.119995,
         "Close": 751.940002,
         "Volume": 15126300,
         "label": 1,
         "_deepnote_index_column": 2827
        },
        {
         "Open": 755,
         "High": 758.200012,
         "Low": 747.919983,
         "Close": 753.640015,
         "Volume": 11947500,
         "label": 1,
         "_deepnote_index_column": 2828
        },
        {
         "Open": 745.890015,
         "High": 774.799988,
         "Low": 744.559998,
         "Close": 774.390015,
         "Volume": 21373000,
         "label": 1,
         "_deepnote_index_column": 2829
        },
        {
         "Open": 773.119995,
         "High": 799,
         "Low": 769.309998,
         "Close": 791.359985,
         "Volume": 28070700,
         "label": 1,
         "_deepnote_index_column": 2830
        },
        {
         "Open": 787.200012,
         "High": 795.640015,
         "Low": 766.179993,
         "Close": 777.559998,
         "Volume": 25381400,
         "label": 1,
         "_deepnote_index_column": 2831
        },
        {
         "Open": 779.799988,
         "High": 793.5,
         "Low": 770.679993,
         "Close": 781.309998,
         "Volume": 20942900,
         "label": 1,
         "_deepnote_index_column": 2832
        },
        {
         "Open": 781,
         "High": 789.130005,
         "Low": 775,
         "Close": 775.47998,
         "Volume": 17956000,
         "label": 1,
         "_deepnote_index_column": 2833
        },
        {
         "Open": 778.400024,
         "High": 780.780029,
         "Low": 763.590027,
         "Close": 775.219971,
         "Volume": 17031400,
         "label": 1,
         "_deepnote_index_column": 2834
        },
        {
         "Open": 796.5,
         "High": 806.969971,
         "Low": 776.119995,
         "Close": 781.530029,
         "Volume": 30483300,
         "label": 1,
         "_deepnote_index_column": 2835
        },
        {
         "Open": 784.799988,
         "High": 797.309998,
         "Low": 774.200012,
         "Close": 780.590027,
         "Volume": 18432600,
         "label": 1,
         "_deepnote_index_column": 2836
        }
       ]
      },
      "text/plain": "            Open        High         Low       Close    Volume  label\n0       5.158000    6.084000    4.660000    4.766000  85935500      0\n1       5.000000    5.184000    4.054000    4.392000  41094000      0\n2       4.600000    4.620000    3.742000    3.840000  25699000      0\n3       4.000000    4.000000    3.166000    3.222000  34334500      1\n4       3.280000    3.326000    2.996000    3.160000  34608500      1\n...          ...         ...         ...         ...       ...    ...\n2832  779.799988  793.500000  770.679993  781.309998  20942900      1\n2833  781.000000  789.130005  775.000000  775.479980  17956000      1\n2834  778.400024  780.780029  763.590027  775.219971  17031400      1\n2835  796.500000  806.969971  776.119995  781.530029  30483300      1\n2836  784.799988  797.309998  774.200012  780.590027  18432600      1\n\n[2837 rows x 6 columns]",
      "text/html": "<div>\n<style scoped>\n    .dataframe tbody tr th:only-of-type {\n        vertical-align: middle;\n    }\n\n    .dataframe tbody tr th {\n        vertical-align: top;\n    }\n\n    .dataframe thead th {\n        text-align: right;\n    }\n</style>\n<table border=\"1\" class=\"dataframe\">\n  <thead>\n    <tr style=\"text-align: right;\">\n      <th></th>\n      <th>Open</th>\n      <th>High</th>\n      <th>Low</th>\n      <th>Close</th>\n      <th>Volume</th>\n      <th>label</th>\n    </tr>\n  </thead>\n  <tbody>\n    <tr>\n      <th>0</th>\n      <td>5.158000</td>\n      <td>6.084000</td>\n      <td>4.660000</td>\n      <td>4.766000</td>\n      <td>85935500</td>\n      <td>0</td>\n    </tr>\n    <tr>\n      <th>1</th>\n      <td>5.000000</td>\n      <td>5.184000</td>\n      <td>4.054000</td>\n      <td>4.392000</td>\n      <td>41094000</td>\n      <td>0</td>\n    </tr>\n    <tr>\n      <th>2</th>\n      <td>4.600000</td>\n      <td>4.620000</td>\n      <td>3.742000</td>\n      <td>3.840000</td>\n      <td>25699000</td>\n      <td>0</td>\n    </tr>\n    <tr>\n      <th>3</th>\n      <td>4.000000</td>\n      <td>4.000000</td>\n      <td>3.166000</td>\n      <td>3.222000</td>\n      <td>34334500</td>\n      <td>1</td>\n    </tr>\n    <tr>\n      <th>4</th>\n      <td>3.280000</td>\n      <td>3.326000</td>\n      <td>2.996000</td>\n      <td>3.160000</td>\n      <td>34608500</td>\n      <td>1</td>\n    </tr>\n    <tr>\n      <th>...</th>\n      <td>...</td>\n      <td>...</td>\n      <td>...</td>\n      <td>...</td>\n      <td>...</td>\n      <td>...</td>\n    </tr>\n    <tr>\n      <th>2832</th>\n      <td>779.799988</td>\n      <td>793.500000</td>\n      <td>770.679993</td>\n      <td>781.309998</td>\n      <td>20942900</td>\n      <td>1</td>\n    </tr>\n    <tr>\n      <th>2833</th>\n      <td>781.000000</td>\n      <td>789.130005</td>\n      <td>775.000000</td>\n      <td>775.479980</td>\n      <td>17956000</td>\n      <td>1</td>\n    </tr>\n    <tr>\n      <th>2834</th>\n      <td>778.400024</td>\n      <td>780.780029</td>\n      <td>763.590027</td>\n      <td>775.219971</td>\n      <td>17031400</td>\n      <td>1</td>\n    </tr>\n    <tr>\n      <th>2835</th>\n      <td>796.500000</td>\n      <td>806.969971</td>\n      <td>776.119995</td>\n      <td>781.530029</td>\n      <td>30483300</td>\n      <td>1</td>\n    </tr>\n    <tr>\n      <th>2836</th>\n      <td>784.799988</td>\n      <td>797.309998</td>\n      <td>774.200012</td>\n      <td>780.590027</td>\n      <td>18432600</td>\n      <td>1</td>\n    </tr>\n  </tbody>\n</table>\n<p>2837 rows × 6 columns</p>\n</div>"
     },
     "metadata": {}
    }
   ]
  },
  {
   "cell_type": "code",
   "metadata": {
    "tags": [],
    "cell_id": "00012-28afce52-76b3-4d6c-80ca-e192697c9379",
    "deepnote_to_be_reexecuted": false,
    "source_hash": "b11b88bc",
    "execution_start": 1636829317937,
    "execution_millis": 382,
    "deepnote_cell_type": "code"
   },
   "source": "x, _ = tsla1a.shape\nsplitRow = int(x * 0.80)\ntsla1b = tsla1a.to_numpy()\n\n# Training data and testing data\ntrainX = tsla1b[:splitRow, :-1]\ntrainY = tsla1b[:splitRow, -1]\ntestX = tsla1b[splitRow:, :-1]\ntestY = tsla1b[splitRow:, -1] \n\nxPlot = range(0, x)\nplt.figure()\nplt.title('Data Separation')\nplt.grid(True)\nplt.ylabel('Open Price')\nplt.plot(xPlot[:splitRow], trainX[:,0], 'blue', label='Train data')\nplt.plot(xPlot[splitRow:], testX[:,0], 'red', label='Test data')\nplt.legend()\nplt.show()\nplt.close()",
   "execution_count": null,
   "outputs": [
    {
     "data": {
      "text/plain": "<Figure size 432x288 with 1 Axes>",
      "image/png": "[encoded data removed]"
     },
     "metadata": {
      "needs_background": "light",
      "image/png": {
       "width": 389,
       "height": 264
      }
     },
     "output_type": "display_data"
    }
   ]
  },
  {
   "cell_type": "code",
   "metadata": {
    "tags": [],
    "cell_id": "00013-8e26aff8-2751-4d36-9c2a-d4e26de0e232",
    "deepnote_to_be_reexecuted": false,
    "source_hash": "31fdc661",
    "execution_start": 1636829323230,
    "execution_millis": 6,
    "deepnote_cell_type": "code"
   },
   "source": "norm = MinMaxScaler()\ntrainX = norm.fit_transform(trainX)\n\ntrainX = trainX.reshape(trainX.shape[0], trainX.shape[1], 1)\ntestX = testX.reshape(testX.shape[0], testX.shape[1], 1)\n\nnFeatures = trainX.shape[1]\nepochs = 20\nbatchSize = 1000\nnOutput = 1\nkernelSize = 1\n",
   "execution_count": null,
   "outputs": []
  },
  {
   "cell_type": "code",
   "metadata": {
    "tags": [],
    "cell_id": "00014-219d8dca-1cce-4492-8ee6-c90636884d0d",
    "deepnote_to_be_reexecuted": false,
    "source_hash": "e6208a8d",
    "execution_start": 1636829325051,
    "execution_millis": 6402,
    "deepnote_cell_type": "code"
   },
   "source": "model = Sequential()\nmodel.add(Conv1D(filters = 32, kernel_size = kernelSize, padding = 'same', activation = 'relu', input_shape = (nFeatures, 1)))\nmodel.add(Conv1D(filters = 64, kernel_size = kernelSize, padding = 'same'))\nmodel.add(LeakyReLU(alpha = 0.01))\nmodel.add(MaxPooling1D(pool_size = (1)))\nmodel.add(Conv1D(filters = 128, kernel_size = kernelSize, padding = 'same'))\nmodel.add(LeakyReLU(alpha = 0.01))\nmodel.add(Flatten())\nmodel.add(Dense(256,))\nmodel.add(LeakyReLU(alpha=0.01))\nmodel.add(Dropout(0.8))\nmodel.add(Dense(nOutput, activation='sigmoid'))\nmodel.compile(loss = 'binary_crossentropy', optimizer = 'adam', metrics = ['accuracy'])\nmodel.summary()\n\nfitReturn = model.fit(trainX, trainY, validation_data=(testX, testY), epochs = epochs, batch_size = batchSize, verbose = 1)",
   "execution_count": null,
   "outputs": [
    {
     "name": "stdout",
     "text": "Model: \"sequential\"\n_________________________________________________________________\nLayer (type)                 Output Shape              Param #   \n=================================================================\nconv1d (Conv1D)              (None, 5, 32)             64        \n_________________________________________________________________\nconv1d_1 (Conv1D)            (None, 5, 64)             2112      \n_________________________________________________________________\nleaky_re_lu (LeakyReLU)      (None, 5, 64)             0         \n_________________________________________________________________\nmax_pooling1d (MaxPooling1D) (None, 5, 64)             0         \n_________________________________________________________________\nconv1d_2 (Conv1D)            (None, 5, 128)            8320      \n_________________________________________________________________\nleaky_re_lu_1 (LeakyReLU)    (None, 5, 128)            0         \n_________________________________________________________________\nflatten (Flatten)            (None, 640)               0         \n_________________________________________________________________\ndense (Dense)                (None, 256)               164096    \n_________________________________________________________________\nleaky_re_lu_2 (LeakyReLU)    (None, 256)               0         \n_________________________________________________________________\ndropout (Dropout)            (None, 256)               0         \n_________________________________________________________________\ndense_1 (Dense)              (None, 1)                 257       \n=================================================================\nTotal params: 174,849\nTrainable params: 174,849\nNon-trainable params: 0\n_________________________________________________________________\nEpoch 1/20\n3/3 [==============================] - 2s 292ms/step - loss: 0.6940 - accuracy: 0.5147 - val_loss: 556378.6250 - val_accuracy: 0.6708\nEpoch 2/20\n3/3 [==============================] - 0s 77ms/step - loss: 0.6912 - accuracy: 0.5607 - val_loss: 1632485.8750 - val_accuracy: 0.6708\nEpoch 3/20\n3/3 [==============================] - 0s 104ms/step - loss: 0.6902 - accuracy: 0.5565 - val_loss: 2297955.2500 - val_accuracy: 0.6708\nEpoch 4/20\n3/3 [==============================] - 0s 82ms/step - loss: 0.6875 - accuracy: 0.5579 - val_loss: 2706059.7500 - val_accuracy: 0.6708\nEpoch 5/20\n3/3 [==============================] - 0s 80ms/step - loss: 0.6855 - accuracy: 0.5578 - val_loss: 3126424.2500 - val_accuracy: 0.6708\nEpoch 6/20\n3/3 [==============================] - 0s 73ms/step - loss: 0.6841 - accuracy: 0.5660 - val_loss: 3574593.0000 - val_accuracy: 0.6708\nEpoch 7/20\n3/3 [==============================] - 0s 78ms/step - loss: 0.6792 - accuracy: 0.5735 - val_loss: 3852798.7500 - val_accuracy: 0.6708\nEpoch 8/20\n3/3 [==============================] - 0s 73ms/step - loss: 0.6803 - accuracy: 0.5594 - val_loss: 3938634.7500 - val_accuracy: 0.6708\nEpoch 9/20\n3/3 [==============================] - 0s 75ms/step - loss: 0.6768 - accuracy: 0.5826 - val_loss: 4116150.5000 - val_accuracy: 0.6708\nEpoch 10/20\n3/3 [==============================] - 0s 82ms/step - loss: 0.6789 - accuracy: 0.5758 - val_loss: 4239338.5000 - val_accuracy: 0.6708\nEpoch 11/20\n3/3 [==============================] - 0s 74ms/step - loss: 0.6743 - accuracy: 0.5799 - val_loss: 4338271.5000 - val_accuracy: 0.6708\nEpoch 12/20\n3/3 [==============================] - 0s 78ms/step - loss: 0.6770 - accuracy: 0.5790 - val_loss: 4375031.0000 - val_accuracy: 0.6708\nEpoch 13/20\n3/3 [==============================] - 0s 74ms/step - loss: 0.6731 - accuracy: 0.5898 - val_loss: 4517027.0000 - val_accuracy: 0.6708\nEpoch 14/20\n3/3 [==============================] - 0s 88ms/step - loss: 0.6742 - accuracy: 0.5825 - val_loss: 4609046.5000 - val_accuracy: 0.6708\nEpoch 15/20\n3/3 [==============================] - 0s 67ms/step - loss: 0.6731 - accuracy: 0.5798 - val_loss: 4799084.0000 - val_accuracy: 0.6708\nEpoch 16/20\n3/3 [==============================] - 0s 77ms/step - loss: 0.6747 - accuracy: 0.5773 - val_loss: 5049376.5000 - val_accuracy: 0.6708\nEpoch 17/20\n3/3 [==============================] - 0s 78ms/step - loss: 0.6753 - accuracy: 0.5700 - val_loss: 5294158.0000 - val_accuracy: 0.6708\nEpoch 18/20\n3/3 [==============================] - 0s 80ms/step - loss: 0.6691 - accuracy: 0.5763 - val_loss: 5528665.0000 - val_accuracy: 0.6708\nEpoch 19/20\n3/3 [==============================] - 0s 138ms/step - loss: 0.6732 - accuracy: 0.5820 - val_loss: 5653159.5000 - val_accuracy: 0.6708\nEpoch 20/20\n3/3 [==============================] - 0s 83ms/step - loss: 0.6736 - accuracy: 0.5889 - val_loss: 5606786.5000 - val_accuracy: 0.6708\n",
     "output_type": "stream"
    }
   ]
  },
  {
   "cell_type": "code",
   "metadata": {
    "tags": [],
    "cell_id": "00015-bd6258d0-b0bd-47df-b20a-d310c4acbaa5",
    "deepnote_to_be_reexecuted": false,
    "source_hash": "da94b64a",
    "execution_start": 1636829341919,
    "execution_millis": 313,
    "deepnote_cell_type": "code"
   },
   "source": "plt.title('Loss')\nplt.grid(True)\nplt.xlabel('Epochs')\nplt.ylabel('Values')\nplt.plot(fitReturn.history['loss'], 'blue', label='Train Loss')\nplt.plot(fitReturn.history['val_loss'], 'red', label='Test Loss')\nplt.legend()\nplt.show()\nplt.close()",
   "execution_count": null,
   "outputs": [
    {
     "data": {
      "text/plain": "<Figure size 432x288 with 1 Axes>",
      "image/png": "[encoded data removed]"
     },
     "metadata": {
      "needs_background": "light",
      "image/png": {
       "width": 376,
       "height": 278
      }
     },
     "output_type": "display_data"
    }
   ]
  },
  {
   "cell_type": "code",
   "metadata": {
    "tags": [],
    "cell_id": "00016-1d26fbf9-1e65-4ed5-b2d3-c96b371b6971",
    "deepnote_to_be_reexecuted": false,
    "source_hash": "75abef69",
    "execution_start": 1636829346072,
    "execution_millis": 373,
    "deepnote_cell_type": "code"
   },
   "source": "plt.title('Accuracy')\nplt.grid(True)\nplt.xlabel('Epochs')\nplt.ylabel('Values')\nplt.plot(fitReturn.history['accuracy'], 'blue', label='Train Accuracy')\nplt.plot(fitReturn.history['val_accuracy'], 'red', label='Test Accuracy')\nplt.legend()\nplt.show()\nplt.close()",
   "execution_count": null,
   "outputs": [
    {
     "data": {
      "text/plain": "<Figure size 432x288 with 1 Axes>",
      "image/png": "[encoded data removed]"
     },
     "metadata": {
      "needs_background": "light",
      "image/png": {
       "width": 392,
       "height": 278
      }
     },
     "output_type": "display_data"
    }
   ]
  },
  {
   "cell_type": "code",
   "metadata": {
    "tags": [],
    "cell_id": "00017-932911aa-8fbc-414b-85ca-7cf63fb4d0ee",
    "deepnote_to_be_reexecuted": false,
    "source_hash": "187cdca6",
    "execution_start": 1636829349638,
    "execution_millis": 206,
    "deepnote_cell_type": "code"
   },
   "source": "predictY = model.predict_classes(testX, verbose=0)\npredictY = predictY[:, 0]\n\n# Basic Counting\ntestY0 = (testY == 0).sum()\ntestY1 = (testY == 1).sum()\nprint(\"Test Set - Sell signal : \"+str(testY0))\nprint(\"Test Set - Buy signal  : \"+str(testY1))\nprint(\"=\"*40)\npredictY0 = (predictY == 0).sum()\npredictY1 = (predictY == 1).sum()\nprint(\"Predicted - Sell signal : \"+str(predictY0))\nprint(\"Predicted - Buy signal  : \"+str(predictY1))",
   "execution_count": null,
   "outputs": [
    {
     "name": "stdout",
     "text": "Test Set - Sell signal : 187\nTest Set - Buy signal  : 381\n========================================\nPredicted - Sell signal : 0\nPredicted - Buy signal  : 568\n/shared-libs/python3.7/py/lib/python3.7/site-packages/tensorflow/python/keras/engine/sequential.py:450: UserWarning: `model.predict_classes()` is deprecated and will be removed after 2021-01-01. Please use instead:* `np.argmax(model.predict(x), axis=-1)`,   if your model does multi-class classification   (e.g. if it uses a `softmax` last-layer activation).* `(model.predict(x) > 0.5).astype(\"int32\")`,   if your model does binary classification   (e.g. if it uses a `sigmoid` last-layer activation).\n  warnings.warn('`model.predict_classes()` is deprecated and '\n",
     "output_type": "stream"
    }
   ]
  },
  {
   "cell_type": "code",
   "metadata": {
    "tags": [],
    "cell_id": "00018-286dc761-1f21-47ec-b5f4-af019625d868",
    "deepnote_to_be_reexecuted": false,
    "source_hash": "23d2ec43",
    "execution_start": 1636829352294,
    "execution_millis": 0,
    "deepnote_cell_type": "code"
   },
   "source": "accuracy = accuracy_score(testY, predictY)\nprecision = precision_score(testY, predictY)\nprint('Accuracy: '+str(accuracy))\nprint('Precision: '+str(precision))",
   "execution_count": null,
   "outputs": [
    {
     "name": "stdout",
     "text": "Accuracy: 0.670774647887324\nPrecision: 0.670774647887324\n",
     "output_type": "stream"
    }
   ]
  },
  {
   "cell_type": "markdown",
   "source": "#### Logistic Regression",
   "metadata": {
    "tags": [],
    "cell_id": "00012-bcbec868-8a20-4c7b-bb1c-2e3feb16bdc0",
    "deepnote_cell_type": "markdown"
   }
  },
  {
   "cell_type": "code",
   "metadata": {
    "tags": [],
    "cell_id": "00014-d4c8bc47-7dc1-4e28-b2b0-d47d277240d0",
    "deepnote_to_be_reexecuted": false,
    "source_hash": "41340919",
    "execution_start": 1636829354114,
    "execution_millis": 75,
    "deepnote_cell_type": "code"
   },
   "source": "tsla2 = tsla.dropna()\ntsla2",
   "execution_count": null,
   "outputs": [
    {
     "output_type": "execute_result",
     "execution_count": 11,
     "data": {
      "application/vnd.deepnote.dataframe.v2+json": {
       "row_count": 2851,
       "column_count": 7,
       "columns": [
        {
         "name": "Date",
         "dtype": "object",
         "stats": {
          "unique_count": 2851,
          "nan_count": 0,
          "categories": [
           {
            "name": "2010-06-30",
            "count": 1
           },
           {
            "name": "2010-07-01",
            "count": 1
           },
           {
            "name": "2849 others",
            "count": 2849
           }
          ]
         }
        },
        {
         "name": "Open",
         "dtype": "float64",
         "stats": {
          "unique_count": 2562,
          "nan_count": 0,
          "min": "3.228",
          "max": "950.530029",
          "histogram": [
           {
            "bin_start": 3.228,
            "bin_end": 97.9582029,
            "count": 2407
           },
           {
            "bin_start": 97.9582029,
            "bin_end": 192.68840580000003,
            "count": 98
           },
           {
            "bin_start": 192.68840580000003,
            "bin_end": 287.41860870000005,
            "count": 23
           },
           {
            "bin_start": 287.41860870000005,
            "bin_end": 382.14881160000004,
            "count": 31
           },
           {
            "bin_start": 382.14881160000004,
            "bin_end": 476.87901450000004,
            "count": 56
           },
           {
            "bin_start": 476.87901450000004,
            "bin_end": 571.6092174,
            "count": 10
           },
           {
            "bin_start": 571.6092174,
            "bin_end": 666.3394203,
            "count": 77
           },
           {
            "bin_start": 666.3394203,
            "bin_end": 761.0696232,
            "count": 95
           },
           {
            "bin_start": 761.0696232,
            "bin_end": 855.7998261,
            "count": 43
           },
           {
            "bin_start": 855.7998261,
            "bin_end": 950.530029,
            "count": 11
           }
          ]
         }
        },
        {
         "name": "High",
         "dtype": "float64",
         "stats": {
          "unique_count": 2559,
          "nan_count": 0,
          "min": "3.326",
          "max": "1045.02002",
          "histogram": [
           {
            "bin_start": 3.326,
            "bin_end": 107.49540199999998,
            "count": 2416
           },
           {
            "bin_start": 107.49540199999998,
            "bin_end": 211.66480399999998,
            "count": 101
           },
           {
            "bin_start": 211.66480399999998,
            "bin_end": 315.834206,
            "count": 24
           },
           {
            "bin_start": 315.834206,
            "bin_end": 420.003608,
            "count": 30
           },
           {
            "bin_start": 420.003608,
            "bin_end": 524.17301,
            "count": 48
           },
           {
            "bin_start": 524.17301,
            "bin_end": 628.342412,
            "count": 38
           },
           {
            "bin_start": 628.342412,
            "bin_end": 732.511814,
            "count": 110
           },
           {
            "bin_start": 732.511814,
            "bin_end": 836.681216,
            "count": 54
           },
           {
            "bin_start": 836.681216,
            "bin_end": 940.8506179999999,
            "count": 29
           },
           {
            "bin_start": 940.8506179999999,
            "bin_end": 1045.02002,
            "count": 1
           }
          ]
         }
        },
        {
         "name": "Low",
         "dtype": "float64",
         "stats": {
          "unique_count": 2568,
          "nan_count": 0,
          "min": "2.996",
          "max": "944.200012",
          "histogram": [
           {
            "bin_start": 2.996,
            "bin_end": 97.1164012,
            "count": 2410
           },
           {
            "bin_start": 97.1164012,
            "bin_end": 191.23680240000002,
            "count": 99
           },
           {
            "bin_start": 191.23680240000002,
            "bin_end": 285.3572036,
            "count": 22
           },
           {
            "bin_start": 285.3572036,
            "bin_end": 379.4776048,
            "count": 32
           },
           {
            "bin_start": 379.4776048,
            "bin_end": 473.598006,
            "count": 54
           },
           {
            "bin_start": 473.598006,
            "bin_end": 567.7184072,
            "count": 14
           },
           {
            "bin_start": 567.7184072,
            "bin_end": 661.8388084,
            "count": 84
           },
           {
            "bin_start": 661.8388084,
            "bin_end": 755.9592096,
            "count": 85
           },
           {
            "bin_start": 755.9592096,
            "bin_end": 850.0796108000001,
            "count": 41
           },
           {
            "bin_start": 850.0796108000001,
            "bin_end": 944.200012,
            "count": 10
           }
          ]
         }
        },
        {
         "name": "Close",
         "dtype": "float64",
         "stats": {
          "unique_count": 2660,
          "nan_count": 0,
          "min": "3.16",
          "max": "1024.859985",
          "histogram": [
           {
            "bin_start": 3.16,
            "bin_end": 105.3299985,
            "count": 2418
           },
           {
            "bin_start": 105.3299985,
            "bin_end": 207.499997,
            "count": 99
           },
           {
            "bin_start": 207.499997,
            "bin_end": 309.6699955,
            "count": 27
           },
           {
            "bin_start": 309.6699955,
            "bin_end": 411.83999400000005,
            "count": 29
           },
           {
            "bin_start": 411.83999400000005,
            "bin_end": 514.0099925000001,
            "count": 46
           },
           {
            "bin_start": 514.0099925000001,
            "bin_end": 616.179991,
            "count": 34
           },
           {
            "bin_start": 616.179991,
            "bin_end": 718.3499895,
            "count": 113
           },
           {
            "bin_start": 718.3499895,
            "bin_end": 820.519988,
            "count": 58
           },
           {
            "bin_start": 820.519988,
            "bin_end": 922.6899865,
            "count": 26
           },
           {
            "bin_start": 922.6899865,
            "bin_end": 1024.859985,
            "count": 1
           }
          ]
         }
        },
        {
         "name": "Adj Close",
         "dtype": "float64",
         "stats": {
          "unique_count": 2660,
          "nan_count": 0,
          "min": "3.16",
          "max": "1024.859985",
          "histogram": [
           {
            "bin_start": 3.16,
            "bin_end": 105.3299985,
            "count": 2418
           },
           {
            "bin_start": 105.3299985,
            "bin_end": 207.499997,
            "count": 99
           },
           {
            "bin_start": 207.499997,
            "bin_end": 309.6699955,
            "count": 27
           },
           {
            "bin_start": 309.6699955,
            "bin_end": 411.83999400000005,
            "count": 29
           },
           {
            "bin_start": 411.83999400000005,
            "bin_end": 514.0099925000001,
            "count": 46
           },
           {
            "bin_start": 514.0099925000001,
            "bin_end": 616.179991,
            "count": 34
           },
           {
            "bin_start": 616.179991,
            "bin_end": 718.3499895,
            "count": 113
           },
           {
            "bin_start": 718.3499895,
            "bin_end": 820.519988,
            "count": 58
           },
           {
            "bin_start": 820.519988,
            "bin_end": 922.6899865,
            "count": 26
           },
           {
            "bin_start": 922.6899865,
            "bin_end": 1024.859985,
            "count": 1
           }
          ]
         }
        },
        {
         "name": "Volume",
         "dtype": "int64",
         "stats": {
          "unique_count": 2821,
          "nan_count": 0,
          "min": "592500",
          "max": "304694000",
          "histogram": [
           {
            "bin_start": 592500,
            "bin_end": 31002650,
            "count": 1764
           },
           {
            "bin_start": 31002650,
            "bin_end": 61412800,
            "count": 758
           },
           {
            "bin_start": 61412800,
            "bin_end": 91822950,
            "count": 201
           },
           {
            "bin_start": 91822950,
            "bin_end": 122233100,
            "count": 88
           },
           {
            "bin_start": 122233100,
            "bin_end": 152643250,
            "count": 24
           },
           {
            "bin_start": 152643250,
            "bin_end": 183053400,
            "count": 9
           },
           {
            "bin_start": 183053400,
            "bin_end": 213463550,
            "count": 3
           },
           {
            "bin_start": 213463550,
            "bin_end": 243873700,
            "count": 3
           },
           {
            "bin_start": 243873700,
            "bin_end": 274283850,
            "count": 0
           },
           {
            "bin_start": 274283850,
            "bin_end": 304694000,
            "count": 1
           }
          ]
         }
        },
        {
         "name": "_deepnote_index_column",
         "dtype": "int64"
        }
       ],
       "rows_top": [
        {
         "Date": "2010-06-30",
         "Open": 5.158,
         "High": 6.084,
         "Low": 4.66,
         "Close": 4.766,
         "Adj Close": 4.766,
         "Volume": 85935500,
         "_deepnote_index_column": 0
        },
        {
         "Date": "2010-07-01",
         "Open": 5,
         "High": 5.184,
         "Low": 4.054,
         "Close": 4.392,
         "Adj Close": 4.392,
         "Volume": 41094000,
         "_deepnote_index_column": 1
        },
        {
         "Date": "2010-07-02",
         "Open": 4.6,
         "High": 4.62,
         "Low": 3.742,
         "Close": 3.84,
         "Adj Close": 3.84,
         "Volume": 25699000,
         "_deepnote_index_column": 2
        },
        {
         "Date": "2010-07-06",
         "Open": 4,
         "High": 4,
         "Low": 3.166,
         "Close": 3.222,
         "Adj Close": 3.222,
         "Volume": 34334500,
         "_deepnote_index_column": 3
        },
        {
         "Date": "2010-07-07",
         "Open": 3.28,
         "High": 3.326,
         "Low": 2.996,
         "Close": 3.16,
         "Adj Close": 3.16,
         "Volume": 34608500,
         "_deepnote_index_column": 4
        },
        {
         "Date": "2010-07-08",
         "Open": 3.228,
         "High": 3.504,
         "Low": 3.114,
         "Close": 3.492,
         "Adj Close": 3.492,
         "Volume": 38557000,
         "_deepnote_index_column": 5
        },
        {
         "Date": "2010-07-09",
         "Open": 3.516,
         "High": 3.58,
         "Low": 3.31,
         "Close": 3.48,
         "Adj Close": 3.48,
         "Volume": 20253000,
         "_deepnote_index_column": 6
        },
        {
         "Date": "2010-07-12",
         "Open": 3.59,
         "High": 3.614,
         "Low": 3.4,
         "Close": 3.41,
         "Adj Close": 3.41,
         "Volume": 11012500,
         "_deepnote_index_column": 7
        },
        {
         "Date": "2010-07-13",
         "Open": 3.478,
         "High": 3.728,
         "Low": 3.38,
         "Close": 3.628,
         "Adj Close": 3.628,
         "Volume": 13400500,
         "_deepnote_index_column": 8
        },
        {
         "Date": "2010-07-14",
         "Open": 3.588,
         "High": 4.03,
         "Low": 3.552,
         "Close": 3.968,
         "Adj Close": 3.968,
         "Volume": 20976000,
         "_deepnote_index_column": 9
        },
        {
         "Date": "2010-07-15",
         "Open": 3.988,
         "High": 4.3,
         "Low": 3.8,
         "Close": 3.978,
         "Adj Close": 3.978,
         "Volume": 18699000,
         "_deepnote_index_column": 10
        },
        {
         "Date": "2010-07-16",
         "Open": 4.14,
         "High": 4.26,
         "Low": 4.01,
         "Close": 4.128,
         "Adj Close": 4.128,
         "Volume": 13106500,
         "_deepnote_index_column": 11
        },
        {
         "Date": "2010-07-19",
         "Open": 4.274,
         "High": 4.45,
         "Low": 4.184,
         "Close": 4.382,
         "Adj Close": 4.382,
         "Volume": 12432500,
         "_deepnote_index_column": 12
        },
        {
         "Date": "2010-07-20",
         "Open": 4.37,
         "High": 4.37,
         "Low": 4.01,
         "Close": 4.06,
         "Adj Close": 4.06,
         "Volume": 9126500,
         "_deepnote_index_column": 13
        },
        {
         "Date": "2010-07-21",
         "Open": 4.132,
         "High": 4.18,
         "Low": 3.9,
         "Close": 4.044,
         "Adj Close": 4.044,
         "Volume": 6262500,
         "_deepnote_index_column": 14
        },
        {
         "Date": "2010-07-22",
         "Open": 4.1,
         "High": 4.25,
         "Low": 4.074,
         "Close": 4.2,
         "Adj Close": 4.2,
         "Volume": 4789000,
         "_deepnote_index_column": 15
        },
        {
         "Date": "2010-07-23",
         "Open": 4.238,
         "High": 4.312,
         "Low": 4.212,
         "Close": 4.258,
         "Adj Close": 4.258,
         "Volume": 3268000,
         "_deepnote_index_column": 16
        },
        {
         "Date": "2010-07-26",
         "Open": 4.3,
         "High": 4.3,
         "Low": 4.06,
         "Close": 4.19,
         "Adj Close": 4.19,
         "Volume": 4611000,
         "_deepnote_index_column": 17
        },
        {
         "Date": "2010-07-27",
         "Open": 4.182,
         "High": 4.236,
         "Low": 4.052,
         "Close": 4.11,
         "Adj Close": 4.11,
         "Volume": 3098500,
         "_deepnote_index_column": 18
        },
        {
         "Date": "2010-07-28",
         "Open": 4.11,
         "High": 4.18,
         "Low": 4.102,
         "Close": 4.144,
         "Adj Close": 4.144,
         "Volume": 2336000,
         "_deepnote_index_column": 19
        },
        {
         "Date": "2010-07-29",
         "Open": 4.154,
         "High": 4.176,
         "Low": 4,
         "Close": 4.07,
         "Adj Close": 4.07,
         "Volume": 3080000,
         "_deepnote_index_column": 20
        },
        {
         "Date": "2010-07-30",
         "Open": 4.04,
         "High": 4.088,
         "Low": 3.91,
         "Close": 3.988,
         "Adj Close": 3.988,
         "Volume": 2134500,
         "_deepnote_index_column": 21
        },
        {
         "Date": "2010-08-02",
         "Open": 4.1,
         "High": 4.194,
         "Low": 4.066,
         "Close": 4.184,
         "Adj Close": 4.184,
         "Volume": 3590500,
         "_deepnote_index_column": 22
        },
        {
         "Date": "2010-08-03",
         "Open": 4.2,
         "High": 4.39,
         "Low": 4.164,
         "Close": 4.39,
         "Adj Close": 4.39,
         "Volume": 6152500,
         "_deepnote_index_column": 23
        },
        {
         "Date": "2010-08-04",
         "Open": 4.39,
         "High": 4.436,
         "Low": 4.17,
         "Close": 4.252,
         "Adj Close": 4.252,
         "Volume": 4565000,
         "_deepnote_index_column": 24
        },
        {
         "Date": "2010-08-05",
         "Open": 4.308,
         "High": 4.31,
         "Low": 4.01,
         "Close": 4.09,
         "Adj Close": 4.09,
         "Volume": 3981000,
         "_deepnote_index_column": 25
        },
        {
         "Date": "2010-08-06",
         "Open": 4.02,
         "High": 4.032,
         "Low": 3.904,
         "Close": 3.918,
         "Adj Close": 3.918,
         "Volume": 3709500,
         "_deepnote_index_column": 26
        },
        {
         "Date": "2010-08-09",
         "Open": 3.98,
         "High": 3.996,
         "Low": 3.89,
         "Close": 3.92,
         "Adj Close": 3.92,
         "Volume": 4063500,
         "_deepnote_index_column": 27
        },
        {
         "Date": "2010-08-10",
         "Open": 3.93,
         "High": 3.93,
         "Low": 3.764,
         "Close": 3.806,
         "Adj Close": 3.806,
         "Volume": 6406500,
         "_deepnote_index_column": 28
        },
        {
         "Date": "2010-08-11",
         "Open": 3.738,
         "High": 3.776,
         "Low": 3.57,
         "Close": 3.58,
         "Adj Close": 3.58,
         "Volume": 3988000,
         "_deepnote_index_column": 29
        },
        {
         "Date": "2010-08-12",
         "Open": 3.56,
         "High": 3.58,
         "Low": 3.478,
         "Close": 3.52,
         "Adj Close": 3.52,
         "Volume": 3455000,
         "_deepnote_index_column": 30
        },
        {
         "Date": "2010-08-13",
         "Open": 3.636,
         "High": 3.69,
         "Low": 3.532,
         "Close": 3.664,
         "Adj Close": 3.664,
         "Volume": 3170000,
         "_deepnote_index_column": 31
        },
        {
         "Date": "2010-08-16",
         "Open": 3.69,
         "High": 3.76,
         "Low": 3.652,
         "Close": 3.756,
         "Adj Close": 3.756,
         "Volume": 2429000,
         "_deepnote_index_column": 32
        },
        {
         "Date": "2010-08-17",
         "Open": 3.792,
         "High": 3.88,
         "Low": 3.756,
         "Close": 3.83,
         "Adj Close": 3.83,
         "Volume": 2239500,
         "_deepnote_index_column": 33
        },
        {
         "Date": "2010-08-18",
         "Open": 3.918,
         "High": 3.918,
         "Low": 3.72,
         "Close": 3.754,
         "Adj Close": 3.754,
         "Volume": 3006500,
         "_deepnote_index_column": 34
        },
        {
         "Date": "2010-08-19",
         "Open": 3.708,
         "High": 3.85,
         "Low": 3.666,
         "Close": 3.758,
         "Adj Close": 3.758,
         "Volume": 2895500,
         "_deepnote_index_column": 35
        },
        {
         "Date": "2010-08-20",
         "Open": 3.73,
         "High": 3.822,
         "Low": 3.702,
         "Close": 3.82,
         "Adj Close": 3.82,
         "Volume": 1480000,
         "_deepnote_index_column": 36
        },
        {
         "Date": "2010-08-23",
         "Open": 3.818,
         "High": 4.078,
         "Low": 3.8,
         "Close": 4.026,
         "Adj Close": 4.026,
         "Volume": 5440500,
         "_deepnote_index_column": 37
        },
        {
         "Date": "2010-08-24",
         "Open": 3.85,
         "High": 3.942,
         "Low": 3.79,
         "Close": 3.84,
         "Adj Close": 3.84,
         "Volume": 3365500,
         "_deepnote_index_column": 38
        },
        {
         "Date": "2010-08-25",
         "Open": 3.832,
         "High": 3.996,
         "Low": 3.712,
         "Close": 3.98,
         "Adj Close": 3.98,
         "Volume": 2516500,
         "_deepnote_index_column": 39
        },
        {
         "Date": "2010-08-26",
         "Open": 3.978,
         "High": 4.054,
         "Low": 3.92,
         "Close": 3.95,
         "Adj Close": 3.95,
         "Volume": 2169000,
         "_deepnote_index_column": 40
        },
        {
         "Date": "2010-08-27",
         "Open": 3.95,
         "High": 3.974,
         "Low": 3.9,
         "Close": 3.94,
         "Adj Close": 3.94,
         "Volume": 1898000,
         "_deepnote_index_column": 41
        },
        {
         "Date": "2010-08-30",
         "Open": 3.94,
         "High": 4.038,
         "Low": 3.922,
         "Close": 3.974,
         "Adj Close": 3.974,
         "Volume": 3664000,
         "_deepnote_index_column": 42
        },
        {
         "Date": "2010-08-31",
         "Open": 3.932,
         "High": 3.958,
         "Low": 3.866,
         "Close": 3.896,
         "Adj Close": 3.896,
         "Volume": 1005500,
         "_deepnote_index_column": 43
        },
        {
         "Date": "2010-09-01",
         "Open": 3.924,
         "High": 4.138,
         "Low": 3.92,
         "Close": 4.09,
         "Adj Close": 4.09,
         "Volume": 2474500,
         "_deepnote_index_column": 44
        },
        {
         "Date": "2010-09-02",
         "Open": 4.074,
         "High": 4.248,
         "Low": 4.062,
         "Close": 4.212,
         "Adj Close": 4.212,
         "Volume": 2435500,
         "_deepnote_index_column": 45
        },
        {
         "Date": "2010-09-03",
         "Open": 4.174,
         "High": 4.26,
         "Low": 4.132,
         "Close": 4.21,
         "Adj Close": 4.21,
         "Volume": 2173000,
         "_deepnote_index_column": 46
        },
        {
         "Date": "2010-09-07",
         "Open": 4.122,
         "High": 4.2,
         "Low": 4.1,
         "Close": 4.108,
         "Adj Close": 4.108,
         "Volume": 1217000,
         "_deepnote_index_column": 47
        },
        {
         "Date": "2010-09-08",
         "Open": 4.132,
         "High": 4.19,
         "Low": 4.12,
         "Close": 4.18,
         "Adj Close": 4.18,
         "Volume": 1442000,
         "_deepnote_index_column": 48
        },
        {
         "Date": "2010-09-09",
         "Open": 4.2,
         "High": 4.21,
         "Low": 4.138,
         "Close": 4.142,
         "Adj Close": 4.142,
         "Volume": 1881000,
         "_deepnote_index_column": 49
        },
        {
         "Date": "2010-09-10",
         "Open": 4.15,
         "High": 4.186,
         "Low": 3.952,
         "Close": 4.034,
         "Adj Close": 4.034,
         "Volume": 1933000,
         "_deepnote_index_column": 50
        },
        {
         "Date": "2010-09-13",
         "Open": 4.178,
         "High": 4.18,
         "Low": 4.1,
         "Close": 4.144,
         "Adj Close": 4.144,
         "Volume": 1804000,
         "_deepnote_index_column": 51
        },
        {
         "Date": "2010-09-14",
         "Open": 4.108,
         "High": 4.32,
         "Low": 4.106,
         "Close": 4.224,
         "Adj Close": 4.224,
         "Volume": 3273500,
         "_deepnote_index_column": 52
        },
        {
         "Date": "2010-09-15",
         "Open": 4.196,
         "High": 4.4,
         "Low": 4.158,
         "Close": 4.396,
         "Adj Close": 4.396,
         "Volume": 3423000,
         "_deepnote_index_column": 53
        },
        {
         "Date": "2010-09-16",
         "Open": 4.43,
         "High": 4.632,
         "Low": 4.168,
         "Close": 4.188,
         "Adj Close": 4.188,
         "Volume": 13422500,
         "_deepnote_index_column": 54
        },
        {
         "Date": "2010-09-17",
         "Open": 4.204,
         "High": 4.264,
         "Low": 3.96,
         "Close": 4.046,
         "Adj Close": 4.046,
         "Volume": 5992500,
         "_deepnote_index_column": 55
        },
        {
         "Date": "2010-09-20",
         "Open": 4.134,
         "High": 4.27,
         "Low": 4.032,
         "Close": 4.212,
         "Adj Close": 4.212,
         "Volume": 4737500,
         "_deepnote_index_column": 56
        },
        {
         "Date": "2010-09-21",
         "Open": 4.178,
         "High": 4.31,
         "Low": 4.134,
         "Close": 4.154,
         "Adj Close": 4.154,
         "Volume": 3980000,
         "_deepnote_index_column": 57
        },
        {
         "Date": "2010-09-22",
         "Open": 4.174,
         "High": 4.19,
         "Low": 3.96,
         "Close": 3.974,
         "Adj Close": 3.974,
         "Volume": 4814500,
         "_deepnote_index_column": 58
        },
        {
         "Date": "2010-09-23",
         "Open": 3.978,
         "High": 4.028,
         "Low": 3.9,
         "Close": 3.912,
         "Adj Close": 3.912,
         "Volume": 3340500,
         "_deepnote_index_column": 59
        },
        {
         "Date": "2010-09-24",
         "Open": 3.99,
         "High": 4.038,
         "Low": 3.93,
         "Close": 4.02,
         "Adj Close": 4.02,
         "Volume": 2894500,
         "_deepnote_index_column": 60
        },
        {
         "Date": "2010-09-27",
         "Open": 4.08,
         "High": 4.162,
         "Low": 4.01,
         "Close": 4.106,
         "Adj Close": 4.106,
         "Volume": 2093000,
         "_deepnote_index_column": 61
        },
        {
         "Date": "2010-09-28",
         "Open": 4.208,
         "High": 4.298,
         "Low": 4.152,
         "Close": 4.28,
         "Adj Close": 4.28,
         "Volume": 6072500,
         "_deepnote_index_column": 62
        },
        {
         "Date": "2010-09-29",
         "Open": 4.238,
         "High": 4.406,
         "Low": 4.226,
         "Close": 4.396,
         "Adj Close": 4.396,
         "Volume": 9846500,
         "_deepnote_index_column": 63
        },
        {
         "Date": "2010-09-30",
         "Open": 4.4,
         "High": 4.43,
         "Low": 4.038,
         "Close": 4.082,
         "Adj Close": 4.082,
         "Volume": 10979000,
         "_deepnote_index_column": 64
        },
        {
         "Date": "2010-10-01",
         "Open": 4.138,
         "High": 4.15,
         "Low": 4.062,
         "Close": 4.12,
         "Adj Close": 4.12,
         "Volume": 2988500,
         "_deepnote_index_column": 65
        },
        {
         "Date": "2010-10-04",
         "Open": 4.086,
         "High": 4.234,
         "Low": 4.06,
         "Close": 4.198,
         "Adj Close": 4.198,
         "Volume": 3218000,
         "_deepnote_index_column": 66
        },
        {
         "Date": "2010-10-05",
         "Open": 4.23,
         "High": 4.256,
         "Low": 4.202,
         "Close": 4.224,
         "Adj Close": 4.224,
         "Volume": 1660000,
         "_deepnote_index_column": 67
        },
        {
         "Date": "2010-10-06",
         "Open": 4.212,
         "High": 4.252,
         "Low": 4.064,
         "Close": 4.092,
         "Adj Close": 4.092,
         "Volume": 1567000,
         "_deepnote_index_column": 68
        },
        {
         "Date": "2010-10-07",
         "Open": 4.114,
         "High": 4.128,
         "Low": 4.068,
         "Close": 4.086,
         "Adj Close": 4.086,
         "Volume": 705000,
         "_deepnote_index_column": 69
        },
        {
         "Date": "2010-10-08",
         "Open": 4.086,
         "High": 4.158,
         "Low": 4.078,
         "Close": 4.086,
         "Adj Close": 4.086,
         "Volume": 1339000,
         "_deepnote_index_column": 70
        }
       ],
       "rows_bottom": [
        {
         "Date": "2021-07-16",
         "Open": 654.679993,
         "High": 656.700012,
         "Low": 642.200012,
         "Close": 644.219971,
         "Adj Close": 644.219971,
         "Volume": 16371000,
         "_deepnote_index_column": 2780
        },
        {
         "Date": "2021-07-19",
         "Open": 629.890015,
         "High": 647.200012,
         "Low": 621.289978,
         "Close": 646.219971,
         "Adj Close": 646.219971,
         "Volume": 21297100,
         "_deepnote_index_column": 2781
        },
        {
         "Date": "2021-07-20",
         "Open": 651.98999,
         "High": 662.390015,
         "Low": 640.5,
         "Close": 660.5,
         "Adj Close": 660.5,
         "Volume": 15487100,
         "_deepnote_index_column": 2782
        },
        {
         "Date": "2021-07-21",
         "Open": 659.609985,
         "High": 664.859985,
         "Low": 650.289978,
         "Close": 655.289978,
         "Adj Close": 655.289978,
         "Volume": 13953300,
         "_deepnote_index_column": 2783
        },
        {
         "Date": "2021-07-22",
         "Open": 656.440002,
         "High": 662.169983,
         "Low": 644.599976,
         "Close": 649.26001,
         "Adj Close": 649.26001,
         "Volume": 15105700,
         "_deepnote_index_column": 2784
        },
        {
         "Date": "2021-07-23",
         "Open": 646.359985,
         "High": 648.799988,
         "Low": 637.299988,
         "Close": 643.380005,
         "Adj Close": 643.380005,
         "Volume": 14604900,
         "_deepnote_index_column": 2785
        },
        {
         "Date": "2021-07-26",
         "Open": 650.969971,
         "High": 668.200012,
         "Low": 647.109985,
         "Close": 657.619995,
         "Adj Close": 657.619995,
         "Volume": 25336600,
         "_deepnote_index_column": 2786
        },
        {
         "Date": "2021-07-27",
         "Open": 663.400024,
         "High": 666.5,
         "Low": 627.23999,
         "Close": 644.780029,
         "Adj Close": 644.780029,
         "Volume": 32813300,
         "_deepnote_index_column": 2787
        },
        {
         "Date": "2021-07-28",
         "Open": 647,
         "High": 654.969971,
         "Low": 639.400024,
         "Close": 646.97998,
         "Adj Close": 646.97998,
         "Volume": 16006600,
         "_deepnote_index_column": 2788
        },
        {
         "Date": "2021-07-29",
         "Open": 649.789978,
         "High": 683.690002,
         "Low": 648.799988,
         "Close": 677.349976,
         "Adj Close": 677.349976,
         "Volume": 30394600,
         "_deepnote_index_column": 2789
        },
        {
         "Date": "2021-07-30",
         "Open": 671.76001,
         "High": 697.530029,
         "Low": 669,
         "Close": 687.200012,
         "Adj Close": 687.200012,
         "Volume": 29600500,
         "_deepnote_index_column": 2790
        },
        {
         "Date": "2021-08-02",
         "Open": 700,
         "High": 726.940002,
         "Low": 698.400024,
         "Close": 709.669983,
         "Adj Close": 709.669983,
         "Volume": 33615800,
         "_deepnote_index_column": 2791
        },
        {
         "Date": "2021-08-03",
         "Open": 719,
         "High": 722.650024,
         "Low": 701.01001,
         "Close": 709.73999,
         "Adj Close": 709.73999,
         "Volume": 21620300,
         "_deepnote_index_column": 2792
        },
        {
         "Date": "2021-08-04",
         "Open": 711,
         "High": 724.900024,
         "Low": 708.929993,
         "Close": 710.919983,
         "Adj Close": 710.919983,
         "Volume": 17002600,
         "_deepnote_index_column": 2793
        },
        {
         "Date": "2021-08-05",
         "Open": 716,
         "High": 720.950012,
         "Low": 711.409973,
         "Close": 714.630005,
         "Adj Close": 714.630005,
         "Volume": 12919600,
         "_deepnote_index_column": 2794
        },
        {
         "Date": "2021-08-06",
         "Open": 711.900024,
         "High": 716.330017,
         "Low": 697.630005,
         "Close": 699.099976,
         "Adj Close": 699.099976,
         "Volume": 15576200,
         "_deepnote_index_column": 2795
        },
        {
         "Date": "2021-08-09",
         "Open": 710.169983,
         "High": 719.030029,
         "Low": 705.130005,
         "Close": 713.76001,
         "Adj Close": 713.76001,
         "Volume": 14715300,
         "_deepnote_index_column": 2796
        },
        {
         "Date": "2021-08-10",
         "Open": 713.98999,
         "High": 716.590027,
         "Low": 701.880005,
         "Close": 709.98999,
         "Adj Close": 709.98999,
         "Volume": 13432300,
         "_deepnote_index_column": 2797
        },
        {
         "Date": "2021-08-11",
         "Open": 712.710022,
         "High": 715.179993,
         "Low": 704.210022,
         "Close": 707.820007,
         "Adj Close": 707.820007,
         "Volume": 9800600,
         "_deepnote_index_column": 2798
        },
        {
         "Date": "2021-08-12",
         "Open": 706.340027,
         "High": 722.799988,
         "Low": 699.400024,
         "Close": 722.25,
         "Adj Close": 722.25,
         "Volume": 17459100,
         "_deepnote_index_column": 2799
        },
        {
         "Date": "2021-08-13",
         "Open": 723.710022,
         "High": 729.900024,
         "Low": 714.340027,
         "Close": 717.169983,
         "Adj Close": 717.169983,
         "Volume": 16698900,
         "_deepnote_index_column": 2800
        },
        {
         "Date": "2021-08-16",
         "Open": 705.070007,
         "High": 709.5,
         "Low": 676.400024,
         "Close": 686.169983,
         "Adj Close": 686.169983,
         "Volume": 22677400,
         "_deepnote_index_column": 2801
        },
        {
         "Date": "2021-08-17",
         "Open": 672.659973,
         "High": 674.580017,
         "Low": 648.840027,
         "Close": 665.710022,
         "Adj Close": 665.710022,
         "Volume": 23721300,
         "_deepnote_index_column": 2802
        },
        {
         "Date": "2021-08-18",
         "Open": 669.75,
         "High": 695.77002,
         "Low": 669.349976,
         "Close": 688.98999,
         "Adj Close": 688.98999,
         "Volume": 20349400,
         "_deepnote_index_column": 2803
        },
        {
         "Date": "2021-08-19",
         "Open": 678.210022,
         "High": 686.549988,
         "Low": 667.590027,
         "Close": 673.469971,
         "Adj Close": 673.469971,
         "Volume": 14313500,
         "_deepnote_index_column": 2804
        },
        {
         "Date": "2021-08-20",
         "Open": 682.849976,
         "High": 692.130005,
         "Low": 673.700012,
         "Close": 680.26001,
         "Adj Close": 680.26001,
         "Volume": 14781800,
         "_deepnote_index_column": 2805
        },
        {
         "Date": "2021-08-23",
         "Open": 685.440002,
         "High": 712.130005,
         "Low": 680.75,
         "Close": 706.299988,
         "Adj Close": 706.299988,
         "Volume": 20264900,
         "_deepnote_index_column": 2806
        },
        {
         "Date": "2021-08-24",
         "Open": 710.679993,
         "High": 715.219971,
         "Low": 702.640015,
         "Close": 708.48999,
         "Adj Close": 708.48999,
         "Volume": 13083100,
         "_deepnote_index_column": 2807
        },
        {
         "Date": "2021-08-25",
         "Open": 707.030029,
         "High": 716.969971,
         "Low": 704,
         "Close": 711.200012,
         "Adj Close": 711.200012,
         "Volume": 12645600,
         "_deepnote_index_column": 2808
        },
        {
         "Date": "2021-08-26",
         "Open": 708.309998,
         "High": 715.400024,
         "Low": 697.619995,
         "Close": 701.159973,
         "Adj Close": 701.159973,
         "Volume": 13214300,
         "_deepnote_index_column": 2809
        },
        {
         "Date": "2021-08-27",
         "Open": 705,
         "High": 715,
         "Low": 702.099976,
         "Close": 711.919983,
         "Adj Close": 711.919983,
         "Volume": 13762100,
         "_deepnote_index_column": 2810
        },
        {
         "Date": "2021-08-30",
         "Open": 714.719971,
         "High": 731,
         "Low": 712.72998,
         "Close": 730.909973,
         "Adj Close": 730.909973,
         "Volume": 18604200,
         "_deepnote_index_column": 2811
        },
        {
         "Date": "2021-08-31",
         "Open": 733,
         "High": 740.390015,
         "Low": 726.440002,
         "Close": 735.719971,
         "Adj Close": 735.719971,
         "Volume": 20855400,
         "_deepnote_index_column": 2812
        },
        {
         "Date": "2021-09-01",
         "Open": 734.080017,
         "High": 741.98999,
         "Low": 731.27002,
         "Close": 734.090027,
         "Adj Close": 734.090027,
         "Volume": 13204300,
         "_deepnote_index_column": 2813
        },
        {
         "Date": "2021-09-02",
         "Open": 734.5,
         "High": 740.969971,
         "Low": 730.539978,
         "Close": 732.390015,
         "Adj Close": 732.390015,
         "Volume": 12777300,
         "_deepnote_index_column": 2814
        },
        {
         "Date": "2021-09-03",
         "Open": 732.25,
         "High": 734,
         "Low": 724.200012,
         "Close": 733.570007,
         "Adj Close": 733.570007,
         "Volume": 15246100,
         "_deepnote_index_column": 2815
        },
        {
         "Date": "2021-09-07",
         "Open": 740,
         "High": 760.200012,
         "Low": 739.26001,
         "Close": 752.919983,
         "Adj Close": 752.919983,
         "Volume": 20039800,
         "_deepnote_index_column": 2816
        },
        {
         "Date": "2021-09-08",
         "Open": 761.580017,
         "High": 764.450012,
         "Low": 740.77002,
         "Close": 753.869995,
         "Adj Close": 753.869995,
         "Volume": 18793000,
         "_deepnote_index_column": 2817
        },
        {
         "Date": "2021-09-09",
         "Open": 753.409973,
         "High": 762.099976,
         "Low": 751.630005,
         "Close": 754.859985,
         "Adj Close": 754.859985,
         "Volume": 14077700,
         "_deepnote_index_column": 2818
        },
        {
         "Date": "2021-09-10",
         "Open": 759.599976,
         "High": 762.609985,
         "Low": 734.52002,
         "Close": 736.27002,
         "Adj Close": 736.27002,
         "Volume": 15114300,
         "_deepnote_index_column": 2819
        },
        {
         "Date": "2021-09-13",
         "Open": 740.210022,
         "High": 744.780029,
         "Low": 708.849976,
         "Close": 743,
         "Adj Close": 743,
         "Volume": 22952500,
         "_deepnote_index_column": 2820
        },
        {
         "Date": "2021-09-14",
         "Open": 742.570007,
         "High": 754.469971,
         "Low": 736.400024,
         "Close": 744.48999,
         "Adj Close": 744.48999,
         "Volume": 18524900,
         "_deepnote_index_column": 2821
        },
        {
         "Date": "2021-09-15",
         "Open": 745,
         "High": 756.859985,
         "Low": 738.359985,
         "Close": 755.830017,
         "Adj Close": 755.830017,
         "Volume": 15357700,
         "_deepnote_index_column": 2822
        },
        {
         "Date": "2021-09-16",
         "Open": 752.830017,
         "High": 758.909973,
         "Low": 747.609985,
         "Close": 756.98999,
         "Adj Close": 756.98999,
         "Volume": 13923400,
         "_deepnote_index_column": 2823
        },
        {
         "Date": "2021-09-17",
         "Open": 757.150024,
         "High": 761.039978,
         "Low": 750,
         "Close": 759.48999,
         "Adj Close": 759.48999,
         "Volume": 28204200,
         "_deepnote_index_column": 2824
        },
        {
         "Date": "2021-09-20",
         "Open": 734.559998,
         "High": 742,
         "Low": 718.619995,
         "Close": 730.169983,
         "Adj Close": 730.169983,
         "Volume": 24757700,
         "_deepnote_index_column": 2825
        },
        {
         "Date": "2021-09-21",
         "Open": 734.789978,
         "High": 744.73999,
         "Low": 730.440002,
         "Close": 739.380005,
         "Adj Close": 739.380005,
         "Volume": 16330700,
         "_deepnote_index_column": 2826
        },
        {
         "Date": "2021-09-22",
         "Open": 743.530029,
         "High": 753.669983,
         "Low": 739.119995,
         "Close": 751.940002,
         "Adj Close": 751.940002,
         "Volume": 15126300,
         "_deepnote_index_column": 2827
        },
        {
         "Date": "2021-09-23",
         "Open": 755,
         "High": 758.200012,
         "Low": 747.919983,
         "Close": 753.640015,
         "Adj Close": 753.640015,
         "Volume": 11947500,
         "_deepnote_index_column": 2828
        },
        {
         "Date": "2021-09-24",
         "Open": 745.890015,
         "High": 774.799988,
         "Low": 744.559998,
         "Close": 774.390015,
         "Adj Close": 774.390015,
         "Volume": 21373000,
         "_deepnote_index_column": 2829
        },
        {
         "Date": "2021-09-27",
         "Open": 773.119995,
         "High": 799,
         "Low": 769.309998,
         "Close": 791.359985,
         "Adj Close": 791.359985,
         "Volume": 28070700,
         "_deepnote_index_column": 2830
        },
        {
         "Date": "2021-09-28",
         "Open": 787.200012,
         "High": 795.640015,
         "Low": 766.179993,
         "Close": 777.559998,
         "Adj Close": 777.559998,
         "Volume": 25381400,
         "_deepnote_index_column": 2831
        },
        {
         "Date": "2021-09-29",
         "Open": 779.799988,
         "High": 793.5,
         "Low": 770.679993,
         "Close": 781.309998,
         "Adj Close": 781.309998,
         "Volume": 20942900,
         "_deepnote_index_column": 2832
        },
        {
         "Date": "2021-09-30",
         "Open": 781,
         "High": 789.130005,
         "Low": 775,
         "Close": 775.47998,
         "Adj Close": 775.47998,
         "Volume": 17956000,
         "_deepnote_index_column": 2833
        },
        {
         "Date": "2021-10-01",
         "Open": 778.400024,
         "High": 780.780029,
         "Low": 763.590027,
         "Close": 775.219971,
         "Adj Close": 775.219971,
         "Volume": 17031400,
         "_deepnote_index_column": 2834
        },
        {
         "Date": "2021-10-04",
         "Open": 796.5,
         "High": 806.969971,
         "Low": 776.119995,
         "Close": 781.530029,
         "Adj Close": 781.530029,
         "Volume": 30483300,
         "_deepnote_index_column": 2835
        },
        {
         "Date": "2021-10-05",
         "Open": 784.799988,
         "High": 797.309998,
         "Low": 774.200012,
         "Close": 780.590027,
         "Adj Close": 780.590027,
         "Volume": 18432600,
         "_deepnote_index_column": 2836
        },
        {
         "Date": "2021-10-06",
         "Open": 776.200012,
         "High": 786.659973,
         "Low": 773.219971,
         "Close": 782.75,
         "Adj Close": 782.75,
         "Volume": 14632800,
         "_deepnote_index_column": 2837
        },
        {
         "Date": "2021-10-07",
         "Open": 785.460022,
         "High": 805,
         "Low": 783.380005,
         "Close": 793.609985,
         "Adj Close": 793.609985,
         "Volume": 19195800,
         "_deepnote_index_column": 2838
        },
        {
         "Date": "2021-10-08",
         "Open": 796.210022,
         "High": 796.380005,
         "Low": 780.909973,
         "Close": 785.48999,
         "Adj Close": 785.48999,
         "Volume": 16711100,
         "_deepnote_index_column": 2839
        },
        {
         "Date": "2021-10-11",
         "Open": 787.650024,
         "High": 801.23999,
         "Low": 785.5,
         "Close": 791.940002,
         "Adj Close": 791.940002,
         "Volume": 14200300,
         "_deepnote_index_column": 2840
        },
        {
         "Date": "2021-10-12",
         "Open": 800.929993,
         "High": 812.320007,
         "Low": 796.570007,
         "Close": 805.719971,
         "Adj Close": 805.719971,
         "Volume": 22020000,
         "_deepnote_index_column": 2841
        },
        {
         "Date": "2021-10-13",
         "Open": 810.469971,
         "High": 815.409973,
         "Low": 805.780029,
         "Close": 811.080017,
         "Adj Close": 811.080017,
         "Volume": 14120100,
         "_deepnote_index_column": 2842
        },
        {
         "Date": "2021-10-14",
         "Open": 815.48999,
         "High": 820.25,
         "Low": 813.349976,
         "Close": 818.320007,
         "Adj Close": 818.320007,
         "Volume": 12247200,
         "_deepnote_index_column": 2843
        },
        {
         "Date": "2021-10-15",
         "Open": 823.73999,
         "High": 843.210022,
         "Low": 822.349976,
         "Close": 843.030029,
         "Adj Close": 843.030029,
         "Volume": 18818000,
         "_deepnote_index_column": 2844
        },
        {
         "Date": "2021-10-18",
         "Open": 851.789978,
         "High": 875.26001,
         "Low": 851.469971,
         "Close": 870.109985,
         "Adj Close": 870.109985,
         "Volume": 24207200,
         "_deepnote_index_column": 2845
        },
        {
         "Date": "2021-10-19",
         "Open": 877.530029,
         "High": 877.950012,
         "Low": 862.51001,
         "Close": 864.27002,
         "Adj Close": 864.27002,
         "Volume": 17381100,
         "_deepnote_index_column": 2846
        },
        {
         "Date": "2021-10-20",
         "Open": 865.349976,
         "High": 869.48999,
         "Low": 857.380005,
         "Close": 865.799988,
         "Adj Close": 865.799988,
         "Volume": 14032100,
         "_deepnote_index_column": 2847
        },
        {
         "Date": "2021-10-21",
         "Open": 856,
         "High": 900,
         "Low": 855.5,
         "Close": 894,
         "Adj Close": 894,
         "Volume": 31481500,
         "_deepnote_index_column": 2848
        },
        {
         "Date": "2021-10-22",
         "Open": 895.5,
         "High": 910,
         "Low": 890.960022,
         "Close": 909.679993,
         "Adj Close": 909.679993,
         "Volume": 22836800,
         "_deepnote_index_column": 2849
        },
        {
         "Date": "2021-10-25",
         "Open": 950.530029,
         "High": 1045.02002,
         "Low": 944.200012,
         "Close": 1024.859985,
         "Adj Close": 1024.859985,
         "Volume": 62852100,
         "_deepnote_index_column": 2850
        }
       ]
      },
      "text/plain": "            Date        Open         High         Low        Close  \\\n0     2010-06-30    5.158000     6.084000    4.660000     4.766000   \n1     2010-07-01    5.000000     5.184000    4.054000     4.392000   \n2     2010-07-02    4.600000     4.620000    3.742000     3.840000   \n3     2010-07-06    4.000000     4.000000    3.166000     3.222000   \n4     2010-07-07    3.280000     3.326000    2.996000     3.160000   \n...          ...         ...          ...         ...          ...   \n2846  2021-10-19  877.530029   877.950012  862.510010   864.270020   \n2847  2021-10-20  865.349976   869.489990  857.380005   865.799988   \n2848  2021-10-21  856.000000   900.000000  855.500000   894.000000   \n2849  2021-10-22  895.500000   910.000000  890.960022   909.679993   \n2850  2021-10-25  950.530029  1045.020020  944.200012  1024.859985   \n\n        Adj Close    Volume  \n0        4.766000  85935500  \n1        4.392000  41094000  \n2        3.840000  25699000  \n3        3.222000  34334500  \n4        3.160000  34608500  \n...           ...       ...  \n2846   864.270020  17381100  \n2847   865.799988  14032100  \n2848   894.000000  31481500  \n2849   909.679993  22836800  \n2850  1024.859985  62852100  \n\n[2851 rows x 7 columns]",
      "text/html": "<div>\n<style scoped>\n    .dataframe tbody tr th:only-of-type {\n        vertical-align: middle;\n    }\n\n    .dataframe tbody tr th {\n        vertical-align: top;\n    }\n\n    .dataframe thead th {\n        text-align: right;\n    }\n</style>\n<table border=\"1\" class=\"dataframe\">\n  <thead>\n    <tr style=\"text-align: right;\">\n      <th></th>\n      <th>Date</th>\n      <th>Open</th>\n      <th>High</th>\n      <th>Low</th>\n      <th>Close</th>\n      <th>Adj Close</th>\n      <th>Volume</th>\n    </tr>\n  </thead>\n  <tbody>\n    <tr>\n      <th>0</th>\n      <td>2010-06-30</td>\n      <td>5.158000</td>\n      <td>6.084000</td>\n      <td>4.660000</td>\n      <td>4.766000</td>\n      <td>4.766000</td>\n      <td>85935500</td>\n    </tr>\n    <tr>\n      <th>1</th>\n      <td>2010-07-01</td>\n      <td>5.000000</td>\n      <td>5.184000</td>\n      <td>4.054000</td>\n      <td>4.392000</td>\n      <td>4.392000</td>\n      <td>41094000</td>\n    </tr>\n    <tr>\n      <th>2</th>\n      <td>2010-07-02</td>\n      <td>4.600000</td>\n      <td>4.620000</td>\n      <td>3.742000</td>\n      <td>3.840000</td>\n      <td>3.840000</td>\n      <td>25699000</td>\n    </tr>\n    <tr>\n      <th>3</th>\n      <td>2010-07-06</td>\n      <td>4.000000</td>\n      <td>4.000000</td>\n      <td>3.166000</td>\n      <td>3.222000</td>\n      <td>3.222000</td>\n      <td>34334500</td>\n    </tr>\n    <tr>\n      <th>4</th>\n      <td>2010-07-07</td>\n      <td>3.280000</td>\n      <td>3.326000</td>\n      <td>2.996000</td>\n      <td>3.160000</td>\n      <td>3.160000</td>\n      <td>34608500</td>\n    </tr>\n    <tr>\n      <th>...</th>\n      <td>...</td>\n      <td>...</td>\n      <td>...</td>\n      <td>...</td>\n      <td>...</td>\n      <td>...</td>\n      <td>...</td>\n    </tr>\n    <tr>\n      <th>2846</th>\n      <td>2021-10-19</td>\n      <td>877.530029</td>\n      <td>877.950012</td>\n      <td>862.510010</td>\n      <td>864.270020</td>\n      <td>864.270020</td>\n      <td>17381100</td>\n    </tr>\n    <tr>\n      <th>2847</th>\n      <td>2021-10-20</td>\n      <td>865.349976</td>\n      <td>869.489990</td>\n      <td>857.380005</td>\n      <td>865.799988</td>\n      <td>865.799988</td>\n      <td>14032100</td>\n    </tr>\n    <tr>\n      <th>2848</th>\n      <td>2021-10-21</td>\n      <td>856.000000</td>\n      <td>900.000000</td>\n      <td>855.500000</td>\n      <td>894.000000</td>\n      <td>894.000000</td>\n      <td>31481500</td>\n    </tr>\n    <tr>\n      <th>2849</th>\n      <td>2021-10-22</td>\n      <td>895.500000</td>\n      <td>910.000000</td>\n      <td>890.960022</td>\n      <td>909.679993</td>\n      <td>909.679993</td>\n      <td>22836800</td>\n    </tr>\n    <tr>\n      <th>2850</th>\n      <td>2021-10-25</td>\n      <td>950.530029</td>\n      <td>1045.020020</td>\n      <td>944.200012</td>\n      <td>1024.859985</td>\n      <td>1024.859985</td>\n      <td>62852100</td>\n    </tr>\n  </tbody>\n</table>\n<p>2851 rows × 7 columns</p>\n</div>"
     },
     "metadata": {}
    }
   ]
  },
  {
   "cell_type": "code",
   "metadata": {
    "tags": [],
    "cell_id": "00015-ac6ebd16-d63e-4ae5-ade5-64cbdf3fb955",
    "deepnote_to_be_reexecuted": false,
    "source_hash": "ad0c460c",
    "execution_start": 1636756283662,
    "execution_millis": 115,
    "deepnote_cell_type": "code"
   },
   "source": "tsla2['S_10'] = tsla2['Close'].rolling(window = 14).mean()\ntsla2['Corr'] = tsla2['Close'].rolling(window = 14).corr(tsla2['S_10'])\ntsla2['RSI'] = ta.RSI(np.array(tsla2['Close']), timeperiod = 14)\n# The difference between the open price of yesterday and today\ntsla2['Open-Close'] = tsla2['Open'] - tsla2['Close'].shift(1)\n# The difference close price of yesterday and the open price of today\ntsla2['Open-Open'] = tsla2['Open'] - tsla2['Open'].shift(1)\ntsla2 = tsla2.dropna()\ntsla2 = tsla2.drop(['Date', 'Adj Close', 'Volume'], axis = 1)\nX = tsla2.iloc[:,:9]\ntsla2\nX",
   "execution_count": null,
   "outputs": [
    {
     "output_type": "execute_result",
     "execution_count": 13,
     "data": {
      "application/vnd.deepnote.dataframe.v2+json": {
       "row_count": 2825,
       "column_count": 9,
       "columns": [
        {
         "name": "Open",
         "dtype": "float64",
         "stats": {
          "unique_count": 2542,
          "nan_count": 0,
          "min": "3.56",
          "max": "950.530029",
          "histogram": [
           {
            "bin_start": 3.56,
            "bin_end": 98.2570029,
            "count": 2381
           },
           {
            "bin_start": 98.2570029,
            "bin_end": 192.9540058,
            "count": 98
           },
           {
            "bin_start": 192.9540058,
            "bin_end": 287.6510087,
            "count": 23
           },
           {
            "bin_start": 287.6510087,
            "bin_end": 382.3480116,
            "count": 31
           },
           {
            "bin_start": 382.3480116,
            "bin_end": 477.04501450000004,
            "count": 56
           },
           {
            "bin_start": 477.04501450000004,
            "bin_end": 571.7420173999999,
            "count": 10
           },
           {
            "bin_start": 571.7420173999999,
            "bin_end": 666.4390202999999,
            "count": 77
           },
           {
            "bin_start": 666.4390202999999,
            "bin_end": 761.1360232,
            "count": 95
           },
           {
            "bin_start": 761.1360232,
            "bin_end": 855.8330261,
            "count": 43
           },
           {
            "bin_start": 855.8330261,
            "bin_end": 950.530029,
            "count": 11
           }
          ]
         }
        },
        {
         "name": "High",
         "dtype": "float64",
         "stats": {
          "unique_count": 2541,
          "nan_count": 0,
          "min": "3.58",
          "max": "1045.02002",
          "histogram": [
           {
            "bin_start": 3.58,
            "bin_end": 107.724002,
            "count": 2391
           },
           {
            "bin_start": 107.724002,
            "bin_end": 211.868004,
            "count": 100
           },
           {
            "bin_start": 211.868004,
            "bin_end": 316.012006,
            "count": 24
           },
           {
            "bin_start": 316.012006,
            "bin_end": 420.156008,
            "count": 31
           },
           {
            "bin_start": 420.156008,
            "bin_end": 524.30001,
            "count": 47
           },
           {
            "bin_start": 524.30001,
            "bin_end": 628.444012,
            "count": 39
           },
           {
            "bin_start": 628.444012,
            "bin_end": 732.588014,
            "count": 109
           },
           {
            "bin_start": 732.588014,
            "bin_end": 836.732016,
            "count": 54
           },
           {
            "bin_start": 836.732016,
            "bin_end": 940.876018,
            "count": 29
           },
           {
            "bin_start": 940.876018,
            "bin_end": 1045.02002,
            "count": 1
           }
          ]
         }
        },
        {
         "name": "Low",
         "dtype": "float64",
         "stats": {
          "unique_count": 2550,
          "nan_count": 0,
          "min": "3.478",
          "max": "944.200012",
          "histogram": [
           {
            "bin_start": 3.478,
            "bin_end": 97.5502012,
            "count": 2384
           },
           {
            "bin_start": 97.5502012,
            "bin_end": 191.62240240000003,
            "count": 99
           },
           {
            "bin_start": 191.62240240000003,
            "bin_end": 285.69460360000005,
            "count": 22
           },
           {
            "bin_start": 285.69460360000005,
            "bin_end": 379.76680480000005,
            "count": 32
           },
           {
            "bin_start": 379.76680480000005,
            "bin_end": 473.83900600000004,
            "count": 54
           },
           {
            "bin_start": 473.83900600000004,
            "bin_end": 567.9112072,
            "count": 14
           },
           {
            "bin_start": 567.9112072,
            "bin_end": 661.9834084,
            "count": 84
           },
           {
            "bin_start": 661.9834084,
            "bin_end": 756.0556096,
            "count": 85
           },
           {
            "bin_start": 756.0556096,
            "bin_end": 850.1278108,
            "count": 41
           },
           {
            "bin_start": 850.1278108,
            "bin_end": 944.200012,
            "count": 10
           }
          ]
         }
        },
        {
         "name": "Close",
         "dtype": "float64",
         "stats": {
          "unique_count": 2639,
          "nan_count": 0,
          "min": "3.52",
          "max": "1024.859985",
          "histogram": [
           {
            "bin_start": 3.52,
            "bin_end": 105.6539985,
            "count": 2393
           },
           {
            "bin_start": 105.6539985,
            "bin_end": 207.78799700000002,
            "count": 98
           },
           {
            "bin_start": 207.78799700000002,
            "bin_end": 309.9219955,
            "count": 27
           },
           {
            "bin_start": 309.9219955,
            "bin_end": 412.055994,
            "count": 29
           },
           {
            "bin_start": 412.055994,
            "bin_end": 514.1899925,
            "count": 46
           },
           {
            "bin_start": 514.1899925,
            "bin_end": 616.323991,
            "count": 34
           },
           {
            "bin_start": 616.323991,
            "bin_end": 718.4579895,
            "count": 114
           },
           {
            "bin_start": 718.4579895,
            "bin_end": 820.591988,
            "count": 57
           },
           {
            "bin_start": 820.591988,
            "bin_end": 922.7259865,
            "count": 26
           },
           {
            "bin_start": 922.7259865,
            "bin_end": 1024.859985,
            "count": 1
           }
          ]
         }
        },
        {
         "name": "S_10",
         "dtype": "float64",
         "stats": {
          "unique_count": 2818,
          "nan_count": 0,
          "min": "3.7979999999999996",
          "max": "852.287139857143",
          "histogram": [
           {
            "bin_start": 3.7979999999999996,
            "bin_end": 88.64691398571429,
            "count": 2374
           },
           {
            "bin_start": 88.64691398571429,
            "bin_end": 173.49582797142858,
            "count": 103
           },
           {
            "bin_start": 173.49582797142858,
            "bin_end": 258.34474195714284,
            "count": 25
           },
           {
            "bin_start": 258.34474195714284,
            "bin_end": 343.19365594285716,
            "count": 28
           },
           {
            "bin_start": 343.19365594285716,
            "bin_end": 428.0425699285714,
            "count": 49
           },
           {
            "bin_start": 428.0425699285714,
            "bin_end": 512.8914839142857,
            "count": 21
           },
           {
            "bin_start": 512.8914839142857,
            "bin_end": 597.7403979000001,
            "count": 12
           },
           {
            "bin_start": 597.7403979000001,
            "bin_end": 682.5893118857143,
            "count": 99
           },
           {
            "bin_start": 682.5893118857143,
            "bin_end": 767.4382258714286,
            "count": 71
           },
           {
            "bin_start": 767.4382258714286,
            "bin_end": 852.287139857143,
            "count": 43
           }
          ]
         }
        },
        {
         "name": "Corr",
         "dtype": "float64",
         "stats": {
          "unique_count": 2825,
          "nan_count": 0,
          "min": "-0.9247366336151289",
          "max": "0.9802316146459437",
          "histogram": [
           {
            "bin_start": -0.9247366336151289,
            "bin_end": -0.7342398087890216,
            "count": 81
           },
           {
            "bin_start": -0.7342398087890216,
            "bin_end": -0.5437429839629144,
            "count": 156
           },
           {
            "bin_start": -0.5437429839629144,
            "bin_end": -0.3532461591368071,
            "count": 187
           },
           {
            "bin_start": -0.3532461591368071,
            "bin_end": -0.16274933431069993,
            "count": 189
           },
           {
            "bin_start": -0.16274933431069993,
            "bin_end": 0.027747490515407258,
            "count": 202
           },
           {
            "bin_start": 0.027747490515407258,
            "bin_end": 0.21824431534151467,
            "count": 204
           },
           {
            "bin_start": 0.21824431534151467,
            "bin_end": 0.40874114016762186,
            "count": 266
           },
           {
            "bin_start": 0.40874114016762186,
            "bin_end": 0.599237964993729,
            "count": 351
           },
           {
            "bin_start": 0.599237964993729,
            "bin_end": 0.7897347898198362,
            "count": 492
           },
           {
            "bin_start": 0.7897347898198362,
            "bin_end": 0.9802316146459437,
            "count": 697
           }
          ]
         }
        },
        {
         "name": "RSI",
         "dtype": "float64",
         "stats": {
          "unique_count": 2820,
          "nan_count": 0,
          "min": "18.621207473020423",
          "max": "93.05754416723806",
          "histogram": [
           {
            "bin_start": 18.621207473020423,
            "bin_end": 26.064841142442187,
            "count": 22
           },
           {
            "bin_start": 26.064841142442187,
            "bin_end": 33.50847481186395,
            "count": 113
           },
           {
            "bin_start": 33.50847481186395,
            "bin_end": 40.95210848128572,
            "count": 305
           },
           {
            "bin_start": 40.95210848128572,
            "bin_end": 48.39574215070748,
            "count": 598
           },
           {
            "bin_start": 48.39574215070748,
            "bin_end": 55.83937582012925,
            "count": 602
           },
           {
            "bin_start": 55.83937582012925,
            "bin_end": 63.283009489551006,
            "count": 524
           },
           {
            "bin_start": 63.283009489551006,
            "bin_end": 70.72664315897278,
            "count": 346
           },
           {
            "bin_start": 70.72664315897278,
            "bin_end": 78.17027682839453,
            "count": 221
           },
           {
            "bin_start": 78.17027682839453,
            "bin_end": 85.61391049781629,
            "count": 87
           },
           {
            "bin_start": 85.61391049781629,
            "bin_end": 93.05754416723806,
            "count": 7
           }
          ]
         }
        },
        {
         "name": "Open-Close",
         "dtype": "float64",
         "stats": {
          "unique_count": 2085,
          "nan_count": 0,
          "min": "-62.320006999999976",
          "max": "52.080017",
          "histogram": [
           {
            "bin_start": -62.320006999999976,
            "bin_end": -50.88000459999998,
            "count": 2
           },
           {
            "bin_start": -50.88000459999998,
            "bin_end": -39.44000219999998,
            "count": 2
           },
           {
            "bin_start": -39.44000219999998,
            "bin_end": -27.999999799999983,
            "count": 6
           },
           {
            "bin_start": -27.999999799999983,
            "bin_end": -16.559997399999986,
            "count": 16
           },
           {
            "bin_start": -16.559997399999986,
            "bin_end": -5.119994999999989,
            "count": 62
           },
           {
            "bin_start": -5.119994999999989,
            "bin_end": 6.320007400000009,
            "count": 2622
           },
           {
            "bin_start": 6.320007400000009,
            "bin_end": 17.760009800000006,
            "count": 87
           },
           {
            "bin_start": 17.760009800000006,
            "bin_end": 29.200012200000003,
            "count": 20
           },
           {
            "bin_start": 29.200012200000003,
            "bin_end": 40.6400146,
            "count": 4
           },
           {
            "bin_start": 40.6400146,
            "bin_end": 52.080017,
            "count": 4
           }
          ]
         }
        },
        {
         "name": "Open-Open",
         "dtype": "float64",
         "stats": {
          "unique_count": 2357,
          "nan_count": 0,
          "min": "-100.51000999999997",
          "max": "92.11999500000002",
          "histogram": [
           {
            "bin_start": -100.51000999999997,
            "bin_end": -81.24700949999996,
            "count": 1
           },
           {
            "bin_start": -81.24700949999996,
            "bin_end": -61.98400899999997,
            "count": 3
           },
           {
            "bin_start": -61.98400899999997,
            "bin_end": -42.721008499999975,
            "count": 5
           },
           {
            "bin_start": -42.721008499999975,
            "bin_end": -23.458007999999978,
            "count": 25
           },
           {
            "bin_start": -23.458007999999978,
            "bin_end": -4.195007499999974,
            "count": 134
           },
           {
            "bin_start": -4.195007499999974,
            "bin_end": 15.067993000000016,
            "count": 2565
           },
           {
            "bin_start": 15.067993000000016,
            "bin_end": 34.330993500000005,
            "count": 67
           },
           {
            "bin_start": 34.330993500000005,
            "bin_end": 53.59399400000001,
            "count": 19
           },
           {
            "bin_start": 53.59399400000001,
            "bin_end": 72.85699450000001,
            "count": 4
           },
           {
            "bin_start": 72.85699450000001,
            "bin_end": 92.11999500000002,
            "count": 2
           }
          ]
         }
        },
        {
         "name": "_deepnote_index_column",
         "dtype": "int64"
        }
       ],
       "rows_top": [
        {
         "Open": 4.02,
         "High": 4.032,
         "Low": 3.904,
         "Close": 3.918,
         "S_10": 4.135571428571429,
         "Corr": 0.0028937785237601434,
         "RSI": 39.80185819066293,
         "Open-Close": -0.07000000000000028,
         "Open-Open": -0.28800000000000026,
         "_deepnote_index_column": 26
        },
        {
         "Open": 3.98,
         "High": 3.996,
         "Low": 3.89,
         "Close": 3.92,
         "S_10": 4.125571428571429,
         "Corr": -0.14099617359582264,
         "RSI": 39.85537458992085,
         "Open-Close": 0.06199999999999983,
         "Open-Open": -0.03999999999999959,
         "_deepnote_index_column": 27
        },
        {
         "Open": 3.93,
         "High": 3.93,
         "Low": 3.764,
         "Close": 3.806,
         "S_10": 4.1085714285714285,
         "Corr": -0.28617865909853346,
         "RSI": 37.7929677724615,
         "Open-Close": 0.010000000000000231,
         "Open-Open": -0.04999999999999982,
         "_deepnote_index_column": 28
        },
        {
         "Open": 3.738,
         "High": 3.776,
         "Low": 3.57,
         "Close": 3.58,
         "S_10": 4.064285714285715,
         "Corr": -0.18584674110961222,
         "RSI": 34.03306375220087,
         "Open-Close": -0.06800000000000006,
         "Open-Open": -0.19200000000000017,
         "_deepnote_index_column": 29
        },
        {
         "Open": 3.56,
         "High": 3.58,
         "Low": 3.478,
         "Close": 3.52,
         "S_10": 4.011571428571428,
         "Corr": 0.10111584616011612,
         "RSI": 33.09179512633194,
         "Open-Close": -0.020000000000000018,
         "Open-Open": -0.17799999999999994,
         "_deepnote_index_column": 30
        },
        {
         "Open": 3.636,
         "High": 3.69,
         "Low": 3.532,
         "Close": 3.664,
         "S_10": 3.974,
         "Corr": 0.4052847656094172,
         "RSI": 37.55556888128137,
         "Open-Close": 0.1160000000000001,
         "Open-Open": 0.07600000000000007,
         "_deepnote_index_column": 31
        },
        {
         "Open": 3.69,
         "High": 3.76,
         "Low": 3.652,
         "Close": 3.756,
         "S_10": 3.948714285714286,
         "Corr": 0.5814509825320104,
         "RSI": 40.296104695908234,
         "Open-Close": 0.0259999999999998,
         "Open-Open": 0.053999999999999826,
         "_deepnote_index_column": 32
        },
        {
         "Open": 3.792,
         "High": 3.88,
         "Low": 3.756,
         "Close": 3.83,
         "S_10": 3.9262857142857146,
         "Corr": 0.6516994555264382,
         "RSI": 42.482702057860585,
         "Open-Close": 0.03600000000000003,
         "Open-Open": 0.10199999999999987,
         "_deepnote_index_column": 33
        },
        {
         "Open": 3.918,
         "High": 3.918,
         "Low": 3.72,
         "Close": 3.754,
         "S_10": 3.9037142857142855,
         "Corr": 0.6698104993648658,
         "RSI": 40.828838294512174,
         "Open-Close": 0.08800000000000008,
         "Open-Open": 0.12600000000000033,
         "_deepnote_index_column": 34
        },
        {
         "Open": 3.708,
         "High": 3.85,
         "Low": 3.666,
         "Close": 3.758,
         "S_10": 3.887285714285714,
         "Corr": 0.6562416745550773,
         "RSI": 40.9591164289058,
         "Open-Close": -0.04599999999999982,
         "Open-Open": -0.20999999999999996,
         "_deepnote_index_column": 35
        },
        {
         "Open": 3.73,
         "High": 3.822,
         "Low": 3.702,
         "Close": 3.82,
         "S_10": 3.861285714285714,
         "Corr": 0.5966486757971485,
         "RSI": 43.052052172132385,
         "Open-Close": -0.028000000000000025,
         "Open-Open": 0.021999999999999797,
         "_deepnote_index_column": 36
        },
        {
         "Open": 3.818,
         "High": 4.078,
         "Low": 3.8,
         "Close": 4.026,
         "S_10": 3.8352857142857144,
         "Corr": 0.3588627223221575,
         "RSI": 49.462351265585,
         "Open-Close": -0.0019999999999997797,
         "Open-Open": 0.08800000000000008,
         "_deepnote_index_column": 37
        },
        {
         "Open": 3.85,
         "High": 3.942,
         "Low": 3.79,
         "Close": 3.84,
         "S_10": 3.805857142857143,
         "Corr": 0.12111406379792762,
         "RSI": 44.58261692156904,
         "Open-Close": -0.1759999999999997,
         "Open-Open": 0.03200000000000003,
         "_deepnote_index_column": 38
        },
        {
         "Open": 3.832,
         "High": 3.996,
         "Low": 3.712,
         "Close": 3.98,
         "S_10": 3.7979999999999996,
         "Corr": -0.2672729097237615,
         "RSI": 48.68613126459764,
         "Open-Close": -0.008000000000000007,
         "Open-Open": -0.018000000000000238,
         "_deepnote_index_column": 39
        },
        {
         "Open": 3.978,
         "High": 4.054,
         "Low": 3.92,
         "Close": 3.95,
         "S_10": 3.8002857142857143,
         "Corr": -0.4858407188776917,
         "RSI": 47.8681664232126,
         "Open-Close": -0.0019999999999997797,
         "Open-Open": 0.14600000000000035,
         "_deepnote_index_column": 40
        },
        {
         "Open": 3.95,
         "High": 3.974,
         "Low": 3.9,
         "Close": 3.94,
         "S_10": 3.8017142857142856,
         "Corr": -0.7392208824135877,
         "RSI": 47.58120190086924,
         "Open-Close": 0,
         "Open-Open": -0.028000000000000025,
         "_deepnote_index_column": 41
        },
        {
         "Open": 3.94,
         "High": 4.038,
         "Low": 3.922,
         "Close": 3.974,
         "S_10": 3.813714285714286,
         "Corr": -0.9064118877784034,
         "RSI": 48.707108077243106,
         "Open-Close": 0,
         "Open-Open": -0.010000000000000231,
         "_deepnote_index_column": 42
        },
        {
         "Open": 3.932,
         "High": 3.958,
         "Low": 3.866,
         "Close": 3.896,
         "S_10": 3.8362857142857143,
         "Corr": -0.8934366413576185,
         "RSI": 46.252668712263414,
         "Open-Close": -0.04200000000000026,
         "Open-Open": -0.008000000000000007,
         "_deepnote_index_column": 43
        },
        {
         "Open": 3.924,
         "High": 4.138,
         "Low": 3.92,
         "Close": 4.09,
         "S_10": 3.877,
         "Corr": -0.6871895179677429,
         "RSI": 52.644459759495746,
         "Open-Close": 0.028000000000000025,
         "Open-Open": -0.008000000000000007,
         "_deepnote_index_column": 44
        },
        {
         "Open": 4.074,
         "High": 4.248,
         "Low": 4.062,
         "Close": 4.212,
         "S_10": 3.9161428571428574,
         "Corr": -0.21811956346047331,
         "RSI": 56.17416656209281,
         "Open-Close": -0.016000000000000014,
         "Open-Open": 0.1499999999999999,
         "_deepnote_index_column": 45
        },
        {
         "Open": 4.174,
         "High": 4.26,
         "Low": 4.132,
         "Close": 4.21,
         "S_10": 3.948571428571429,
         "Corr": 0.21054353798787764,
         "RSI": 56.10034415357754,
         "Open-Close": -0.03799999999999937,
         "Open-Open": 0.10000000000000053,
         "_deepnote_index_column": 46
        },
        {
         "Open": 4.122,
         "High": 4.2,
         "Low": 4.1,
         "Close": 4.108,
         "S_10": 3.9684285714285714,
         "Corr": 0.41271202710223204,
         "RSI": 52.32370962891429,
         "Open-Close": -0.08800000000000008,
         "Open-Open": -0.05200000000000049,
         "_deepnote_index_column": 47
        },
        {
         "Open": 4.132,
         "High": 4.19,
         "Low": 4.12,
         "Close": 4.18,
         "S_10": 3.998857142857143,
         "Corr": 0.6362012716195206,
         "RSI": 54.64475667169317,
         "Open-Close": 0.02400000000000002,
         "Open-Open": 0.009999999999999787,
         "_deepnote_index_column": 48
        },
        {
         "Open": 4.2,
         "High": 4.21,
         "Low": 4.138,
         "Close": 4.142,
         "S_10": 4.026285714285715,
         "Corr": 0.764431318487735,
         "RSI": 53.17342064355983,
         "Open-Close": 0.020000000000000462,
         "Open-Open": 0.0680000000000005,
         "_deepnote_index_column": 49
        },
        {
         "Open": 4.15,
         "High": 4.186,
         "Low": 3.952,
         "Close": 4.034,
         "S_10": 4.041571428571428,
         "Corr": 0.7167287521370472,
         "RSI": 49.12495566467127,
         "Open-Close": 0.008000000000000007,
         "Open-Open": -0.04999999999999982,
         "_deepnote_index_column": 50
        },
        {
         "Open": 4.178,
         "High": 4.18,
         "Low": 4.1,
         "Close": 4.144,
         "S_10": 4.05,
         "Corr": 0.7320028363421341,
         "RSI": 53.04616868348797,
         "Open-Close": 0.14400000000000013,
         "Open-Open": 0.02799999999999958,
         "_deepnote_index_column": 51
        },
        {
         "Open": 4.108,
         "High": 4.32,
         "Low": 4.106,
         "Close": 4.224,
         "S_10": 4.077428571428571,
         "Corr": 0.7518765011217995,
         "RSI": 55.71925242651673,
         "Open-Close": -0.036000000000000476,
         "Open-Open": -0.07000000000000028,
         "_deepnote_index_column": 52
        },
        {
         "Open": 4.196,
         "High": 4.4,
         "Low": 4.158,
         "Close": 4.396,
         "S_10": 4.107142857142857,
         "Corr": 0.7866024049680479,
         "RSI": 60.87633624704851,
         "Open-Close": -0.02800000000000047,
         "Open-Open": 0.08800000000000008,
         "_deepnote_index_column": 53
        },
        {
         "Open": 4.43,
         "High": 4.632,
         "Low": 4.168,
         "Close": 4.188,
         "S_10": 4.124142857142857,
         "Corr": 0.7413421770127699,
         "RSI": 52.8590374782571,
         "Open-Close": 0.03399999999999981,
         "Open-Open": 0.23399999999999999,
         "_deepnote_index_column": 54
        },
        {
         "Open": 4.204,
         "High": 4.264,
         "Low": 3.96,
         "Close": 4.046,
         "S_10": 4.131714285714286,
         "Corr": 0.5451683652625541,
         "RSI": 48.192755176216345,
         "Open-Close": 0.016000000000000014,
         "Open-Open": -0.22599999999999998,
         "_deepnote_index_column": 55
        },
        {
         "Open": 4.134,
         "High": 4.27,
         "Low": 4.032,
         "Close": 4.212,
         "S_10": 4.148714285714286,
         "Corr": 0.46939872128401394,
         "RSI": 53.374539360442355,
         "Open-Close": 0.08800000000000008,
         "Open-Open": -0.0699999999999994,
         "_deepnote_index_column": 56
        },
        {
         "Open": 4.178,
         "High": 4.31,
         "Low": 4.134,
         "Close": 4.154,
         "S_10": 4.167142857142857,
         "Corr": 0.17032368602990614,
         "RSI": 51.438639507047576,
         "Open-Close": -0.03399999999999981,
         "Open-Open": 0.043999999999999595,
         "_deepnote_index_column": 57
        },
        {
         "Open": 4.174,
         "High": 4.19,
         "Low": 3.96,
         "Close": 3.974,
         "S_10": 4.158857142857143,
         "Corr": -0.13709657281823834,
         "RSI": 45.87734129883949,
         "Open-Close": 0.020000000000000462,
         "Open-Open": -0.0039999999999995595,
         "_deepnote_index_column": 58
        },
        {
         "Open": 3.978,
         "High": 4.028,
         "Low": 3.9,
         "Close": 3.912,
         "S_10": 4.137428571428571,
         "Corr": -0.18638421028916338,
         "RSI": 44.10840602790813,
         "Open-Close": 0.0040000000000000036,
         "Open-Open": -0.19600000000000017,
         "_deepnote_index_column": 59
        },
        {
         "Open": 3.99,
         "High": 4.038,
         "Low": 3.93,
         "Close": 4.02,
         "S_10": 4.123857142857142,
         "Corr": -0.1479791121133495,
         "RSI": 47.87846097692353,
         "Open-Close": 0.07800000000000029,
         "Open-Open": 0.01200000000000001,
         "_deepnote_index_column": 60
        },
        {
         "Open": 4.08,
         "High": 4.162,
         "Low": 4.01,
         "Close": 4.106,
         "S_10": 4.123714285714286,
         "Corr": -0.20617887013963349,
         "RSI": 50.72853437647059,
         "Open-Close": 0.0600000000000005,
         "Open-Open": 0.08999999999999986,
         "_deepnote_index_column": 61
        },
        {
         "Open": 4.208,
         "High": 4.298,
         "Low": 4.152,
         "Close": 4.28,
         "S_10": 4.130857142857143,
         "Corr": -0.10630499271885649,
         "RSI": 55.97399437019759,
         "Open-Close": 0.10200000000000031,
         "Open-Open": 0.1280000000000001,
         "_deepnote_index_column": 62
        },
        {
         "Open": 4.238,
         "High": 4.406,
         "Low": 4.226,
         "Close": 4.396,
         "S_10": 4.149,
         "Corr": 0.013684589116107888,
         "RSI": 59.10010080283361,
         "Open-Close": -0.041999999999999815,
         "Open-Open": 0.03000000000000025,
         "_deepnote_index_column": 63
        },
        {
         "Open": 4.4,
         "High": 4.43,
         "Low": 4.038,
         "Close": 4.082,
         "S_10": 4.152428571428572,
         "Corr": -0.17657542709264745,
         "RSI": 48.96483557787559,
         "Open-Close": 0.004000000000000448,
         "Open-Open": 0.16199999999999992,
         "_deepnote_index_column": 64
        },
        {
         "Open": 4.138,
         "High": 4.15,
         "Low": 4.062,
         "Close": 4.12,
         "S_10": 4.150714285714286,
         "Corr": -0.2697575782313126,
         "RSI": 50.08055571201646,
         "Open-Close": 0.05600000000000005,
         "Open-Open": -0.26200000000000045,
         "_deepnote_index_column": 65
        },
        {
         "Open": 4.086,
         "High": 4.234,
         "Low": 4.06,
         "Close": 4.198,
         "S_10": 4.148857142857143,
         "Corr": -0.2181110921024762,
         "RSI": 52.38175801101289,
         "Open-Close": -0.03399999999999981,
         "Open-Open": -0.0519999999999996,
         "_deepnote_index_column": 66
        },
        {
         "Open": 4.23,
         "High": 4.256,
         "Low": 4.202,
         "Close": 4.224,
         "S_10": 4.136571428571429,
         "Corr": 0.059588146014574114,
         "RSI": 53.15692256393508,
         "Open-Close": 0.03200000000000003,
         "Open-Open": 0.14400000000000013,
         "_deepnote_index_column": 67
        },
        {
         "Open": 4.212,
         "High": 4.252,
         "Low": 4.064,
         "Close": 4.092,
         "S_10": 4.129714285714286,
         "Corr": 0.1286239989362332,
         "RSI": 48.81245586785232,
         "Open-Close": -0.012000000000000455,
         "Open-Open": -0.018000000000000682,
         "_deepnote_index_column": 68
        },
        {
         "Open": 4.114,
         "High": 4.128,
         "Low": 4.068,
         "Close": 4.086,
         "S_10": 4.132571428571429,
         "Corr": 0.10979255284482245,
         "RSI": 48.617948849245295,
         "Open-Close": 0.02200000000000024,
         "Open-Open": -0.09799999999999986,
         "_deepnote_index_column": 69
        },
        {
         "Open": 4.086,
         "High": 4.158,
         "Low": 4.078,
         "Close": 4.086,
         "S_10": 4.123571428571428,
         "Corr": 0.11084354554490032,
         "RSI": 48.61794884924529,
         "Open-Close": 0,
         "Open-Open": -0.02799999999999958,
         "_deepnote_index_column": 70
        },
        {
         "Open": 4.088,
         "High": 4.14,
         "Low": 4.014,
         "Close": 4.048,
         "S_10": 4.1160000000000005,
         "Corr": 0.1468379711841758,
         "RSI": 47.23542027753459,
         "Open-Close": 0.0019999999999997797,
         "Open-Open": 0.0019999999999997797,
         "_deepnote_index_column": 71
        },
        {
         "Open": 4.04,
         "High": 4.056,
         "Low": 4.006,
         "Close": 4.048,
         "S_10": 4.121285714285714,
         "Corr": 0.39838462514367096,
         "RSI": 47.23542027753459,
         "Open-Close": -0.008000000000000007,
         "Open-Open": -0.04800000000000004,
         "_deepnote_index_column": 72
        },
        {
         "Open": 4.128,
         "High": 4.17,
         "Low": 4.072,
         "Close": 4.108,
         "S_10": 4.135285714285714,
         "Corr": 0.5047382904711517,
         "RSI": 49.847046480237736,
         "Open-Close": 0.08000000000000007,
         "Open-Open": 0.08800000000000008,
         "_deepnote_index_column": 73
        },
        {
         "Open": 4.2,
         "High": 4.206,
         "Low": 4.08,
         "Close": 4.15,
         "S_10": 4.144571428571429,
         "Corr": 0.4577847209615213,
         "RSI": 51.651053699049974,
         "Open-Close": 0.09200000000000053,
         "Open-Open": 0.07200000000000006,
         "_deepnote_index_column": 74
        },
        {
         "Open": 4.178,
         "High": 4.18,
         "Low": 4.05,
         "Close": 4.108,
         "S_10": 4.144714285714286,
         "Corr": 0.41550301084611857,
         "RSI": 49.72485977886667,
         "Open-Close": 0.02799999999999958,
         "Open-Open": -0.02200000000000024,
         "_deepnote_index_column": 75
        },
        {
         "Open": 4.104,
         "High": 4.128,
         "Low": 4.044,
         "Close": 4.046,
         "S_10": 4.128,
         "Corr": 0.545765168365834,
         "RSI": 46.941890086566744,
         "Open-Close": -0.0039999999999995595,
         "Open-Open": -0.07399999999999984,
         "_deepnote_index_column": 76
        },
        {
         "Open": 4.04,
         "High": 4.082,
         "Low": 4,
         "Close": 4.01,
         "S_10": 4.100428571428571,
         "Corr": 0.6658926909890509,
         "RSI": 45.35461609745583,
         "Open-Close": -0.006000000000000227,
         "Open-Open": -0.06400000000000006,
         "_deepnote_index_column": 77
        },
        {
         "Open": 4.032,
         "High": 4.138,
         "Low": 4.008,
         "Close": 4.13,
         "S_10": 4.103857142857143,
         "Corr": 0.5996804631138114,
         "RSI": 51.26961415103233,
         "Open-Close": 0.02200000000000024,
         "Open-Open": -0.008000000000000007,
         "_deepnote_index_column": 78
        },
        {
         "Open": 4.122,
         "High": 4.19,
         "Low": 4.09,
         "Close": 4.15,
         "S_10": 4.106,
         "Corr": 0.48048452334436026,
         "RSI": 52.19831902916038,
         "Open-Close": -0.008000000000000007,
         "Open-Open": 0.08999999999999986,
         "_deepnote_index_column": 79
        },
        {
         "Open": 4.136,
         "High": 4.186,
         "Low": 4.11,
         "Close": 4.144,
         "S_10": 4.102142857142857,
         "Corr": 0.24297272117813032,
         "RSI": 51.87888992068984,
         "Open-Close": -0.014000000000000234,
         "Open-Open": 0.014000000000000234,
         "_deepnote_index_column": 80
        }
       ],
       "rows_bottom": [
        {
         "Open": 711.900024,
         "High": 716.330017,
         "Low": 697.630005,
         "Close": 699.099976,
         "S_10": 676.1728515714285,
         "Corr": 0.6942044450803694,
         "RSI": 60.30100875607717,
         "Open-Close": -2.7299809999999525,
         "Open-Open": -4.09997599999997,
         "_deepnote_index_column": 2795
        },
        {
         "Open": 710.169983,
         "High": 719.030029,
         "Low": 705.130005,
         "Close": 713.76001,
         "S_10": 679.977138,
         "Corr": 0.7337661470029435,
         "RSI": 64.20243675394067,
         "Open-Close": 11.070007000000032,
         "Open-Open": -1.7300410000000284,
         "_deepnote_index_column": 2796
        },
        {
         "Open": 713.98999,
         "High": 716.590027,
         "Low": 701.880005,
         "Close": 709.98999,
         "S_10": 683.8842817142857,
         "Corr": 0.7352283144398953,
         "RSI": 62.50134839841146,
         "Open-Close": 0.22998000000006869,
         "Open-Open": 3.8200070000000323,
         "_deepnote_index_column": 2797
        },
        {
         "Open": 712.710022,
         "High": 715.179993,
         "Low": 704.210022,
         "Close": 707.820007,
         "S_10": 688.0671386428572,
         "Corr": 0.7141931273277231,
         "RSI": 61.4914276448019,
         "Open-Close": 2.7200319999999465,
         "Open-Open": -1.2799680000000535,
         "_deepnote_index_column": 2798
        },
        {
         "Open": 706.340027,
         "High": 722.799988,
         "Low": 699.400024,
         "Close": 722.25,
         "S_10": 693.7007097142857,
         "Corr": 0.7243931461162549,
         "RSI": 65.48531899524163,
         "Open-Close": -1.4799800000000687,
         "Open-Open": -6.369995000000017,
         "_deepnote_index_column": 2799
        },
        {
         "Open": 723.710022,
         "High": 729.900024,
         "Low": 714.340027,
         "Close": 717.169983,
         "S_10": 697.9542802857143,
         "Corr": 0.6974374039123211,
         "RSI": 63.00780066075785,
         "Open-Close": 1.4600219999999808,
         "Open-Open": 17.369995000000017,
         "_deepnote_index_column": 2800
        },
        {
         "Open": 705.070007,
         "High": 709.5,
         "Low": 676.400024,
         "Close": 686.169983,
         "S_10": 700.9107055714285,
         "Corr": 0.4861072559241725,
         "RSI": 50.4615322403562,
         "Open-Close": -12.09997599999997,
         "Open-Open": -18.64001499999995,
         "_deepnote_index_column": 2801
        },
        {
         "Open": 672.659973,
         "High": 674.580017,
         "Low": 648.840027,
         "Close": 665.710022,
         "S_10": 702.2485657142857,
         "Corr": -0.013562824837073353,
         "RSI": 44.2051797897489,
         "Open-Close": -13.510009999999966,
         "Open-Open": -32.410033999999996,
         "_deepnote_index_column": 2802
        },
        {
         "Open": 669.75,
         "High": 695.77002,
         "Low": 669.349976,
         "Close": 688.98999,
         "S_10": 703.0799952857143,
         "Corr": -0.2896701958361992,
         "RSI": 51.563751590156315,
         "Open-Close": 4.039978000000019,
         "Open-Open": -2.9099730000000363,
         "_deepnote_index_column": 2803
        },
        {
         "Open": 678.210022,
         "High": 686.549988,
         "Low": 667.590027,
         "Close": 673.469971,
         "S_10": 702.0992780714286,
         "Corr": -0.5604668318164775,
         "RSI": 47.10361235533394,
         "Open-Close": -10.779968000000054,
         "Open-Open": 8.46002199999998,
         "_deepnote_index_column": 2804
        },
        {
         "Open": 682.849976,
         "High": 692.130005,
         "Low": 673.700012,
         "Close": 680.26001,
         "S_10": 699.9985657142857,
         "Corr": -0.6055596403249653,
         "RSI": 49.17492951084698,
         "Open-Close": 9.380004999999983,
         "Open-Open": 4.639953999999989,
         "_deepnote_index_column": 2805
        },
        {
         "Open": 685.440002,
         "High": 712.130005,
         "Low": 680.75,
         "Close": 706.299988,
         "S_10": 699.7528512857143,
         "Corr": -0.577796439635366,
         "RSI": 56.250293110256735,
         "Open-Close": 5.179992000000084,
         "Open-Open": 2.59002600000008,
         "_deepnote_index_column": 2806
        },
        {
         "Open": 710.679993,
         "High": 715.219971,
         "Low": 702.640015,
         "Close": 708.48999,
         "S_10": 699.5792803571429,
         "Corr": -0.5370291541265287,
         "RSI": 56.795037774359514,
         "Open-Close": 4.380004999999983,
         "Open-Open": 25.239990999999918,
         "_deepnote_index_column": 2807
        },
        {
         "Open": 707.030029,
         "High": 716.969971,
         "Low": 704,
         "Close": 711.200012,
         "S_10": 699.3342808571427,
         "Corr": -0.4532149717278813,
         "RSI": 57.50024579640556,
         "Open-Close": -1.4599610000000212,
         "Open-Open": -3.6499639999999545,
         "_deepnote_index_column": 2808
        },
        {
         "Open": 708.309998,
         "High": 715.400024,
         "Low": 697.619995,
         "Close": 701.159973,
         "S_10": 699.4814235,
         "Corr": -0.5590773158645356,
         "RSI": 53.9846330185494,
         "Open-Close": -2.8900140000000647,
         "Open-Open": 1.2799689999999373,
         "_deepnote_index_column": 2809
        },
        {
         "Open": 705,
         "High": 715,
         "Low": 702.099976,
         "Close": 711.919983,
         "S_10": 699.349993,
         "Corr": -0.519385201056764,
         "RSI": 57.01770614140946,
         "Open-Close": 3.8400269999999637,
         "Open-Open": -3.3099979999999505,
         "_deepnote_index_column": 2810
        },
        {
         "Open": 714.719971,
         "High": 731,
         "Low": 712.72998,
         "Close": 730.909973,
         "S_10": 700.8442775000001,
         "Corr": -0.44774806084593005,
         "RSI": 61.80297432023099,
         "Open-Close": 2.799987999999985,
         "Open-Open": 9.719970999999987,
         "_deepnote_index_column": 2811
        },
        {
         "Open": 733,
         "High": 740.390015,
         "Low": 726.440002,
         "Close": 735.719971,
         "S_10": 702.8371320714286,
         "Corr": -0.38220174578147653,
         "RSI": 62.92876736861561,
         "Open-Close": 2.0900269999999637,
         "Open-Open": 18.280029000000013,
         "_deepnote_index_column": 2812
        },
        {
         "Open": 734.080017,
         "High": 741.98999,
         "Low": 731.27002,
         "Close": 734.090027,
         "S_10": 703.6828482857143,
         "Corr": -0.04679790831486538,
         "RSI": 62.25912259579719,
         "Open-Close": -1.6399539999999888,
         "Open-Open": 1.080016999999998,
         "_deepnote_index_column": 2813
        },
        {
         "Open": 734.5,
         "High": 740.969971,
         "Low": 730.539978,
         "Close": 732.390015,
         "S_10": 704.7699934285714,
         "Corr": 0.21979721680592512,
         "RSI": 61.523759032027,
         "Open-Close": 0.40997300000003634,
         "Open-Open": 0.419983000000002,
         "_deepnote_index_column": 2814
        },
        {
         "Open": 732.25,
         "High": 734,
         "Low": 724.200012,
         "Close": 733.570007,
         "S_10": 708.1557094285715,
         "Corr": 0.35975708207810453,
         "RSI": 61.86049224504973,
         "Open-Close": -0.1400149999999485,
         "Open-Open": -2.25,
         "_deepnote_index_column": 2815
        },
        {
         "Open": 740,
         "High": 760.200012,
         "Low": 739.26001,
         "Close": 752.919983,
         "S_10": 714.3849923571428,
         "Corr": 0.6177593552519984,
         "RSI": 66.96601622759978,
         "Open-Close": 6.429992999999968,
         "Open-Open": 7.75,
         "_deepnote_index_column": 2816
        },
        {
         "Open": 761.580017,
         "High": 764.450012,
         "Low": 740.77002,
         "Close": 753.869995,
         "S_10": 719.0192784285713,
         "Corr": 0.7147059150372659,
         "RSI": 67.19818109875806,
         "Open-Close": 8.660033999999996,
         "Open-Open": 21.580016999999998,
         "_deepnote_index_column": 2817
        },
        {
         "Open": 753.409973,
         "High": 762.099976,
         "Low": 751.630005,
         "Close": 754.859985,
         "S_10": 724.832850857143,
         "Corr": 0.8056372250623239,
         "RSI": 67.45487051367213,
         "Open-Close": -0.46002199999998084,
         "Open-Open": -8.170043999999962,
         "_deepnote_index_column": 2818
        },
        {
         "Open": 759.599976,
         "High": 762.609985,
         "Low": 734.52002,
         "Close": 736.27002,
         "S_10": 728.833565857143,
         "Corr": 0.7581075289678136,
         "RSI": 58.2386330876705,
         "Open-Close": 4.739990999999918,
         "Open-Open": 6.190002999999933,
         "_deepnote_index_column": 2819
        },
        {
         "Open": 740.210022,
         "High": 744.780029,
         "Low": 708.849976,
         "Close": 743,
         "S_10": 731.4549952857143,
         "Corr": 0.721347021098471,
         "RSI": 60.35064495229812,
         "Open-Close": 3.940001999999936,
         "Open-Open": -19.38995399999999,
         "_deepnote_index_column": 2820
        },
        {
         "Open": 742.570007,
         "High": 754.469971,
         "Low": 736.400024,
         "Close": 744.48999,
         "S_10": 734.0264238571428,
         "Corr": 0.6906163749714889,
         "RSI": 60.8230414066582,
         "Open-Close": -0.42999299999996765,
         "Open-Open": 2.3599850000000515,
         "_deepnote_index_column": 2821
        },
        {
         "Open": 745,
         "High": 756.859985,
         "Low": 738.359985,
         "Close": 755.830017,
         "S_10": 737.2142813571429,
         "Corr": 0.7033824296468716,
         "RSI": 64.30843268217019,
         "Open-Close": 0.5100099999999657,
         "Open-Open": 2.4299929999999677,
         "_deepnote_index_column": 2822
        },
        {
         "Open": 752.830017,
         "High": 758.909973,
         "Low": 747.609985,
         "Close": 756.98999,
         "S_10": 741.2021397142856,
         "Corr": 0.7353186652221294,
         "RSI": 64.65482593355767,
         "Open-Close": -3,
         "Open-Open": 7.830016999999998,
         "_deepnote_index_column": 2823
        },
        {
         "Open": 757.150024,
         "High": 761.039978,
         "Low": 750,
         "Close": 759.48999,
         "S_10": 744.5999973571428,
         "Corr": 0.7591426025248172,
         "RSI": 65.43346547702656,
         "Open-Close": 0.160033999999996,
         "Open-Open": 4.320007000000032,
         "_deepnote_index_column": 2824
        },
        {
         "Open": 734.559998,
         "High": 742,
         "Low": 718.619995,
         "Close": 730.169983,
         "S_10": 744.5471409285714,
         "Corr": 0.4693973330704426,
         "RSI": 51.190396725674624,
         "Open-Close": -24.929992000000084,
         "Open-Open": -22.59002600000008,
         "_deepnote_index_column": 2825
        },
        {
         "Open": 734.789978,
         "High": 744.73999,
         "Low": 730.440002,
         "Close": 739.380005,
         "S_10": 744.8085719285713,
         "Corr": 0.342285357696609,
         "RSI": 54.53799629297747,
         "Open-Close": 4.619995000000017,
         "Open-Open": 0.22998000000006869,
         "_deepnote_index_column": 2826
        },
        {
         "Open": 743.530029,
         "High": 753.669983,
         "Low": 739.119995,
         "Close": 751.940002,
         "S_10": 746.0835701428572,
         "Corr": 0.2831609469632901,
         "RSI": 58.69816657729173,
         "Open-Close": 4.15002400000003,
         "Open-Open": 8.740050999999994,
         "_deepnote_index_column": 2827
        },
        {
         "Open": 755,
         "High": 758.200012,
         "Low": 747.919983,
         "Close": 753.640015,
         "S_10": 747.6014272857143,
         "Corr": 0.15662705323667242,
         "RSI": 59.24182318841731,
         "Open-Close": 3.0599979999999505,
         "Open-Open": 11.469970999999987,
         "_deepnote_index_column": 2828
        },
        {
         "Open": 745.890015,
         "High": 774.799988,
         "Low": 744.559998,
         "Close": 774.390015,
         "S_10": 750.5171421428571,
         "Corr": 0.1432481305003267,
         "RSI": 65.25375165232677,
         "Open-Close": -7.75,
         "Open-Open": -9.109985000000052,
         "_deepnote_index_column": 2829
        },
        {
         "Open": 773.119995,
         "High": 799,
         "Low": 769.309998,
         "Close": 791.359985,
         "S_10": 753.2628565714285,
         "Corr": 0.4211856484049558,
         "RSI": 69.24869205265996,
         "Open-Close": -1.2700199999999313,
         "Open-Open": 27.22998000000007,
         "_deepnote_index_column": 2830
        },
        {
         "Open": 787.200012,
         "High": 795.640015,
         "Low": 766.179993,
         "Close": 777.559998,
         "S_10": 754.9549996428572,
         "Corr": 0.5961440429167316,
         "RSI": 62.91391436894664,
         "Open-Close": -4.159973000000036,
         "Open-Open": 14.080016999999998,
         "_deepnote_index_column": 2831
        },
        {
         "Open": 779.799988,
         "High": 793.5,
         "Low": 770.679993,
         "Close": 781.309998,
         "S_10": 756.8442862857144,
         "Corr": 0.7492583416104168,
         "RSI": 63.8808435691877,
         "Open-Close": 2.2399900000000343,
         "Open-Open": -7.40002400000003,
         "_deepnote_index_column": 2832
        },
        {
         "Open": 781,
         "High": 789.130005,
         "Low": 775,
         "Close": 775.47998,
         "S_10": 759.6449977142856,
         "Corr": 0.7330064890630112,
         "RSI": 61.20893370033844,
         "Open-Close": -0.3099979999999505,
         "Open-Open": 1.2000120000000152,
         "_deepnote_index_column": 2833
        },
        {
         "Open": 778.400024,
         "High": 780.780029,
         "Low": 763.590027,
         "Close": 775.219971,
         "S_10": 761.9464242142857,
         "Corr": 0.7205089367030589,
         "RSI": 61.086218722550136,
         "Open-Close": 2.9200440000000754,
         "Open-Open": -2.5999759999999696,
         "_deepnote_index_column": 2834
        },
        {
         "Open": 796.5,
         "High": 806.969971,
         "Low": 776.119995,
         "Close": 781.530029,
         "S_10": 764.5921412857143,
         "Corr": 0.7188653515078461,
         "RSI": 63.02369300565517,
         "Open-Close": 21.280029000000013,
         "Open-Open": 18.09997599999997,
         "_deepnote_index_column": 2835
        },
        {
         "Open": 784.799988,
         "High": 797.309998,
         "Low": 774.200012,
         "Close": 780.590027,
         "S_10": 766.3607134285713,
         "Corr": 0.7465869855651673,
         "RSI": 62.5242783181271,
         "Open-Close": 3.2699589999999716,
         "Open-Open": -11.700012000000015,
         "_deepnote_index_column": 2836
        },
        {
         "Open": 776.200012,
         "High": 786.659973,
         "Low": 773.219971,
         "Close": 782.75,
         "S_10": 768.200714142857,
         "Corr": 0.7601839912775811,
         "RSI": 63.24501713969308,
         "Open-Close": -4.3900149999999485,
         "Open-Open": -8.59997599999997,
         "_deepnote_index_column": 2837
        },
        {
         "Open": 785.460022,
         "High": 805,
         "Low": 783.380005,
         "Close": 793.609985,
         "S_10": 770.6378566428572,
         "Corr": 0.7965460560437964,
         "RSI": 66.7114903530925,
         "Open-Close": 2.710021999999981,
         "Open-Open": 9.260009999999966,
         "_deepnote_index_column": 2838
        },
        {
         "Open": 796.210022,
         "High": 796.380005,
         "Low": 780.909973,
         "Close": 785.48999,
         "S_10": 774.5892857142857,
         "Corr": 0.7573328192987018,
         "RSI": 62.00286031657111,
         "Open-Close": 2.6000369999999293,
         "Open-Open": 10.75,
         "_deepnote_index_column": 2839
        },
        {
         "Open": 787.650024,
         "High": 801.23999,
         "Low": 785.5,
         "Close": 791.940002,
         "S_10": 778.3435712142857,
         "Corr": 0.7362540724299902,
         "RSI": 64.16644202898554,
         "Open-Close": 2.160033999999996,
         "Open-Open": -8.55999799999995,
         "_deepnote_index_column": 2840
        },
        {
         "Open": 800.929993,
         "High": 812.320007,
         "Low": 796.570007,
         "Close": 805.719971,
         "S_10": 782.1849975714285,
         "Corr": 0.7589671779832114,
         "RSI": 68.31712346626087,
         "Open-Close": 8.989990999999918,
         "Open-Open": 13.279968999999937,
         "_deepnote_index_column": 2841
        },
        {
         "Open": 810.469971,
         "High": 815.409973,
         "Low": 805.780029,
         "Close": 811.080017,
         "S_10": 786.2878548571429,
         "Corr": 0.7929649648225146,
         "RSI": 69.78328454134154,
         "Open-Close": 4.75,
         "Open-Open": 9.53997800000002,
         "_deepnote_index_column": 2842
        },
        {
         "Open": 815.48999,
         "High": 820.25,
         "Low": 813.349976,
         "Close": 818.320007,
         "S_10": 789.4257114285714,
         "Corr": 0.8333463828120952,
         "RSI": 71.68903439625038,
         "Open-Close": 4.409973000000036,
         "Open-Open": 5.0200190000000475,
         "_deepnote_index_column": 2843
        },
        {
         "Open": 823.73999,
         "High": 843.210022,
         "Low": 822.349976,
         "Close": 843.030029,
         "S_10": 793.1164288571429,
         "Corr": 0.9104244535782887,
         "RSI": 77.01683860227863,
         "Open-Close": 5.419983000000002,
         "Open-Open": 8.25,
         "_deepnote_index_column": 2844
        },
        {
         "Open": 851.789978,
         "High": 875.26001,
         "Low": 851.469971,
         "Close": 870.109985,
         "S_10": 799.7271422142858,
         "Corr": 0.9201113428330218,
         "RSI": 81.1937501735633,
         "Open-Close": 8.759949000000006,
         "Open-Open": 28.049987999999985,
         "_deepnote_index_column": 2845
        },
        {
         "Open": 877.530029,
         "High": 877.950012,
         "Low": 862.51001,
         "Close": 864.27002,
         "S_10": 805.6528580714286,
         "Corr": 0.9544074801215466,
         "RSI": 77.9055308394709,
         "Open-Close": 7.420043999999962,
         "Open-Open": 25.740050999999994,
         "_deepnote_index_column": 2846
        },
        {
         "Open": 865.349976,
         "High": 869.48999,
         "Low": 857.380005,
         "Close": 865.799988,
         "S_10": 812.1042872142856,
         "Corr": 0.9613544520585621,
         "RSI": 78.1551307433695,
         "Open-Close": 1.0799559999999246,
         "Open-Open": -12.180053000000044,
         "_deepnote_index_column": 2847
        },
        {
         "Open": 856,
         "High": 900,
         "Low": 855.5,
         "Close": 894,
         "S_10": 820.588575,
         "Corr": 0.9709337162815345,
         "RSI": 82.1563787248295,
         "Open-Close": -9.799987999999985,
         "Open-Open": -9.34997599999997,
         "_deepnote_index_column": 2848
        },
        {
         "Open": 895.5,
         "High": 910,
         "Low": 890.960022,
         "Close": 909.679993,
         "S_10": 829.7421438571428,
         "Corr": 0.9783170776825545,
         "RSI": 83.92002923315782,
         "Open-Close": 1.5,
         "Open-Open": 39.5,
         "_deepnote_index_column": 2849
        },
        {
         "Open": 950.530029,
         "High": 1045.02002,
         "Low": 944.200012,
         "Close": 1024.859985,
         "S_10": 847.1899980000001,
         "Corr": 0.9623273142417622,
         "RSI": 90.9758879225348,
         "Open-Close": 40.850036000000046,
         "Open-Open": 55.03002900000001,
         "_deepnote_index_column": 2850
        }
       ]
      },
      "text/plain": "            Open         High         Low        Close        S_10      Corr  \\\n26      4.020000     4.032000    3.904000     3.918000    4.135571  0.002894   \n27      3.980000     3.996000    3.890000     3.920000    4.125571 -0.140996   \n28      3.930000     3.930000    3.764000     3.806000    4.108571 -0.286179   \n29      3.738000     3.776000    3.570000     3.580000    4.064286 -0.185847   \n30      3.560000     3.580000    3.478000     3.520000    4.011571  0.101116   \n...          ...          ...         ...          ...         ...       ...   \n2846  877.530029   877.950012  862.510010   864.270020  805.652858  0.954407   \n2847  865.349976   869.489990  857.380005   865.799988  812.104287  0.961354   \n2848  856.000000   900.000000  855.500000   894.000000  820.588575  0.970934   \n2849  895.500000   910.000000  890.960022   909.679993  829.742144  0.978317   \n2850  950.530029  1045.020020  944.200012  1024.859985  847.189998  0.962327   \n\n            RSI  Open-Close  Open-Open  \n26    39.801858   -0.070000  -0.288000  \n27    39.855375    0.062000  -0.040000  \n28    37.792968    0.010000  -0.050000  \n29    34.033064   -0.068000  -0.192000  \n30    33.091795   -0.020000  -0.178000  \n...         ...         ...        ...  \n2846  77.905531    7.420044  25.740051  \n2847  78.155131    1.079956 -12.180053  \n2848  82.156379   -9.799988  -9.349976  \n2849  83.920029    1.500000  39.500000  \n2850  90.975888   40.850036  55.030029  \n\n[2825 rows x 9 columns]",
      "text/html": "<div>\n<style scoped>\n    .dataframe tbody tr th:only-of-type {\n        vertical-align: middle;\n    }\n\n    .dataframe tbody tr th {\n        vertical-align: top;\n    }\n\n    .dataframe thead th {\n        text-align: right;\n    }\n</style>\n<table border=\"1\" class=\"dataframe\">\n  <thead>\n    <tr style=\"text-align: right;\">\n      <th></th>\n      <th>Open</th>\n      <th>High</th>\n      <th>Low</th>\n      <th>Close</th>\n      <th>S_10</th>\n      <th>Corr</th>\n      <th>RSI</th>\n      <th>Open-Close</th>\n      <th>Open-Open</th>\n    </tr>\n  </thead>\n  <tbody>\n    <tr>\n      <th>26</th>\n      <td>4.020000</td>\n      <td>4.032000</td>\n      <td>3.904000</td>\n      <td>3.918000</td>\n      <td>4.135571</td>\n      <td>0.002894</td>\n      <td>39.801858</td>\n      <td>-0.070000</td>\n      <td>-0.288000</td>\n    </tr>\n    <tr>\n      <th>27</th>\n      <td>3.980000</td>\n      <td>3.996000</td>\n      <td>3.890000</td>\n      <td>3.920000</td>\n      <td>4.125571</td>\n      <td>-0.140996</td>\n      <td>39.855375</td>\n      <td>0.062000</td>\n      <td>-0.040000</td>\n    </tr>\n    <tr>\n      <th>28</th>\n      <td>3.930000</td>\n      <td>3.930000</td>\n      <td>3.764000</td>\n      <td>3.806000</td>\n      <td>4.108571</td>\n      <td>-0.286179</td>\n      <td>37.792968</td>\n      <td>0.010000</td>\n      <td>-0.050000</td>\n    </tr>\n    <tr>\n      <th>29</th>\n      <td>3.738000</td>\n      <td>3.776000</td>\n      <td>3.570000</td>\n      <td>3.580000</td>\n      <td>4.064286</td>\n      <td>-0.185847</td>\n      <td>34.033064</td>\n      <td>-0.068000</td>\n      <td>-0.192000</td>\n    </tr>\n    <tr>\n      <th>30</th>\n      <td>3.560000</td>\n      <td>3.580000</td>\n      <td>3.478000</td>\n      <td>3.520000</td>\n      <td>4.011571</td>\n      <td>0.101116</td>\n      <td>33.091795</td>\n      <td>-0.020000</td>\n      <td>-0.178000</td>\n    </tr>\n    <tr>\n      <th>...</th>\n      <td>...</td>\n      <td>...</td>\n      <td>...</td>\n      <td>...</td>\n      <td>...</td>\n      <td>...</td>\n      <td>...</td>\n      <td>...</td>\n      <td>...</td>\n    </tr>\n    <tr>\n      <th>2846</th>\n      <td>877.530029</td>\n      <td>877.950012</td>\n      <td>862.510010</td>\n      <td>864.270020</td>\n      <td>805.652858</td>\n      <td>0.954407</td>\n      <td>77.905531</td>\n      <td>7.420044</td>\n      <td>25.740051</td>\n    </tr>\n    <tr>\n      <th>2847</th>\n      <td>865.349976</td>\n      <td>869.489990</td>\n      <td>857.380005</td>\n      <td>865.799988</td>\n      <td>812.104287</td>\n      <td>0.961354</td>\n      <td>78.155131</td>\n      <td>1.079956</td>\n      <td>-12.180053</td>\n    </tr>\n    <tr>\n      <th>2848</th>\n      <td>856.000000</td>\n      <td>900.000000</td>\n      <td>855.500000</td>\n      <td>894.000000</td>\n      <td>820.588575</td>\n      <td>0.970934</td>\n      <td>82.156379</td>\n      <td>-9.799988</td>\n      <td>-9.349976</td>\n    </tr>\n    <tr>\n      <th>2849</th>\n      <td>895.500000</td>\n      <td>910.000000</td>\n      <td>890.960022</td>\n      <td>909.679993</td>\n      <td>829.742144</td>\n      <td>0.978317</td>\n      <td>83.920029</td>\n      <td>1.500000</td>\n      <td>39.500000</td>\n    </tr>\n    <tr>\n      <th>2850</th>\n      <td>950.530029</td>\n      <td>1045.020020</td>\n      <td>944.200012</td>\n      <td>1024.859985</td>\n      <td>847.189998</td>\n      <td>0.962327</td>\n      <td>90.975888</td>\n      <td>40.850036</td>\n      <td>55.030029</td>\n    </tr>\n  </tbody>\n</table>\n<p>2825 rows × 9 columns</p>\n</div>"
     },
     "metadata": {}
    }
   ]
  },
  {
   "cell_type": "code",
   "metadata": {
    "tags": [],
    "cell_id": "00015-9dab7005-94f4-4572-8656-c1c5aba2f639",
    "deepnote_to_be_reexecuted": false,
    "source_hash": "8920b792",
    "execution_start": 1636756286850,
    "execution_millis": 0,
    "deepnote_cell_type": "code"
   },
   "source": "y = np.where(tsla2['Close'].shift(-1) > tsla2['Close'],1,-1)",
   "execution_count": null,
   "outputs": []
  },
  {
   "cell_type": "code",
   "metadata": {
    "tags": [],
    "cell_id": "00016-a03da9ac-5e52-4aba-8133-dd09879fdcb9",
    "deepnote_to_be_reexecuted": false,
    "source_hash": "e77aa529",
    "execution_start": 1636756291888,
    "execution_millis": 2,
    "deepnote_cell_type": "code"
   },
   "source": "split = int(0.7 * len(tsla2))\nX_train, X_test, y_train, y_test = X[:split], X[split:], y[:split], y[split:]",
   "execution_count": null,
   "outputs": []
  },
  {
   "cell_type": "code",
   "metadata": {
    "tags": [],
    "cell_id": "00017-49fffcff-b93a-4987-b9ac-a268e57dda9d",
    "deepnote_to_be_reexecuted": false,
    "source_hash": "2eaeef42",
    "execution_start": 1636756295867,
    "execution_millis": 189,
    "deepnote_cell_type": "code"
   },
   "source": "model = LogisticRegression()\nmodel = model.fit (X_train, y_train)\npd.DataFrame(zip(X.columns, np.transpose(model.coef_)))",
   "execution_count": null,
   "outputs": [
    {
     "name": "stderr",
     "text": "/shared-libs/python3.7/py/lib/python3.7/site-packages/sklearn/linear_model/_logistic.py:818: ConvergenceWarning: lbfgs failed to converge (status=1):\nSTOP: TOTAL NO. of ITERATIONS REACHED LIMIT.\n\nIncrease the number of iterations (max_iter) or scale the data as shown in:\n    https://scikit-learn.org/stable/modules/preprocessing.html\nPlease also refer to the documentation for alternative solver options:\n    https://scikit-learn.org/stable/modules/linear_model.html#logistic-regression\n  extra_warning_msg=_LOGISTIC_SOLVER_CONVERGENCE_MSG,\n",
     "output_type": "stream"
    },
    {
     "output_type": "execute_result",
     "execution_count": 16,
     "data": {
      "application/vnd.deepnote.dataframe.v2+json": {
       "row_count": 9,
       "column_count": 2,
       "columns": [
        {
         "name": 0,
         "dtype": "object",
         "stats": {
          "unique_count": 9,
          "nan_count": 0,
          "categories": [
           {
            "name": "Open",
            "count": 1
           },
           {
            "name": "High",
            "count": 1
           },
           {
            "name": "7 others",
            "count": 7
           }
          ]
         }
        },
        {
         "name": 1,
         "dtype": "object",
         "stats": {
          "unique_count": 9,
          "nan_count": 0,
          "categories": [
           {
            "name": "[0.30514005]",
            "count": 1
           },
           {
            "name": "[-0.22766111]",
            "count": 1
           },
           {
            "name": "7 others",
            "count": 7
           }
          ]
         }
        },
        {
         "name": "_deepnote_index_column",
         "dtype": "int64"
        }
       ],
       "rows_top": [
        {
         "0": "Open",
         "1": "[0.30514005]",
         "_deepnote_index_column": 0
        },
        {
         "0": "High",
         "1": "[-0.22766111]",
         "_deepnote_index_column": 1
        },
        {
         "0": "Low",
         "1": "[-0.21129735]",
         "_deepnote_index_column": 2
        },
        {
         "0": "Close",
         "1": "[0.14123955]",
         "_deepnote_index_column": 3
        },
        {
         "0": "S_10",
         "1": "[-0.00866068]",
         "_deepnote_index_column": 4
        },
        {
         "0": "Corr",
         "1": "[0.05528842]",
         "_deepnote_index_column": 5
        },
        {
         "0": "RSI",
         "1": "[-0.00461022]",
         "_deepnote_index_column": 6
        },
        {
         "0": "Open-Close",
         "1": "[-0.0564007]",
         "_deepnote_index_column": 7
        },
        {
         "0": "Open-Open",
         "1": "[0.01774774]",
         "_deepnote_index_column": 8
        }
       ],
       "rows_bottom": null
      },
      "text/plain": "            0                         1\n0        Open      [0.3051400527040877]\n1        High    [-0.22766110749130403]\n2         Low    [-0.21129735025758908]\n3       Close     [0.14123954604275532]\n4        S_10   [-0.008660676925999238]\n5        Corr     [0.05528841949341624]\n6         RSI  [-0.0046102195747033505]\n7  Open-Close    [-0.05640070223628233]\n8   Open-Open     [0.01774774367654115]",
      "text/html": "<div>\n<style scoped>\n    .dataframe tbody tr th:only-of-type {\n        vertical-align: middle;\n    }\n\n    .dataframe tbody tr th {\n        vertical-align: top;\n    }\n\n    .dataframe thead th {\n        text-align: right;\n    }\n</style>\n<table border=\"1\" class=\"dataframe\">\n  <thead>\n    <tr style=\"text-align: right;\">\n      <th></th>\n      <th>0</th>\n      <th>1</th>\n    </tr>\n  </thead>\n  <tbody>\n    <tr>\n      <th>0</th>\n      <td>Open</td>\n      <td>[0.3051400527040877]</td>\n    </tr>\n    <tr>\n      <th>1</th>\n      <td>High</td>\n      <td>[-0.22766110749130403]</td>\n    </tr>\n    <tr>\n      <th>2</th>\n      <td>Low</td>\n      <td>[-0.21129735025758908]</td>\n    </tr>\n    <tr>\n      <th>3</th>\n      <td>Close</td>\n      <td>[0.14123954604275532]</td>\n    </tr>\n    <tr>\n      <th>4</th>\n      <td>S_10</td>\n      <td>[-0.008660676925999238]</td>\n    </tr>\n    <tr>\n      <th>5</th>\n      <td>Corr</td>\n      <td>[0.05528841949341624]</td>\n    </tr>\n    <tr>\n      <th>6</th>\n      <td>RSI</td>\n      <td>[-0.0046102195747033505]</td>\n    </tr>\n    <tr>\n      <th>7</th>\n      <td>Open-Close</td>\n      <td>[-0.05640070223628233]</td>\n    </tr>\n    <tr>\n      <th>8</th>\n      <td>Open-Open</td>\n      <td>[0.01774774367654115]</td>\n    </tr>\n  </tbody>\n</table>\n</div>"
     },
     "metadata": {}
    }
   ]
  },
  {
   "cell_type": "code",
   "metadata": {
    "tags": [],
    "cell_id": "00018-77e868a9-0629-4122-9d75-a954dff43669",
    "deepnote_to_be_reexecuted": false,
    "source_hash": "fb897462",
    "execution_start": 1636756299635,
    "execution_millis": 3,
    "deepnote_cell_type": "code"
   },
   "source": "probability = model.predict_proba(X_test)\nprint(probability)",
   "execution_count": null,
   "outputs": [
    {
     "name": "stdout",
     "text": "[[5.50378341e-01 4.49621659e-01]\n [5.47505203e-01 4.52494797e-01]\n [5.84186268e-01 4.15813732e-01]\n ...\n [9.92700854e-01 7.29914557e-03]\n [5.67479222e-01 4.32520778e-01]\n [9.99987972e-01 1.20277246e-05]]\n",
     "output_type": "stream"
    }
   ]
  },
  {
   "cell_type": "code",
   "metadata": {
    "tags": [],
    "cell_id": "00019-88e7420e-6b55-4430-8beb-16555782b23d",
    "deepnote_to_be_reexecuted": false,
    "source_hash": "f6faeb2e",
    "execution_start": 1636756301451,
    "execution_millis": 8,
    "deepnote_cell_type": "code"
   },
   "source": "probability = model.predict_proba(X_test)\nprint(probability)\n\npredicted = model.predict(X_test)",
   "execution_count": null,
   "outputs": [
    {
     "name": "stdout",
     "text": "[[5.50378341e-01 4.49621659e-01]\n [5.47505203e-01 4.52494797e-01]\n [5.84186268e-01 4.15813732e-01]\n ...\n [9.92700854e-01 7.29914557e-03]\n [5.67479222e-01 4.32520778e-01]\n [9.99987972e-01 1.20277246e-05]]\n",
     "output_type": "stream"
    }
   ]
  },
  {
   "cell_type": "code",
   "metadata": {
    "tags": [],
    "cell_id": "00020-2f6aa4b3-9320-408f-9c70-6e10a4925f4c",
    "deepnote_to_be_reexecuted": false,
    "source_hash": "b65bf41f",
    "execution_start": 1636756303141,
    "execution_millis": 20,
    "deepnote_cell_type": "code"
   },
   "source": "print(metrics.confusion_matrix(y_test, predicted))\nprint(metrics.classification_report(y_test, predicted))\nprint(model.score(X_test,y_test))",
   "execution_count": null,
   "outputs": [
    {
     "name": "stdout",
     "text": "[[213 184]\n [237 214]]\n              precision    recall  f1-score   support\n\n          -1       0.47      0.54      0.50       397\n           1       0.54      0.47      0.50       451\n\n    accuracy                           0.50       848\n   macro avg       0.51      0.51      0.50       848\nweighted avg       0.51      0.50      0.50       848\n\n0.5035377358490566\n",
     "output_type": "stream"
    }
   ]
  },
  {
   "cell_type": "code",
   "metadata": {
    "tags": [],
    "cell_id": "00021-c96f9754-908b-4a79-a882-fa0f3d50d341",
    "deepnote_to_be_reexecuted": false,
    "source_hash": "483a455f",
    "execution_start": 1636756305166,
    "execution_millis": 1044,
    "deepnote_cell_type": "code"
   },
   "source": "cross_val = cross_val_score(LogisticRegression(), X, y, scoring='accuracy', cv=10)\nprint(cross_val)\nprint(cross_val.mean())",
   "execution_count": null,
   "outputs": [
    {
     "name": "stderr",
     "text": "/shared-libs/python3.7/py/lib/python3.7/site-packages/sklearn/linear_model/_logistic.py:818: ConvergenceWarning: lbfgs failed to converge (status=1):\nSTOP: TOTAL NO. of ITERATIONS REACHED LIMIT.\n\nIncrease the number of iterations (max_iter) or scale the data as shown in:\n    https://scikit-learn.org/stable/modules/preprocessing.html\nPlease also refer to the documentation for alternative solver options:\n    https://scikit-learn.org/stable/modules/linear_model.html#logistic-regression\n  extra_warning_msg=_LOGISTIC_SOLVER_CONVERGENCE_MSG,\n/shared-libs/python3.7/py/lib/python3.7/site-packages/sklearn/linear_model/_logistic.py:818: ConvergenceWarning: lbfgs failed to converge (status=1):\nSTOP: TOTAL NO. of ITERATIONS REACHED LIMIT.\n\nIncrease the number of iterations (max_iter) or scale the data as shown in:\n    https://scikit-learn.org/stable/modules/preprocessing.html\nPlease also refer to the documentation for alternative solver options:\n    https://scikit-learn.org/stable/modules/linear_model.html#logistic-regression\n  extra_warning_msg=_LOGISTIC_SOLVER_CONVERGENCE_MSG,\n/shared-libs/python3.7/py/lib/python3.7/site-packages/sklearn/linear_model/_logistic.py:818: ConvergenceWarning: lbfgs failed to converge (status=1):\nSTOP: TOTAL NO. of ITERATIONS REACHED LIMIT.\n\nIncrease the number of iterations (max_iter) or scale the data as shown in:\n    https://scikit-learn.org/stable/modules/preprocessing.html\nPlease also refer to the documentation for alternative solver options:\n    https://scikit-learn.org/stable/modules/linear_model.html#logistic-regression\n  extra_warning_msg=_LOGISTIC_SOLVER_CONVERGENCE_MSG,\n/shared-libs/python3.7/py/lib/python3.7/site-packages/sklearn/linear_model/_logistic.py:818: ConvergenceWarning: lbfgs failed to converge (status=1):\nSTOP: TOTAL NO. of ITERATIONS REACHED LIMIT.\n\nIncrease the number of iterations (max_iter) or scale the data as shown in:\n    https://scikit-learn.org/stable/modules/preprocessing.html\nPlease also refer to the documentation for alternative solver options:\n    https://scikit-learn.org/stable/modules/linear_model.html#logistic-regression\n  extra_warning_msg=_LOGISTIC_SOLVER_CONVERGENCE_MSG,\n/shared-libs/python3.7/py/lib/python3.7/site-packages/sklearn/linear_model/_logistic.py:818: ConvergenceWarning: lbfgs failed to converge (status=1):\nSTOP: TOTAL NO. of ITERATIONS REACHED LIMIT.\n\nIncrease the number of iterations (max_iter) or scale the data as shown in:\n    https://scikit-learn.org/stable/modules/preprocessing.html\nPlease also refer to the documentation for alternative solver options:\n    https://scikit-learn.org/stable/modules/linear_model.html#logistic-regression\n  extra_warning_msg=_LOGISTIC_SOLVER_CONVERGENCE_MSG,\n/shared-libs/python3.7/py/lib/python3.7/site-packages/sklearn/linear_model/_logistic.py:818: ConvergenceWarning: lbfgs failed to converge (status=1):\nSTOP: TOTAL NO. of ITERATIONS REACHED LIMIT.\n\nIncrease the number of iterations (max_iter) or scale the data as shown in:\n    https://scikit-learn.org/stable/modules/preprocessing.html\nPlease also refer to the documentation for alternative solver options:\n    https://scikit-learn.org/stable/modules/linear_model.html#logistic-regression\n  extra_warning_msg=_LOGISTIC_SOLVER_CONVERGENCE_MSG,\n[0.51236749 0.51236749 0.49116608 0.51590106 0.5229682  0.5177305\n 0.4751773  0.5212766  0.45035461 0.5177305 ]\n0.5037039821567301\n/shared-libs/python3.7/py/lib/python3.7/site-packages/sklearn/linear_model/_logistic.py:818: ConvergenceWarning: lbfgs failed to converge (status=1):\nSTOP: TOTAL NO. of ITERATIONS REACHED LIMIT.\n\nIncrease the number of iterations (max_iter) or scale the data as shown in:\n    https://scikit-learn.org/stable/modules/preprocessing.html\nPlease also refer to the documentation for alternative solver options:\n    https://scikit-learn.org/stable/modules/linear_model.html#logistic-regression\n  extra_warning_msg=_LOGISTIC_SOLVER_CONVERGENCE_MSG,\n/shared-libs/python3.7/py/lib/python3.7/site-packages/sklearn/linear_model/_logistic.py:818: ConvergenceWarning: lbfgs failed to converge (status=1):\nSTOP: TOTAL NO. of ITERATIONS REACHED LIMIT.\n\nIncrease the number of iterations (max_iter) or scale the data as shown in:\n    https://scikit-learn.org/stable/modules/preprocessing.html\nPlease also refer to the documentation for alternative solver options:\n    https://scikit-learn.org/stable/modules/linear_model.html#logistic-regression\n  extra_warning_msg=_LOGISTIC_SOLVER_CONVERGENCE_MSG,\n",
     "output_type": "stream"
    }
   ]
  },
  {
   "cell_type": "markdown",
   "source": "#### k-Nearest Neigbors",
   "metadata": {
    "tags": [],
    "cell_id": "00013-50d91828-508c-4fef-af6a-befc04215a29",
    "deepnote_cell_type": "markdown"
   }
  },
  {
   "cell_type": "code",
   "metadata": {
    "tags": [],
    "cell_id": "00033-362b3ce2-5056-4184-9571-ea9d24479fdd",
    "deepnote_to_be_reexecuted": false,
    "source_hash": "81f7fc38",
    "execution_start": 1636756309241,
    "execution_millis": 68,
    "deepnote_cell_type": "code"
   },
   "source": "tsla3 = tsla.dropna()\ntsla3",
   "execution_count": null,
   "outputs": [
    {
     "output_type": "execute_result",
     "execution_count": 21,
     "data": {
      "application/vnd.deepnote.dataframe.v2+json": {
       "row_count": 2851,
       "column_count": 7,
       "columns": [
        {
         "name": "Date",
         "dtype": "object",
         "stats": {
          "unique_count": 2851,
          "nan_count": 0,
          "categories": [
           {
            "name": "2010-06-30",
            "count": 1
           },
           {
            "name": "2010-07-01",
            "count": 1
           },
           {
            "name": "2849 others",
            "count": 2849
           }
          ]
         }
        },
        {
         "name": "Open",
         "dtype": "float64",
         "stats": {
          "unique_count": 2562,
          "nan_count": 0,
          "min": "3.228",
          "max": "950.530029",
          "histogram": [
           {
            "bin_start": 3.228,
            "bin_end": 97.9582029,
            "count": 2407
           },
           {
            "bin_start": 97.9582029,
            "bin_end": 192.68840580000003,
            "count": 98
           },
           {
            "bin_start": 192.68840580000003,
            "bin_end": 287.41860870000005,
            "count": 23
           },
           {
            "bin_start": 287.41860870000005,
            "bin_end": 382.14881160000004,
            "count": 31
           },
           {
            "bin_start": 382.14881160000004,
            "bin_end": 476.87901450000004,
            "count": 56
           },
           {
            "bin_start": 476.87901450000004,
            "bin_end": 571.6092174,
            "count": 10
           },
           {
            "bin_start": 571.6092174,
            "bin_end": 666.3394203,
            "count": 77
           },
           {
            "bin_start": 666.3394203,
            "bin_end": 761.0696232,
            "count": 95
           },
           {
            "bin_start": 761.0696232,
            "bin_end": 855.7998261,
            "count": 43
           },
           {
            "bin_start": 855.7998261,
            "bin_end": 950.530029,
            "count": 11
           }
          ]
         }
        },
        {
         "name": "High",
         "dtype": "float64",
         "stats": {
          "unique_count": 2559,
          "nan_count": 0,
          "min": "3.326",
          "max": "1045.02002",
          "histogram": [
           {
            "bin_start": 3.326,
            "bin_end": 107.49540199999998,
            "count": 2416
           },
           {
            "bin_start": 107.49540199999998,
            "bin_end": 211.66480399999998,
            "count": 101
           },
           {
            "bin_start": 211.66480399999998,
            "bin_end": 315.834206,
            "count": 24
           },
           {
            "bin_start": 315.834206,
            "bin_end": 420.003608,
            "count": 30
           },
           {
            "bin_start": 420.003608,
            "bin_end": 524.17301,
            "count": 48
           },
           {
            "bin_start": 524.17301,
            "bin_end": 628.342412,
            "count": 38
           },
           {
            "bin_start": 628.342412,
            "bin_end": 732.511814,
            "count": 110
           },
           {
            "bin_start": 732.511814,
            "bin_end": 836.681216,
            "count": 54
           },
           {
            "bin_start": 836.681216,
            "bin_end": 940.8506179999999,
            "count": 29
           },
           {
            "bin_start": 940.8506179999999,
            "bin_end": 1045.02002,
            "count": 1
           }
          ]
         }
        },
        {
         "name": "Low",
         "dtype": "float64",
         "stats": {
          "unique_count": 2568,
          "nan_count": 0,
          "min": "2.996",
          "max": "944.200012",
          "histogram": [
           {
            "bin_start": 2.996,
            "bin_end": 97.1164012,
            "count": 2410
           },
           {
            "bin_start": 97.1164012,
            "bin_end": 191.23680240000002,
            "count": 99
           },
           {
            "bin_start": 191.23680240000002,
            "bin_end": 285.3572036,
            "count": 22
           },
           {
            "bin_start": 285.3572036,
            "bin_end": 379.4776048,
            "count": 32
           },
           {
            "bin_start": 379.4776048,
            "bin_end": 473.598006,
            "count": 54
           },
           {
            "bin_start": 473.598006,
            "bin_end": 567.7184072,
            "count": 14
           },
           {
            "bin_start": 567.7184072,
            "bin_end": 661.8388084,
            "count": 84
           },
           {
            "bin_start": 661.8388084,
            "bin_end": 755.9592096,
            "count": 85
           },
           {
            "bin_start": 755.9592096,
            "bin_end": 850.0796108000001,
            "count": 41
           },
           {
            "bin_start": 850.0796108000001,
            "bin_end": 944.200012,
            "count": 10
           }
          ]
         }
        },
        {
         "name": "Close",
         "dtype": "float64",
         "stats": {
          "unique_count": 2660,
          "nan_count": 0,
          "min": "3.16",
          "max": "1024.859985",
          "histogram": [
           {
            "bin_start": 3.16,
            "bin_end": 105.3299985,
            "count": 2418
           },
           {
            "bin_start": 105.3299985,
            "bin_end": 207.499997,
            "count": 99
           },
           {
            "bin_start": 207.499997,
            "bin_end": 309.6699955,
            "count": 27
           },
           {
            "bin_start": 309.6699955,
            "bin_end": 411.83999400000005,
            "count": 29
           },
           {
            "bin_start": 411.83999400000005,
            "bin_end": 514.0099925000001,
            "count": 46
           },
           {
            "bin_start": 514.0099925000001,
            "bin_end": 616.179991,
            "count": 34
           },
           {
            "bin_start": 616.179991,
            "bin_end": 718.3499895,
            "count": 113
           },
           {
            "bin_start": 718.3499895,
            "bin_end": 820.519988,
            "count": 58
           },
           {
            "bin_start": 820.519988,
            "bin_end": 922.6899865,
            "count": 26
           },
           {
            "bin_start": 922.6899865,
            "bin_end": 1024.859985,
            "count": 1
           }
          ]
         }
        },
        {
         "name": "Adj Close",
         "dtype": "float64",
         "stats": {
          "unique_count": 2660,
          "nan_count": 0,
          "min": "3.16",
          "max": "1024.859985",
          "histogram": [
           {
            "bin_start": 3.16,
            "bin_end": 105.3299985,
            "count": 2418
           },
           {
            "bin_start": 105.3299985,
            "bin_end": 207.499997,
            "count": 99
           },
           {
            "bin_start": 207.499997,
            "bin_end": 309.6699955,
            "count": 27
           },
           {
            "bin_start": 309.6699955,
            "bin_end": 411.83999400000005,
            "count": 29
           },
           {
            "bin_start": 411.83999400000005,
            "bin_end": 514.0099925000001,
            "count": 46
           },
           {
            "bin_start": 514.0099925000001,
            "bin_end": 616.179991,
            "count": 34
           },
           {
            "bin_start": 616.179991,
            "bin_end": 718.3499895,
            "count": 113
           },
           {
            "bin_start": 718.3499895,
            "bin_end": 820.519988,
            "count": 58
           },
           {
            "bin_start": 820.519988,
            "bin_end": 922.6899865,
            "count": 26
           },
           {
            "bin_start": 922.6899865,
            "bin_end": 1024.859985,
            "count": 1
           }
          ]
         }
        },
        {
         "name": "Volume",
         "dtype": "int64",
         "stats": {
          "unique_count": 2821,
          "nan_count": 0,
          "min": "592500",
          "max": "304694000",
          "histogram": [
           {
            "bin_start": 592500,
            "bin_end": 31002650,
            "count": 1764
           },
           {
            "bin_start": 31002650,
            "bin_end": 61412800,
            "count": 758
           },
           {
            "bin_start": 61412800,
            "bin_end": 91822950,
            "count": 201
           },
           {
            "bin_start": 91822950,
            "bin_end": 122233100,
            "count": 88
           },
           {
            "bin_start": 122233100,
            "bin_end": 152643250,
            "count": 24
           },
           {
            "bin_start": 152643250,
            "bin_end": 183053400,
            "count": 9
           },
           {
            "bin_start": 183053400,
            "bin_end": 213463550,
            "count": 3
           },
           {
            "bin_start": 213463550,
            "bin_end": 243873700,
            "count": 3
           },
           {
            "bin_start": 243873700,
            "bin_end": 274283850,
            "count": 0
           },
           {
            "bin_start": 274283850,
            "bin_end": 304694000,
            "count": 1
           }
          ]
         }
        },
        {
         "name": "_deepnote_index_column",
         "dtype": "int64"
        }
       ],
       "rows_top": [
        {
         "Date": "2010-06-30",
         "Open": 5.158,
         "High": 6.084,
         "Low": 4.66,
         "Close": 4.766,
         "Adj Close": 4.766,
         "Volume": 85935500,
         "_deepnote_index_column": 0
        },
        {
         "Date": "2010-07-01",
         "Open": 5,
         "High": 5.184,
         "Low": 4.054,
         "Close": 4.392,
         "Adj Close": 4.392,
         "Volume": 41094000,
         "_deepnote_index_column": 1
        },
        {
         "Date": "2010-07-02",
         "Open": 4.6,
         "High": 4.62,
         "Low": 3.742,
         "Close": 3.84,
         "Adj Close": 3.84,
         "Volume": 25699000,
         "_deepnote_index_column": 2
        },
        {
         "Date": "2010-07-06",
         "Open": 4,
         "High": 4,
         "Low": 3.166,
         "Close": 3.222,
         "Adj Close": 3.222,
         "Volume": 34334500,
         "_deepnote_index_column": 3
        },
        {
         "Date": "2010-07-07",
         "Open": 3.28,
         "High": 3.326,
         "Low": 2.996,
         "Close": 3.16,
         "Adj Close": 3.16,
         "Volume": 34608500,
         "_deepnote_index_column": 4
        },
        {
         "Date": "2010-07-08",
         "Open": 3.228,
         "High": 3.504,
         "Low": 3.114,
         "Close": 3.492,
         "Adj Close": 3.492,
         "Volume": 38557000,
         "_deepnote_index_column": 5
        },
        {
         "Date": "2010-07-09",
         "Open": 3.516,
         "High": 3.58,
         "Low": 3.31,
         "Close": 3.48,
         "Adj Close": 3.48,
         "Volume": 20253000,
         "_deepnote_index_column": 6
        },
        {
         "Date": "2010-07-12",
         "Open": 3.59,
         "High": 3.614,
         "Low": 3.4,
         "Close": 3.41,
         "Adj Close": 3.41,
         "Volume": 11012500,
         "_deepnote_index_column": 7
        },
        {
         "Date": "2010-07-13",
         "Open": 3.478,
         "High": 3.728,
         "Low": 3.38,
         "Close": 3.628,
         "Adj Close": 3.628,
         "Volume": 13400500,
         "_deepnote_index_column": 8
        },
        {
         "Date": "2010-07-14",
         "Open": 3.588,
         "High": 4.03,
         "Low": 3.552,
         "Close": 3.968,
         "Adj Close": 3.968,
         "Volume": 20976000,
         "_deepnote_index_column": 9
        },
        {
         "Date": "2010-07-15",
         "Open": 3.988,
         "High": 4.3,
         "Low": 3.8,
         "Close": 3.978,
         "Adj Close": 3.978,
         "Volume": 18699000,
         "_deepnote_index_column": 10
        },
        {
         "Date": "2010-07-16",
         "Open": 4.14,
         "High": 4.26,
         "Low": 4.01,
         "Close": 4.128,
         "Adj Close": 4.128,
         "Volume": 13106500,
         "_deepnote_index_column": 11
        },
        {
         "Date": "2010-07-19",
         "Open": 4.274,
         "High": 4.45,
         "Low": 4.184,
         "Close": 4.382,
         "Adj Close": 4.382,
         "Volume": 12432500,
         "_deepnote_index_column": 12
        },
        {
         "Date": "2010-07-20",
         "Open": 4.37,
         "High": 4.37,
         "Low": 4.01,
         "Close": 4.06,
         "Adj Close": 4.06,
         "Volume": 9126500,
         "_deepnote_index_column": 13
        },
        {
         "Date": "2010-07-21",
         "Open": 4.132,
         "High": 4.18,
         "Low": 3.9,
         "Close": 4.044,
         "Adj Close": 4.044,
         "Volume": 6262500,
         "_deepnote_index_column": 14
        },
        {
         "Date": "2010-07-22",
         "Open": 4.1,
         "High": 4.25,
         "Low": 4.074,
         "Close": 4.2,
         "Adj Close": 4.2,
         "Volume": 4789000,
         "_deepnote_index_column": 15
        },
        {
         "Date": "2010-07-23",
         "Open": 4.238,
         "High": 4.312,
         "Low": 4.212,
         "Close": 4.258,
         "Adj Close": 4.258,
         "Volume": 3268000,
         "_deepnote_index_column": 16
        },
        {
         "Date": "2010-07-26",
         "Open": 4.3,
         "High": 4.3,
         "Low": 4.06,
         "Close": 4.19,
         "Adj Close": 4.19,
         "Volume": 4611000,
         "_deepnote_index_column": 17
        },
        {
         "Date": "2010-07-27",
         "Open": 4.182,
         "High": 4.236,
         "Low": 4.052,
         "Close": 4.11,
         "Adj Close": 4.11,
         "Volume": 3098500,
         "_deepnote_index_column": 18
        },
        {
         "Date": "2010-07-28",
         "Open": 4.11,
         "High": 4.18,
         "Low": 4.102,
         "Close": 4.144,
         "Adj Close": 4.144,
         "Volume": 2336000,
         "_deepnote_index_column": 19
        },
        {
         "Date": "2010-07-29",
         "Open": 4.154,
         "High": 4.176,
         "Low": 4,
         "Close": 4.07,
         "Adj Close": 4.07,
         "Volume": 3080000,
         "_deepnote_index_column": 20
        },
        {
         "Date": "2010-07-30",
         "Open": 4.04,
         "High": 4.088,
         "Low": 3.91,
         "Close": 3.988,
         "Adj Close": 3.988,
         "Volume": 2134500,
         "_deepnote_index_column": 21
        },
        {
         "Date": "2010-08-02",
         "Open": 4.1,
         "High": 4.194,
         "Low": 4.066,
         "Close": 4.184,
         "Adj Close": 4.184,
         "Volume": 3590500,
         "_deepnote_index_column": 22
        },
        {
         "Date": "2010-08-03",
         "Open": 4.2,
         "High": 4.39,
         "Low": 4.164,
         "Close": 4.39,
         "Adj Close": 4.39,
         "Volume": 6152500,
         "_deepnote_index_column": 23
        },
        {
         "Date": "2010-08-04",
         "Open": 4.39,
         "High": 4.436,
         "Low": 4.17,
         "Close": 4.252,
         "Adj Close": 4.252,
         "Volume": 4565000,
         "_deepnote_index_column": 24
        },
        {
         "Date": "2010-08-05",
         "Open": 4.308,
         "High": 4.31,
         "Low": 4.01,
         "Close": 4.09,
         "Adj Close": 4.09,
         "Volume": 3981000,
         "_deepnote_index_column": 25
        },
        {
         "Date": "2010-08-06",
         "Open": 4.02,
         "High": 4.032,
         "Low": 3.904,
         "Close": 3.918,
         "Adj Close": 3.918,
         "Volume": 3709500,
         "_deepnote_index_column": 26
        },
        {
         "Date": "2010-08-09",
         "Open": 3.98,
         "High": 3.996,
         "Low": 3.89,
         "Close": 3.92,
         "Adj Close": 3.92,
         "Volume": 4063500,
         "_deepnote_index_column": 27
        },
        {
         "Date": "2010-08-10",
         "Open": 3.93,
         "High": 3.93,
         "Low": 3.764,
         "Close": 3.806,
         "Adj Close": 3.806,
         "Volume": 6406500,
         "_deepnote_index_column": 28
        },
        {
         "Date": "2010-08-11",
         "Open": 3.738,
         "High": 3.776,
         "Low": 3.57,
         "Close": 3.58,
         "Adj Close": 3.58,
         "Volume": 3988000,
         "_deepnote_index_column": 29
        },
        {
         "Date": "2010-08-12",
         "Open": 3.56,
         "High": 3.58,
         "Low": 3.478,
         "Close": 3.52,
         "Adj Close": 3.52,
         "Volume": 3455000,
         "_deepnote_index_column": 30
        },
        {
         "Date": "2010-08-13",
         "Open": 3.636,
         "High": 3.69,
         "Low": 3.532,
         "Close": 3.664,
         "Adj Close": 3.664,
         "Volume": 3170000,
         "_deepnote_index_column": 31
        },
        {
         "Date": "2010-08-16",
         "Open": 3.69,
         "High": 3.76,
         "Low": 3.652,
         "Close": 3.756,
         "Adj Close": 3.756,
         "Volume": 2429000,
         "_deepnote_index_column": 32
        },
        {
         "Date": "2010-08-17",
         "Open": 3.792,
         "High": 3.88,
         "Low": 3.756,
         "Close": 3.83,
         "Adj Close": 3.83,
         "Volume": 2239500,
         "_deepnote_index_column": 33
        },
        {
         "Date": "2010-08-18",
         "Open": 3.918,
         "High": 3.918,
         "Low": 3.72,
         "Close": 3.754,
         "Adj Close": 3.754,
         "Volume": 3006500,
         "_deepnote_index_column": 34
        },
        {
         "Date": "2010-08-19",
         "Open": 3.708,
         "High": 3.85,
         "Low": 3.666,
         "Close": 3.758,
         "Adj Close": 3.758,
         "Volume": 2895500,
         "_deepnote_index_column": 35
        },
        {
         "Date": "2010-08-20",
         "Open": 3.73,
         "High": 3.822,
         "Low": 3.702,
         "Close": 3.82,
         "Adj Close": 3.82,
         "Volume": 1480000,
         "_deepnote_index_column": 36
        },
        {
         "Date": "2010-08-23",
         "Open": 3.818,
         "High": 4.078,
         "Low": 3.8,
         "Close": 4.026,
         "Adj Close": 4.026,
         "Volume": 5440500,
         "_deepnote_index_column": 37
        },
        {
         "Date": "2010-08-24",
         "Open": 3.85,
         "High": 3.942,
         "Low": 3.79,
         "Close": 3.84,
         "Adj Close": 3.84,
         "Volume": 3365500,
         "_deepnote_index_column": 38
        },
        {
         "Date": "2010-08-25",
         "Open": 3.832,
         "High": 3.996,
         "Low": 3.712,
         "Close": 3.98,
         "Adj Close": 3.98,
         "Volume": 2516500,
         "_deepnote_index_column": 39
        },
        {
         "Date": "2010-08-26",
         "Open": 3.978,
         "High": 4.054,
         "Low": 3.92,
         "Close": 3.95,
         "Adj Close": 3.95,
         "Volume": 2169000,
         "_deepnote_index_column": 40
        },
        {
         "Date": "2010-08-27",
         "Open": 3.95,
         "High": 3.974,
         "Low": 3.9,
         "Close": 3.94,
         "Adj Close": 3.94,
         "Volume": 1898000,
         "_deepnote_index_column": 41
        },
        {
         "Date": "2010-08-30",
         "Open": 3.94,
         "High": 4.038,
         "Low": 3.922,
         "Close": 3.974,
         "Adj Close": 3.974,
         "Volume": 3664000,
         "_deepnote_index_column": 42
        },
        {
         "Date": "2010-08-31",
         "Open": 3.932,
         "High": 3.958,
         "Low": 3.866,
         "Close": 3.896,
         "Adj Close": 3.896,
         "Volume": 1005500,
         "_deepnote_index_column": 43
        },
        {
         "Date": "2010-09-01",
         "Open": 3.924,
         "High": 4.138,
         "Low": 3.92,
         "Close": 4.09,
         "Adj Close": 4.09,
         "Volume": 2474500,
         "_deepnote_index_column": 44
        },
        {
         "Date": "2010-09-02",
         "Open": 4.074,
         "High": 4.248,
         "Low": 4.062,
         "Close": 4.212,
         "Adj Close": 4.212,
         "Volume": 2435500,
         "_deepnote_index_column": 45
        },
        {
         "Date": "2010-09-03",
         "Open": 4.174,
         "High": 4.26,
         "Low": 4.132,
         "Close": 4.21,
         "Adj Close": 4.21,
         "Volume": 2173000,
         "_deepnote_index_column": 46
        },
        {
         "Date": "2010-09-07",
         "Open": 4.122,
         "High": 4.2,
         "Low": 4.1,
         "Close": 4.108,
         "Adj Close": 4.108,
         "Volume": 1217000,
         "_deepnote_index_column": 47
        },
        {
         "Date": "2010-09-08",
         "Open": 4.132,
         "High": 4.19,
         "Low": 4.12,
         "Close": 4.18,
         "Adj Close": 4.18,
         "Volume": 1442000,
         "_deepnote_index_column": 48
        },
        {
         "Date": "2010-09-09",
         "Open": 4.2,
         "High": 4.21,
         "Low": 4.138,
         "Close": 4.142,
         "Adj Close": 4.142,
         "Volume": 1881000,
         "_deepnote_index_column": 49
        },
        {
         "Date": "2010-09-10",
         "Open": 4.15,
         "High": 4.186,
         "Low": 3.952,
         "Close": 4.034,
         "Adj Close": 4.034,
         "Volume": 1933000,
         "_deepnote_index_column": 50
        },
        {
         "Date": "2010-09-13",
         "Open": 4.178,
         "High": 4.18,
         "Low": 4.1,
         "Close": 4.144,
         "Adj Close": 4.144,
         "Volume": 1804000,
         "_deepnote_index_column": 51
        },
        {
         "Date": "2010-09-14",
         "Open": 4.108,
         "High": 4.32,
         "Low": 4.106,
         "Close": 4.224,
         "Adj Close": 4.224,
         "Volume": 3273500,
         "_deepnote_index_column": 52
        },
        {
         "Date": "2010-09-15",
         "Open": 4.196,
         "High": 4.4,
         "Low": 4.158,
         "Close": 4.396,
         "Adj Close": 4.396,
         "Volume": 3423000,
         "_deepnote_index_column": 53
        },
        {
         "Date": "2010-09-16",
         "Open": 4.43,
         "High": 4.632,
         "Low": 4.168,
         "Close": 4.188,
         "Adj Close": 4.188,
         "Volume": 13422500,
         "_deepnote_index_column": 54
        },
        {
         "Date": "2010-09-17",
         "Open": 4.204,
         "High": 4.264,
         "Low": 3.96,
         "Close": 4.046,
         "Adj Close": 4.046,
         "Volume": 5992500,
         "_deepnote_index_column": 55
        },
        {
         "Date": "2010-09-20",
         "Open": 4.134,
         "High": 4.27,
         "Low": 4.032,
         "Close": 4.212,
         "Adj Close": 4.212,
         "Volume": 4737500,
         "_deepnote_index_column": 56
        },
        {
         "Date": "2010-09-21",
         "Open": 4.178,
         "High": 4.31,
         "Low": 4.134,
         "Close": 4.154,
         "Adj Close": 4.154,
         "Volume": 3980000,
         "_deepnote_index_column": 57
        },
        {
         "Date": "2010-09-22",
         "Open": 4.174,
         "High": 4.19,
         "Low": 3.96,
         "Close": 3.974,
         "Adj Close": 3.974,
         "Volume": 4814500,
         "_deepnote_index_column": 58
        },
        {
         "Date": "2010-09-23",
         "Open": 3.978,
         "High": 4.028,
         "Low": 3.9,
         "Close": 3.912,
         "Adj Close": 3.912,
         "Volume": 3340500,
         "_deepnote_index_column": 59
        },
        {
         "Date": "2010-09-24",
         "Open": 3.99,
         "High": 4.038,
         "Low": 3.93,
         "Close": 4.02,
         "Adj Close": 4.02,
         "Volume": 2894500,
         "_deepnote_index_column": 60
        },
        {
         "Date": "2010-09-27",
         "Open": 4.08,
         "High": 4.162,
         "Low": 4.01,
         "Close": 4.106,
         "Adj Close": 4.106,
         "Volume": 2093000,
         "_deepnote_index_column": 61
        },
        {
         "Date": "2010-09-28",
         "Open": 4.208,
         "High": 4.298,
         "Low": 4.152,
         "Close": 4.28,
         "Adj Close": 4.28,
         "Volume": 6072500,
         "_deepnote_index_column": 62
        },
        {
         "Date": "2010-09-29",
         "Open": 4.238,
         "High": 4.406,
         "Low": 4.226,
         "Close": 4.396,
         "Adj Close": 4.396,
         "Volume": 9846500,
         "_deepnote_index_column": 63
        },
        {
         "Date": "2010-09-30",
         "Open": 4.4,
         "High": 4.43,
         "Low": 4.038,
         "Close": 4.082,
         "Adj Close": 4.082,
         "Volume": 10979000,
         "_deepnote_index_column": 64
        },
        {
         "Date": "2010-10-01",
         "Open": 4.138,
         "High": 4.15,
         "Low": 4.062,
         "Close": 4.12,
         "Adj Close": 4.12,
         "Volume": 2988500,
         "_deepnote_index_column": 65
        },
        {
         "Date": "2010-10-04",
         "Open": 4.086,
         "High": 4.234,
         "Low": 4.06,
         "Close": 4.198,
         "Adj Close": 4.198,
         "Volume": 3218000,
         "_deepnote_index_column": 66
        },
        {
         "Date": "2010-10-05",
         "Open": 4.23,
         "High": 4.256,
         "Low": 4.202,
         "Close": 4.224,
         "Adj Close": 4.224,
         "Volume": 1660000,
         "_deepnote_index_column": 67
        },
        {
         "Date": "2010-10-06",
         "Open": 4.212,
         "High": 4.252,
         "Low": 4.064,
         "Close": 4.092,
         "Adj Close": 4.092,
         "Volume": 1567000,
         "_deepnote_index_column": 68
        },
        {
         "Date": "2010-10-07",
         "Open": 4.114,
         "High": 4.128,
         "Low": 4.068,
         "Close": 4.086,
         "Adj Close": 4.086,
         "Volume": 705000,
         "_deepnote_index_column": 69
        },
        {
         "Date": "2010-10-08",
         "Open": 4.086,
         "High": 4.158,
         "Low": 4.078,
         "Close": 4.086,
         "Adj Close": 4.086,
         "Volume": 1339000,
         "_deepnote_index_column": 70
        }
       ],
       "rows_bottom": [
        {
         "Date": "2021-07-16",
         "Open": 654.679993,
         "High": 656.700012,
         "Low": 642.200012,
         "Close": 644.219971,
         "Adj Close": 644.219971,
         "Volume": 16371000,
         "_deepnote_index_column": 2780
        },
        {
         "Date": "2021-07-19",
         "Open": 629.890015,
         "High": 647.200012,
         "Low": 621.289978,
         "Close": 646.219971,
         "Adj Close": 646.219971,
         "Volume": 21297100,
         "_deepnote_index_column": 2781
        },
        {
         "Date": "2021-07-20",
         "Open": 651.98999,
         "High": 662.390015,
         "Low": 640.5,
         "Close": 660.5,
         "Adj Close": 660.5,
         "Volume": 15487100,
         "_deepnote_index_column": 2782
        },
        {
         "Date": "2021-07-21",
         "Open": 659.609985,
         "High": 664.859985,
         "Low": 650.289978,
         "Close": 655.289978,
         "Adj Close": 655.289978,
         "Volume": 13953300,
         "_deepnote_index_column": 2783
        },
        {
         "Date": "2021-07-22",
         "Open": 656.440002,
         "High": 662.169983,
         "Low": 644.599976,
         "Close": 649.26001,
         "Adj Close": 649.26001,
         "Volume": 15105700,
         "_deepnote_index_column": 2784
        },
        {
         "Date": "2021-07-23",
         "Open": 646.359985,
         "High": 648.799988,
         "Low": 637.299988,
         "Close": 643.380005,
         "Adj Close": 643.380005,
         "Volume": 14604900,
         "_deepnote_index_column": 2785
        },
        {
         "Date": "2021-07-26",
         "Open": 650.969971,
         "High": 668.200012,
         "Low": 647.109985,
         "Close": 657.619995,
         "Adj Close": 657.619995,
         "Volume": 25336600,
         "_deepnote_index_column": 2786
        },
        {
         "Date": "2021-07-27",
         "Open": 663.400024,
         "High": 666.5,
         "Low": 627.23999,
         "Close": 644.780029,
         "Adj Close": 644.780029,
         "Volume": 32813300,
         "_deepnote_index_column": 2787
        },
        {
         "Date": "2021-07-28",
         "Open": 647,
         "High": 654.969971,
         "Low": 639.400024,
         "Close": 646.97998,
         "Adj Close": 646.97998,
         "Volume": 16006600,
         "_deepnote_index_column": 2788
        },
        {
         "Date": "2021-07-29",
         "Open": 649.789978,
         "High": 683.690002,
         "Low": 648.799988,
         "Close": 677.349976,
         "Adj Close": 677.349976,
         "Volume": 30394600,
         "_deepnote_index_column": 2789
        },
        {
         "Date": "2021-07-30",
         "Open": 671.76001,
         "High": 697.530029,
         "Low": 669,
         "Close": 687.200012,
         "Adj Close": 687.200012,
         "Volume": 29600500,
         "_deepnote_index_column": 2790
        },
        {
         "Date": "2021-08-02",
         "Open": 700,
         "High": 726.940002,
         "Low": 698.400024,
         "Close": 709.669983,
         "Adj Close": 709.669983,
         "Volume": 33615800,
         "_deepnote_index_column": 2791
        },
        {
         "Date": "2021-08-03",
         "Open": 719,
         "High": 722.650024,
         "Low": 701.01001,
         "Close": 709.73999,
         "Adj Close": 709.73999,
         "Volume": 21620300,
         "_deepnote_index_column": 2792
        },
        {
         "Date": "2021-08-04",
         "Open": 711,
         "High": 724.900024,
         "Low": 708.929993,
         "Close": 710.919983,
         "Adj Close": 710.919983,
         "Volume": 17002600,
         "_deepnote_index_column": 2793
        },
        {
         "Date": "2021-08-05",
         "Open": 716,
         "High": 720.950012,
         "Low": 711.409973,
         "Close": 714.630005,
         "Adj Close": 714.630005,
         "Volume": 12919600,
         "_deepnote_index_column": 2794
        },
        {
         "Date": "2021-08-06",
         "Open": 711.900024,
         "High": 716.330017,
         "Low": 697.630005,
         "Close": 699.099976,
         "Adj Close": 699.099976,
         "Volume": 15576200,
         "_deepnote_index_column": 2795
        },
        {
         "Date": "2021-08-09",
         "Open": 710.169983,
         "High": 719.030029,
         "Low": 705.130005,
         "Close": 713.76001,
         "Adj Close": 713.76001,
         "Volume": 14715300,
         "_deepnote_index_column": 2796
        },
        {
         "Date": "2021-08-10",
         "Open": 713.98999,
         "High": 716.590027,
         "Low": 701.880005,
         "Close": 709.98999,
         "Adj Close": 709.98999,
         "Volume": 13432300,
         "_deepnote_index_column": 2797
        },
        {
         "Date": "2021-08-11",
         "Open": 712.710022,
         "High": 715.179993,
         "Low": 704.210022,
         "Close": 707.820007,
         "Adj Close": 707.820007,
         "Volume": 9800600,
         "_deepnote_index_column": 2798
        },
        {
         "Date": "2021-08-12",
         "Open": 706.340027,
         "High": 722.799988,
         "Low": 699.400024,
         "Close": 722.25,
         "Adj Close": 722.25,
         "Volume": 17459100,
         "_deepnote_index_column": 2799
        },
        {
         "Date": "2021-08-13",
         "Open": 723.710022,
         "High": 729.900024,
         "Low": 714.340027,
         "Close": 717.169983,
         "Adj Close": 717.169983,
         "Volume": 16698900,
         "_deepnote_index_column": 2800
        },
        {
         "Date": "2021-08-16",
         "Open": 705.070007,
         "High": 709.5,
         "Low": 676.400024,
         "Close": 686.169983,
         "Adj Close": 686.169983,
         "Volume": 22677400,
         "_deepnote_index_column": 2801
        },
        {
         "Date": "2021-08-17",
         "Open": 672.659973,
         "High": 674.580017,
         "Low": 648.840027,
         "Close": 665.710022,
         "Adj Close": 665.710022,
         "Volume": 23721300,
         "_deepnote_index_column": 2802
        },
        {
         "Date": "2021-08-18",
         "Open": 669.75,
         "High": 695.77002,
         "Low": 669.349976,
         "Close": 688.98999,
         "Adj Close": 688.98999,
         "Volume": 20349400,
         "_deepnote_index_column": 2803
        },
        {
         "Date": "2021-08-19",
         "Open": 678.210022,
         "High": 686.549988,
         "Low": 667.590027,
         "Close": 673.469971,
         "Adj Close": 673.469971,
         "Volume": 14313500,
         "_deepnote_index_column": 2804
        },
        {
         "Date": "2021-08-20",
         "Open": 682.849976,
         "High": 692.130005,
         "Low": 673.700012,
         "Close": 680.26001,
         "Adj Close": 680.26001,
         "Volume": 14781800,
         "_deepnote_index_column": 2805
        },
        {
         "Date": "2021-08-23",
         "Open": 685.440002,
         "High": 712.130005,
         "Low": 680.75,
         "Close": 706.299988,
         "Adj Close": 706.299988,
         "Volume": 20264900,
         "_deepnote_index_column": 2806
        },
        {
         "Date": "2021-08-24",
         "Open": 710.679993,
         "High": 715.219971,
         "Low": 702.640015,
         "Close": 708.48999,
         "Adj Close": 708.48999,
         "Volume": 13083100,
         "_deepnote_index_column": 2807
        },
        {
         "Date": "2021-08-25",
         "Open": 707.030029,
         "High": 716.969971,
         "Low": 704,
         "Close": 711.200012,
         "Adj Close": 711.200012,
         "Volume": 12645600,
         "_deepnote_index_column": 2808
        },
        {
         "Date": "2021-08-26",
         "Open": 708.309998,
         "High": 715.400024,
         "Low": 697.619995,
         "Close": 701.159973,
         "Adj Close": 701.159973,
         "Volume": 13214300,
         "_deepnote_index_column": 2809
        },
        {
         "Date": "2021-08-27",
         "Open": 705,
         "High": 715,
         "Low": 702.099976,
         "Close": 711.919983,
         "Adj Close": 711.919983,
         "Volume": 13762100,
         "_deepnote_index_column": 2810
        },
        {
         "Date": "2021-08-30",
         "Open": 714.719971,
         "High": 731,
         "Low": 712.72998,
         "Close": 730.909973,
         "Adj Close": 730.909973,
         "Volume": 18604200,
         "_deepnote_index_column": 2811
        },
        {
         "Date": "2021-08-31",
         "Open": 733,
         "High": 740.390015,
         "Low": 726.440002,
         "Close": 735.719971,
         "Adj Close": 735.719971,
         "Volume": 20855400,
         "_deepnote_index_column": 2812
        },
        {
         "Date": "2021-09-01",
         "Open": 734.080017,
         "High": 741.98999,
         "Low": 731.27002,
         "Close": 734.090027,
         "Adj Close": 734.090027,
         "Volume": 13204300,
         "_deepnote_index_column": 2813
        },
        {
         "Date": "2021-09-02",
         "Open": 734.5,
         "High": 740.969971,
         "Low": 730.539978,
         "Close": 732.390015,
         "Adj Close": 732.390015,
         "Volume": 12777300,
         "_deepnote_index_column": 2814
        },
        {
         "Date": "2021-09-03",
         "Open": 732.25,
         "High": 734,
         "Low": 724.200012,
         "Close": 733.570007,
         "Adj Close": 733.570007,
         "Volume": 15246100,
         "_deepnote_index_column": 2815
        },
        {
         "Date": "2021-09-07",
         "Open": 740,
         "High": 760.200012,
         "Low": 739.26001,
         "Close": 752.919983,
         "Adj Close": 752.919983,
         "Volume": 20039800,
         "_deepnote_index_column": 2816
        },
        {
         "Date": "2021-09-08",
         "Open": 761.580017,
         "High": 764.450012,
         "Low": 740.77002,
         "Close": 753.869995,
         "Adj Close": 753.869995,
         "Volume": 18793000,
         "_deepnote_index_column": 2817
        },
        {
         "Date": "2021-09-09",
         "Open": 753.409973,
         "High": 762.099976,
         "Low": 751.630005,
         "Close": 754.859985,
         "Adj Close": 754.859985,
         "Volume": 14077700,
         "_deepnote_index_column": 2818
        },
        {
         "Date": "2021-09-10",
         "Open": 759.599976,
         "High": 762.609985,
         "Low": 734.52002,
         "Close": 736.27002,
         "Adj Close": 736.27002,
         "Volume": 15114300,
         "_deepnote_index_column": 2819
        },
        {
         "Date": "2021-09-13",
         "Open": 740.210022,
         "High": 744.780029,
         "Low": 708.849976,
         "Close": 743,
         "Adj Close": 743,
         "Volume": 22952500,
         "_deepnote_index_column": 2820
        },
        {
         "Date": "2021-09-14",
         "Open": 742.570007,
         "High": 754.469971,
         "Low": 736.400024,
         "Close": 744.48999,
         "Adj Close": 744.48999,
         "Volume": 18524900,
         "_deepnote_index_column": 2821
        },
        {
         "Date": "2021-09-15",
         "Open": 745,
         "High": 756.859985,
         "Low": 738.359985,
         "Close": 755.830017,
         "Adj Close": 755.830017,
         "Volume": 15357700,
         "_deepnote_index_column": 2822
        },
        {
         "Date": "2021-09-16",
         "Open": 752.830017,
         "High": 758.909973,
         "Low": 747.609985,
         "Close": 756.98999,
         "Adj Close": 756.98999,
         "Volume": 13923400,
         "_deepnote_index_column": 2823
        },
        {
         "Date": "2021-09-17",
         "Open": 757.150024,
         "High": 761.039978,
         "Low": 750,
         "Close": 759.48999,
         "Adj Close": 759.48999,
         "Volume": 28204200,
         "_deepnote_index_column": 2824
        },
        {
         "Date": "2021-09-20",
         "Open": 734.559998,
         "High": 742,
         "Low": 718.619995,
         "Close": 730.169983,
         "Adj Close": 730.169983,
         "Volume": 24757700,
         "_deepnote_index_column": 2825
        },
        {
         "Date": "2021-09-21",
         "Open": 734.789978,
         "High": 744.73999,
         "Low": 730.440002,
         "Close": 739.380005,
         "Adj Close": 739.380005,
         "Volume": 16330700,
         "_deepnote_index_column": 2826
        },
        {
         "Date": "2021-09-22",
         "Open": 743.530029,
         "High": 753.669983,
         "Low": 739.119995,
         "Close": 751.940002,
         "Adj Close": 751.940002,
         "Volume": 15126300,
         "_deepnote_index_column": 2827
        },
        {
         "Date": "2021-09-23",
         "Open": 755,
         "High": 758.200012,
         "Low": 747.919983,
         "Close": 753.640015,
         "Adj Close": 753.640015,
         "Volume": 11947500,
         "_deepnote_index_column": 2828
        },
        {
         "Date": "2021-09-24",
         "Open": 745.890015,
         "High": 774.799988,
         "Low": 744.559998,
         "Close": 774.390015,
         "Adj Close": 774.390015,
         "Volume": 21373000,
         "_deepnote_index_column": 2829
        },
        {
         "Date": "2021-09-27",
         "Open": 773.119995,
         "High": 799,
         "Low": 769.309998,
         "Close": 791.359985,
         "Adj Close": 791.359985,
         "Volume": 28070700,
         "_deepnote_index_column": 2830
        },
        {
         "Date": "2021-09-28",
         "Open": 787.200012,
         "High": 795.640015,
         "Low": 766.179993,
         "Close": 777.559998,
         "Adj Close": 777.559998,
         "Volume": 25381400,
         "_deepnote_index_column": 2831
        },
        {
         "Date": "2021-09-29",
         "Open": 779.799988,
         "High": 793.5,
         "Low": 770.679993,
         "Close": 781.309998,
         "Adj Close": 781.309998,
         "Volume": 20942900,
         "_deepnote_index_column": 2832
        },
        {
         "Date": "2021-09-30",
         "Open": 781,
         "High": 789.130005,
         "Low": 775,
         "Close": 775.47998,
         "Adj Close": 775.47998,
         "Volume": 17956000,
         "_deepnote_index_column": 2833
        },
        {
         "Date": "2021-10-01",
         "Open": 778.400024,
         "High": 780.780029,
         "Low": 763.590027,
         "Close": 775.219971,
         "Adj Close": 775.219971,
         "Volume": 17031400,
         "_deepnote_index_column": 2834
        },
        {
         "Date": "2021-10-04",
         "Open": 796.5,
         "High": 806.969971,
         "Low": 776.119995,
         "Close": 781.530029,
         "Adj Close": 781.530029,
         "Volume": 30483300,
         "_deepnote_index_column": 2835
        },
        {
         "Date": "2021-10-05",
         "Open": 784.799988,
         "High": 797.309998,
         "Low": 774.200012,
         "Close": 780.590027,
         "Adj Close": 780.590027,
         "Volume": 18432600,
         "_deepnote_index_column": 2836
        },
        {
         "Date": "2021-10-06",
         "Open": 776.200012,
         "High": 786.659973,
         "Low": 773.219971,
         "Close": 782.75,
         "Adj Close": 782.75,
         "Volume": 14632800,
         "_deepnote_index_column": 2837
        },
        {
         "Date": "2021-10-07",
         "Open": 785.460022,
         "High": 805,
         "Low": 783.380005,
         "Close": 793.609985,
         "Adj Close": 793.609985,
         "Volume": 19195800,
         "_deepnote_index_column": 2838
        },
        {
         "Date": "2021-10-08",
         "Open": 796.210022,
         "High": 796.380005,
         "Low": 780.909973,
         "Close": 785.48999,
         "Adj Close": 785.48999,
         "Volume": 16711100,
         "_deepnote_index_column": 2839
        },
        {
         "Date": "2021-10-11",
         "Open": 787.650024,
         "High": 801.23999,
         "Low": 785.5,
         "Close": 791.940002,
         "Adj Close": 791.940002,
         "Volume": 14200300,
         "_deepnote_index_column": 2840
        },
        {
         "Date": "2021-10-12",
         "Open": 800.929993,
         "High": 812.320007,
         "Low": 796.570007,
         "Close": 805.719971,
         "Adj Close": 805.719971,
         "Volume": 22020000,
         "_deepnote_index_column": 2841
        },
        {
         "Date": "2021-10-13",
         "Open": 810.469971,
         "High": 815.409973,
         "Low": 805.780029,
         "Close": 811.080017,
         "Adj Close": 811.080017,
         "Volume": 14120100,
         "_deepnote_index_column": 2842
        },
        {
         "Date": "2021-10-14",
         "Open": 815.48999,
         "High": 820.25,
         "Low": 813.349976,
         "Close": 818.320007,
         "Adj Close": 818.320007,
         "Volume": 12247200,
         "_deepnote_index_column": 2843
        },
        {
         "Date": "2021-10-15",
         "Open": 823.73999,
         "High": 843.210022,
         "Low": 822.349976,
         "Close": 843.030029,
         "Adj Close": 843.030029,
         "Volume": 18818000,
         "_deepnote_index_column": 2844
        },
        {
         "Date": "2021-10-18",
         "Open": 851.789978,
         "High": 875.26001,
         "Low": 851.469971,
         "Close": 870.109985,
         "Adj Close": 870.109985,
         "Volume": 24207200,
         "_deepnote_index_column": 2845
        },
        {
         "Date": "2021-10-19",
         "Open": 877.530029,
         "High": 877.950012,
         "Low": 862.51001,
         "Close": 864.27002,
         "Adj Close": 864.27002,
         "Volume": 17381100,
         "_deepnote_index_column": 2846
        },
        {
         "Date": "2021-10-20",
         "Open": 865.349976,
         "High": 869.48999,
         "Low": 857.380005,
         "Close": 865.799988,
         "Adj Close": 865.799988,
         "Volume": 14032100,
         "_deepnote_index_column": 2847
        },
        {
         "Date": "2021-10-21",
         "Open": 856,
         "High": 900,
         "Low": 855.5,
         "Close": 894,
         "Adj Close": 894,
         "Volume": 31481500,
         "_deepnote_index_column": 2848
        },
        {
         "Date": "2021-10-22",
         "Open": 895.5,
         "High": 910,
         "Low": 890.960022,
         "Close": 909.679993,
         "Adj Close": 909.679993,
         "Volume": 22836800,
         "_deepnote_index_column": 2849
        },
        {
         "Date": "2021-10-25",
         "Open": 950.530029,
         "High": 1045.02002,
         "Low": 944.200012,
         "Close": 1024.859985,
         "Adj Close": 1024.859985,
         "Volume": 62852100,
         "_deepnote_index_column": 2850
        }
       ]
      },
      "text/plain": "            Date        Open         High         Low        Close  \\\n0     2010-06-30    5.158000     6.084000    4.660000     4.766000   \n1     2010-07-01    5.000000     5.184000    4.054000     4.392000   \n2     2010-07-02    4.600000     4.620000    3.742000     3.840000   \n3     2010-07-06    4.000000     4.000000    3.166000     3.222000   \n4     2010-07-07    3.280000     3.326000    2.996000     3.160000   \n...          ...         ...          ...         ...          ...   \n2846  2021-10-19  877.530029   877.950012  862.510010   864.270020   \n2847  2021-10-20  865.349976   869.489990  857.380005   865.799988   \n2848  2021-10-21  856.000000   900.000000  855.500000   894.000000   \n2849  2021-10-22  895.500000   910.000000  890.960022   909.679993   \n2850  2021-10-25  950.530029  1045.020020  944.200012  1024.859985   \n\n        Adj Close    Volume  \n0        4.766000  85935500  \n1        4.392000  41094000  \n2        3.840000  25699000  \n3        3.222000  34334500  \n4        3.160000  34608500  \n...           ...       ...  \n2846   864.270020  17381100  \n2847   865.799988  14032100  \n2848   894.000000  31481500  \n2849   909.679993  22836800  \n2850  1024.859985  62852100  \n\n[2851 rows x 7 columns]",
      "text/html": "<div>\n<style scoped>\n    .dataframe tbody tr th:only-of-type {\n        vertical-align: middle;\n    }\n\n    .dataframe tbody tr th {\n        vertical-align: top;\n    }\n\n    .dataframe thead th {\n        text-align: right;\n    }\n</style>\n<table border=\"1\" class=\"dataframe\">\n  <thead>\n    <tr style=\"text-align: right;\">\n      <th></th>\n      <th>Date</th>\n      <th>Open</th>\n      <th>High</th>\n      <th>Low</th>\n      <th>Close</th>\n      <th>Adj Close</th>\n      <th>Volume</th>\n    </tr>\n  </thead>\n  <tbody>\n    <tr>\n      <th>0</th>\n      <td>2010-06-30</td>\n      <td>5.158000</td>\n      <td>6.084000</td>\n      <td>4.660000</td>\n      <td>4.766000</td>\n      <td>4.766000</td>\n      <td>85935500</td>\n    </tr>\n    <tr>\n      <th>1</th>\n      <td>2010-07-01</td>\n      <td>5.000000</td>\n      <td>5.184000</td>\n      <td>4.054000</td>\n      <td>4.392000</td>\n      <td>4.392000</td>\n      <td>41094000</td>\n    </tr>\n    <tr>\n      <th>2</th>\n      <td>2010-07-02</td>\n      <td>4.600000</td>\n      <td>4.620000</td>\n      <td>3.742000</td>\n      <td>3.840000</td>\n      <td>3.840000</td>\n      <td>25699000</td>\n    </tr>\n    <tr>\n      <th>3</th>\n      <td>2010-07-06</td>\n      <td>4.000000</td>\n      <td>4.000000</td>\n      <td>3.166000</td>\n      <td>3.222000</td>\n      <td>3.222000</td>\n      <td>34334500</td>\n    </tr>\n    <tr>\n      <th>4</th>\n      <td>2010-07-07</td>\n      <td>3.280000</td>\n      <td>3.326000</td>\n      <td>2.996000</td>\n      <td>3.160000</td>\n      <td>3.160000</td>\n      <td>34608500</td>\n    </tr>\n    <tr>\n      <th>...</th>\n      <td>...</td>\n      <td>...</td>\n      <td>...</td>\n      <td>...</td>\n      <td>...</td>\n      <td>...</td>\n      <td>...</td>\n    </tr>\n    <tr>\n      <th>2846</th>\n      <td>2021-10-19</td>\n      <td>877.530029</td>\n      <td>877.950012</td>\n      <td>862.510010</td>\n      <td>864.270020</td>\n      <td>864.270020</td>\n      <td>17381100</td>\n    </tr>\n    <tr>\n      <th>2847</th>\n      <td>2021-10-20</td>\n      <td>865.349976</td>\n      <td>869.489990</td>\n      <td>857.380005</td>\n      <td>865.799988</td>\n      <td>865.799988</td>\n      <td>14032100</td>\n    </tr>\n    <tr>\n      <th>2848</th>\n      <td>2021-10-21</td>\n      <td>856.000000</td>\n      <td>900.000000</td>\n      <td>855.500000</td>\n      <td>894.000000</td>\n      <td>894.000000</td>\n      <td>31481500</td>\n    </tr>\n    <tr>\n      <th>2849</th>\n      <td>2021-10-22</td>\n      <td>895.500000</td>\n      <td>910.000000</td>\n      <td>890.960022</td>\n      <td>909.679993</td>\n      <td>909.679993</td>\n      <td>22836800</td>\n    </tr>\n    <tr>\n      <th>2850</th>\n      <td>2021-10-25</td>\n      <td>950.530029</td>\n      <td>1045.020020</td>\n      <td>944.200012</td>\n      <td>1024.859985</td>\n      <td>1024.859985</td>\n      <td>62852100</td>\n    </tr>\n  </tbody>\n</table>\n<p>2851 rows × 7 columns</p>\n</div>"
     },
     "metadata": {}
    }
   ]
  },
  {
   "cell_type": "code",
   "metadata": {
    "tags": [],
    "cell_id": "00034-60fb8c87-3b84-4510-8bd2-eb3fd775c91f",
    "deepnote_to_be_reexecuted": false,
    "source_hash": "9ce5d7d6",
    "execution_start": 1636756311497,
    "execution_millis": 19,
    "deepnote_cell_type": "code"
   },
   "source": "tsla3 = tsla3[['Open', 'High', 'Close', 'Low']]\ntsla3['Open-Close'] = tsla3.Open - tsla3.Close\ntsla3['High-Low'] = tsla3.High = tsla3.Low\ntsla3 = tsla3.dropna()\nX_knn = tsla3[['Open-Close', 'High-Low']]\nY_knn = np.where(tsla3['Close'].shift(-1) > tsla3['Close'], 1, -1)\nsplit3 = int(0.7 * len(tsla3))\n\nX_train_knn = tsla3[:split3]\nY_train_knn = Y_knn[:split3]\nX_test_knn = tsla3[split3:]\nY_test_knn = Y_knn[split3:]",
   "execution_count": null,
   "outputs": [
    {
     "name": "stderr",
     "text": "/shared-libs/python3.7/py-core/lib/python3.7/site-packages/ipykernel_launcher.py:2: SettingWithCopyWarning: \nA value is trying to be set on a copy of a slice from a DataFrame.\nTry using .loc[row_indexer,col_indexer] = value instead\n\nSee the caveats in the documentation: https://pandas.pydata.org/pandas-docs/stable/user_guide/indexing.html#returning-a-view-versus-a-copy\n  \n/shared-libs/python3.7/py-core/lib/python3.7/site-packages/ipykernel_launcher.py:3: SettingWithCopyWarning: \nA value is trying to be set on a copy of a slice from a DataFrame.\nTry using .loc[row_indexer,col_indexer] = value instead\n\nSee the caveats in the documentation: https://pandas.pydata.org/pandas-docs/stable/user_guide/indexing.html#returning-a-view-versus-a-copy\n  This is separate from the ipykernel package so we can avoid doing imports until\n/shared-libs/python3.7/py/lib/python3.7/site-packages/pandas/core/generic.py:5494: SettingWithCopyWarning: \nA value is trying to be set on a copy of a slice from a DataFrame.\nTry using .loc[row_indexer,col_indexer] = value instead\n\nSee the caveats in the documentation: https://pandas.pydata.org/pandas-docs/stable/user_guide/indexing.html#returning-a-view-versus-a-copy\n  self[name] = value\n",
     "output_type": "stream"
    }
   ]
  },
  {
   "cell_type": "code",
   "metadata": {
    "tags": [],
    "cell_id": "00034-ed3a2a75-03a3-4e16-8f8e-2d5fd93fa8e6",
    "deepnote_to_be_reexecuted": false,
    "source_hash": "153f69da",
    "execution_start": 1636756314296,
    "execution_millis": 15967,
    "deepnote_cell_type": "code"
   },
   "source": "train = []\ntest = []\n\nfor i in range(1, 151, 5):\n    knn = KNeighborsClassifier(n_neighbors = i * 10)\n    knn.fit(X_train_knn, Y_train_knn)\n    train.append(accuracy_score(Y_train_knn, knn.predict(X_train_knn)))\n    test.append(accuracy_score(Y_test_knn, knn.predict(X_test_knn)))",
   "execution_count": null,
   "outputs": []
  },
  {
   "cell_type": "code",
   "metadata": {
    "tags": [],
    "cell_id": "00036-590303c4-6084-46ee-bc46-4aaaeccfe56a",
    "deepnote_to_be_reexecuted": false,
    "source_hash": "d47cd524",
    "execution_start": 1636756341477,
    "execution_millis": 291,
    "deepnote_cell_type": "code"
   },
   "source": "plt.plot(train)\nplt.plot(test)",
   "execution_count": null,
   "outputs": [
    {
     "output_type": "execute_result",
     "execution_count": 25,
     "data": {
      "text/plain": "[<matplotlib.lines.Line2D at 0x7f11b037c050>]"
     },
     "metadata": {}
    },
    {
     "data": {
      "text/plain": "<Figure size 432x288 with 1 Axes>",
      "image/png": "[encoded data removed]"
     },
     "metadata": {
      "needs_background": "light",
      "image/png": {
       "width": 379,
       "height": 248
      }
     },
     "output_type": "display_data"
    }
   ]
  },
  {
   "cell_type": "code",
   "metadata": {
    "tags": [],
    "cell_id": "00037-1e3f1ae6-0537-4e86-b531-9f68569bd063",
    "deepnote_to_be_reexecuted": false,
    "source_hash": "dbde019c",
    "execution_start": 1636756345535,
    "execution_millis": 7,
    "deepnote_cell_type": "code"
   },
   "source": "print(\"Average of the training set =\", round(sum(train)/len(train), 2))\nprint(\"Average of the testing set =\", round(sum(test)/len(test), 2))",
   "execution_count": null,
   "outputs": [
    {
     "name": "stdout",
     "text": "Average of the training set = 0.52\nAverage of the testing set = 0.49\n",
     "output_type": "stream"
    }
   ]
  },
  {
   "cell_type": "markdown",
   "source": "<a style='text-decoration:none;line-height:16px;display:flex;color:#5B5B62;padding:10px;justify-content:end;' href='https://deepnote.com?utm_source=created-in-deepnote-cell&projectId=5db7ed57-117f-4522-bdef-10d6f75f1bd8' target=\"_blank\">\n<img alt='Created in deepnote.com' style='display:inline;max-height:16px;margin:0px;margin-right:7.5px;' src='data:image/svg+xml;base64,PD94bWwgdmVyc2lvbj0iMS4wIiBlbmNvZGluZz0iVVRGLTgiPz4KPHN2ZyB3aWR0aD0iODBweCIgaGVpZ2h0PSI4MHB4IiB2aWV3Qm94PSIwIDAgODAgODAiIHZlcnNpb249IjEuMSIgeG1sbnM9Imh0dHA6Ly93d3cudzMub3JnLzIwMDAvc3ZnIiB4bWxuczp4bGluaz0iaHR0cDovL3d3dy53My5vcmcvMTk5OS94bGluayI+CiAgICA8IS0tIEdlbmVyYXRvcjogU2tldGNoIDU0LjEgKDc2NDkwKSAtIGh0dHBzOi8vc2tldGNoYXBwLmNvbSAtLT4KICAgIDx0aXRsZT5Hcm91cCAzPC90aXRsZT4KICAgIDxkZXNjPkNyZWF0ZWQgd2l0aCBTa2V0Y2guPC9kZXNjPgogICAgPGcgaWQ9IkxhbmRpbmciIHN0cm9rZT0ibm9uZSIgc3Ryb2tlLXdpZHRoPSIxIiBmaWxsPSJub25lIiBmaWxsLXJ1bGU9ImV2ZW5vZGQiPgogICAgICAgIDxnIGlkPSJBcnRib2FyZCIgdHJhbnNmb3JtPSJ0cmFuc2xhdGUoLTEyMzUuMDAwMDAwLCAtNzkuMDAwMDAwKSI+CiAgICAgICAgICAgIDxnIGlkPSJHcm91cC0zIiB0cmFuc2Zvcm09InRyYW5zbGF0ZSgxMjM1LjAwMDAwMCwgNzkuMDAwMDAwKSI+CiAgICAgICAgICAgICAgICA8cG9seWdvbiBpZD0iUGF0aC0yMCIgZmlsbD0iIzAyNjVCNCIgcG9pbnRzPSIyLjM3NjIzNzYyIDgwIDM4LjA0NzY2NjcgODAgNTcuODIxNzgyMiA3My44MDU3NTkyIDU3LjgyMTc4MjIgMzIuNzU5MjczOSAzOS4xNDAyMjc4IDMxLjY4MzE2ODMiPjwvcG9seWdvbj4KICAgICAgICAgICAgICAgIDxwYXRoIGQ9Ik0zNS4wMDc3MTgsODAgQzQyLjkwNjIwMDcsNzYuNDU0OTM1OCA0Ny41NjQ5MTY3LDcxLjU0MjI2NzEgNDguOTgzODY2LDY1LjI2MTk5MzkgQzUxLjExMjI4OTksNTUuODQxNTg0MiA0MS42NzcxNzk1LDQ5LjIxMjIyODQgMjUuNjIzOTg0Niw0OS4yMTIyMjg0IEMyNS40ODQ5Mjg5LDQ5LjEyNjg0NDggMjkuODI2MTI5Niw0My4yODM4MjQ4IDM4LjY0NzU4NjksMzEuNjgzMTY4MyBMNzIuODcxMjg3MSwzMi41NTQ0MjUgTDY1LjI4MDk3Myw2Ny42NzYzNDIxIEw1MS4xMTIyODk5LDc3LjM3NjE0NCBMMzUuMDA3NzE4LDgwIFoiIGlkPSJQYXRoLTIyIiBmaWxsPSIjMDAyODY4Ij48L3BhdGg+CiAgICAgICAgICAgICAgICA8cGF0aCBkPSJNMCwzNy43MzA0NDA1IEwyNy4xMTQ1MzcsMC4yNTcxMTE0MzYgQzYyLjM3MTUxMjMsLTEuOTkwNzE3MDEgODAsMTAuNTAwMzkyNyA4MCwzNy43MzA0NDA1IEM4MCw2NC45NjA0ODgyIDY0Ljc3NjUwMzgsNzkuMDUwMzQxNCAzNC4zMjk1MTEzLDgwIEM0Ny4wNTUzNDg5LDc3LjU2NzA4MDggNTMuNDE4MjY3Nyw3MC4zMTM2MTAzIDUzLjQxODI2NzcsNTguMjM5NTg4NSBDNTMuNDE4MjY3Nyw0MC4xMjg1NTU3IDM2LjMwMzk1NDQsMzcuNzMwNDQwNSAyNS4yMjc0MTcsMzcuNzMwNDQwNSBDMTcuODQzMDU4NiwzNy43MzA0NDA1IDkuNDMzOTE5NjYsMzcuNzMwNDQwNSAwLDM3LjczMDQ0MDUgWiIgaWQ9IlBhdGgtMTkiIGZpbGw9IiMzNzkzRUYiPjwvcGF0aD4KICAgICAgICAgICAgPC9nPgogICAgICAgIDwvZz4KICAgIDwvZz4KPC9zdmc+' > </img>\nCreated in <span style='font-weight:600;margin-left:4px;'>Deepnote</span></a>",
   "metadata": {
    "tags": [],
    "created_in_deepnote_cell": true,
    "deepnote_cell_type": "markdown"
   }
  }
 ],
 "nbformat": 4,
 "nbformat_minor": 2,
 "metadata": {
  "deepnoteSessionId": "dea8a0f5-35e3-4468-94eb-804ff5fc7baa",
  "kernelspec": {
   "display_name": "Python 3",
   "language": "python",
   "name": "python3"
  },
  "language_info": {
   "codemirror_mode": {
    "name": "ipython",
    "version": 3
   },
   "file_extension": ".py",
   "mimetype": "text/x-python",
   "name": "python",
   "nbconvert_exporter": "python",
   "pygments_lexer": "ipython3",
   "version": "3.7.5"
  },
  "deepnote_execution_queue": [],
  "deepnote_notebook_id": "0f460af1-1872-4aa4-804e-36716dbf15fd",
  "deepnote": {}
 }
}