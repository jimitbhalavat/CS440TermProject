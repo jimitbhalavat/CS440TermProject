{
 "cells": [
  {
   "cell_type": "markdown",
   "metadata": {},
   "source": [
    "# CS440 Term Project\n",
    "\n",
    "Data Source: https://finance.yahoo.com/"
   ]
  },
  {
   "cell_type": "code",
   "execution_count": 62,
   "metadata": {},
   "outputs": [],
   "source": [
    "# Imports\n",
    "import numpy as np\n",
    "import pandas as pd\n",
    "import math\n",
    "import pandas_ta as pta\n",
    "from matplotlib import pyplot as plt\n",
    "%matplotlib inline\n",
    "import talib as ta\n",
    "import tensorflow as tf\n",
    "from tensorflow.keras import datasets, layers, models\n",
    "from tensorflow.keras.models import Sequential\n",
    "from tensorflow.keras.layers import Dense, Conv1D, Flatten, MaxPooling1D, Dropout, LeakyReLU, LSTM\n",
    "from sklearn import model_selection\n",
    "from sklearn.preprocessing import MinMaxScaler, StandardScaler, MinMaxScaler\n",
    "from sklearn.metrics import accuracy_score, precision_score, confusion_matrix\n",
    "from sklearn.neighbors import KNeighborsClassifier\n",
    "from pandas.plotting import register_matplotlib_converters\n",
    "from sklearn.linear_model import LogisticRegression\n",
    "\n",
    "from sklearn import metrics\n",
    "from sklearn.model_selection import cross_val_score, train_test_split\n",
    "from sklearn.metrics import mean_squared_error\n",
    "from sklearn.metrics import mean_absolute_error\n",
    "from sklearn.model_selection import GridSearchCV\n",
    "from sklearn.metrics import make_scorer\n",
    "from pandas_datareader import data as pdr\n",
    "import yfinance as yf\n",
    "yf.pdr_override()"
   ]
  },
  {
   "cell_type": "markdown",
   "metadata": {},
   "source": [
    "## COSTCO"
   ]
  },
  {
   "cell_type": "markdown",
   "metadata": {},
   "source": [
    "### Neural Network"
   ]
  },
  {
   "cell_type": "code",
   "execution_count": 63,
   "metadata": {},
   "outputs": [
    {
     "data": {
      "text/html": [
       "<div>\n",
       "<style scoped>\n",
       "    .dataframe tbody tr th:only-of-type {\n",
       "        vertical-align: middle;\n",
       "    }\n",
       "\n",
       "    .dataframe tbody tr th {\n",
       "        vertical-align: top;\n",
       "    }\n",
       "\n",
       "    .dataframe thead th {\n",
       "        text-align: right;\n",
       "    }\n",
       "</style>\n",
       "<table border=\"1\" class=\"dataframe\">\n",
       "  <thead>\n",
       "    <tr style=\"text-align: right;\">\n",
       "      <th></th>\n",
       "      <th>Date</th>\n",
       "      <th>Open</th>\n",
       "      <th>High</th>\n",
       "      <th>Low</th>\n",
       "      <th>Close</th>\n",
       "      <th>Adj Close</th>\n",
       "      <th>Volume</th>\n",
       "    </tr>\n",
       "  </thead>\n",
       "  <tbody>\n",
       "    <tr>\n",
       "      <th>0</th>\n",
       "      <td>2003-11-17</td>\n",
       "      <td>34.070000</td>\n",
       "      <td>34.230000</td>\n",
       "      <td>33.270000</td>\n",
       "      <td>33.889999</td>\n",
       "      <td>23.747950</td>\n",
       "      <td>3664400</td>\n",
       "    </tr>\n",
       "    <tr>\n",
       "      <th>1</th>\n",
       "      <td>2003-11-18</td>\n",
       "      <td>33.950001</td>\n",
       "      <td>34.410000</td>\n",
       "      <td>33.580002</td>\n",
       "      <td>33.639999</td>\n",
       "      <td>23.572779</td>\n",
       "      <td>3190000</td>\n",
       "    </tr>\n",
       "    <tr>\n",
       "      <th>2</th>\n",
       "      <td>2003-11-19</td>\n",
       "      <td>33.680000</td>\n",
       "      <td>34.099998</td>\n",
       "      <td>33.500000</td>\n",
       "      <td>33.820000</td>\n",
       "      <td>23.698912</td>\n",
       "      <td>2910500</td>\n",
       "    </tr>\n",
       "    <tr>\n",
       "      <th>3</th>\n",
       "      <td>2003-11-20</td>\n",
       "      <td>33.570000</td>\n",
       "      <td>34.630001</td>\n",
       "      <td>33.450001</td>\n",
       "      <td>34.139999</td>\n",
       "      <td>23.923147</td>\n",
       "      <td>3575000</td>\n",
       "    </tr>\n",
       "    <tr>\n",
       "      <th>4</th>\n",
       "      <td>2003-11-21</td>\n",
       "      <td>34.299999</td>\n",
       "      <td>34.419998</td>\n",
       "      <td>34.029999</td>\n",
       "      <td>34.110001</td>\n",
       "      <td>23.902117</td>\n",
       "      <td>2910600</td>\n",
       "    </tr>\n",
       "  </tbody>\n",
       "</table>\n",
       "</div>"
      ],
      "text/plain": [
       "         Date       Open       High        Low      Close  Adj Close   Volume\n",
       "0  2003-11-17  34.070000  34.230000  33.270000  33.889999  23.747950  3664400\n",
       "1  2003-11-18  33.950001  34.410000  33.580002  33.639999  23.572779  3190000\n",
       "2  2003-11-19  33.680000  34.099998  33.500000  33.820000  23.698912  2910500\n",
       "3  2003-11-20  33.570000  34.630001  33.450001  34.139999  23.923147  3575000\n",
       "4  2003-11-21  34.299999  34.419998  34.029999  34.110001  23.902117  2910600"
      ]
     },
     "execution_count": 63,
     "metadata": {},
     "output_type": "execute_result"
    }
   ],
   "source": [
    "# Read In Data\n",
    "tsla = pd.read_csv('Data/COST.csv', sep = \",\")\n",
    "tsla.head()"
   ]
  },
  {
   "cell_type": "code",
   "execution_count": 64,
   "metadata": {},
   "outputs": [],
   "source": [
    "# Compute STOCH %K & %D\n",
    "\n",
    "stochKD = pta.stoch(low = tsla.Low, high = tsla.High, close = tsla.Close, k = 14, d = 3, smooth_k = 9)\n",
    "stochKD = stochKD.iloc[10: , :]\n",
    "tsla = tsla.iloc[23: , :]\n",
    "\n",
    "tsla.reset_index(inplace = True)\n",
    "tsla = tsla.drop(\"index\", 1)\n",
    "\n",
    "tsla[\"%K\"] = np.array(stochKD.STOCHk_14_3_9)\n",
    "tsla[\"%D\"] = np.array(stochKD.STOCHd_14_3_9)\n",
    "\n",
    "# Compute Price 1 | 0 price in 10d (1 = up & 0 = down)\n",
    "\n",
    "tenDay = []\n",
    "for i in range(tsla.shape[0]-10):\n",
    "    if(tsla.Close[i] - tsla.Close[i+10] < 0):\n",
    "        tenDay.append(1)\n",
    "    else:\n",
    "        tenDay.append(0)\n",
    "tsla = tsla.iloc[:-10]\n",
    "tsla[\"Ten Day Gain\"] = np.array(tenDay)"
   ]
  },
  {
   "cell_type": "code",
   "execution_count": 65,
   "metadata": {},
   "outputs": [
    {
     "data": {
      "text/html": [
       "<div>\n",
       "<style scoped>\n",
       "    .dataframe tbody tr th:only-of-type {\n",
       "        vertical-align: middle;\n",
       "    }\n",
       "\n",
       "    .dataframe tbody tr th {\n",
       "        vertical-align: top;\n",
       "    }\n",
       "\n",
       "    .dataframe thead th {\n",
       "        text-align: right;\n",
       "    }\n",
       "</style>\n",
       "<table border=\"1\" class=\"dataframe\">\n",
       "  <thead>\n",
       "    <tr style=\"text-align: right;\">\n",
       "      <th></th>\n",
       "      <th>Open</th>\n",
       "      <th>High</th>\n",
       "      <th>Low</th>\n",
       "      <th>Close</th>\n",
       "      <th>Ten Day Gain</th>\n",
       "    </tr>\n",
       "  </thead>\n",
       "  <tbody>\n",
       "    <tr>\n",
       "      <th>0</th>\n",
       "      <td>36.750000</td>\n",
       "      <td>36.849998</td>\n",
       "      <td>36.299999</td>\n",
       "      <td>36.590000</td>\n",
       "      <td>0</td>\n",
       "    </tr>\n",
       "    <tr>\n",
       "      <th>1</th>\n",
       "      <td>36.650002</td>\n",
       "      <td>36.669998</td>\n",
       "      <td>35.790001</td>\n",
       "      <td>35.840000</td>\n",
       "      <td>1</td>\n",
       "    </tr>\n",
       "    <tr>\n",
       "      <th>2</th>\n",
       "      <td>35.970001</td>\n",
       "      <td>36.349998</td>\n",
       "      <td>35.750000</td>\n",
       "      <td>36.250000</td>\n",
       "      <td>1</td>\n",
       "    </tr>\n",
       "    <tr>\n",
       "      <th>3</th>\n",
       "      <td>36.090000</td>\n",
       "      <td>36.230000</td>\n",
       "      <td>35.889999</td>\n",
       "      <td>36.060001</td>\n",
       "      <td>1</td>\n",
       "    </tr>\n",
       "    <tr>\n",
       "      <th>4</th>\n",
       "      <td>36.110001</td>\n",
       "      <td>36.630001</td>\n",
       "      <td>35.990002</td>\n",
       "      <td>36.380001</td>\n",
       "      <td>1</td>\n",
       "    </tr>\n",
       "  </tbody>\n",
       "</table>\n",
       "</div>"
      ],
      "text/plain": [
       "        Open       High        Low      Close  Ten Day Gain\n",
       "0  36.750000  36.849998  36.299999  36.590000             0\n",
       "1  36.650002  36.669998  35.790001  35.840000             1\n",
       "2  35.970001  36.349998  35.750000  36.250000             1\n",
       "3  36.090000  36.230000  35.889999  36.060001             1\n",
       "4  36.110001  36.630001  35.990002  36.380001             1"
      ]
     },
     "execution_count": 65,
     "metadata": {},
     "output_type": "execute_result"
    }
   ],
   "source": [
    "# Remove Columns\n",
    "tsla = tsla.drop([\"Adj Close\", \"Volume\",\"Date\", \"%K\", \"%D\"], 1)\n",
    "tsla.head()"
   ]
  },
  {
   "cell_type": "code",
   "execution_count": 66,
   "metadata": {},
   "outputs": [
    {
     "data": {
      "text/plain": [
       "array([[ 36.75    ,  36.849998,  36.299999,  36.59    ],\n",
       "       [ 36.650002,  36.669998,  35.790001,  35.84    ],\n",
       "       [ 35.970001,  36.349998,  35.75    ,  36.25    ],\n",
       "       ...,\n",
       "       [185.339996, 187.25    , 183.100006, 183.960007],\n",
       "       [185.199997, 187.399994, 183.5     , 184.410004],\n",
       "       [185.75    , 185.970001, 182.169998, 183.550003]])"
      ]
     },
     "execution_count": 66,
     "metadata": {},
     "output_type": "execute_result"
    }
   ],
   "source": [
    "n = tsla.shape[0]\n",
    "splitRow = int(n * 0.80)\n",
    "tsla4 = tsla.to_numpy()\n",
    "\n",
    "# Splits\n",
    "x_train = tsla4[:splitRow, :-1]\n",
    "y_train = tsla4[:splitRow, -1]\n",
    "x_test = tsla4[splitRow:, :-1]\n",
    "y_test = tsla4[splitRow:, -1]\n",
    "\n",
    "x_train"
   ]
  },
  {
   "cell_type": "code",
   "execution_count": 67,
   "metadata": {},
   "outputs": [],
   "source": [
    "# norm = MinMaxScaler()\n",
    "# x_train = norm.fit_transform(x_train)\n",
    "\n",
    "x_train = x_train.reshape(x_train.shape[0], x_train.shape[1], 1)\n",
    "x_test = x_test.reshape(x_test.shape[0], x_test.shape[1], 1)"
   ]
  },
  {
   "cell_type": "code",
   "execution_count": 68,
   "metadata": {},
   "outputs": [],
   "source": [
    "model_tsla_nn = Sequential()\n",
    "model_tsla_nn.add(Dense(12, input_dim=4, activation=\"relu\"))\n",
    "model_tsla_nn.add(Dense(12, activation=\"relu\"))\n",
    "model_tsla_nn.add(Dense(1, activation=\"softmax\")) #SOFTMAX"
   ]
  },
  {
   "cell_type": "code",
   "execution_count": 69,
   "metadata": {},
   "outputs": [],
   "source": [
    "model_tsla_nn.compile(loss = \"binary_crossentropy\", optimizer = \"adam\", metrics = [\"accuracy\"])"
   ]
  },
  {
   "cell_type": "code",
   "execution_count": 70,
   "metadata": {},
   "outputs": [
    {
     "name": "stdout",
     "output_type": "stream",
     "text": [
      "Epoch 1/10\n",
      "4/4 [==============================] - 1s 4ms/step - loss: 25.3285 - accuracy: 0.5619\n",
      "Epoch 2/10\n",
      "4/4 [==============================] - 0s 3ms/step - loss: 20.5375 - accuracy: 0.5619\n",
      "Epoch 3/10\n",
      "4/4 [==============================] - 0s 5ms/step - loss: 15.8020 - accuracy: 0.5619\n",
      "Epoch 4/10\n",
      "4/4 [==============================] - 0s 4ms/step - loss: 11.6439 - accuracy: 0.5619\n",
      "Epoch 5/10\n",
      "4/4 [==============================] - 0s 6ms/step - loss: 7.5329 - accuracy: 0.5619\n",
      "Epoch 6/10\n",
      "4/4 [==============================] - 0s 6ms/step - loss: 3.4938 - accuracy: 0.5619\n",
      "Epoch 7/10\n",
      "4/4 [==============================] - 0s 5ms/step - loss: 1.0065 - accuracy: 0.5619\n",
      "Epoch 8/10\n",
      "4/4 [==============================] - 0s 3ms/step - loss: 2.2562 - accuracy: 0.5619\n",
      "Epoch 9/10\n",
      "4/4 [==============================] - 0s 3ms/step - loss: 2.6409 - accuracy: 0.5619\n",
      "Epoch 10/10\n",
      "4/4 [==============================] - 0s 3ms/step - loss: 2.0479 - accuracy: 0.5619\n"
     ]
    },
    {
     "data": {
      "text/plain": [
       "<keras.callbacks.History at 0x7fa48e539130>"
      ]
     },
     "execution_count": 70,
     "metadata": {},
     "output_type": "execute_result"
    }
   ],
   "source": [
    "model_tsla_nn.fit(x_train, y_train, epochs = 10, batch_size = 1000)"
   ]
  },
  {
   "cell_type": "code",
   "execution_count": 71,
   "metadata": {},
   "outputs": [
    {
     "data": {
      "text/plain": [
       "0.6366666666666667"
      ]
     },
     "execution_count": 71,
     "metadata": {},
     "output_type": "execute_result"
    }
   ],
   "source": [
    "pred_tsla_nn = model_tsla_nn.predict(x_test)\n",
    "acc_tsla_nn = accuracy_score(pred_tsla_nn, y_test)\n",
    "acc_tsla_nn"
   ]
  },
  {
   "cell_type": "markdown",
   "metadata": {},
   "source": [
    "### Logistic Regression"
   ]
  },
  {
   "cell_type": "code",
   "execution_count": 72,
   "metadata": {},
   "outputs": [
    {
     "name": "stdout",
     "output_type": "stream",
     "text": [
      "[*********************100%***********************]  1 of 1 completed\n"
     ]
    },
    {
     "data": {
      "text/html": [
       "<div>\n",
       "<style scoped>\n",
       "    .dataframe tbody tr th:only-of-type {\n",
       "        vertical-align: middle;\n",
       "    }\n",
       "\n",
       "    .dataframe tbody tr th {\n",
       "        vertical-align: top;\n",
       "    }\n",
       "\n",
       "    .dataframe thead th {\n",
       "        text-align: right;\n",
       "    }\n",
       "</style>\n",
       "<table border=\"1\" class=\"dataframe\">\n",
       "  <thead>\n",
       "    <tr style=\"text-align: right;\">\n",
       "      <th></th>\n",
       "      <th>Open</th>\n",
       "      <th>High</th>\n",
       "      <th>Low</th>\n",
       "      <th>Close</th>\n",
       "    </tr>\n",
       "    <tr>\n",
       "      <th>Date</th>\n",
       "      <th></th>\n",
       "      <th></th>\n",
       "      <th></th>\n",
       "      <th></th>\n",
       "    </tr>\n",
       "  </thead>\n",
       "  <tbody>\n",
       "    <tr>\n",
       "      <th>2003-11-17</th>\n",
       "      <td>34.070000</td>\n",
       "      <td>34.230000</td>\n",
       "      <td>33.270000</td>\n",
       "      <td>33.889999</td>\n",
       "    </tr>\n",
       "    <tr>\n",
       "      <th>2003-11-18</th>\n",
       "      <td>33.950001</td>\n",
       "      <td>34.410000</td>\n",
       "      <td>33.580002</td>\n",
       "      <td>33.639999</td>\n",
       "    </tr>\n",
       "    <tr>\n",
       "      <th>2003-11-19</th>\n",
       "      <td>33.680000</td>\n",
       "      <td>34.099998</td>\n",
       "      <td>33.500000</td>\n",
       "      <td>33.820000</td>\n",
       "    </tr>\n",
       "    <tr>\n",
       "      <th>2003-11-20</th>\n",
       "      <td>33.570000</td>\n",
       "      <td>34.630001</td>\n",
       "      <td>33.450001</td>\n",
       "      <td>34.139999</td>\n",
       "    </tr>\n",
       "    <tr>\n",
       "      <th>2003-11-21</th>\n",
       "      <td>34.299999</td>\n",
       "      <td>34.419998</td>\n",
       "      <td>34.029999</td>\n",
       "      <td>34.110001</td>\n",
       "    </tr>\n",
       "  </tbody>\n",
       "</table>\n",
       "</div>"
      ],
      "text/plain": [
       "                 Open       High        Low      Close\n",
       "Date                                                  \n",
       "2003-11-17  34.070000  34.230000  33.270000  33.889999\n",
       "2003-11-18  33.950001  34.410000  33.580002  33.639999\n",
       "2003-11-19  33.680000  34.099998  33.500000  33.820000\n",
       "2003-11-20  33.570000  34.630001  33.450001  34.139999\n",
       "2003-11-21  34.299999  34.419998  34.029999  34.110001"
      ]
     },
     "execution_count": 72,
     "metadata": {},
     "output_type": "execute_result"
    }
   ],
   "source": [
    "# Read In Data\n",
    "tsla = pdr.get_data_yahoo('COST', '2003-11-17', '2021-11-17')\n",
    "tsla2 = tsla.dropna()\n",
    "tsla2 = tsla2.iloc[:,:4]\n",
    "tsla2.head()"
   ]
  },
  {
   "cell_type": "code",
   "execution_count": 73,
   "metadata": {},
   "outputs": [],
   "source": [
    "tsla2['S_10'] = tsla2['Close'].rolling(window = 14).mean()\n",
    "tsla2['Corr'] = tsla2['Close'].rolling(window = 14).corr(tsla2['S_10'])\n",
    "tsla2['RSI'] = ta.RSI(np.array(tsla2['Close']), timeperiod = 14)\n",
    "# The difference between the open price of yesterday and today\n",
    "tsla2['Open-Close'] = tsla2['Open'] - tsla2['Close'].shift(1)\n",
    "# The difference close price of yesterday and the open price of today\n",
    "tsla2['Open-Open'] = tsla2['Open'] - tsla2['Open'].shift(1)\n",
    "tsla2 = tsla2.dropna()\n",
    "X = tsla2.iloc[:,:9]"
   ]
  },
  {
   "cell_type": "code",
   "execution_count": 74,
   "metadata": {},
   "outputs": [],
   "source": [
    "y = np.where(tsla2['Close'].shift(-1) > tsla2['Close'],1,-1)"
   ]
  },
  {
   "cell_type": "code",
   "execution_count": 75,
   "metadata": {},
   "outputs": [],
   "source": [
    "split = int(0.7 * len(tsla2))\n",
    "X_train, X_test, y_train, y_test = X[:split], X[split:], y[:split], y[split:]"
   ]
  },
  {
   "cell_type": "code",
   "execution_count": 76,
   "metadata": {},
   "outputs": [
    {
     "name": "stderr",
     "output_type": "stream",
     "text": [
      "/Users/jimitbhalavat/opt/anaconda3/lib/python3.8/site-packages/sklearn/linear_model/_logistic.py:763: ConvergenceWarning: lbfgs failed to converge (status=1):\n",
      "STOP: TOTAL NO. of ITERATIONS REACHED LIMIT.\n",
      "\n",
      "Increase the number of iterations (max_iter) or scale the data as shown in:\n",
      "    https://scikit-learn.org/stable/modules/preprocessing.html\n",
      "Please also refer to the documentation for alternative solver options:\n",
      "    https://scikit-learn.org/stable/modules/linear_model.html#logistic-regression\n",
      "  n_iter_i = _check_optimize_result(\n"
     ]
    },
    {
     "data": {
      "text/html": [
       "<div>\n",
       "<style scoped>\n",
       "    .dataframe tbody tr th:only-of-type {\n",
       "        vertical-align: middle;\n",
       "    }\n",
       "\n",
       "    .dataframe tbody tr th {\n",
       "        vertical-align: top;\n",
       "    }\n",
       "\n",
       "    .dataframe thead th {\n",
       "        text-align: right;\n",
       "    }\n",
       "</style>\n",
       "<table border=\"1\" class=\"dataframe\">\n",
       "  <thead>\n",
       "    <tr style=\"text-align: right;\">\n",
       "      <th></th>\n",
       "      <th>0</th>\n",
       "      <th>1</th>\n",
       "    </tr>\n",
       "  </thead>\n",
       "  <tbody>\n",
       "    <tr>\n",
       "      <th>0</th>\n",
       "      <td>Open</td>\n",
       "      <td>[-0.1547114719343382]</td>\n",
       "    </tr>\n",
       "    <tr>\n",
       "      <th>1</th>\n",
       "      <td>High</td>\n",
       "      <td>[0.19068740369600917]</td>\n",
       "    </tr>\n",
       "    <tr>\n",
       "      <th>2</th>\n",
       "      <td>Low</td>\n",
       "      <td>[0.14428021384718148]</td>\n",
       "    </tr>\n",
       "    <tr>\n",
       "      <th>3</th>\n",
       "      <td>Close</td>\n",
       "      <td>[-0.20392120309898265]</td>\n",
       "    </tr>\n",
       "    <tr>\n",
       "      <th>4</th>\n",
       "      <td>S_10</td>\n",
       "      <td>[0.02405953564270037]</td>\n",
       "    </tr>\n",
       "    <tr>\n",
       "      <th>5</th>\n",
       "      <td>Corr</td>\n",
       "      <td>[0.019943329507628404]</td>\n",
       "    </tr>\n",
       "    <tr>\n",
       "      <th>6</th>\n",
       "      <td>RSI</td>\n",
       "      <td>[-0.0024898185477301]</td>\n",
       "    </tr>\n",
       "    <tr>\n",
       "      <th>7</th>\n",
       "      <td>Open-Close</td>\n",
       "      <td>[0.09046060331905154]</td>\n",
       "    </tr>\n",
       "    <tr>\n",
       "      <th>8</th>\n",
       "      <td>Open-Open</td>\n",
       "      <td>[-0.0962044302938152]</td>\n",
       "    </tr>\n",
       "  </tbody>\n",
       "</table>\n",
       "</div>"
      ],
      "text/plain": [
       "            0                       1\n",
       "0        Open   [-0.1547114719343382]\n",
       "1        High   [0.19068740369600917]\n",
       "2         Low   [0.14428021384718148]\n",
       "3       Close  [-0.20392120309898265]\n",
       "4        S_10   [0.02405953564270037]\n",
       "5        Corr  [0.019943329507628404]\n",
       "6         RSI   [-0.0024898185477301]\n",
       "7  Open-Close   [0.09046060331905154]\n",
       "8   Open-Open   [-0.0962044302938152]"
      ]
     },
     "execution_count": 76,
     "metadata": {},
     "output_type": "execute_result"
    }
   ],
   "source": [
    "model = LogisticRegression()\n",
    "model = model.fit (X_train, y_train)\n",
    "pd.DataFrame(zip(X.columns, np.transpose(model.coef_)))"
   ]
  },
  {
   "cell_type": "code",
   "execution_count": 77,
   "metadata": {},
   "outputs": [
    {
     "name": "stdout",
     "output_type": "stream",
     "text": [
      "[[0.54188787 0.45811213]\n",
      " [0.6546278  0.3453722 ]\n",
      " [0.52542068 0.47457932]\n",
      " ...\n",
      " [0.61210326 0.38789674]\n",
      " [0.49157944 0.50842056]\n",
      " [0.61083763 0.38916237]]\n"
     ]
    }
   ],
   "source": [
    "probability = model.predict_proba(X_test)\n",
    "print(probability)"
   ]
  },
  {
   "cell_type": "code",
   "execution_count": 78,
   "metadata": {},
   "outputs": [
    {
     "name": "stdout",
     "output_type": "stream",
     "text": [
      "[[0.54188787 0.45811213]\n",
      " [0.6546278  0.3453722 ]\n",
      " [0.52542068 0.47457932]\n",
      " ...\n",
      " [0.61210326 0.38789674]\n",
      " [0.49157944 0.50842056]\n",
      " [0.61083763 0.38916237]]\n",
      "0.5162721893491125\n"
     ]
    }
   ],
   "source": [
    "probability = model.predict_proba(X_test)\n",
    "print(probability)\n",
    "\n",
    "predicted = model.predict(X_test)\n",
    "print(model.score(X_test,y_test))"
   ]
  },
  {
   "cell_type": "code",
   "execution_count": 79,
   "metadata": {},
   "outputs": [
    {
     "name": "stderr",
     "output_type": "stream",
     "text": [
      "/Users/jimitbhalavat/opt/anaconda3/lib/python3.8/site-packages/sklearn/linear_model/_logistic.py:763: ConvergenceWarning: lbfgs failed to converge (status=1):\n",
      "STOP: TOTAL NO. of ITERATIONS REACHED LIMIT.\n",
      "\n",
      "Increase the number of iterations (max_iter) or scale the data as shown in:\n",
      "    https://scikit-learn.org/stable/modules/preprocessing.html\n",
      "Please also refer to the documentation for alternative solver options:\n",
      "    https://scikit-learn.org/stable/modules/linear_model.html#logistic-regression\n",
      "  n_iter_i = _check_optimize_result(\n",
      "/Users/jimitbhalavat/opt/anaconda3/lib/python3.8/site-packages/sklearn/linear_model/_logistic.py:763: ConvergenceWarning: lbfgs failed to converge (status=1):\n",
      "STOP: TOTAL NO. of ITERATIONS REACHED LIMIT.\n",
      "\n",
      "Increase the number of iterations (max_iter) or scale the data as shown in:\n",
      "    https://scikit-learn.org/stable/modules/preprocessing.html\n",
      "Please also refer to the documentation for alternative solver options:\n",
      "    https://scikit-learn.org/stable/modules/linear_model.html#logistic-regression\n",
      "  n_iter_i = _check_optimize_result(\n",
      "/Users/jimitbhalavat/opt/anaconda3/lib/python3.8/site-packages/sklearn/linear_model/_logistic.py:763: ConvergenceWarning: lbfgs failed to converge (status=1):\n",
      "STOP: TOTAL NO. of ITERATIONS REACHED LIMIT.\n",
      "\n",
      "Increase the number of iterations (max_iter) or scale the data as shown in:\n",
      "    https://scikit-learn.org/stable/modules/preprocessing.html\n",
      "Please also refer to the documentation for alternative solver options:\n",
      "    https://scikit-learn.org/stable/modules/linear_model.html#logistic-regression\n",
      "  n_iter_i = _check_optimize_result(\n",
      "/Users/jimitbhalavat/opt/anaconda3/lib/python3.8/site-packages/sklearn/linear_model/_logistic.py:763: ConvergenceWarning: lbfgs failed to converge (status=1):\n",
      "STOP: TOTAL NO. of ITERATIONS REACHED LIMIT.\n",
      "\n",
      "Increase the number of iterations (max_iter) or scale the data as shown in:\n",
      "    https://scikit-learn.org/stable/modules/preprocessing.html\n",
      "Please also refer to the documentation for alternative solver options:\n",
      "    https://scikit-learn.org/stable/modules/linear_model.html#logistic-regression\n",
      "  n_iter_i = _check_optimize_result(\n",
      "/Users/jimitbhalavat/opt/anaconda3/lib/python3.8/site-packages/sklearn/linear_model/_logistic.py:763: ConvergenceWarning: lbfgs failed to converge (status=1):\n",
      "STOP: TOTAL NO. of ITERATIONS REACHED LIMIT.\n",
      "\n",
      "Increase the number of iterations (max_iter) or scale the data as shown in:\n",
      "    https://scikit-learn.org/stable/modules/preprocessing.html\n",
      "Please also refer to the documentation for alternative solver options:\n",
      "    https://scikit-learn.org/stable/modules/linear_model.html#logistic-regression\n",
      "  n_iter_i = _check_optimize_result(\n"
     ]
    },
    {
     "name": "stdout",
     "output_type": "stream",
     "text": [
      "[0.49667406 0.51219512 0.52993348 0.51884701 0.5210643  0.49667406\n",
      " 0.48444444 0.5        0.52444444 0.51777778]\n",
      "0.5102054693274206\n"
     ]
    },
    {
     "name": "stderr",
     "output_type": "stream",
     "text": [
      "/Users/jimitbhalavat/opt/anaconda3/lib/python3.8/site-packages/sklearn/linear_model/_logistic.py:763: ConvergenceWarning: lbfgs failed to converge (status=1):\n",
      "STOP: TOTAL NO. of ITERATIONS REACHED LIMIT.\n",
      "\n",
      "Increase the number of iterations (max_iter) or scale the data as shown in:\n",
      "    https://scikit-learn.org/stable/modules/preprocessing.html\n",
      "Please also refer to the documentation for alternative solver options:\n",
      "    https://scikit-learn.org/stable/modules/linear_model.html#logistic-regression\n",
      "  n_iter_i = _check_optimize_result(\n"
     ]
    }
   ],
   "source": [
    "cross_val = cross_val_score(LogisticRegression(), X, y, scoring='accuracy', cv=10)\n",
    "print(cross_val)\n",
    "print(cross_val.mean())"
   ]
  },
  {
   "cell_type": "code",
   "execution_count": 80,
   "metadata": {},
   "outputs": [
    {
     "data": {
      "image/png": "[encoded data removed]",
      "text/plain": [
       "<Figure size 720x360 with 1 Axes>"
      ]
     },
     "metadata": {
      "needs_background": "light"
     },
     "output_type": "display_data"
    }
   ],
   "source": [
    "tsla2['Predicted Signal'] = model.predict(X)\n",
    "tsla2['Returns'] = np.log(tsla2['Close']/tsla2['Close'].shift(1))\n",
    "cumsum_tsla_ret = np.cumsum(tsla2[split:]['Returns'])\n",
    "\n",
    "tsla2['Strategy'] = tsla2['Returns'] * tsla2['Predicted Signal'].shift(1)\n",
    "cumsum_tsla_st = np.cumsum(tsla2[split:]['Strategy'])\n",
    "\n",
    "plt.figure(figsize=(10,5))\n",
    "plt.plot(cumsum_tsla_ret, color='r',label = 'Costco Returns')\n",
    "plt.plot(cumsum_tsla_st, color='g', label = 'Strategy Returns')\n",
    "plt.xlabel('Timeline')\n",
    "plt.legend()\n",
    "plt.show()"
   ]
  },
  {
   "cell_type": "markdown",
   "metadata": {},
   "source": [
    "### k-Nearest Neighbors"
   ]
  },
  {
   "cell_type": "code",
   "execution_count": 81,
   "metadata": {},
   "outputs": [
    {
     "data": {
      "text/html": [
       "<div>\n",
       "<style scoped>\n",
       "    .dataframe tbody tr th:only-of-type {\n",
       "        vertical-align: middle;\n",
       "    }\n",
       "\n",
       "    .dataframe tbody tr th {\n",
       "        vertical-align: top;\n",
       "    }\n",
       "\n",
       "    .dataframe thead th {\n",
       "        text-align: right;\n",
       "    }\n",
       "</style>\n",
       "<table border=\"1\" class=\"dataframe\">\n",
       "  <thead>\n",
       "    <tr style=\"text-align: right;\">\n",
       "      <th></th>\n",
       "      <th>Date</th>\n",
       "      <th>Open</th>\n",
       "      <th>High</th>\n",
       "      <th>Low</th>\n",
       "      <th>Close</th>\n",
       "      <th>Adj Close</th>\n",
       "      <th>Volume</th>\n",
       "    </tr>\n",
       "  </thead>\n",
       "  <tbody>\n",
       "    <tr>\n",
       "      <th>0</th>\n",
       "      <td>2003-11-17</td>\n",
       "      <td>34.070000</td>\n",
       "      <td>34.230000</td>\n",
       "      <td>33.270000</td>\n",
       "      <td>33.889999</td>\n",
       "      <td>23.747950</td>\n",
       "      <td>3664400</td>\n",
       "    </tr>\n",
       "    <tr>\n",
       "      <th>1</th>\n",
       "      <td>2003-11-18</td>\n",
       "      <td>33.950001</td>\n",
       "      <td>34.410000</td>\n",
       "      <td>33.580002</td>\n",
       "      <td>33.639999</td>\n",
       "      <td>23.572779</td>\n",
       "      <td>3190000</td>\n",
       "    </tr>\n",
       "    <tr>\n",
       "      <th>2</th>\n",
       "      <td>2003-11-19</td>\n",
       "      <td>33.680000</td>\n",
       "      <td>34.099998</td>\n",
       "      <td>33.500000</td>\n",
       "      <td>33.820000</td>\n",
       "      <td>23.698912</td>\n",
       "      <td>2910500</td>\n",
       "    </tr>\n",
       "    <tr>\n",
       "      <th>3</th>\n",
       "      <td>2003-11-20</td>\n",
       "      <td>33.570000</td>\n",
       "      <td>34.630001</td>\n",
       "      <td>33.450001</td>\n",
       "      <td>34.139999</td>\n",
       "      <td>23.923147</td>\n",
       "      <td>3575000</td>\n",
       "    </tr>\n",
       "    <tr>\n",
       "      <th>4</th>\n",
       "      <td>2003-11-21</td>\n",
       "      <td>34.299999</td>\n",
       "      <td>34.419998</td>\n",
       "      <td>34.029999</td>\n",
       "      <td>34.110001</td>\n",
       "      <td>23.902117</td>\n",
       "      <td>2910600</td>\n",
       "    </tr>\n",
       "  </tbody>\n",
       "</table>\n",
       "</div>"
      ],
      "text/plain": [
       "         Date       Open       High        Low      Close  Adj Close   Volume\n",
       "0  2003-11-17  34.070000  34.230000  33.270000  33.889999  23.747950  3664400\n",
       "1  2003-11-18  33.950001  34.410000  33.580002  33.639999  23.572779  3190000\n",
       "2  2003-11-19  33.680000  34.099998  33.500000  33.820000  23.698912  2910500\n",
       "3  2003-11-20  33.570000  34.630001  33.450001  34.139999  23.923147  3575000\n",
       "4  2003-11-21  34.299999  34.419998  34.029999  34.110001  23.902117  2910600"
      ]
     },
     "execution_count": 81,
     "metadata": {},
     "output_type": "execute_result"
    }
   ],
   "source": [
    "# Read In Data\n",
    "tsla = pd.read_csv('Data/COST.csv', sep = \",\")\n",
    "tsla3 = tsla.dropna()\n",
    "tsla3.head()"
   ]
  },
  {
   "cell_type": "code",
   "execution_count": 82,
   "metadata": {},
   "outputs": [],
   "source": [
    "tsla3 = tsla3[['Open', 'High', 'Close', 'Low']]\n",
    "tsla3['Open-Close'] = tsla3.Open - tsla3.Close\n",
    "tsla3['High-Low'] = tsla3.High = tsla3.Low\n",
    "tsla3 = tsla3.dropna()\n",
    "X_knn = tsla3[['Open-Close', 'High-Low']]\n",
    "\n",
    "Y_knn = np.where(tsla3['Close'].shift(-1) > tsla3['Close'], 1, -1)\n",
    "\n",
    "split3 = int(0.7 * len(tsla3))\n",
    "\n",
    "X_train_knn = X_knn[:split3]\n",
    "Y_train_knn = Y_knn[:split3]\n",
    "X_test_knn = X_knn[split3:]\n",
    "Y_test_knn = Y_knn[split3:]"
   ]
  },
  {
   "cell_type": "code",
   "execution_count": 83,
   "metadata": {},
   "outputs": [
    {
     "data": {
      "text/plain": [
       "KNeighborsClassifier(n_neighbors=15)"
      ]
     },
     "execution_count": 83,
     "metadata": {},
     "output_type": "execute_result"
    }
   ],
   "source": [
    "knn = KNeighborsClassifier(n_neighbors = 15)\n",
    "knn.fit(X_train_knn, Y_train_knn)"
   ]
  },
  {
   "cell_type": "code",
   "execution_count": 84,
   "metadata": {},
   "outputs": [
    {
     "data": {
      "image/png": "[encoded data removed]",
      "text/plain": [
       "<Figure size 720x360 with 1 Axes>"
      ]
     },
     "metadata": {
      "needs_background": "light"
     },
     "output_type": "display_data"
    }
   ],
   "source": [
    "tsla3['Predicted'] = knn.predict(X_knn)\n",
    "tsla3['Returns'] = np.log(tsla3['Close']/tsla3['Close'].shift(1))\n",
    "cumsum_ret = tsla3[split3:]['Returns'].cumsum() * 100\n",
    "tsla3['Strategy'] = tsla3['Returns'] * tsla3['Predicted'].shift(1)\n",
    "cumsum_stra = tsla3[split3:]['Strategy'].cumsum() * 100\n",
    "\n",
    "plt.figure(figsize = (10,5))\n",
    "plt.plot(cumsum_ret, color='r',label = 'Costco Returns')\n",
    "plt.plot(cumsum_stra, color='g', label = 'Strategy Returns')\n",
    "plt.legend()\n",
    "plt.show()"
   ]
  },
  {
   "cell_type": "code",
   "execution_count": 85,
   "metadata": {},
   "outputs": [
    {
     "name": "stdout",
     "output_type": "stream",
     "text": [
      "Average of the training set = 0.52\n",
      "Average of the testing set = 0.53\n"
     ]
    }
   ],
   "source": [
    "train = []\n",
    "test = []\n",
    "\n",
    "for i in range(1, 151, 5):\n",
    "    knn2 = KNeighborsClassifier(n_neighbors = i * 10)\n",
    "    knn2.fit(X_train_knn, Y_train_knn)\n",
    "    train.append(accuracy_score(Y_train_knn, knn2.predict(X_train_knn)))\n",
    "    test.append(accuracy_score(Y_test_knn, knn2.predict(X_test_knn)))\n",
    "\n",
    "print(\"Average of the training set =\", round(sum(train)/len(train), 2))\n",
    "print(\"Average of the testing set =\", round(sum(test)/len(test), 2))"
   ]
  },
  {
   "cell_type": "markdown",
   "metadata": {},
   "source": [
    "### LSTM"
   ]
  },
  {
   "cell_type": "code",
   "execution_count": 86,
   "metadata": {},
   "outputs": [
    {
     "data": {
      "text/html": [
       "<div>\n",
       "<style scoped>\n",
       "    .dataframe tbody tr th:only-of-type {\n",
       "        vertical-align: middle;\n",
       "    }\n",
       "\n",
       "    .dataframe tbody tr th {\n",
       "        vertical-align: top;\n",
       "    }\n",
       "\n",
       "    .dataframe thead th {\n",
       "        text-align: right;\n",
       "    }\n",
       "</style>\n",
       "<table border=\"1\" class=\"dataframe\">\n",
       "  <thead>\n",
       "    <tr style=\"text-align: right;\">\n",
       "      <th></th>\n",
       "      <th>Date</th>\n",
       "      <th>Open</th>\n",
       "      <th>High</th>\n",
       "      <th>Low</th>\n",
       "      <th>Close</th>\n",
       "      <th>Adj Close</th>\n",
       "      <th>Volume</th>\n",
       "    </tr>\n",
       "  </thead>\n",
       "  <tbody>\n",
       "    <tr>\n",
       "      <th>0</th>\n",
       "      <td>2003-11-17</td>\n",
       "      <td>34.070000</td>\n",
       "      <td>34.230000</td>\n",
       "      <td>33.270000</td>\n",
       "      <td>33.889999</td>\n",
       "      <td>23.747950</td>\n",
       "      <td>3664400</td>\n",
       "    </tr>\n",
       "    <tr>\n",
       "      <th>1</th>\n",
       "      <td>2003-11-18</td>\n",
       "      <td>33.950001</td>\n",
       "      <td>34.410000</td>\n",
       "      <td>33.580002</td>\n",
       "      <td>33.639999</td>\n",
       "      <td>23.572779</td>\n",
       "      <td>3190000</td>\n",
       "    </tr>\n",
       "    <tr>\n",
       "      <th>2</th>\n",
       "      <td>2003-11-19</td>\n",
       "      <td>33.680000</td>\n",
       "      <td>34.099998</td>\n",
       "      <td>33.500000</td>\n",
       "      <td>33.820000</td>\n",
       "      <td>23.698912</td>\n",
       "      <td>2910500</td>\n",
       "    </tr>\n",
       "    <tr>\n",
       "      <th>3</th>\n",
       "      <td>2003-11-20</td>\n",
       "      <td>33.570000</td>\n",
       "      <td>34.630001</td>\n",
       "      <td>33.450001</td>\n",
       "      <td>34.139999</td>\n",
       "      <td>23.923147</td>\n",
       "      <td>3575000</td>\n",
       "    </tr>\n",
       "    <tr>\n",
       "      <th>4</th>\n",
       "      <td>2003-11-21</td>\n",
       "      <td>34.299999</td>\n",
       "      <td>34.419998</td>\n",
       "      <td>34.029999</td>\n",
       "      <td>34.110001</td>\n",
       "      <td>23.902117</td>\n",
       "      <td>2910600</td>\n",
       "    </tr>\n",
       "  </tbody>\n",
       "</table>\n",
       "</div>"
      ],
      "text/plain": [
       "         Date       Open       High        Low      Close  Adj Close   Volume\n",
       "0  2003-11-17  34.070000  34.230000  33.270000  33.889999  23.747950  3664400\n",
       "1  2003-11-18  33.950001  34.410000  33.580002  33.639999  23.572779  3190000\n",
       "2  2003-11-19  33.680000  34.099998  33.500000  33.820000  23.698912  2910500\n",
       "3  2003-11-20  33.570000  34.630001  33.450001  34.139999  23.923147  3575000\n",
       "4  2003-11-21  34.299999  34.419998  34.029999  34.110001  23.902117  2910600"
      ]
     },
     "execution_count": 86,
     "metadata": {},
     "output_type": "execute_result"
    }
   ],
   "source": [
    "# Read In Data\n",
    "tsla = pd.read_csv('Data/COST.csv', sep = \",\")\n",
    "tsla.head()"
   ]
  },
  {
   "cell_type": "code",
   "execution_count": 87,
   "metadata": {},
   "outputs": [
    {
     "data": {
      "image/png": "[encoded data removed]",
      "text/plain": [
       "<Figure size 720x360 with 1 Axes>"
      ]
     },
     "metadata": {
      "needs_background": "light"
     },
     "output_type": "display_data"
    }
   ],
   "source": [
    "plt.figure(figsize = (10,5))\n",
    "plt.title('Close Price History')\n",
    "plt.plot(tsla['Close'])\n",
    "plt.xlabel('Data', fontsize=15 )\n",
    "plt.ylabel('Close Price USD ($)', fontsize=15)\n",
    "plt.show()"
   ]
  },
  {
   "cell_type": "code",
   "execution_count": 88,
   "metadata": {},
   "outputs": [],
   "source": [
    "#Create a dataframe with only the 'Create Column\n",
    "data = tsla.filter(['Close'])\n",
    "#convert the dataframe to a numpy array\n",
    "dataset = data.values\n",
    "#get the number of rows to train the model on\n",
    "training_data_len= math.ceil(len(dataset)* 0.85)"
   ]
  },
  {
   "cell_type": "code",
   "execution_count": 89,
   "metadata": {},
   "outputs": [],
   "source": [
    "#Scale the all of the data to be values between 0 and 1 \n",
    "scaler = MinMaxScaler(feature_range=(0,1))\n",
    "scaled_data = scaler.fit_transform(dataset)"
   ]
  },
  {
   "cell_type": "code",
   "execution_count": 90,
   "metadata": {},
   "outputs": [],
   "source": [
    "#Create the scaled training data set \n",
    "train_data = scaled_data[0:training_data_len  , : ]\n",
    "#Split the data into x_train and y_train data sets\n",
    "x_train=[]\n",
    "y_train = []\n",
    "for i in range(180,len(train_data)):\n",
    "    x_train.append(train_data[i-180:i,0])\n",
    "    y_train.append(train_data[i,0])"
   ]
  },
  {
   "cell_type": "code",
   "execution_count": 91,
   "metadata": {},
   "outputs": [],
   "source": [
    "x_train, y_train = np.array(x_train), np.array(y_train)\n",
    "#Reshape the data into the shape accepted by the LSTM\n",
    "x_train = np.reshape(x_train, (x_train.shape[0],x_train.shape[1],1))"
   ]
  },
  {
   "cell_type": "code",
   "execution_count": 92,
   "metadata": {},
   "outputs": [],
   "source": [
    "model = Sequential()\n",
    "model.add(LSTM(units=50, return_sequences=True,input_shape=(x_train.shape[1],1)))\n",
    "model.add(Dropout(0.2))\n",
    "model.add(LSTM(units=50, return_sequences=False))\n",
    "model.add(Dropout(0.2))\n",
    "model.add(Dense(units=1))"
   ]
  },
  {
   "cell_type": "code",
   "execution_count": 93,
   "metadata": {},
   "outputs": [
    {
     "name": "stdout",
     "output_type": "stream",
     "text": [
      "Epoch 1/15\n",
      "115/115 [==============================] - 32s 231ms/step - loss: 0.0014\n",
      "Epoch 2/15\n",
      "115/115 [==============================] - 27s 238ms/step - loss: 2.9623e-04\n",
      "Epoch 3/15\n",
      "115/115 [==============================] - 27s 238ms/step - loss: 2.4286e-04\n",
      "Epoch 4/15\n",
      "115/115 [==============================] - 27s 237ms/step - loss: 2.3141e-04\n",
      "Epoch 5/15\n",
      "115/115 [==============================] - 28s 242ms/step - loss: 2.2937e-04\n",
      "Epoch 6/15\n",
      "115/115 [==============================] - 28s 241ms/step - loss: 1.7876e-04\n",
      "Epoch 7/15\n",
      "115/115 [==============================] - 28s 243ms/step - loss: 1.7398e-04\n",
      "Epoch 8/15\n",
      "115/115 [==============================] - 28s 240ms/step - loss: 1.8913e-04\n",
      "Epoch 9/15\n",
      "115/115 [==============================] - 29s 249ms/step - loss: 1.4694e-04\n",
      "Epoch 10/15\n",
      "115/115 [==============================] - 28s 247ms/step - loss: 1.5918e-04\n",
      "Epoch 11/15\n",
      "115/115 [==============================] - 28s 245ms/step - loss: 1.5082e-04\n",
      "Epoch 12/15\n",
      "115/115 [==============================] - 25s 217ms/step - loss: 1.5629e-04\n",
      "Epoch 13/15\n",
      "115/115 [==============================] - 25s 221ms/step - loss: 1.2428e-04\n",
      "Epoch 14/15\n",
      "115/115 [==============================] - 24s 211ms/step - loss: 1.2613e-04\n",
      "Epoch 15/15\n",
      "115/115 [==============================] - 25s 216ms/step - loss: 1.4079e-04\n"
     ]
    },
    {
     "data": {
      "text/plain": [
       "<keras.callbacks.History at 0x7fa47df36640>"
      ]
     },
     "execution_count": 93,
     "metadata": {},
     "output_type": "execute_result"
    }
   ],
   "source": [
    "# Compile the model\n",
    "model.compile(optimizer='adam', loss='mean_squared_error')\n",
    "# Train the model\n",
    "model.fit(x_train, y_train, batch_size=32, epochs=15)"
   ]
  },
  {
   "cell_type": "code",
   "execution_count": 94,
   "metadata": {},
   "outputs": [],
   "source": [
    "# Test data set\n",
    "test_data = scaled_data[training_data_len - 180: , : ]\n",
    "# Create the x_test and y_test data sets\n",
    "x_test = []\n",
    "y_test =  dataset[training_data_len : , : ] \n",
    "for i in range(180,len(test_data)):\n",
    "    x_test.append(test_data[i-180:i,0])"
   ]
  },
  {
   "cell_type": "code",
   "execution_count": 95,
   "metadata": {},
   "outputs": [
    {
     "name": "stdout",
     "output_type": "stream",
     "text": [
      "27.17666249854062\n",
      "24.941242027952125\n"
     ]
    }
   ],
   "source": [
    "x_test = np.array(x_test)\n",
    "x_test = np.reshape(x_test, (x_test.shape[0],x_test.shape[1],1))\n",
    "# Getting the models predicted price values\n",
    "predictions = model.predict(x_test) \n",
    "predictions = scaler.inverse_transform(predictions)\n",
    "# Undo scaling\n",
    "rmse = math.sqrt(mean_squared_error(y_test, predictions))\n",
    "mae = mean_absolute_error(y_test, predictions)\n",
    "\n",
    "print(rmse)\n",
    "print(mae)"
   ]
  },
  {
   "cell_type": "code",
   "execution_count": 96,
   "metadata": {},
   "outputs": [
    {
     "data": {
      "image/png": "[encoded data removed]",
      "text/plain": [
       "<Figure size 432x288 with 1 Axes>"
      ]
     },
     "metadata": {
      "needs_background": "light"
     },
     "output_type": "display_data"
    }
   ],
   "source": [
    "# Visualising the results\n",
    "plt.plot(y_test,color='red',label='Real Costco Stock price')\n",
    "plt.plot(predictions/0.8,color='blue',label='Predicted Costco Stock price')\n",
    "plt.title('Costco stock price prediction using LSTM')\n",
    "plt.xlabel('Timeline')\n",
    "plt.ylabel('Stock Price')\n",
    "plt.legend()\n",
    "plt.show()"
   ]
  }
 ],
 "metadata": {
  "interpreter": {
   "hash": "a89755a7755460ff2176e4794907028d6befaf390e95bf362d3e2b425eb9505d"
  },
  "kernelspec": {
   "display_name": "Python 3.8.8 64-bit ('base': conda)",
   "language": "python",
   "name": "python3"
  },
  "language_info": {
   "codemirror_mode": {
    "name": "ipython",
    "version": 3
   },
   "file_extension": ".py",
   "mimetype": "text/x-python",
   "name": "python",
   "nbconvert_exporter": "python",
   "pygments_lexer": "ipython3",
   "version": "3.8.8"
  },
  "orig_nbformat": 4
 },
 "nbformat": 4,
 "nbformat_minor": 2
}
