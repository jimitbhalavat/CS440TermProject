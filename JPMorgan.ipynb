{
 "cells": [
  {
   "cell_type": "markdown",
   "metadata": {},
   "source": [
    "# CS440 Term Project\n",
    "\n",
    "Data Source: https://finance.yahoo.com/"
   ]
  },
  {
   "cell_type": "code",
   "execution_count": 1,
   "metadata": {},
   "outputs": [],
   "source": [
    "# Imports\n",
    "import numpy as np\n",
    "import pandas as pd\n",
    "import math\n",
    "import pandas_ta as pta\n",
    "from matplotlib import pyplot as plt\n",
    "%matplotlib inline\n",
    "import talib as ta\n",
    "import tensorflow as tf\n",
    "from tensorflow.keras import datasets, layers, models\n",
    "from tensorflow.keras.models import Sequential\n",
    "from tensorflow.keras.layers import Dense, Conv1D, Flatten, MaxPooling1D, Dropout, LeakyReLU, LSTM\n",
    "from sklearn import model_selection\n",
    "from sklearn.preprocessing import MinMaxScaler, StandardScaler, MinMaxScaler\n",
    "from sklearn.metrics import accuracy_score, precision_score, confusion_matrix\n",
    "from sklearn.neighbors import KNeighborsClassifier\n",
    "from pandas.plotting import register_matplotlib_converters\n",
    "from sklearn.linear_model import LogisticRegression\n",
    "from sklearn import metrics\n",
    "from sklearn.model_selection import cross_val_score, train_test_split\n",
    "from sklearn.metrics import mean_squared_error\n",
    "from sklearn.metrics import mean_absolute_error\n",
    "from sklearn.model_selection import GridSearchCV\n",
    "from sklearn.metrics import make_scorer"
   ]
  },
  {
   "cell_type": "markdown",
   "metadata": {},
   "source": [
    "## JP MORGAN"
   ]
  },
  {
   "cell_type": "markdown",
   "metadata": {},
   "source": [
    "### Neural Network"
   ]
  },
  {
   "cell_type": "code",
   "execution_count": 2,
   "metadata": {},
   "outputs": [
    {
     "data": {
      "text/html": [
       "<div>\n",
       "<style scoped>\n",
       "    .dataframe tbody tr th:only-of-type {\n",
       "        vertical-align: middle;\n",
       "    }\n",
       "\n",
       "    .dataframe tbody tr th {\n",
       "        vertical-align: top;\n",
       "    }\n",
       "\n",
       "    .dataframe thead th {\n",
       "        text-align: right;\n",
       "    }\n",
       "</style>\n",
       "<table border=\"1\" class=\"dataframe\">\n",
       "  <thead>\n",
       "    <tr style=\"text-align: right;\">\n",
       "      <th></th>\n",
       "      <th>Date</th>\n",
       "      <th>Open</th>\n",
       "      <th>High</th>\n",
       "      <th>Low</th>\n",
       "      <th>Close</th>\n",
       "      <th>Adj Close</th>\n",
       "      <th>Volume</th>\n",
       "    </tr>\n",
       "  </thead>\n",
       "  <tbody>\n",
       "    <tr>\n",
       "      <th>0</th>\n",
       "      <td>2000-01-03</td>\n",
       "      <td>49.833332</td>\n",
       "      <td>50.250000</td>\n",
       "      <td>48.083332</td>\n",
       "      <td>48.583332</td>\n",
       "      <td>25.561586</td>\n",
       "      <td>12019200</td>\n",
       "    </tr>\n",
       "    <tr>\n",
       "      <th>1</th>\n",
       "      <td>2000-01-04</td>\n",
       "      <td>47.083332</td>\n",
       "      <td>47.458332</td>\n",
       "      <td>46.125000</td>\n",
       "      <td>47.250000</td>\n",
       "      <td>25.000719</td>\n",
       "      <td>11723400</td>\n",
       "    </tr>\n",
       "    <tr>\n",
       "      <th>2</th>\n",
       "      <td>2000-01-05</td>\n",
       "      <td>46.833332</td>\n",
       "      <td>48.375000</td>\n",
       "      <td>46.000000</td>\n",
       "      <td>46.958332</td>\n",
       "      <td>24.846399</td>\n",
       "      <td>8714550</td>\n",
       "    </tr>\n",
       "    <tr>\n",
       "      <th>3</th>\n",
       "      <td>2000-01-06</td>\n",
       "      <td>46.750000</td>\n",
       "      <td>48.625000</td>\n",
       "      <td>46.500000</td>\n",
       "      <td>47.625000</td>\n",
       "      <td>25.199142</td>\n",
       "      <td>8369250</td>\n",
       "    </tr>\n",
       "    <tr>\n",
       "      <th>4</th>\n",
       "      <td>2000-01-07</td>\n",
       "      <td>48.416668</td>\n",
       "      <td>49.000000</td>\n",
       "      <td>47.333332</td>\n",
       "      <td>48.500000</td>\n",
       "      <td>25.662115</td>\n",
       "      <td>6571950</td>\n",
       "    </tr>\n",
       "  </tbody>\n",
       "</table>\n",
       "</div>"
      ],
      "text/plain": [
       "         Date       Open       High        Low      Close  Adj Close    Volume\n",
       "0  2000-01-03  49.833332  50.250000  48.083332  48.583332  25.561586  12019200\n",
       "1  2000-01-04  47.083332  47.458332  46.125000  47.250000  25.000719  11723400\n",
       "2  2000-01-05  46.833332  48.375000  46.000000  46.958332  24.846399   8714550\n",
       "3  2000-01-06  46.750000  48.625000  46.500000  47.625000  25.199142   8369250\n",
       "4  2000-01-07  48.416668  49.000000  47.333332  48.500000  25.662115   6571950"
      ]
     },
     "execution_count": 2,
     "metadata": {},
     "output_type": "execute_result"
    }
   ],
   "source": [
    "# Read In Data\n",
    "tsla = pd.read_csv('Data/JPM.csv', sep = \",\")\n",
    "tsla.head()"
   ]
  },
  {
   "cell_type": "code",
   "execution_count": 3,
   "metadata": {},
   "outputs": [],
   "source": [
    "# Compute STOCH %K & %D\n",
    "\n",
    "stochKD = pta.stoch(low = tsla.Low, high = tsla.High, close = tsla.Close, k = 14, d = 3, smooth_k = 9)\n",
    "stochKD = stochKD.iloc[10: , :]\n",
    "tsla = tsla.iloc[23: , :]\n",
    "\n",
    "tsla.reset_index(inplace = True)\n",
    "tsla = tsla.drop(\"index\", 1)\n",
    "\n",
    "tsla[\"%K\"] = np.array(stochKD.STOCHk_14_3_9)\n",
    "tsla[\"%D\"] = np.array(stochKD.STOCHd_14_3_9)\n",
    "\n",
    "# Compute Price 1 | 0 price in 10d (1 = up & 0 = down)\n",
    "\n",
    "tenDay = []\n",
    "for i in range(tsla.shape[0]-10):\n",
    "    if(tsla.Close[i] - tsla.Close[i+10] < 0):\n",
    "        tenDay.append(1)\n",
    "    else:\n",
    "        tenDay.append(0)\n",
    "tsla = tsla.iloc[:-10]\n",
    "tsla[\"Ten Day Gain\"] = np.array(tenDay)\n"
   ]
  },
  {
   "cell_type": "code",
   "execution_count": 4,
   "metadata": {},
   "outputs": [
    {
     "data": {
      "text/html": [
       "<div>\n",
       "<style scoped>\n",
       "    .dataframe tbody tr th:only-of-type {\n",
       "        vertical-align: middle;\n",
       "    }\n",
       "\n",
       "    .dataframe tbody tr th {\n",
       "        vertical-align: top;\n",
       "    }\n",
       "\n",
       "    .dataframe thead th {\n",
       "        text-align: right;\n",
       "    }\n",
       "</style>\n",
       "<table border=\"1\" class=\"dataframe\">\n",
       "  <thead>\n",
       "    <tr style=\"text-align: right;\">\n",
       "      <th></th>\n",
       "      <th>Open</th>\n",
       "      <th>High</th>\n",
       "      <th>Low</th>\n",
       "      <th>Close</th>\n",
       "      <th>Ten Day Gain</th>\n",
       "    </tr>\n",
       "  </thead>\n",
       "  <tbody>\n",
       "    <tr>\n",
       "      <th>0</th>\n",
       "      <td>55.000000</td>\n",
       "      <td>55.541668</td>\n",
       "      <td>54.375000</td>\n",
       "      <td>54.500000</td>\n",
       "      <td>0</td>\n",
       "    </tr>\n",
       "    <tr>\n",
       "      <th>1</th>\n",
       "      <td>54.791668</td>\n",
       "      <td>55.583332</td>\n",
       "      <td>54.500000</td>\n",
       "      <td>54.791668</td>\n",
       "      <td>0</td>\n",
       "    </tr>\n",
       "    <tr>\n",
       "      <th>2</th>\n",
       "      <td>56.041668</td>\n",
       "      <td>57.416668</td>\n",
       "      <td>56.000000</td>\n",
       "      <td>56.708332</td>\n",
       "      <td>0</td>\n",
       "    </tr>\n",
       "    <tr>\n",
       "      <th>3</th>\n",
       "      <td>56.625000</td>\n",
       "      <td>57.583332</td>\n",
       "      <td>54.958332</td>\n",
       "      <td>55.250000</td>\n",
       "      <td>0</td>\n",
       "    </tr>\n",
       "    <tr>\n",
       "      <th>4</th>\n",
       "      <td>55.416668</td>\n",
       "      <td>55.833332</td>\n",
       "      <td>54.250000</td>\n",
       "      <td>55.416668</td>\n",
       "      <td>0</td>\n",
       "    </tr>\n",
       "  </tbody>\n",
       "</table>\n",
       "</div>"
      ],
      "text/plain": [
       "        Open       High        Low      Close  Ten Day Gain\n",
       "0  55.000000  55.541668  54.375000  54.500000             0\n",
       "1  54.791668  55.583332  54.500000  54.791668             0\n",
       "2  56.041668  57.416668  56.000000  56.708332             0\n",
       "3  56.625000  57.583332  54.958332  55.250000             0\n",
       "4  55.416668  55.833332  54.250000  55.416668             0"
      ]
     },
     "execution_count": 4,
     "metadata": {},
     "output_type": "execute_result"
    }
   ],
   "source": [
    "# Remove Columns\n",
    "tsla = tsla.drop([\"Adj Close\", \"Volume\",\"Date\", \"%K\", \"%D\"], 1)\n",
    "tsla.head()"
   ]
  },
  {
   "cell_type": "code",
   "execution_count": 5,
   "metadata": {},
   "outputs": [
    {
     "data": {
      "text/plain": [
       "array([[55.      , 55.541668, 54.375   , 54.5     ],\n",
       "       [54.791668, 55.583332, 54.5     , 54.791668],\n",
       "       [56.041668, 57.416668, 56.      , 56.708332],\n",
       "       ...,\n",
       "       [87.709999, 88.940002, 87.5     , 88.050003],\n",
       "       [88.599998, 90.07    , 88.599998, 89.82    ],\n",
       "       [92.339996, 92.650002, 90.309998, 91.150002]])"
      ]
     },
     "execution_count": 5,
     "metadata": {},
     "output_type": "execute_result"
    }
   ],
   "source": [
    "n = tsla.shape[0]\n",
    "splitRow = int(n * 0.80)\n",
    "tsla4 = tsla.to_numpy()\n",
    "\n",
    "# Splits\n",
    "x_train = tsla4[:splitRow, :-1]\n",
    "y_train = tsla4[:splitRow, -1]\n",
    "x_test = tsla4[splitRow:, :-1]\n",
    "y_test = tsla4[splitRow:, -1]\n",
    "\n",
    "x_train"
   ]
  },
  {
   "cell_type": "code",
   "execution_count": 6,
   "metadata": {},
   "outputs": [],
   "source": [
    "# norm = MinMaxScaler()\n",
    "# x_train = norm.fit_transform(x_train)\n",
    "\n",
    "x_train = x_train.reshape(x_train.shape[0], x_train.shape[1], 1)\n",
    "x_test = x_test.reshape(x_test.shape[0], x_test.shape[1], 1)"
   ]
  },
  {
   "cell_type": "code",
   "execution_count": 7,
   "metadata": {},
   "outputs": [],
   "source": [
    "model_tsla_nn = Sequential()\n",
    "model_tsla_nn.add(Dense(12, input_dim=4, activation=\"relu\"))\n",
    "model_tsla_nn.add(Dense(12, activation=\"relu\"))\n",
    "model_tsla_nn.add(Dense(1, activation=\"softmax\")) #SOFTMAX"
   ]
  },
  {
   "cell_type": "code",
   "execution_count": 8,
   "metadata": {},
   "outputs": [],
   "source": [
    "model_tsla_nn.compile(loss = \"binary_crossentropy\", optimizer = \"adam\", metrics = [\"accuracy\"])"
   ]
  },
  {
   "cell_type": "code",
   "execution_count": 9,
   "metadata": {},
   "outputs": [
    {
     "name": "stdout",
     "output_type": "stream",
     "text": [
      "Epoch 1/10\n",
      "5/5 [==============================] - 0s 2ms/step - loss: 0.8757 - accuracy: 0.5441\n",
      "Epoch 2/10\n",
      "5/5 [==============================] - 0s 2ms/step - loss: 0.7845 - accuracy: 0.5441\n",
      "Epoch 3/10\n",
      "5/5 [==============================] - 0s 2ms/step - loss: 0.7110 - accuracy: 0.5441\n",
      "Epoch 4/10\n",
      "5/5 [==============================] - 0s 2ms/step - loss: 0.7266 - accuracy: 0.5441\n",
      "Epoch 5/10\n",
      "5/5 [==============================] - 0s 2ms/step - loss: 0.6989 - accuracy: 0.5441\n",
      "Epoch 6/10\n",
      "5/5 [==============================] - 0s 2ms/step - loss: 0.6991 - accuracy: 0.5441\n",
      "Epoch 7/10\n",
      "5/5 [==============================] - 0s 2ms/step - loss: 0.6973 - accuracy: 0.5441\n",
      "Epoch 8/10\n",
      "5/5 [==============================] - 0s 2ms/step - loss: 0.6949 - accuracy: 0.5441\n",
      "Epoch 9/10\n",
      "5/5 [==============================] - 0s 2ms/step - loss: 0.6944 - accuracy: 0.5441\n",
      "Epoch 10/10\n",
      "5/5 [==============================] - 0s 6ms/step - loss: 0.6941 - accuracy: 0.5441\n"
     ]
    },
    {
     "data": {
      "text/plain": [
       "<keras.callbacks.History at 0x7fe9c24d4e50>"
      ]
     },
     "execution_count": 9,
     "metadata": {},
     "output_type": "execute_result"
    }
   ],
   "source": [
    "model_tsla_nn.fit(x_train, y_train, epochs = 10, batch_size = 1000)"
   ]
  },
  {
   "cell_type": "code",
   "execution_count": 10,
   "metadata": {},
   "outputs": [
    {
     "data": {
      "text/plain": [
       "0.5643835616438356"
      ]
     },
     "execution_count": 10,
     "metadata": {},
     "output_type": "execute_result"
    }
   ],
   "source": [
    "pred_tsla_nn = model_tsla_nn.predict(x_test)\n",
    "acc_tsla_nn = accuracy_score(pred_tsla_nn, y_test)\n",
    "acc_tsla_nn"
   ]
  },
  {
   "cell_type": "markdown",
   "metadata": {},
   "source": [
    "### Logistic Regression"
   ]
  },
  {
   "cell_type": "code",
   "execution_count": 11,
   "metadata": {},
   "outputs": [
    {
     "data": {
      "text/html": [
       "<div>\n",
       "<style scoped>\n",
       "    .dataframe tbody tr th:only-of-type {\n",
       "        vertical-align: middle;\n",
       "    }\n",
       "\n",
       "    .dataframe tbody tr th {\n",
       "        vertical-align: top;\n",
       "    }\n",
       "\n",
       "    .dataframe thead th {\n",
       "        text-align: right;\n",
       "    }\n",
       "</style>\n",
       "<table border=\"1\" class=\"dataframe\">\n",
       "  <thead>\n",
       "    <tr style=\"text-align: right;\">\n",
       "      <th></th>\n",
       "      <th>Date</th>\n",
       "      <th>Open</th>\n",
       "      <th>High</th>\n",
       "      <th>Low</th>\n",
       "      <th>Close</th>\n",
       "      <th>Adj Close</th>\n",
       "      <th>Volume</th>\n",
       "    </tr>\n",
       "  </thead>\n",
       "  <tbody>\n",
       "    <tr>\n",
       "      <th>0</th>\n",
       "      <td>2000-01-03</td>\n",
       "      <td>49.833332</td>\n",
       "      <td>50.250000</td>\n",
       "      <td>48.083332</td>\n",
       "      <td>48.583332</td>\n",
       "      <td>25.561586</td>\n",
       "      <td>12019200</td>\n",
       "    </tr>\n",
       "    <tr>\n",
       "      <th>1</th>\n",
       "      <td>2000-01-04</td>\n",
       "      <td>47.083332</td>\n",
       "      <td>47.458332</td>\n",
       "      <td>46.125000</td>\n",
       "      <td>47.250000</td>\n",
       "      <td>25.000719</td>\n",
       "      <td>11723400</td>\n",
       "    </tr>\n",
       "    <tr>\n",
       "      <th>2</th>\n",
       "      <td>2000-01-05</td>\n",
       "      <td>46.833332</td>\n",
       "      <td>48.375000</td>\n",
       "      <td>46.000000</td>\n",
       "      <td>46.958332</td>\n",
       "      <td>24.846399</td>\n",
       "      <td>8714550</td>\n",
       "    </tr>\n",
       "    <tr>\n",
       "      <th>3</th>\n",
       "      <td>2000-01-06</td>\n",
       "      <td>46.750000</td>\n",
       "      <td>48.625000</td>\n",
       "      <td>46.500000</td>\n",
       "      <td>47.625000</td>\n",
       "      <td>25.199142</td>\n",
       "      <td>8369250</td>\n",
       "    </tr>\n",
       "    <tr>\n",
       "      <th>4</th>\n",
       "      <td>2000-01-07</td>\n",
       "      <td>48.416668</td>\n",
       "      <td>49.000000</td>\n",
       "      <td>47.333332</td>\n",
       "      <td>48.500000</td>\n",
       "      <td>25.662115</td>\n",
       "      <td>6571950</td>\n",
       "    </tr>\n",
       "  </tbody>\n",
       "</table>\n",
       "</div>"
      ],
      "text/plain": [
       "         Date       Open       High        Low      Close  Adj Close    Volume\n",
       "0  2000-01-03  49.833332  50.250000  48.083332  48.583332  25.561586  12019200\n",
       "1  2000-01-04  47.083332  47.458332  46.125000  47.250000  25.000719  11723400\n",
       "2  2000-01-05  46.833332  48.375000  46.000000  46.958332  24.846399   8714550\n",
       "3  2000-01-06  46.750000  48.625000  46.500000  47.625000  25.199142   8369250\n",
       "4  2000-01-07  48.416668  49.000000  47.333332  48.500000  25.662115   6571950"
      ]
     },
     "execution_count": 11,
     "metadata": {},
     "output_type": "execute_result"
    }
   ],
   "source": [
    "# Read In Data\n",
    "tsla = pd.read_csv('Data/JPM.csv', sep = \",\")\n",
    "tsla2 = tsla.dropna()\n",
    "tsla2.head()"
   ]
  },
  {
   "cell_type": "code",
   "execution_count": 12,
   "metadata": {},
   "outputs": [],
   "source": [
    "tsla2['S_10'] = tsla2['Close'].rolling(window = 14).mean()\n",
    "tsla2['Corr'] = tsla2['Close'].rolling(window = 14).corr(tsla2['S_10'])\n",
    "tsla2['RSI'] = ta.RSI(np.array(tsla2['Close']), timeperiod = 14)\n",
    "# The difference between the open price of yesterday and today\n",
    "tsla2['Open-Close'] = tsla2['Open'] - tsla2['Close'].shift(1)\n",
    "# The difference close price of yesterday and the open price of today\n",
    "tsla2['Open-Open'] = tsla2['Open'] - tsla2['Open'].shift(1)\n",
    "tsla2 = tsla2.dropna()\n",
    "tsla2 = tsla2.drop(['Date', 'Adj Close', 'Volume'], axis = 1)\n",
    "X = tsla2.iloc[:,:9]"
   ]
  },
  {
   "cell_type": "code",
   "execution_count": 13,
   "metadata": {},
   "outputs": [],
   "source": [
    "y = np.where(tsla2['Close'].shift(-1) > tsla2['Close'],1,-1)"
   ]
  },
  {
   "cell_type": "code",
   "execution_count": 14,
   "metadata": {},
   "outputs": [],
   "source": [
    "split = int(0.7 * len(tsla2))\n",
    "X_train, X_test, y_train, y_test = X[:split], X[split:], y[:split], y[split:]"
   ]
  },
  {
   "cell_type": "code",
   "execution_count": 15,
   "metadata": {},
   "outputs": [
    {
     "data": {
      "text/html": [
       "<div>\n",
       "<style scoped>\n",
       "    .dataframe tbody tr th:only-of-type {\n",
       "        vertical-align: middle;\n",
       "    }\n",
       "\n",
       "    .dataframe tbody tr th {\n",
       "        vertical-align: top;\n",
       "    }\n",
       "\n",
       "    .dataframe thead th {\n",
       "        text-align: right;\n",
       "    }\n",
       "</style>\n",
       "<table border=\"1\" class=\"dataframe\">\n",
       "  <thead>\n",
       "    <tr style=\"text-align: right;\">\n",
       "      <th></th>\n",
       "      <th>0</th>\n",
       "      <th>1</th>\n",
       "    </tr>\n",
       "  </thead>\n",
       "  <tbody>\n",
       "    <tr>\n",
       "      <th>0</th>\n",
       "      <td>Open</td>\n",
       "      <td>[-0.2339221371397999]</td>\n",
       "    </tr>\n",
       "    <tr>\n",
       "      <th>1</th>\n",
       "      <td>High</td>\n",
       "      <td>[0.22544827972238454]</td>\n",
       "    </tr>\n",
       "    <tr>\n",
       "      <th>2</th>\n",
       "      <td>Low</td>\n",
       "      <td>[0.37736912180537163]</td>\n",
       "    </tr>\n",
       "    <tr>\n",
       "      <th>3</th>\n",
       "      <td>Close</td>\n",
       "      <td>[-0.42183456923094903]</td>\n",
       "    </tr>\n",
       "    <tr>\n",
       "      <th>4</th>\n",
       "      <td>S_10</td>\n",
       "      <td>[0.04986160167828119]</td>\n",
       "    </tr>\n",
       "    <tr>\n",
       "      <th>5</th>\n",
       "      <td>Corr</td>\n",
       "      <td>[0.052818516110892506]</td>\n",
       "    </tr>\n",
       "    <tr>\n",
       "      <th>6</th>\n",
       "      <td>RSI</td>\n",
       "      <td>[0.003473883277317678]</td>\n",
       "    </tr>\n",
       "    <tr>\n",
       "      <th>7</th>\n",
       "      <td>Open-Close</td>\n",
       "      <td>[-0.042707293499742116]</td>\n",
       "    </tr>\n",
       "    <tr>\n",
       "      <th>8</th>\n",
       "      <td>Open-Open</td>\n",
       "      <td>[-0.052045395065614466]</td>\n",
       "    </tr>\n",
       "  </tbody>\n",
       "</table>\n",
       "</div>"
      ],
      "text/plain": [
       "            0                        1\n",
       "0        Open    [-0.2339221371397999]\n",
       "1        High    [0.22544827972238454]\n",
       "2         Low    [0.37736912180537163]\n",
       "3       Close   [-0.42183456923094903]\n",
       "4        S_10    [0.04986160167828119]\n",
       "5        Corr   [0.052818516110892506]\n",
       "6         RSI   [0.003473883277317678]\n",
       "7  Open-Close  [-0.042707293499742116]\n",
       "8   Open-Open  [-0.052045395065614466]"
      ]
     },
     "execution_count": 15,
     "metadata": {},
     "output_type": "execute_result"
    }
   ],
   "source": [
    "model = LogisticRegression()\n",
    "model = model.fit (X_train, y_train)\n",
    "pd.DataFrame(zip(X.columns, np.transpose(model.coef_)))"
   ]
  },
  {
   "cell_type": "code",
   "execution_count": 16,
   "metadata": {},
   "outputs": [
    {
     "name": "stdout",
     "output_type": "stream",
     "text": [
      "[[0.51448942 0.48551058]\n",
      " [0.53961759 0.46038241]\n",
      " [0.52933013 0.47066987]\n",
      " ...\n",
      " [0.58119768 0.41880232]\n",
      " [0.57888282 0.42111718]\n",
      " [0.59728744 0.40271256]]\n"
     ]
    }
   ],
   "source": [
    "probability = model.predict_proba(X_test)\n",
    "print(probability)"
   ]
  },
  {
   "cell_type": "code",
   "execution_count": 17,
   "metadata": {},
   "outputs": [
    {
     "name": "stdout",
     "output_type": "stream",
     "text": [
      "[[0.51448942 0.48551058]\n",
      " [0.53961759 0.46038241]\n",
      " [0.52933013 0.47066987]\n",
      " ...\n",
      " [0.58119768 0.41880232]\n",
      " [0.57888282 0.42111718]\n",
      " [0.59728744 0.40271256]]\n",
      "0.5094224924012158\n"
     ]
    }
   ],
   "source": [
    "probability = model.predict_proba(X_test)\n",
    "print(probability)\n",
    "\n",
    "predicted = model.predict(X_test)\n",
    "print(model.score(X_test,y_test))"
   ]
  },
  {
   "cell_type": "code",
   "execution_count": 18,
   "metadata": {},
   "outputs": [
    {
     "name": "stderr",
     "output_type": "stream",
     "text": [
      "/Users/jimitbhalavat/opt/anaconda3/lib/python3.8/site-packages/sklearn/linear_model/_logistic.py:763: ConvergenceWarning: lbfgs failed to converge (status=1):\n",
      "STOP: TOTAL NO. of ITERATIONS REACHED LIMIT.\n",
      "\n",
      "Increase the number of iterations (max_iter) or scale the data as shown in:\n",
      "    https://scikit-learn.org/stable/modules/preprocessing.html\n",
      "Please also refer to the documentation for alternative solver options:\n",
      "    https://scikit-learn.org/stable/modules/linear_model.html#logistic-regression\n",
      "  n_iter_i = _check_optimize_result(\n",
      "/Users/jimitbhalavat/opt/anaconda3/lib/python3.8/site-packages/sklearn/linear_model/_logistic.py:763: ConvergenceWarning: lbfgs failed to converge (status=1):\n",
      "STOP: TOTAL NO. of ITERATIONS REACHED LIMIT.\n",
      "\n",
      "Increase the number of iterations (max_iter) or scale the data as shown in:\n",
      "    https://scikit-learn.org/stable/modules/preprocessing.html\n",
      "Please also refer to the documentation for alternative solver options:\n",
      "    https://scikit-learn.org/stable/modules/linear_model.html#logistic-regression\n",
      "  n_iter_i = _check_optimize_result(\n",
      "/Users/jimitbhalavat/opt/anaconda3/lib/python3.8/site-packages/sklearn/linear_model/_logistic.py:763: ConvergenceWarning: lbfgs failed to converge (status=1):\n",
      "STOP: TOTAL NO. of ITERATIONS REACHED LIMIT.\n",
      "\n",
      "Increase the number of iterations (max_iter) or scale the data as shown in:\n",
      "    https://scikit-learn.org/stable/modules/preprocessing.html\n",
      "Please also refer to the documentation for alternative solver options:\n",
      "    https://scikit-learn.org/stable/modules/linear_model.html#logistic-regression\n",
      "  n_iter_i = _check_optimize_result(\n"
     ]
    },
    {
     "name": "stdout",
     "output_type": "stream",
     "text": [
      "[0.51459854 0.54379562 0.50729927 0.51459854 0.52007299 0.57116788\n",
      " 0.48175182 0.52189781 0.49452555 0.51094891]\n",
      "0.5180656934306569\n"
     ]
    }
   ],
   "source": [
    "cross_val = cross_val_score(LogisticRegression(), X, y, scoring='accuracy', cv=10)\n",
    "print(cross_val)\n",
    "print(cross_val.mean())"
   ]
  },
  {
   "cell_type": "code",
   "execution_count": 19,
   "metadata": {},
   "outputs": [
    {
     "data": {
      "image/png": "[encoded data removed]",
      "text/plain": [
       "<Figure size 720x360 with 1 Axes>"
      ]
     },
     "metadata": {
      "needs_background": "light"
     },
     "output_type": "display_data"
    }
   ],
   "source": [
    "tsla2['Predicted Signal'] = model.predict(X)\n",
    "tsla2['Returns'] = np.log(tsla2['Close']/tsla2['Close'].shift(1))\n",
    "cumsum_tsla_ret = np.cumsum(tsla2[split:]['Returns'])\n",
    "\n",
    "tsla2['Strategy'] = tsla2['Returns'] * tsla2['Predicted Signal'].shift(1)\n",
    "cumsum_tsla_st = np.cumsum(tsla2[split:]['Strategy'])\n",
    "\n",
    "plt.figure(figsize=(10,5))\n",
    "plt.plot(cumsum_tsla_ret, color='r',label = 'JP Morgan Returns')\n",
    "plt.plot(cumsum_tsla_st, color='g', label = 'Strategy Returns')\n",
    "plt.legend()\n",
    "plt.show()"
   ]
  },
  {
   "cell_type": "markdown",
   "metadata": {},
   "source": [
    "### k-Nearest Neighbors"
   ]
  },
  {
   "cell_type": "code",
   "execution_count": 20,
   "metadata": {},
   "outputs": [
    {
     "data": {
      "text/html": [
       "<div>\n",
       "<style scoped>\n",
       "    .dataframe tbody tr th:only-of-type {\n",
       "        vertical-align: middle;\n",
       "    }\n",
       "\n",
       "    .dataframe tbody tr th {\n",
       "        vertical-align: top;\n",
       "    }\n",
       "\n",
       "    .dataframe thead th {\n",
       "        text-align: right;\n",
       "    }\n",
       "</style>\n",
       "<table border=\"1\" class=\"dataframe\">\n",
       "  <thead>\n",
       "    <tr style=\"text-align: right;\">\n",
       "      <th></th>\n",
       "      <th>Date</th>\n",
       "      <th>Open</th>\n",
       "      <th>High</th>\n",
       "      <th>Low</th>\n",
       "      <th>Close</th>\n",
       "      <th>Adj Close</th>\n",
       "      <th>Volume</th>\n",
       "    </tr>\n",
       "  </thead>\n",
       "  <tbody>\n",
       "    <tr>\n",
       "      <th>0</th>\n",
       "      <td>2000-01-03</td>\n",
       "      <td>49.833332</td>\n",
       "      <td>50.250000</td>\n",
       "      <td>48.083332</td>\n",
       "      <td>48.583332</td>\n",
       "      <td>25.561586</td>\n",
       "      <td>12019200</td>\n",
       "    </tr>\n",
       "    <tr>\n",
       "      <th>1</th>\n",
       "      <td>2000-01-04</td>\n",
       "      <td>47.083332</td>\n",
       "      <td>47.458332</td>\n",
       "      <td>46.125000</td>\n",
       "      <td>47.250000</td>\n",
       "      <td>25.000719</td>\n",
       "      <td>11723400</td>\n",
       "    </tr>\n",
       "    <tr>\n",
       "      <th>2</th>\n",
       "      <td>2000-01-05</td>\n",
       "      <td>46.833332</td>\n",
       "      <td>48.375000</td>\n",
       "      <td>46.000000</td>\n",
       "      <td>46.958332</td>\n",
       "      <td>24.846399</td>\n",
       "      <td>8714550</td>\n",
       "    </tr>\n",
       "    <tr>\n",
       "      <th>3</th>\n",
       "      <td>2000-01-06</td>\n",
       "      <td>46.750000</td>\n",
       "      <td>48.625000</td>\n",
       "      <td>46.500000</td>\n",
       "      <td>47.625000</td>\n",
       "      <td>25.199142</td>\n",
       "      <td>8369250</td>\n",
       "    </tr>\n",
       "    <tr>\n",
       "      <th>4</th>\n",
       "      <td>2000-01-07</td>\n",
       "      <td>48.416668</td>\n",
       "      <td>49.000000</td>\n",
       "      <td>47.333332</td>\n",
       "      <td>48.500000</td>\n",
       "      <td>25.662115</td>\n",
       "      <td>6571950</td>\n",
       "    </tr>\n",
       "  </tbody>\n",
       "</table>\n",
       "</div>"
      ],
      "text/plain": [
       "         Date       Open       High        Low      Close  Adj Close    Volume\n",
       "0  2000-01-03  49.833332  50.250000  48.083332  48.583332  25.561586  12019200\n",
       "1  2000-01-04  47.083332  47.458332  46.125000  47.250000  25.000719  11723400\n",
       "2  2000-01-05  46.833332  48.375000  46.000000  46.958332  24.846399   8714550\n",
       "3  2000-01-06  46.750000  48.625000  46.500000  47.625000  25.199142   8369250\n",
       "4  2000-01-07  48.416668  49.000000  47.333332  48.500000  25.662115   6571950"
      ]
     },
     "execution_count": 20,
     "metadata": {},
     "output_type": "execute_result"
    }
   ],
   "source": [
    "# Read In Data\n",
    "tsla = pd.read_csv('Data/JPM.csv', sep = \",\")\n",
    "tsla3 = tsla.dropna()\n",
    "tsla3.head()"
   ]
  },
  {
   "cell_type": "code",
   "execution_count": 21,
   "metadata": {},
   "outputs": [],
   "source": [
    "tsla3 = tsla3[['Open', 'High', 'Close', 'Low']]\n",
    "tsla3['Open-Close'] = tsla3.Open - tsla3.Close\n",
    "tsla3['High-Low'] = tsla3.High = tsla3.Low\n",
    "tsla3 = tsla3.dropna()\n",
    "X_knn = tsla3[['Open-Close', 'High-Low']]\n",
    "\n",
    "Y_knn = np.where(tsla3['Close'].shift(-1) > tsla3['Close'], 1, -1)\n",
    "\n",
    "split3 = int(0.7 * len(tsla3))\n",
    "\n",
    "X_train_knn = X_knn[:split3]\n",
    "Y_train_knn = Y_knn[:split3]\n",
    "X_test_knn = X_knn[split3:]\n",
    "Y_test_knn = Y_knn[split3:]"
   ]
  },
  {
   "cell_type": "code",
   "execution_count": 22,
   "metadata": {},
   "outputs": [
    {
     "data": {
      "text/plain": [
       "KNeighborsClassifier(n_neighbors=15)"
      ]
     },
     "execution_count": 22,
     "metadata": {},
     "output_type": "execute_result"
    }
   ],
   "source": [
    "knn = KNeighborsClassifier(n_neighbors = 15)\n",
    "knn.fit(X_train_knn, Y_train_knn)\n"
   ]
  },
  {
   "cell_type": "code",
   "execution_count": 23,
   "metadata": {},
   "outputs": [
    {
     "data": {
      "image/png": "[encoded data removed]",
      "text/plain": [
       "<Figure size 720x360 with 1 Axes>"
      ]
     },
     "metadata": {
      "needs_background": "light"
     },
     "output_type": "display_data"
    }
   ],
   "source": [
    "tsla3['Predicted'] = knn.predict(X_knn)\n",
    "tsla3['Returns'] = np.log(tsla3['Close']/tsla3['Close'].shift(1))\n",
    "cumsum_ret = tsla3[split3:]['Returns'].cumsum() * 100\n",
    "tsla3['Strategy'] = tsla3['Returns'] * tsla3['Predicted'].shift(1)\n",
    "cumsum_stra = tsla3[split3:]['Strategy'].cumsum() * 100\n",
    "\n",
    "plt.figure(figsize = (10,5))\n",
    "plt.plot(cumsum_ret, color='r',label = 'JP Morgan Returns')\n",
    "plt.plot(cumsum_stra, color='g', label = 'Strategy Returns')\n",
    "plt.legend()\n",
    "plt.show()"
   ]
  },
  {
   "cell_type": "code",
   "execution_count": 24,
   "metadata": {},
   "outputs": [
    {
     "name": "stdout",
     "output_type": "stream",
     "text": [
      "Average of the training set = 0.52\n",
      "Average of the testing set = 0.5\n"
     ]
    }
   ],
   "source": [
    "train = []\n",
    "test = []\n",
    "\n",
    "for i in range(1, 151, 5):\n",
    "    knn2 = KNeighborsClassifier(n_neighbors = i * 10)\n",
    "    knn2.fit(X_train_knn, Y_train_knn)\n",
    "    train.append(accuracy_score(Y_train_knn, knn2.predict(X_train_knn)))\n",
    "    test.append(accuracy_score(Y_test_knn, knn2.predict(X_test_knn)))\n",
    "\n",
    "print(\"Average of the training set =\", round(sum(train)/len(train), 2))\n",
    "print(\"Average of the testing set =\", round(sum(test)/len(test), 2))"
   ]
  },
  {
   "cell_type": "markdown",
   "metadata": {},
   "source": [
    "### LSTM"
   ]
  },
  {
   "cell_type": "code",
   "execution_count": 25,
   "metadata": {},
   "outputs": [
    {
     "data": {
      "text/html": [
       "<div>\n",
       "<style scoped>\n",
       "    .dataframe tbody tr th:only-of-type {\n",
       "        vertical-align: middle;\n",
       "    }\n",
       "\n",
       "    .dataframe tbody tr th {\n",
       "        vertical-align: top;\n",
       "    }\n",
       "\n",
       "    .dataframe thead th {\n",
       "        text-align: right;\n",
       "    }\n",
       "</style>\n",
       "<table border=\"1\" class=\"dataframe\">\n",
       "  <thead>\n",
       "    <tr style=\"text-align: right;\">\n",
       "      <th></th>\n",
       "      <th>Date</th>\n",
       "      <th>Open</th>\n",
       "      <th>High</th>\n",
       "      <th>Low</th>\n",
       "      <th>Close</th>\n",
       "      <th>Adj Close</th>\n",
       "      <th>Volume</th>\n",
       "    </tr>\n",
       "  </thead>\n",
       "  <tbody>\n",
       "    <tr>\n",
       "      <th>0</th>\n",
       "      <td>2000-01-03</td>\n",
       "      <td>49.833332</td>\n",
       "      <td>50.250000</td>\n",
       "      <td>48.083332</td>\n",
       "      <td>48.583332</td>\n",
       "      <td>25.561586</td>\n",
       "      <td>12019200</td>\n",
       "    </tr>\n",
       "    <tr>\n",
       "      <th>1</th>\n",
       "      <td>2000-01-04</td>\n",
       "      <td>47.083332</td>\n",
       "      <td>47.458332</td>\n",
       "      <td>46.125000</td>\n",
       "      <td>47.250000</td>\n",
       "      <td>25.000719</td>\n",
       "      <td>11723400</td>\n",
       "    </tr>\n",
       "    <tr>\n",
       "      <th>2</th>\n",
       "      <td>2000-01-05</td>\n",
       "      <td>46.833332</td>\n",
       "      <td>48.375000</td>\n",
       "      <td>46.000000</td>\n",
       "      <td>46.958332</td>\n",
       "      <td>24.846399</td>\n",
       "      <td>8714550</td>\n",
       "    </tr>\n",
       "    <tr>\n",
       "      <th>3</th>\n",
       "      <td>2000-01-06</td>\n",
       "      <td>46.750000</td>\n",
       "      <td>48.625000</td>\n",
       "      <td>46.500000</td>\n",
       "      <td>47.625000</td>\n",
       "      <td>25.199142</td>\n",
       "      <td>8369250</td>\n",
       "    </tr>\n",
       "    <tr>\n",
       "      <th>4</th>\n",
       "      <td>2000-01-07</td>\n",
       "      <td>48.416668</td>\n",
       "      <td>49.000000</td>\n",
       "      <td>47.333332</td>\n",
       "      <td>48.500000</td>\n",
       "      <td>25.662115</td>\n",
       "      <td>6571950</td>\n",
       "    </tr>\n",
       "  </tbody>\n",
       "</table>\n",
       "</div>"
      ],
      "text/plain": [
       "         Date       Open       High        Low      Close  Adj Close    Volume\n",
       "0  2000-01-03  49.833332  50.250000  48.083332  48.583332  25.561586  12019200\n",
       "1  2000-01-04  47.083332  47.458332  46.125000  47.250000  25.000719  11723400\n",
       "2  2000-01-05  46.833332  48.375000  46.000000  46.958332  24.846399   8714550\n",
       "3  2000-01-06  46.750000  48.625000  46.500000  47.625000  25.199142   8369250\n",
       "4  2000-01-07  48.416668  49.000000  47.333332  48.500000  25.662115   6571950"
      ]
     },
     "execution_count": 25,
     "metadata": {},
     "output_type": "execute_result"
    }
   ],
   "source": [
    "# Read In Data\n",
    "tsla = pd.read_csv('Data/JPM.csv', sep = \",\")\n",
    "tsla.head()"
   ]
  },
  {
   "cell_type": "code",
   "execution_count": 26,
   "metadata": {},
   "outputs": [
    {
     "data": {
      "image/png": "[encoded data removed]",
      "text/plain": [
       "<Figure size 720x360 with 1 Axes>"
      ]
     },
     "metadata": {
      "needs_background": "light"
     },
     "output_type": "display_data"
    }
   ],
   "source": [
    "plt.figure(figsize = (10,5))\n",
    "plt.title('Close Price History')\n",
    "plt.plot(tsla['Close'])\n",
    "plt.xlabel('Data', fontsize=15 )\n",
    "plt.ylabel('Close Price USD ($)', fontsize=15)\n",
    "plt.show()"
   ]
  },
  {
   "cell_type": "code",
   "execution_count": 27,
   "metadata": {},
   "outputs": [],
   "source": [
    "#Create a dataframe with only the 'Create Column\n",
    "data = tsla.filter(['Close'])\n",
    "#convert the dataframe to a numpy array\n",
    "dataset = data.values\n",
    "#get the number of rows to train the model on\n",
    "training_data_len= math.ceil(len(dataset)* 0.85)"
   ]
  },
  {
   "cell_type": "code",
   "execution_count": 28,
   "metadata": {},
   "outputs": [],
   "source": [
    "#Scale the all of the data to be values between 0 and 1 \n",
    "scaler = MinMaxScaler(feature_range=(0,1))\n",
    "scaled_data = scaler.fit_transform(dataset)"
   ]
  },
  {
   "cell_type": "code",
   "execution_count": 29,
   "metadata": {},
   "outputs": [],
   "source": [
    "#Create the scaled training data set \n",
    "train_data = scaled_data[0:training_data_len  , : ]\n",
    "#Split the data into x_train and y_train data sets\n",
    "x_train=[]\n",
    "y_train = []\n",
    "for i in range(180,len(train_data)):\n",
    "    x_train.append(train_data[i-180:i,0])\n",
    "    y_train.append(train_data[i,0])"
   ]
  },
  {
   "cell_type": "code",
   "execution_count": 30,
   "metadata": {},
   "outputs": [],
   "source": [
    "x_train, y_train = np.array(x_train), np.array(y_train)\n",
    "#Reshape the data into the shape accepted by the LSTM\n",
    "x_train = np.reshape(x_train, (x_train.shape[0],x_train.shape[1],1))"
   ]
  },
  {
   "cell_type": "code",
   "execution_count": 31,
   "metadata": {},
   "outputs": [],
   "source": [
    "model = Sequential()\n",
    "model.add(LSTM(units=50, return_sequences=True,input_shape=(x_train.shape[1],1)))\n",
    "model.add(Dropout(0.2))\n",
    "model.add(LSTM(units=50, return_sequences=False))\n",
    "model.add(Dropout(0.2))\n",
    "#model.add(Dense(units=25))\n",
    "model.add(Dense(units=1))"
   ]
  },
  {
   "cell_type": "code",
   "execution_count": 32,
   "metadata": {},
   "outputs": [
    {
     "name": "stdout",
     "output_type": "stream",
     "text": [
      "Epoch 1/15\n",
      "141/141 [==============================] - 24s 150ms/step - loss: 0.0025\n",
      "Epoch 2/15\n",
      "141/141 [==============================] - 23s 162ms/step - loss: 6.3394e-04\n",
      "Epoch 3/15\n",
      "141/141 [==============================] - 25s 177ms/step - loss: 5.6779e-04\n",
      "Epoch 4/15\n",
      "141/141 [==============================] - 25s 178ms/step - loss: 5.5182e-04\n",
      "Epoch 5/15\n",
      "141/141 [==============================] - 25s 178ms/step - loss: 4.8435e-04\n",
      "Epoch 6/15\n",
      "141/141 [==============================] - 25s 180ms/step - loss: 4.4099e-04\n",
      "Epoch 7/15\n",
      "141/141 [==============================] - 25s 174ms/step - loss: 4.0593e-04\n",
      "Epoch 8/15\n",
      "141/141 [==============================] - 21s 151ms/step - loss: 4.0634e-04\n",
      "Epoch 9/15\n",
      "141/141 [==============================] - 22s 152ms/step - loss: 3.2526e-04\n",
      "Epoch 10/15\n",
      "141/141 [==============================] - 21s 152ms/step - loss: 3.4010e-04\n",
      "Epoch 11/15\n",
      "141/141 [==============================] - 21s 152ms/step - loss: 2.9733e-04\n",
      "Epoch 12/15\n",
      "141/141 [==============================] - 22s 153ms/step - loss: 2.8207e-04\n",
      "Epoch 13/15\n",
      "141/141 [==============================] - 22s 153ms/step - loss: 2.8262e-04\n",
      "Epoch 14/15\n",
      "141/141 [==============================] - 22s 153ms/step - loss: 2.9325e-04\n",
      "Epoch 15/15\n",
      "141/141 [==============================] - 22s 155ms/step - loss: 2.6661e-04\n"
     ]
    },
    {
     "data": {
      "text/plain": [
       "<keras.callbacks.History at 0x7fe98dc701f0>"
      ]
     },
     "execution_count": 32,
     "metadata": {},
     "output_type": "execute_result"
    }
   ],
   "source": [
    "# Compile the model\n",
    "model.compile(optimizer='adam', loss='mean_squared_error')\n",
    "# Train the model\n",
    "model.fit(x_train, y_train, batch_size=32, epochs=15)"
   ]
  },
  {
   "cell_type": "code",
   "execution_count": 33,
   "metadata": {},
   "outputs": [],
   "source": [
    "# Test data set\n",
    "test_data = scaled_data[training_data_len - 180: , : ]\n",
    "# Create the x_test and y_test data sets\n",
    "x_test = []\n",
    "y_test =  dataset[training_data_len : , : ] \n",
    "for i in range(180,len(test_data)):\n",
    "    x_test.append(test_data[i-180:i,0])"
   ]
  },
  {
   "cell_type": "code",
   "execution_count": 34,
   "metadata": {},
   "outputs": [
    {
     "name": "stdout",
     "output_type": "stream",
     "text": [
      "4.79159310791682\n",
      "3.8520015837363877\n"
     ]
    }
   ],
   "source": [
    "x_test = np.array(x_test)\n",
    "x_test = np.reshape(x_test, (x_test.shape[0],x_test.shape[1],1))\n",
    "# Getting the models predicted price values\n",
    "predictions = model.predict(x_test) \n",
    "predictions = scaler.inverse_transform(predictions)\n",
    "# Undo scaling\n",
    "rmse = math.sqrt(mean_squared_error(y_test, predictions))\n",
    "mae = mean_absolute_error(y_test, predictions)\n",
    "\n",
    "print(rmse)\n",
    "print(mae)"
   ]
  },
  {
   "cell_type": "code",
   "execution_count": 35,
   "metadata": {},
   "outputs": [
    {
     "data": {
      "image/png": "[encoded data removed]",
      "text/plain": [
       "<Figure size 432x288 with 1 Axes>"
      ]
     },
     "metadata": {
      "needs_background": "light"
     },
     "output_type": "display_data"
    }
   ],
   "source": [
    "# Visualising the results\n",
    "plt.plot(y_test,color='red',label='Real JP Morgan Stock price')\n",
    "plt.plot(predictions/0.8,color='blue',label='Predicted JP Morgan Stock price')\n",
    "plt.title('JP Morgan stock price prediction using LSTM')\n",
    "plt.xlabel('Timeline')\n",
    "plt.ylabel('Stock Price')\n",
    "plt.legend()\n",
    "plt.show()"
   ]
  },
  {
   "cell_type": "code",
   "execution_count": null,
   "metadata": {},
   "outputs": [],
   "source": []
  }
 ],
 "metadata": {
  "interpreter": {
   "hash": "767d51c1340bd893661ea55ea3124f6de3c7a262a8b4abca0554b478b1e2ff90"
  },
  "kernelspec": {
   "display_name": "Python 2.7.18 64-bit",
   "language": "python",
   "name": "python3"
  },
  "language_info": {
   "codemirror_mode": {
    "name": "ipython",
    "version": 3
   },
   "file_extension": ".py",
   "mimetype": "text/x-python",
   "name": "python",
   "nbconvert_exporter": "python",
   "pygments_lexer": "ipython3",
   "version": "3.8.8"
  },
  "orig_nbformat": 4
 },
 "nbformat": 4,
 "nbformat_minor": 2
}
