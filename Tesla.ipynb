{
 "cells": [
  {
   "cell_type": "markdown",
   "metadata": {
    "cell_id": "00000-d4eea66f-f8f3-4864-b5a5-3756b5f11083",
    "deepnote_cell_type": "markdown",
    "tags": []
   },
   "source": [
    "# CS440 Term Project"
   ]
  },
  {
   "cell_type": "markdown",
   "metadata": {
    "cell_id": "00001-5083d6c9-5b03-46c8-b045-84301a3a5885",
    "deepnote_cell_type": "markdown",
    "tags": []
   },
   "source": [
    "Data Source: https://finance.yahoo.com/"
   ]
  },
  {
   "cell_type": "markdown",
   "metadata": {
    "cell_id": "00002-14950b5c-7f87-41e8-bcf7-fb159839f653",
    "deepnote_cell_type": "markdown",
    "tags": []
   },
  {
   "cell_type": "code",
   "execution_count": 352,
   "metadata": {
    "cell_id": "00003-4430d918-c1cc-454a-a744-818807a337d3",
    "deepnote_cell_type": "code",
    "deepnote_to_be_reexecuted": false,
    "execution_millis": 8451,
    "execution_start": 1636849659259,
    "source_hash": "8aebdde6",
    "tags": []
   },
   "outputs": [],
   "source": [
    "# Imports\n",
    "import numpy as np\n",
    "import pandas as pd\n",
    "import math\n",
    "import pandas_ta as pta\n",
    "from matplotlib import pyplot as plt\n",
    "%matplotlib inline\n",
    "import talib as ta\n",
    "import tensorflow as tf\n",
    "from tensorflow.keras import datasets, layers, models\n",
    "from tensorflow.keras.models import Sequential\n",
    "from tensorflow.keras.layers import Dense, Conv1D, Flatten, MaxPooling1D, Dropout, LeakyReLU, LSTM\n",
    "from sklearn import model_selection\n",
    "from sklearn.preprocessing import MinMaxScaler, StandardScaler, MinMaxScaler\n",
    "from sklearn.metrics import accuracy_score, precision_score, confusion_matrix\n",
    "from sklearn.neighbors import KNeighborsClassifier\n",
    "from pandas.plotting import register_matplotlib_converters\n",
    "from sklearn.linear_model import LogisticRegression\n",
    "from sklearn import metrics\n",
    "from sklearn.model_selection import cross_val_score, train_test_split\n",
    "from sklearn.metrics import mean_squared_error\n",
    "from sklearn.metrics import mean_absolute_error\n",
    "from sklearn.model_selection import GridSearchCV\n",
    "from sklearn.metrics import make_scorer\n",
    "\n"
   ]
  },
  {
   "cell_type": "markdown",
   "metadata": {
    "cell_id": "00011-1d1b35eb-533a-4ddb-b497-f2547e5889aa",
    "deepnote_cell_type": "markdown",
    "tags": []
   },
   "source": [
    "### TESLA"
   ]
  },
  {
   "cell_type": "markdown",
   "metadata": {
    "cell_id": "00011-6ed4d8a3-ef1c-4113-b098-b91418d22732",
    "deepnote_cell_type": "markdown",
    "tags": []
   },
   "source": [
    "### Neural Network"
   ]
  },
  {
   "cell_type": "code",
   "execution_count": 353,
   "metadata": {},
   "outputs": [
    {
     "data": {
      "text/html": [
       "<div>\n",
       "<style scoped>\n",
       "    .dataframe tbody tr th:only-of-type {\n",
       "        vertical-align: middle;\n",
       "    }\n",
       "\n",
       "    .dataframe tbody tr th {\n",
       "        vertical-align: top;\n",
       "    }\n",
       "\n",
       "    .dataframe thead th {\n",
       "        text-align: right;\n",
       "    }\n",
       "</style>\n",
       "<table border=\"1\" class=\"dataframe\">\n",
       "  <thead>\n",
       "    <tr style=\"text-align: right;\">\n",
       "      <th></th>\n",
       "      <th>Date</th>\n",
       "      <th>Open</th>\n",
       "      <th>High</th>\n",
       "      <th>Low</th>\n",
       "      <th>Close</th>\n",
       "      <th>Adj Close</th>\n",
       "      <th>Volume</th>\n",
       "    </tr>\n",
       "  </thead>\n",
       "  <tbody>\n",
       "    <tr>\n",
       "      <th>0</th>\n",
       "      <td>2010-06-30</td>\n",
       "      <td>5.158</td>\n",
       "      <td>6.084</td>\n",
       "      <td>4.660</td>\n",
       "      <td>4.766</td>\n",
       "      <td>4.766</td>\n",
       "      <td>85935500</td>\n",
       "    </tr>\n",
       "    <tr>\n",
       "      <th>1</th>\n",
       "      <td>2010-07-01</td>\n",
       "      <td>5.000</td>\n",
       "      <td>5.184</td>\n",
       "      <td>4.054</td>\n",
       "      <td>4.392</td>\n",
       "      <td>4.392</td>\n",
       "      <td>41094000</td>\n",
       "    </tr>\n",
       "    <tr>\n",
       "      <th>2</th>\n",
       "      <td>2010-07-02</td>\n",
       "      <td>4.600</td>\n",
       "      <td>4.620</td>\n",
       "      <td>3.742</td>\n",
       "      <td>3.840</td>\n",
       "      <td>3.840</td>\n",
       "      <td>25699000</td>\n",
       "    </tr>\n",
       "    <tr>\n",
       "      <th>3</th>\n",
       "      <td>2010-07-06</td>\n",
       "      <td>4.000</td>\n",
       "      <td>4.000</td>\n",
       "      <td>3.166</td>\n",
       "      <td>3.222</td>\n",
       "      <td>3.222</td>\n",
       "      <td>34334500</td>\n",
       "    </tr>\n",
       "    <tr>\n",
       "      <th>4</th>\n",
       "      <td>2010-07-07</td>\n",
       "      <td>3.280</td>\n",
       "      <td>3.326</td>\n",
       "      <td>2.996</td>\n",
       "      <td>3.160</td>\n",
       "      <td>3.160</td>\n",
       "      <td>34608500</td>\n",
       "    </tr>\n",
       "  </tbody>\n",
       "</table>\n",
       "</div>"
      ],
      "text/plain": [
       "         Date   Open   High    Low  Close  Adj Close    Volume\n",
       "0  2010-06-30  5.158  6.084  4.660  4.766      4.766  85935500\n",
       "1  2010-07-01  5.000  5.184  4.054  4.392      4.392  41094000\n",
       "2  2010-07-02  4.600  4.620  3.742  3.840      3.840  25699000\n",
       "3  2010-07-06  4.000  4.000  3.166  3.222      3.222  34334500\n",
       "4  2010-07-07  3.280  3.326  2.996  3.160      3.160  34608500"
      ]
     },
     "execution_count": 353,
     "metadata": {},
     "output_type": "execute_result"
    }
   ],
   "source": [
    "# Read In Data\n",
    "tsla = pd.read_csv('Data/TSLA.csv', sep = \",\")\n",
    "tsla.head()"
   ]
  },
  {
   "cell_type": "code",
   "execution_count": 354,
   "metadata": {},
   "outputs": [],
   "source": [
    "# Compute STOCH %K & %D\n",
    "\n",
    "stochKD = pta.stoch(low = tsla.Low, high = tsla.High, close = tsla.Close, k = 14, d = 3, smooth_k = 9)\n",
    "stochKD = stochKD.iloc[10: , :]\n",
    "tsla = tsla.iloc[23: , :]\n",
    "\n",
    "tsla.reset_index(inplace = True)\n",
    "tsla = tsla.drop(\"index\", 1)\n",
    "\n",
    "tsla[\"%K\"] = np.array(stochKD.STOCHk_14_3_9)\n",
    "tsla[\"%D\"] = np.array(stochKD.STOCHd_14_3_9)\n",
    "\n",
    "# Compute Price 1 | 0 price in 10d (1 = up & 0 = down)\n",
    "\n",
    "tenDay = []\n",
    "for i in range(tsla.shape[0]-10):\n",
    "    if(tsla.Close[i] - tsla.Close[i+10] < 0):\n",
    "        tenDay.append(1)\n",
    "    else:\n",
    "        tenDay.append(0)\n",
    "tsla = tsla.iloc[:-10]\n",
    "tsla[\"Ten Day Gain\"] = np.array(tenDay)"
   ]
  },
  {
   "cell_type": "code",
   "execution_count": 355,
   "metadata": {},
   "outputs": [
    {
     "data": {
      "text/html": [
       "<div>\n",
       "<style scoped>\n",
       "    .dataframe tbody tr th:only-of-type {\n",
       "        vertical-align: middle;\n",
       "    }\n",
       "\n",
       "    .dataframe tbody tr th {\n",
       "        vertical-align: top;\n",
       "    }\n",
       "\n",
       "    .dataframe thead th {\n",
       "        text-align: right;\n",
       "    }\n",
       "</style>\n",
       "<table border=\"1\" class=\"dataframe\">\n",
       "  <thead>\n",
       "    <tr style=\"text-align: right;\">\n",
       "      <th></th>\n",
       "      <th>Open</th>\n",
       "      <th>High</th>\n",
       "      <th>Low</th>\n",
       "      <th>Close</th>\n",
       "      <th>Ten Day Gain</th>\n",
       "    </tr>\n",
       "  </thead>\n",
       "  <tbody>\n",
       "    <tr>\n",
       "      <th>0</th>\n",
       "      <td>4.200</td>\n",
       "      <td>4.390</td>\n",
       "      <td>4.164</td>\n",
       "      <td>4.390</td>\n",
       "      <td>0</td>\n",
       "    </tr>\n",
       "    <tr>\n",
       "      <th>1</th>\n",
       "      <td>4.390</td>\n",
       "      <td>4.436</td>\n",
       "      <td>4.170</td>\n",
       "      <td>4.252</td>\n",
       "      <td>0</td>\n",
       "    </tr>\n",
       "    <tr>\n",
       "      <th>2</th>\n",
       "      <td>4.308</td>\n",
       "      <td>4.310</td>\n",
       "      <td>4.010</td>\n",
       "      <td>4.090</td>\n",
       "      <td>0</td>\n",
       "    </tr>\n",
       "    <tr>\n",
       "      <th>3</th>\n",
       "      <td>4.020</td>\n",
       "      <td>4.032</td>\n",
       "      <td>3.904</td>\n",
       "      <td>3.918</td>\n",
       "      <td>0</td>\n",
       "    </tr>\n",
       "    <tr>\n",
       "      <th>4</th>\n",
       "      <td>3.980</td>\n",
       "      <td>3.996</td>\n",
       "      <td>3.890</td>\n",
       "      <td>3.920</td>\n",
       "      <td>1</td>\n",
       "    </tr>\n",
       "  </tbody>\n",
       "</table>\n",
       "</div>"
      ],
      "text/plain": [
       "    Open   High    Low  Close  Ten Day Gain\n",
       "0  4.200  4.390  4.164  4.390             0\n",
       "1  4.390  4.436  4.170  4.252             0\n",
       "2  4.308  4.310  4.010  4.090             0\n",
       "3  4.020  4.032  3.904  3.918             0\n",
       "4  3.980  3.996  3.890  3.920             1"
      ]
     },
     "execution_count": 355,
     "metadata": {},
     "output_type": "execute_result"
    }
   ],
   "source": [
    "# Remove Columns\n",
    "tsla = tsla.drop([\"Adj Close\", \"Volume\",\"Date\", \"%K\", \"%D\"], 1)\n",
    "tsla.head()"
   ]
  },
  {
   "cell_type": "code",
   "execution_count": 356,
   "metadata": {},
   "outputs": [
    {
     "data": {
      "text/plain": [
       "array([[ 4.2     ,  4.39    ,  4.164   ,  4.39    ],\n",
       "       [ 4.39    ,  4.436   ,  4.17    ,  4.252   ],\n",
       "       [ 4.308   ,  4.31    ,  4.01    ,  4.09    ],\n",
       "       ...,\n",
       "       [49.599998, 50.883999, 48.972   , 50.700001],\n",
       "       [49.860001, 50.706001, 49.585999, 50.476002],\n",
       "       [51.133999, 51.661999, 50.669998, 50.972   ]])"
      ]
     },
     "execution_count": 356,
     "metadata": {},
     "output_type": "execute_result"
    }
   ],
   "source": [
    "n = tsla.shape[0]\n",
    "splitRow = int(n * 0.80)\n",
    "tsla4 = tsla.to_numpy()\n",
    "\n",
    "# Splits\n",
    "x_train = tsla4[:splitRow, :-1]\n",
    "y_train = tsla4[:splitRow, -1]\n",
    "x_test = tsla4[splitRow:, :-1]\n",
    "y_test = tsla4[splitRow:, -1]\n",
    "\n",
    "x_train"
   ]
  },
  {
   "cell_type": "code",
   "execution_count": 357,
   "metadata": {},
   "outputs": [],
   "source": [
    "# norm = MinMaxScaler()\n",
    "# x_train = norm.fit_transform(x_train)\n",
    "\n",
    "x_train = x_train.reshape(x_train.shape[0], x_train.shape[1], 1)\n",
    "x_test = x_test.reshape(x_test.shape[0], x_test.shape[1], 1)"
   ]
  },
  {
   "cell_type": "code",
   "execution_count": 358,
   "metadata": {},
   "outputs": [],
   "source": [
    "model_tsla_nn = Sequential()\n",
    "model_tsla_nn.add(Dense(12, input_dim=4, activation=\"relu\"))\n",
    "model_tsla_nn.add(Dense(12, activation=\"relu\"))\n",
    "model_tsla_nn.add(Dense(1, activation=\"softmax\")) #SOFTMAX"
   ]
  },
  {
   "cell_type": "code",
   "execution_count": 359,
   "metadata": {},
   "outputs": [],
   "source": [
    "model_tsla_nn.compile(loss = \"binary_crossentropy\", optimizer = \"adam\", metrics = [\"accuracy\"])"
   ]
  },
  {
   "cell_type": "code",
   "execution_count": 360,
   "metadata": {},
   "outputs": [
    {
     "name": "stdout",
     "output_type": "stream",
     "text": [
      "Epoch 1/10\n",
      "3/3 [==============================] - 0s 3ms/step - loss: 11.8854 - accuracy: 0.5421\n",
      "Epoch 2/10\n",
      "3/3 [==============================] - 0s 3ms/step - loss: 9.9602 - accuracy: 0.5421\n",
      "Epoch 3/10\n",
      "3/3 [==============================] - 0s 2ms/step - loss: 7.9993 - accuracy: 0.5421\n",
      "Epoch 4/10\n",
      "3/3 [==============================] - 0s 5ms/step - loss: 6.0903 - accuracy: 0.5421\n",
      "Epoch 5/10\n",
      "3/3 [==============================] - 0s 3ms/step - loss: 4.2265 - accuracy: 0.5421\n",
      "Epoch 6/10\n",
      "3/3 [==============================] - 0s 3ms/step - loss: 2.3681 - accuracy: 0.5421\n",
      "Epoch 7/10\n",
      "3/3 [==============================] - 0s 3ms/step - loss: 0.8784 - accuracy: 0.5421\n",
      "Epoch 8/10\n",
      "3/3 [==============================] - 0s 3ms/step - loss: 1.3103 - accuracy: 0.5421\n",
      "Epoch 9/10\n",
      "3/3 [==============================] - 0s 3ms/step - loss: 1.8570 - accuracy: 0.5421\n",
      "Epoch 10/10\n",
      "3/3 [==============================] - 0s 3ms/step - loss: 1.7780 - accuracy: 0.5421\n"
     ]
    },
    {
     "data": {
      "text/plain": [
       "<keras.callbacks.History at 0x7faab067f7c0>"
      ]
     },
     "execution_count": 360,
     "metadata": {},
     "output_type": "execute_result"
    }
   ],
   "source": [
    "model_tsla_nn.fit(x_train, y_train, epochs = 10, batch_size = 1000)"
   ]
  },
  {
   "cell_type": "code",
   "execution_count": 361,
   "metadata": {},
   "outputs": [
    {
     "data": {
      "text/plain": [
       "0.6684397163120568"
      ]
     },
     "execution_count": 361,
     "metadata": {},
     "output_type": "execute_result"
    }
   ],
   "source": [
    "pred_tsla_nn = model_tsla_nn.predict(x_test)\n",
    "acc_tsla_nn = accuracy_score(pred_tsla_nn, y_test)\n",
    "acc_tsla_nn"
   ]
  },
  {
   "cell_type": "markdown",
   "metadata": {
    "cell_id": "00012-bcbec868-8a20-4c7b-bb1c-2e3feb16bdc0",
    "deepnote_cell_type": "markdown",
    "tags": []
   },
   "source": [
    "### Logistic Regression"
   ]
  },
  {
   "cell_type": "code",
   "execution_count": 362,
   "metadata": {},
   "outputs": [
    {
     "data": {
      "text/html": [
       "<div>\n",
       "<style scoped>\n",
       "    .dataframe tbody tr th:only-of-type {\n",
       "        vertical-align: middle;\n",
       "    }\n",
       "\n",
       "    .dataframe tbody tr th {\n",
       "        vertical-align: top;\n",
       "    }\n",
       "\n",
       "    .dataframe thead th {\n",
       "        text-align: right;\n",
       "    }\n",
       "</style>\n",
       "<table border=\"1\" class=\"dataframe\">\n",
       "  <thead>\n",
       "    <tr style=\"text-align: right;\">\n",
       "      <th></th>\n",
       "      <th>Date</th>\n",
       "      <th>Open</th>\n",
       "      <th>High</th>\n",
       "      <th>Low</th>\n",
       "      <th>Close</th>\n",
       "      <th>Adj Close</th>\n",
       "      <th>Volume</th>\n",
       "    </tr>\n",
       "  </thead>\n",
       "  <tbody>\n",
       "    <tr>\n",
       "      <th>0</th>\n",
       "      <td>2010-06-30</td>\n",
       "      <td>5.158</td>\n",
       "      <td>6.084</td>\n",
       "      <td>4.660</td>\n",
       "      <td>4.766</td>\n",
       "      <td>4.766</td>\n",
       "      <td>85935500</td>\n",
       "    </tr>\n",
       "    <tr>\n",
       "      <th>1</th>\n",
       "      <td>2010-07-01</td>\n",
       "      <td>5.000</td>\n",
       "      <td>5.184</td>\n",
       "      <td>4.054</td>\n",
       "      <td>4.392</td>\n",
       "      <td>4.392</td>\n",
       "      <td>41094000</td>\n",
       "    </tr>\n",
       "    <tr>\n",
       "      <th>2</th>\n",
       "      <td>2010-07-02</td>\n",
       "      <td>4.600</td>\n",
       "      <td>4.620</td>\n",
       "      <td>3.742</td>\n",
       "      <td>3.840</td>\n",
       "      <td>3.840</td>\n",
       "      <td>25699000</td>\n",
       "    </tr>\n",
       "    <tr>\n",
       "      <th>3</th>\n",
       "      <td>2010-07-06</td>\n",
       "      <td>4.000</td>\n",
       "      <td>4.000</td>\n",
       "      <td>3.166</td>\n",
       "      <td>3.222</td>\n",
       "      <td>3.222</td>\n",
       "      <td>34334500</td>\n",
       "    </tr>\n",
       "    <tr>\n",
       "      <th>4</th>\n",
       "      <td>2010-07-07</td>\n",
       "      <td>3.280</td>\n",
       "      <td>3.326</td>\n",
       "      <td>2.996</td>\n",
       "      <td>3.160</td>\n",
       "      <td>3.160</td>\n",
       "      <td>34608500</td>\n",
       "    </tr>\n",
       "  </tbody>\n",
       "</table>\n",
       "</div>"
      ],
      "text/plain": [
       "         Date   Open   High    Low  Close  Adj Close    Volume\n",
       "0  2010-06-30  5.158  6.084  4.660  4.766      4.766  85935500\n",
       "1  2010-07-01  5.000  5.184  4.054  4.392      4.392  41094000\n",
       "2  2010-07-02  4.600  4.620  3.742  3.840      3.840  25699000\n",
       "3  2010-07-06  4.000  4.000  3.166  3.222      3.222  34334500\n",
       "4  2010-07-07  3.280  3.326  2.996  3.160      3.160  34608500"
      ]
     },
     "execution_count": 362,
     "metadata": {},
     "output_type": "execute_result"
    }
   ],
   "source": [
    "# Read In Data\n",
    "tsla = pd.read_csv('Data/TSLA.csv', sep = \",\")\n",
    "tsla2 = tsla.dropna()\n",
    "tsla2.head()"
   ]
  },
  {
   "cell_type": "code",
   "execution_count": 363,
   "metadata": {
    "cell_id": "00015-ac6ebd16-d63e-4ae5-ade5-64cbdf3fb955",
    "deepnote_cell_type": "code",
    "deepnote_to_be_reexecuted": false,
    "execution_millis": 115,
    "execution_start": 1636756283662,
    "source_hash": "ad0c460c",
    "tags": []
   },
   "outputs": [],
   "source": [
    "tsla2['S_10'] = tsla2['Close'].rolling(window = 14).mean()\n",
    "tsla2['Corr'] = tsla2['Close'].rolling(window = 14).corr(tsla2['S_10'])\n",
    "tsla2['RSI'] = ta.RSI(np.array(tsla2['Close']), timeperiod = 14)\n",
    "# The difference between the open price of yesterday and today\n",
    "tsla2['Open-Close'] = tsla2['Open'] - tsla2['Close'].shift(1)\n",
    "# The difference close price of yesterday and the open price of today\n",
    "tsla2['Open-Open'] = tsla2['Open'] - tsla2['Open'].shift(1)\n",
    "tsla2 = tsla2.dropna()\n",
    "tsla2 = tsla2.drop(['Date', 'Adj Close', 'Volume'], axis = 1)\n",
    "X = tsla2.iloc[:,:9]"
   ]
  },
  {
   "cell_type": "code",
   "execution_count": 364,
   "metadata": {
    "cell_id": "00015-9dab7005-94f4-4572-8656-c1c5aba2f639",
    "deepnote_cell_type": "code",
    "deepnote_to_be_reexecuted": false,
    "execution_millis": 0,
    "execution_start": 1636756286850,
    "source_hash": "8920b792",
    "tags": []
   },
   "outputs": [],
   "source": [
    "y = np.where(tsla2['Close'].shift(-1) > tsla2['Close'],1,-1)"
   ]
  },
  {
   "cell_type": "code",
   "execution_count": 365,
   "metadata": {
    "cell_id": "00016-a03da9ac-5e52-4aba-8133-dd09879fdcb9",
    "deepnote_cell_type": "code",
    "deepnote_to_be_reexecuted": false,
    "execution_millis": 2,
    "execution_start": 1636756291888,
    "source_hash": "e77aa529",
    "tags": []
   },
   "outputs": [],
   "source": [
    "split = int(0.7 * len(tsla2))\n",
    "X_train, X_test, y_train, y_test = X[:split], X[split:], y[:split], y[split:]"
   ]
  },
  {
   "cell_type": "code",
   "execution_count": 366,
   "metadata": {
    "cell_id": "00017-49fffcff-b93a-4987-b9ac-a268e57dda9d",
    "deepnote_cell_type": "code",
    "deepnote_to_be_reexecuted": false,
    "execution_millis": 189,
    "execution_start": 1636756295867,
    "source_hash": "2eaeef42",
    "tags": []
   },
   "outputs": [
    {
     "name": "stderr",
     "output_type": "stream",
     "text": [
      "/Users/jimitbhalavat/opt/anaconda3/lib/python3.8/site-packages/sklearn/linear_model/_logistic.py:763: ConvergenceWarning: lbfgs failed to converge (status=1):\n",
      "STOP: TOTAL NO. of ITERATIONS REACHED LIMIT.\n",
      "\n",
      "Increase the number of iterations (max_iter) or scale the data as shown in:\n",
      "    https://scikit-learn.org/stable/modules/preprocessing.html\n",
      "Please also refer to the documentation for alternative solver options:\n",
      "    https://scikit-learn.org/stable/modules/linear_model.html#logistic-regression\n",
      "  n_iter_i = _check_optimize_result(\n"
     ]
    },
    {
     "data": {
      "text/html": [
       "<div>\n",
       "<style scoped>\n",
       "    .dataframe tbody tr th:only-of-type {\n",
       "        vertical-align: middle;\n",
       "    }\n",
       "\n",
       "    .dataframe tbody tr th {\n",
       "        vertical-align: top;\n",
       "    }\n",
       "\n",
       "    .dataframe thead th {\n",
       "        text-align: right;\n",
       "    }\n",
       "</style>\n",
       "<table border=\"1\" class=\"dataframe\">\n",
       "  <thead>\n",
       "    <tr style=\"text-align: right;\">\n",
       "      <th></th>\n",
       "      <th>0</th>\n",
       "      <th>1</th>\n",
       "    </tr>\n",
       "  </thead>\n",
       "  <tbody>\n",
       "    <tr>\n",
       "      <th>0</th>\n",
       "      <td>Open</td>\n",
       "      <td>[0.3037471457723646]</td>\n",
       "    </tr>\n",
       "    <tr>\n",
       "      <th>1</th>\n",
       "      <td>High</td>\n",
       "      <td>[-0.22613461367017546]</td>\n",
       "    </tr>\n",
       "    <tr>\n",
       "      <th>2</th>\n",
       "      <td>Low</td>\n",
       "      <td>[-0.2091599129080941]</td>\n",
       "    </tr>\n",
       "    <tr>\n",
       "      <th>3</th>\n",
       "      <td>Close</td>\n",
       "      <td>[0.13802902699981864]</td>\n",
       "    </tr>\n",
       "    <tr>\n",
       "      <th>4</th>\n",
       "      <td>S_10</td>\n",
       "      <td>[-0.007673439761046159]</td>\n",
       "    </tr>\n",
       "    <tr>\n",
       "      <th>5</th>\n",
       "      <td>Corr</td>\n",
       "      <td>[0.054339045538926704]</td>\n",
       "    </tr>\n",
       "    <tr>\n",
       "      <th>6</th>\n",
       "      <td>RSI</td>\n",
       "      <td>[-0.004489472786957012]</td>\n",
       "    </tr>\n",
       "    <tr>\n",
       "      <th>7</th>\n",
       "      <td>Open-Close</td>\n",
       "      <td>[-0.05601794381946111]</td>\n",
       "    </tr>\n",
       "    <tr>\n",
       "      <th>8</th>\n",
       "      <td>Open-Open</td>\n",
       "      <td>[0.018270039184202436]</td>\n",
       "    </tr>\n",
       "  </tbody>\n",
       "</table>\n",
       "</div>"
      ],
      "text/plain": [
       "            0                        1\n",
       "0        Open     [0.3037471457723646]\n",
       "1        High   [-0.22613461367017546]\n",
       "2         Low    [-0.2091599129080941]\n",
       "3       Close    [0.13802902699981864]\n",
       "4        S_10  [-0.007673439761046159]\n",
       "5        Corr   [0.054339045538926704]\n",
       "6         RSI  [-0.004489472786957012]\n",
       "7  Open-Close   [-0.05601794381946111]\n",
       "8   Open-Open   [0.018270039184202436]"
      ]
     },
     "execution_count": 366,
     "metadata": {},
     "output_type": "execute_result"
    }
   ],
   "source": [
    "model = LogisticRegression()\n",
    "model = model.fit (X_train, y_train)\n",
    "pd.DataFrame(zip(X.columns, np.transpose(model.coef_)))"
   ]
  },
  {
   "cell_type": "code",
   "execution_count": 367,
   "metadata": {
    "cell_id": "00018-77e868a9-0629-4122-9d75-a954dff43669",
    "deepnote_cell_type": "code",
    "deepnote_to_be_reexecuted": false,
    "execution_millis": 3,
    "execution_start": 1636756299635,
    "source_hash": "fb897462",
    "tags": []
   },
   "outputs": [
    {
     "name": "stdout",
     "output_type": "stream",
     "text": [
      "[[5.51710446e-01 4.48289554e-01]\n",
      " [5.48116120e-01 4.51883880e-01]\n",
      " [5.85572142e-01 4.14427858e-01]\n",
      " ...\n",
      " [9.93096128e-01 6.90387244e-03]\n",
      " [5.75143213e-01 4.24856787e-01]\n",
      " [9.99989296e-01 1.07043775e-05]]\n"
     ]
    }
   ],
   "source": [
    "probability = model.predict_proba(X_test)\n",
    "print(probability)"
   ]
  },
  {
   "cell_type": "code",
   "execution_count": 368,
   "metadata": {
    "cell_id": "00019-88e7420e-6b55-4430-8beb-16555782b23d",
    "deepnote_cell_type": "code",
    "deepnote_to_be_reexecuted": false,
    "execution_millis": 8,
    "execution_start": 1636756301451,
    "source_hash": "f6faeb2e",
    "tags": []
   },
   "outputs": [
    {
     "name": "stdout",
     "output_type": "stream",
     "text": [
      "[[5.51710446e-01 4.48289554e-01]\n",
      " [5.48116120e-01 4.51883880e-01]\n",
      " [5.85572142e-01 4.14427858e-01]\n",
      " ...\n",
      " [9.93096128e-01 6.90387244e-03]\n",
      " [5.75143213e-01 4.24856787e-01]\n",
      " [9.99989296e-01 1.07043775e-05]]\n",
      "0.5047169811320755\n"
     ]
    }
   ],
   "source": [
    "probability = model.predict_proba(X_test)\n",
    "print(probability)\n",
    "\n",
    "predicted = model.predict(X_test)\n",
    "print(model.score(X_test,y_test))"
   ]
  },
  {
   "cell_type": "code",
   "execution_count": 369,
   "metadata": {
    "cell_id": "00021-c96f9754-908b-4a79-a882-fa0f3d50d341",
    "deepnote_cell_type": "code",
    "deepnote_to_be_reexecuted": false,
    "execution_millis": 1044,
    "execution_start": 1636756305166,
    "source_hash": "483a455f",
    "tags": []
   },
   "outputs": [
    {
     "name": "stderr",
     "output_type": "stream",
     "text": [
      "/Users/jimitbhalavat/opt/anaconda3/lib/python3.8/site-packages/sklearn/linear_model/_logistic.py:763: ConvergenceWarning: lbfgs failed to converge (status=1):\n",
      "STOP: TOTAL NO. of ITERATIONS REACHED LIMIT.\n",
      "\n",
      "Increase the number of iterations (max_iter) or scale the data as shown in:\n",
      "    https://scikit-learn.org/stable/modules/preprocessing.html\n",
      "Please also refer to the documentation for alternative solver options:\n",
      "    https://scikit-learn.org/stable/modules/linear_model.html#logistic-regression\n",
      "  n_iter_i = _check_optimize_result(\n",
      "/Users/jimitbhalavat/opt/anaconda3/lib/python3.8/site-packages/sklearn/linear_model/_logistic.py:763: ConvergenceWarning: lbfgs failed to converge (status=1):\n",
      "STOP: TOTAL NO. of ITERATIONS REACHED LIMIT.\n",
      "\n",
      "Increase the number of iterations (max_iter) or scale the data as shown in:\n",
      "    https://scikit-learn.org/stable/modules/preprocessing.html\n",
      "Please also refer to the documentation for alternative solver options:\n",
      "    https://scikit-learn.org/stable/modules/linear_model.html#logistic-regression\n",
      "  n_iter_i = _check_optimize_result(\n",
      "/Users/jimitbhalavat/opt/anaconda3/lib/python3.8/site-packages/sklearn/linear_model/_logistic.py:763: ConvergenceWarning: lbfgs failed to converge (status=1):\n",
      "STOP: TOTAL NO. of ITERATIONS REACHED LIMIT.\n",
      "\n",
      "Increase the number of iterations (max_iter) or scale the data as shown in:\n",
      "    https://scikit-learn.org/stable/modules/preprocessing.html\n",
      "Please also refer to the documentation for alternative solver options:\n",
      "    https://scikit-learn.org/stable/modules/linear_model.html#logistic-regression\n",
      "  n_iter_i = _check_optimize_result(\n",
      "/Users/jimitbhalavat/opt/anaconda3/lib/python3.8/site-packages/sklearn/linear_model/_logistic.py:763: ConvergenceWarning: lbfgs failed to converge (status=1):\n",
      "STOP: TOTAL NO. of ITERATIONS REACHED LIMIT.\n",
      "\n",
      "Increase the number of iterations (max_iter) or scale the data as shown in:\n",
      "    https://scikit-learn.org/stable/modules/preprocessing.html\n",
      "Please also refer to the documentation for alternative solver options:\n",
      "    https://scikit-learn.org/stable/modules/linear_model.html#logistic-regression\n",
      "  n_iter_i = _check_optimize_result(\n",
      "/Users/jimitbhalavat/opt/anaconda3/lib/python3.8/site-packages/sklearn/linear_model/_logistic.py:763: ConvergenceWarning: lbfgs failed to converge (status=1):\n",
      "STOP: TOTAL NO. of ITERATIONS REACHED LIMIT.\n",
      "\n",
      "Increase the number of iterations (max_iter) or scale the data as shown in:\n",
      "    https://scikit-learn.org/stable/modules/preprocessing.html\n",
      "Please also refer to the documentation for alternative solver options:\n",
      "    https://scikit-learn.org/stable/modules/linear_model.html#logistic-regression\n",
      "  n_iter_i = _check_optimize_result(\n"
     ]
    },
    {
     "name": "stdout",
     "output_type": "stream",
     "text": [
      "[0.51236749 0.50883392 0.49116608 0.51236749 0.5229682  0.5177305\n",
      " 0.4751773  0.5212766  0.46099291 0.5212766 ]\n",
      "0.5044157080921233\n"
     ]
    },
    {
     "name": "stderr",
     "output_type": "stream",
     "text": [
      "/Users/jimitbhalavat/opt/anaconda3/lib/python3.8/site-packages/sklearn/linear_model/_logistic.py:763: ConvergenceWarning: lbfgs failed to converge (status=1):\n",
      "STOP: TOTAL NO. of ITERATIONS REACHED LIMIT.\n",
      "\n",
      "Increase the number of iterations (max_iter) or scale the data as shown in:\n",
      "    https://scikit-learn.org/stable/modules/preprocessing.html\n",
      "Please also refer to the documentation for alternative solver options:\n",
      "    https://scikit-learn.org/stable/modules/linear_model.html#logistic-regression\n",
      "  n_iter_i = _check_optimize_result(\n",
      "/Users/jimitbhalavat/opt/anaconda3/lib/python3.8/site-packages/sklearn/linear_model/_logistic.py:763: ConvergenceWarning: lbfgs failed to converge (status=1):\n",
      "STOP: TOTAL NO. of ITERATIONS REACHED LIMIT.\n",
      "\n",
      "Increase the number of iterations (max_iter) or scale the data as shown in:\n",
      "    https://scikit-learn.org/stable/modules/preprocessing.html\n",
      "Please also refer to the documentation for alternative solver options:\n",
      "    https://scikit-learn.org/stable/modules/linear_model.html#logistic-regression\n",
      "  n_iter_i = _check_optimize_result(\n"
     ]
    }
   ],
   "source": [
    "cross_val = cross_val_score(LogisticRegression(), X, y, scoring='accuracy', cv=10)\n",
    "print(cross_val)\n",
    "print(cross_val.mean())"
   ]
  },
  {
   "cell_type": "code",
   "execution_count": 370,
   "metadata": {},
   "outputs": [
    {
     "data": {
      "image/png": "iVBORw0KGgoAAAANSUhEUgAAAlsAAAEvCAYAAAByngQ7AAAAOXRFWHRTb2Z0d2FyZQBNYXRwbG90bGliIHZlcnNpb24zLjMuNCwgaHR0cHM6Ly9tYXRwbG90bGliLm9yZy8QVMy6AAAACXBIWXMAAAsTAAALEwEAmpwYAAB/r0lEQVR4nO3dd1xV5R/A8c/DUmSJuHDiNnHg3jv3yIaZmWaWZtmetpeV7X5mWTY0y9IyLVeZe2uCe++BIg5QREEZ5/fHw7kDLghy4QJ+368Xr3Puuefe8+BB+N7n+T7fRxmGgRBCCCGEyBturm6AEEIIIURRJsGWEEIIIUQekmBLCCGEECIPSbAlhBBCCJGHJNgSQgghhMhDEmwJIYQQQuQhD1c3ICulS5c2QkJCXN0MIYQQQojrioiIOGcYRpn0xwt0sBUSEkJ4eLirmyGEEEIIcV1KqWOOjsswohBCCCFEHpJgSwghhBAiD0mwJYQQQgiRhwp0zpYjSUlJREZGkpiY6OqmCCcrXrw4lSpVwtPT09VNEUIIIZym0AVbkZGR+Pn5ERISglLK1c0RTmIYBufPnycyMpJq1aq5ujlCCCGE0xS6YcTExESCgoIk0CpilFIEBQVJj6UQQogip9AFW4AEWkWU3FchhBBFUaEMtlzl/PnzhIWFERYWRvny5alYsaLl8bVr1677+qlTp/LYY49l+3orVqwgICCAxo0bU7duXZ577rnrvubzzz/nypUr2b6GEEIIIfKWBFs5EBQUxNatW9m6dSujR4/m6aeftjz28vLKk2u2b9+eLVu2sGXLFubPn8/atWuzPP9Ggq3k5OTcNFEIIYQQWZBgK5ciIiLo2LEjTZs2pUePHkRFRQEwYcIE6tWrR8OGDbnnnnsyvG7evHm0bNmSxo0bc+uttxIdHZ3ldby9vQkLC+PkyZMA/Pvvv7Ru3ZomTZowcOBA4uPjmTBhAqdOnaJz58507twZAF9fX8t7zJo1i+HDhwMwfPhwnnnmGTp37syLL77I8OHDeeKJJ2jTpg3Vq1dn1qxZAERFRdGhQwfCwsKoX78+q1evzvW/mRBCCJFvNmyAH34Aw3BZEyTYygXDMHj88ceZNWsWERERjBgxgldeeQWA8ePHs2XLFrZv387XX3+d4bXt2rVjw4YNbNmyhXvuuYcPP/wwy2vFxsZy4MABOnTowLlz5xg3bhxLlixh8+bNNGvWjE8//ZQnnniCChUqsHz5cpYvX37d9u/fv58lS5bwySefADqwWrNmDfPnz2fs2LEA/PLLL/To0YOtW7eybds2wsLCcvivJIQQQrjQ77/DE0+AC/OCC13pBztPPQVbtzr3PcPC4PPPs3Xq1atX2blzJ926dQMgJSWF4OBgABo2bMiQIUMYMGAAAwYMyPDayMhIBg0aRFRUFNeuXcu03MHq1atp2LAh+/btY+zYsZQvX5758+eze/du2rZtC8C1a9do3bp1jr/VgQMH4u7ubnk8YMAA3NzcqFevnqWnrXnz5owYMYKkpCQGDBggwZYQQojCJSYGSpVyaROkZysXDMMgNDTUkre1Y8cO/v33XwAWLFjAmDFjiIiIoGnTphnyoh5//HEee+wxduzYwTfffJNpyYP27duzfft2duzYwaRJk9i6dSuGYdCtWzfLdXfv3s3333/v8PW2M/zSX8PHx8fucbFixey+N4AOHTqwatUqKlasyNChQ5k2bVo2/3WEEEKIAiA2FgIDXdqEwt2zlc0eqLxSrFgxzp49y/r162ndujVJSUns37+fW265hRMnTtC5c2fatWvHL7/8Qnx8vN1rL168SMWKFQH48ccfr3ut2rVr89JLL/HBBx8wYcIExowZw8GDB6lZsyZXrlwhMjKS2rVr4+fnx6VLlyhdujQA5cqVY8+ePdSpU4c5c+bg5+eXo+/x2LFjVKxYkZEjR3L58mU2b97MsGHDcvQeQgghhMtIz1bh5ubmxqxZs3jxxRdp1KgRYWFhrFu3jpSUFO677z4aNGhA48aNefrppylZsqTda998800GDhxI+/btLYHR9YwePZpVq1YRHx/P1KlTGTx4MA0bNqRVq1bs3bsXgFGjRtGrVy9Lgvz48ePp27cvXbp0sQxx5sSKFSsICwujcePG/PHHHzz55JM5fg8hhBDCZQpAz5YyXJidfz3NmjUzwsPD7Y7t2bOHW265xUUtEnlN7q8QQginqlgRevWC777L80sppSIMw2iW/rj0bAkhhBCi6CoAPVsSbAkhhBCiaEpMhIQEydkSQgghhMgTsbF6Kz1bQgghhBB5YOFCvXVxLrAEW0IIIYTZA5LeP/84v3i2yD/ffguNGkGHDi5tRq6DLaVUZaXUcqXUHqXULqVUhtoASqlOSqmLSqmtaV+v5/a6QgghhFNMn65zerZvtz8+b56exda9O6SmwvLlkFa4WhRwly7BmjUQHg79+rl0qR5wTs9WMvCsYRi3AK2AMUqpeg7OW20YRlja19tOuK7LvPvuu4SGhtKwYUPCwsLYuHEjAJ9//jlXrlzJ8ftNnTqVU6dOObuZdlasWEFAQACNGzembt26PPfcc9d9zY1+P0IIUajMnau36YMtc43Zs2dhxQro0gV69NA9XQ88ABcu5GMjRY6MHQvt20NKCqTVnXSlXAdbhmFEGYaxOW3/ErAHqJjb9y2o1q9fz/z589m8eTPbt29nyZIlVK5cGcg6OElJScn0PfMj2AK99M+WLVvYsmUL8+fPZ+3atVmefyPBVvpliYQQosBLTdXboUOhXj3YuxeeeQY++0wPQXl4wOzZ1vMbN4apU+HTT13SXJENCxbo7ZtvunwIEZycs6WUCgEaAxsdPN1aKbVNKfW3UirUmdfNT1FRUZQuXdqyjmDp0qWpUKECEyZM4NSpU3Tu3NlSvd3X15fXX3+dli1bsn79et5++22aN29O/fr1GTVqFIZhMGvWLMLDwxkyZAhhYWEkJCQQERFBx44dadq0KT169CAqKgqATZs20bBhQ1q3bs3zzz9P/fr1AR1EbbXJKWjbti3b039Cs+Ht7U1YWBgnT54E4N9//6V169Y0adKEgQMHEh8fn+n3Y5o1axbDhw8HYPjw4TzzzDN07tyZF198keHDh/PEE0/Qpk0bqlevzqxZsyz/dh06dCAsLIz69euzevVqJ9wRIYTIJdsPw3v26GTqzz7Tj7t1g2bN4Msv9ePQUGjRQu//9Vf+tlNkz/HjcOyYvodvvKGDZVczDMMpX4AvEAHc4eA5f8A3bb83cCCL9xkFhAPhVapUMdLbvXt3hmP56dKlS0ajRo2MWrVqGY888oixYsUKy3NVq1Y1zp49a3kMGDNnzrQ8Pn/+vGX/vvvuM+bOnWsYhmF07NjR2LRpk2EYhnHt2jWjdevWxpkzZwzDMIwZM2YYDzzwgGEYhhEaGmqsXbvWMAzDePHFF43Q0FDDMAxj6tSpxpNPPmkYhmHs27fPaNq0aYZ2L1++3OjTp49hGIYRExNjNGnSxIiKijLOnj1rtG/f3oiPjzcMwzDGjx9vvPXWWw6/Hx8fH8v+77//btx///2GYRjG/fffb/Tp08dITk62PL7rrruMlJQUY9euXUaNGjUMwzCMjz/+2Bg3bpxhGIaRnJxsxMXFZWinq++vEOIm1LGjYYD+Kl9ebx991DBWrjSMq1cN47nnrM9HRurXPP20YXh7G0ZKikubLhz44Qd9r3bsyPdLA+GGg9jGKeGeUsoT+AOYbhjG7PTPG4YRZ7O/UCn1lVKqtGEY5xycOxmYDHq5nqyu+9Q/T7H19NbcNt9OWPkwPu/5eabP+/r6EhERwerVq1m+fDmDBg1i/Pjxll4eW+7u7tx5552Wx8uXL+fDDz/kypUrxMTEEBoaSr9+/exes2/fPnbu3Em3bt0APfwYHBzMhQsXuHTpEm3atAHg3nvvZf78+QAMHDiQd955h48++ogffvjBYVsAVq9eTcOGDdm3bx9jx46lfPnyzJ8/n927d9O2bVsArl27RuvWrbP7z2UxcOBA3N3dLY8HDBiAm5sb9erVIzo6GoDmzZszYsQIkpKSGDBgAGFhYTm+jhBCOF1aLz8Av/+uhxNffBGqVNHHQm0GYypU0NvatXWxzMcfh4ce0kOLwvUMA2bNgnLl7O+bi+U62FJKKeB7YI9hGA4HsJVS5YFowzAMpVQL9PDl+dxe21Xc3d3p1KkTnTp1okGDBvz4448OA5zixYtbApDExEQeffRRwsPDqVy5Mm+++SaJiYkZXmMYBqGhoaxfv97ueGxm05KBEiVK0K1bN/766y9+++030q8naWrfvj3z589n//79tGvXjttvvx3DMOjWrRu//vrrdb9vZTObI33bfXx87B6bw6zm9wTQoUMHVq1axYIFCxg6dCjPP/88w4YNu+51hRAizxiGfbDVrh0cOWJ/jm2NJvP3YJ06evvVVzrHa+nSvG2nyJ7Ro3VtrXHjXD4D0ZYzerbaAkOBHUqprWnHXgaqABiG8TVwF/CIUioZSADuMcy/wLmQVQ9UXtm3bx9ubm7UqlULgK1bt1K1alUA/Pz8uHTpEqVLl87wOjM4KV26NPHx8cyaNYu77rrL7nUAderU4ezZs6xfv57WrVuTlJTE/v37CQ0Nxc/Pjw0bNtCqVStmzJhh9/4PPfQQ/fr1o3379pS6zrIEtWvX5qWXXuKDDz5gwoQJjBkzhoMHD1KzZk2uXLlCZGQktWvXzvD9lCtXjj179lCnTh3mzJmDn59fjv7tjh07RsWKFRk5ciSXL19m8+bNEmwJIVwrNlb3UD3/vO6lcqRu3YzHGjeGpk3h/HlYtgzuvFP3qBSgP/BF1oULcPgwNGliPbZiBaxcCZMnw1NPwcsvu6hxjuU62DIMYw2Q5U+XYRgTgYm5vVZBEB8fz+OPP86FCxfw8PCgZs2aTJ48GYBRo0bRq1cvgoODWW5OGU5TsmRJRo4cSYMGDQgJCaF58+aW54YPH87o0aPx9vZm/fr1zJo1iyeeeIKLFy+SnJzMU089RWhoKN9//z0jR47Ex8eHTp06ERAQYHmPpk2b4u/vzwMPPJCt72P06NF8/PHHxMfHM3XqVAYPHszVq1cBGDduHLVr187w/YwfP56+fftSuXJl6tevT3x8fI7+7VasWMFHH32Ep6cnvr6+TJs2LUevF0IIpzN7tZo1g7SZ5RkEBEDLljBkiPVYyZK6htOxY9Cxo56tOGkSPPponjf5pnfPPbBoEXzyCdx1l66H9thj+jk/P3j77QIX9CondDDlmWbNmhnph8T27NnDLS4uu+8q8fHxlhmB48ePJyoqiv/9738AnDp1ik6dOrF3717c3ArvwgA38/0VQrjA339D796wdi2k5cTmWHKyLnz633+6mGYB+0NfpFy5AunSVgDw8tL1tN57z77HK58ppSIMw2iW/ngBmA8psmvBggW8//77JCcnU7VqVaZOnQrAtGnTeOWVV/j0008LdaAlhBD5zuzZqpiL8pAeHjpgW75cB1v+/s5pG+hhsY4drTliN6Nr12DTJl1yY8kSfeyVV+DqVThzBu69V/8bFS/u2nZmQYKtQmTQoEEMGjQow/Fhw4ZJ7pMQQtyIY8d0T1RwcO7ep1w5vT192nnBVmIiPPyw7snJYdpGoTZuHPz5py5Geued0LWrDqzeew9+/FEPFb7+uu7NKiSkG0QIIcTNa/lyneye2z/c5cvr7bRpzls/Ma2gNZcv6+T78HC4/Xad1H/6tHOuUdCcOaMDqX37dFHSDh2sw4Yvv6yPv/NOoQq0oJAGWwU5z0zcOLmvQoh8FREB69frIcDcMnu23n1Xr5/oDGawBTBwIDRvrnt86teHVq2cc42CYvJkPZQbGqrLcXzyifW52bOt5TeGD4cnn3RJE3Oj0AVbxYsX5/z58/KHuYgxDIPz589TvACPuQshipgnn9TDhw8/nPv3MoMtU3S0HvrKDXPNXJul0izHjx3TvUCFRUoKfPABbNuW8bn4eHjiCXBz04VkH38cRo7UC4SfOaPzsR55ROfGvf9+/rfdCQpdzlalSpWIjIzk7Nmzrm6KcLLixYtTqVIlVzdDCHEzuHIFNm6E554DZ/zeSV9fsXx56NtXlyWwFR8P3t5gs+JGpsyercOH4Y47YM0a63ufPg07d0KpUnqx7II2A3L3btiwAWbM0N9rfLxu/9ixOgj18tKzOBcu1AVhr17VQ7Bpa/ECYLvCyuOPWwOuQqjQtdrT05Nq1aq5uhlCCCEKs5Ur9R/79u2d836Ogqe0JdUsNm7Uw38dOuhhsmYZKgTYi4rSwUVQEIwfrwt3jhkDcXFQtSp8+iksWKCr2D/yiHO+D2cwDJ3Unlle2Z49OkDs1cs6u9DdXVfvz0ohDbSgEA4jCiGEEDly7Rrcd5/ubTF9+KEeQuzUyXnXeeaZzJ/bs8eaZ7Vqlc6/cuT0afj+e73dv18Pq7m5Qdu2utxByZK6+Grz5jrQAli82HnfQ3pXruT8Nbt26fa//LK1EOy8efDHH3r/v/90yY0lS/TzwcEwZQp4ejqv3QWMBFtCCCGKto0bYfp0vW4e6Nl9q1bBgw9CiRLOu85HH0FaoWkLM+UlIiJ77/Hqq3ph65YtdXDiKBFeKXjtNevjY8durL1ZSU3VVdp9fOCHHyApSfdYgZ4t+PPPmb924UK9HTkSvvtOzyDs2xf699e1sEaNsg7dPvggREbqxb+LMAm2hBBCFG22C00DbN+ug4nrDePllJubnjVoa8cOuHgRnn1WP3/HHdbnEhOtAYzJDMqOH9fbFi0cX6t7d+v+5s26l2vVKp2I7gzffAM9e+r9Bx/UOVZPP62HXj/6CN54I2PbQX9PH34IXbpASIgOrmrX1s95eGTs0WvWTP+7FHFF/zsUQghxc9u/X289PXWF959+0o8bN3b+tYKDdeHN227Tj7dv1z1UZ87oAO+LL/Rai6AT5c01/QBefBG2brU+btdOV0d3pFgx3Vs3c6buJerbV8/aS5+Qf6N+/VVvO3XSieugr7V3rw6oDh+2Boa2QdeuXXpx7sxyyEJCrPv/+58uUHoTKLzZZkIIIUR2mMFWdLTOEZo3TydnZ7bwdG4NG6a/ypXTPVtmUPfdd1Chgh6CM2faffWVDrKqVNE9QqCfDw2FsLCsr2MGYl276jpUZ886Z0jRMHRQ1bevnk3o46N7zB54QPdqmX75RQ9p9u0LEybAkSOwbp1+rmFDx+/92mtw8KAOQHNbtb8QkWBLCCFE0WEGBT17WoMRM9jatUt/PfecfdCQVxo00MFWrVr6sdke87Fp+3Zrb1f//jBoUM5m3gUF6bwnf3/r8GNuREbqwK1XL2v19r599XbaNF1UtUoVXeH9s8/08bvvtr6+WDGoUcPxe9eqZQ3IbiIyjCiEEKLo+PlnPUw4dqxevPj55/UsRNs//sOH509bGjTQtbDi4nReklm0uU4d2LLF2gvVrx/884/ef+ihGytx4OUF1ao5p2dr7169rVfPeqx0aV2yAmDZMj1U2qWLfjx8uK73ZerZM3t1xG4i0rMlhBCi6PjvP73189PDc8uX68ePP66HERs00EN0+aFhQ0hI0D1XPj72hUfTDxGauVu2AU5OVa0KR49m/vyPP+oetAEDsn4fM9iqW9f++Ny5uhREmTL68bx5uiJ8ixY6oNy7VwddNWve6HdQZEnPlhBCiKLDHEbbvdsaaAFUrw7vvQeDB+dfWxo00Nv16zMuuWN69lm9PXdO19CqXv3Gr3fLLbon7fz5jM9FRekeqNtv14Fnelev6lytF1+EF17QbUm/BFFAgH2eVYkS0Lq17sUKDNT7depIr5YDEmwJIYQoOtLnLNWqpWcGmkNg+alePT18GBOTebD18ce67hTo4CY3y+48+KAOmhzVwJoyxXqNL7+E2Fj9OCUFPv9cD3E+9ZRO0k9M1MOwBW0JoEJMgi0hhBBFR/qcpYED4c8/rQno+alECeuQmplo7sjYsXprVlu/UfXr6xmWmzbZH//rL119vm1bmDVL92D9+acuoNq/v66fBXpGYYMGOgB78cXctUXYkZwtIYQQRcPx47qA6ODBumTBjBnXz0/Kaw0a6NmQmfVsgU5sj411Ts2phg11jpitCRP09rHHdGV6T08YMcL6fJkyOufq6lU9hHgTFBnNb/IvKoQQonCLjtYFQ194QfcgvfGGfnz33XqWniuZCe/Xa0fJks7JdWrYUJebGDlSF1I9dEjPHnzwQbjnHh1oVaumzx0yROeMLV2qF7n+4Qe9hqRwOunZEkIIUXgdPGhft2rwYJ2kXVCYJSccJa3nBXMJou++04GWOUnAtsioueBzx446KDM5WodROIX0bAkhhCi8fvjB/nFeLMGTG+bswujo/Llep07WfdvZmD16WPcTE/XWnC0p8pwEW0IIIQqv9GsBpq/O7mpmsHXmTP5cr1QpfU1z8WeAv/+27+373//0GoWZLakjnE6GEYUQQhRO587pulJDhujcqCpV9Oy6gsSsS3XHHfl3zf37ddmGceN0/po5tGjq00d/iXwjwZYQQojCaeNGvR01yjV1tLLDzU0PIeZn6Qkz0f611/QMRNuldIRLSLAlhBCicDp0SG8LUkK8I2XLuua6SkmgVUBIzpYQQojC6cgRXTjUVcGMENmU62BLKVVZKbVcKbVHKbVLKfWkg3OUUmqCUuqgUmq7UqpJbq8rhBDiJnfkiE70lmVlRAHnjGHEZOBZwzA2K6X8gAil1GLDMHbbnNMLqJX21RKYlLYVQgghbsyRI9YCnUIUYLnu2TIMI8owjM1p+5eAPUDFdKfdBkwztA1ASaVUMEIIIcSNMAw4etRaWkGIAsypOVtKqRCgMbAx3VMVgRM2jyPJGJAJIYQQ2RMbq9fzk54tUQg4LdhSSvkCfwBPGYYRl/5pBy8xMnmfUUqpcKVU+NmzZ53VPCGEEM6we7fuVXK1L7/UWwm2RCHglGBLKeWJDrSmG4Yx28EpkUBlm8eVgFOO3sswjMmGYTQzDKNZmTJlnNE8IYQQzrB8OYSGZlwiJ7/t2AGvv673JdgShYAzZiMq4Htgj2EYn2Zy2lxgWNqsxFbARcMwonJ7bSGEEPno5Em9XbjQte2YbfOZXoItUQg4YzZiW2AosEMptTXt2MtAFQDDML4GFgK9gYPAFeABJ1xXCCFEfjKHD085HJjIPxs3QunSMGEC+Pu7ti1CZEOugy3DMNbgOCfL9hwDGJPbawkhhHChmBi9dXWwdeYMNG8Ogwe7th1CZJNUkBdCCJE9sbF6e+aMa5Pkz54FyekVhYgEW0IIIbLH7NlKTNQBV26sWQO//Zbz1xmGDrZkiR5RiEiwJYQQInvMni2wLgJ9o9q3h0GD4OrVnL3u8mVISJCeLVGoSLAlhBDi+i5dghkzwMdHPz582PrcxYswfDicPg1ffw1//23/2nnz4Px56+P4eOv+ihU5a4dZf1F6tkQh4ozZiEIIIYq6Dz6A5GT9BXqpHNPixfDjj7BkibU8hJnTdfIk9O8PffvqoAvgq6+sr50+HXr0yH47zOFL6dkShYj0bAkhhLi+HTv09t13oWRJ+5wtc98MtEqUsD63fbvemsHZ+fPw5ptw223w8MPw++9w4YLjayYl6RmH//2X8VrSsyUKEQm2hBBCXN/mzTrwefllHejYBlvHj9ufm5hozcXaulVvS5XS2++/1zlX77wDo0bpc6dPd3zNbdv00OUbb1iPmWUnKlTI9bckRH6RYEsIIUTWLlyAyEho3Fg/vl6wlZpq7clat05vV62CZ5+FV1+Fzp2hQQNo0kR/jRsHTzyhZyh+/bXu0TIM+DRtUZJ//rEm5J88CW5uUK5cXn23QjidBFtCCCGyZibD16iht2XL6nUSjx3Tj48fh2bN9H7Tpnp79CgMHQrz51vf59NPdSA1frz12MiROrH+iy/0DMVHHoFFi3Qe2K+/6nPc3fXC01eu6J6tcuXAQ1KOReEhwZYQQoisHTmit9Wr623p0npr9nSdPg21a0NUlE6UBx2A/fyz3q9SxfpeTz0FLVpYHz/wAEyaBN9+C23b6mPbtsGuXXp/4kTo3h0++wxCQuDAARlCFIWOfDQQQgiRuYcfhp9+0vvmos9mIrxZdysmRudklS+ve6HA2qP1zz9QtapOrD94UAdbtooVg9Gj9f5DD4FSeqixTBmdiP/oo3Dtmi4ncfas/urXL6++WyHyhARbQgghHIuKgsmT9X6xYhAQoPf79oUFC6BOHZ2fdeGCNQE+MFBvFy7U29at9WLRZsB2PW3bwtq1Oqhq1kwHX6NHg5eXfv6DD3RPlxCFiARbQgghHFuwQG/9/PRwnunhh3U+VWKiLmhqGNYgy8ND90hduKCH/fz9c3bNOXN0btilS3poEsDbG8aM0fvmVohCRIItIYQQju3fr3u0LlzQMwBNSung6sgR63qJZs8WQFCQfk29ejm/ZpkyOjds2zZo1y43rReiwJAEeSGEEI4dOaLzrdwc/Knw9tb1ssy8LbNnC6y9WaGhN3ZdT0+97dz5xl4vRAEjPVtCCCEcO3LEmhSfnhlsOerZ2rJFb280WPr5Zz2cWKfOjb1eiAJGeraEEEJk9OuvEBGhe7YcySrYeuABvc3Jmoe26tSBsWP1cKUQRYAEW0IIITJ65x297dTJ8fPFi+sio998ox/bDiN+/71ersfR8KMQNyH5nyCEEMLeyZOwZ48uszB4sONzzJ6tFSt01Xfb5XOUspZqEEJIsCWEECKd/fv1tnnzzM/x9tbb4GBdFkKG/ITIlARbQggh7J07p7dlymR+jhlsBQXJcKEQ1yH/Q4QQQtg7f15vg4IyP8cMtnx88r49QhRyEmwJIYSwZ/ZsZRVsFS+utxJsCXFdEmwJIYSwd+6cLkyaVZK72bPl65s/bRKiEJNgSwghhL3z57Pu1QJITtZbCbaEuC4JtoQQQtg7dw5Kl876nMuX9VaGEYW4Lgm2hBCiqEtK0kVKL17M3vknT16/Z8vM2apSJXdtE+ImIGsjCiFEUbdwIbz+Opw4AZMnZ31uRATs2AH335/1effdp4uajhjhvHYKUUQ5pWdLKfWDUuqMUmpnJs93UkpdVEptTft63RnXFUIIkQ1mftXcuRAfn/W58+frAqUPPpj1ee7uMHq0VIoXIhucNYw4Feh5nXNWG4YRlvb1tpOuK4QQ4nrOntXb6Gh4/vmsz928WS8EXbJknjdLiJuFU4ItwzBWATHOeC8hhBBOYhh6seioKOuxrVuzfs3mzdCkSZ42S4ibTX4myLdWSm1TSv2tlArNx+sKIcTNp3VraNBAzxZ8+229pE6DBnDkCPTtC0ePZnxNYiJERsItt+R7c4UoyvIr2NoMVDUMoxHwBfBnZicqpUYppcKVUuFnza5vIYQQObNhA+zaZX1cty7076+HEhcsgGeeyfia2Fi9vd5MRCFEjuRLsGUYRpxhGPFp+wsBT6WUwyIuhmFMNgyjmWEYzcpktQiqEEKI7CtTRudimebMgUmT4OBBWLECliyxBluBgS5pohBFVb6UflBKlQeiDcMwlFIt0EHe+fy4thBC3HSSkqz7q1frWYh9+uihRFuPPmr/+Kuv9FaCLSGcyinBllLqV6ATUFopFQm8AXgCGIbxNXAX8IhSKhlIAO4xDMNwxrWFEEKkE5M2X+nLL6FdO/0Fus6WqUsXWLZM77/1FrzxBnzzjX4swZYQTuWUYMswjMHXeX4iMNEZ1xJCCHEdZr5r+iV3KlSw7v/9NxQrpvdfew1WrYKlS/VjCbaEcCpZrkcIIYqac+f0Nn2w5e5u3ffygnr1oHt3XcR04EDrcxJsCeFUslyPEEIUJYmJ1lpajhaT/vRTa8HSXbt0LS7QMxVHj9b7UtBUCKeSYEsIIYoKw4DmzWFn2sppjhaJfvpp+8dK6W1wsPWYh/xpEMKZZBhRCCGKit27rYFWaGjOe6hGjIAaNZzeLCFudhJsCSFEUWEmxo8ZoxeUzqnvv9d1t4QQTiXBlhBCFBUXLujtgw9CSIgrWyKEsCHBlhBCFBVSAV6IAkmCLSGEKCrMni2ZTShEgSLBlhBCFBWxsXp2ob+/q1sihLAhwZYQQhQVFy5AQEDGNRCFEC4l/yOFEKKoiI2VIUQhCiAJtoQQoqi4cEGS44UogCTYEkKIokJ6toQokCTYEkKIoiIqCsqXd3UrhBDpSLAlhBBFgWHAyZNQsaKrWyKESEeCLSGEKApiYuDqVQm2hCiAJNgSQoiiIDJSbyXYEqLAkWBLCCGKgpMn9bZSJde2QwiRgQRbQghRFBw6pLdVqri2HUKIDCTYEkKIomD9ej2EWKGCq1sihEhHgi0hhCgK1q+H1q312ohCiAJFgi0hhCjsrlyBo0chLMzVLRFCOCDBlhBCFHbHj+ttSIhLmyGEcEyCLSGEKOyOHdPbqlVd2w4hhEMSbAkhREG3ezd07gyXLjl+XoItIQo0CbaEEKKge/FFWLECFi3Sj48cgR07dK5WSooOttzdITjYpc0UQjgmwZYQQhR0JUvq7Z49OuBq0wYaNgQfH/j4YzhwQOdreXi4spVCiEzI/0whhCjoPD319vXXrce6d4d//4WxY/Xjvn3zv11CiGxxSs+WUuoHpdQZpdTOTJ5XSqkJSqmDSqntSqkmzriuEELcFKKj7R//9pvu4brjDuuxatXyt01CiGxz1jDiVKBnFs/3AmqlfY0CJjnpukIIUbRduQL//Wd9PHgwDByo9+vUsR4vXTp/2yWEyDanDCMahrFKKRWSxSm3AdMMwzCADUqpkkqpYMMwopxxfSGEKLJeeQXOnbM+9vKy7r/+OnToAGfOWAMwIUSBk18J8hWBEzaPI9OOZaCUGqWUCldKhZ89ezZfGieEEAVWeLjeDh2qtzVrWp8rXhx69oRhw8DbO//bJoTIlvwKthwt1mU4OtEwjMmGYTQzDKNZmTJl8rhZQoibRmoqPP+8ntFXmCQk6IBq2jRYvFiXgRBCFCr5FWxFApVtHlcCTuXTtYUQQq8d+PHHUK8enD7t6tZkzTAgMVHvnzgBVaro/Vtvtc5MFEIUGvkVbM0FhqXNSmwFXJR8LSFEnjlzRhf7tGWuHwjw8sv5256cevVVPSwYE6O/l8qVr/8aIUSB5azSD78C64E6SqlIpdSDSqnRSqnRaacsBA4DB4FvgUedcV0hhMggJgbKlbPWnzKZS9qArsBekE2ZordBQXpr9mwJIQolZ81GHHyd5w1gjDOuJYQQWTpzRm/nzIGPPrIeN3u2+veHvXvzv105Ua0aRNl0/nfp4rq2CCFyTZbrEUIULVeu6K1tiQTQPVvly0P16nDypM6LKqgiI/XsQ7O9lSq5ukVCiFyQ5XqEEEXLxYt6mz6R/PhxPRxXsSJcvgxxcRAQkP/tu56UFB0MVq4M+/e7ujVCCCeQni0hRNFy4YLeOgq2qlbVwRbogKYgSUrS29OndcBVuTL4+ekvIUShJsGWEKJoMYMt22FEw7D2bFWvro+5qtfo/HnYuNH+2PbtULYsvPOONbHfdikeIUShJsGWEKJoiY3VW9uerXPndHHQKlWgYUNwd4fNm13TvhdegFat4IMPdKHVe++FRo10kPj66/Dzz/q8Fi1c0z4hhNNJsCWEKFrMni03m19vrVvrbdWqun7VLbdARETet2XxYpgwAWbOtB4zZ0KOHauDvl9/1Y+/+goWLLCe5+OT9+0TQuQLSZAXQhQtZrCVkKC3V6/CoUN6v2VLvW3VCn7/Ha5dyzhr0Zm6d7fu3367vtaRI3DPPTBjhj5epw6sXKlrgwEcPJh37RFCuIT0bAkhihYz2Lp8WW8XL9bbGTN0KQWAfv30rMVVq/KuHWawZ1q6FIYM0fWzGjeGyZPhiy90T5cZaAHUqKG/hBBFhvRsCSGKlrg4vb18Gd5/37o0T/361nPat9fbHTv0eoN54exZ+8cLFsAvv+j9O+6AmjXz5rpCiAJHeraEEEWL2aN1+TJ8843er18fate2nhMQAEpZa3I5S3KydZFrs5K96csvoWRJOHVKAi0hbjISbAkhipb4eL09c0ZXjZ84Ufdg2c5OdHPT9asuXIAlS3Q+1datubuuYehcrOBgCA+39mytXw++vnr/scf080KIm4oEW0KIosXs2QIdVN1+u+PzAgJg7lzo1g3+/BO+/TZ3192wAf74Q+9/8w1ER+v9MmV0kVKwFlQVQtxUJNgSQhQtZs8WwIkTUKGC4/MCAvTMQNDnLF+eu+t+/70u11CrFnz3HTzwgD5etqyeEQnSqyXETUqCLSFE0XL5MowapYubZhZogf26iMOGwZ491nyrnEpJ0b1k/fvrYMvk7a2HEFNT9eOs2iOEKLIk2BJCFC2XL+t8rJIlsz7PDLZshxpvtHfLzNHq29daXgJ0SQelrI+lZ0uIm5IEW0KIoiM1VQdb2am+bgZbpUpB06bg7w9r1tzYdc2q8C1agIdNRZ0XXrC/lm09LSHETUPqbAkhig6zkKg5+y8rZgAUFKSXzQkOzlgbK7vM4cfy5SExUe9/+ik88oje37gR1q2znxEphLhpSM+WEKLoMJPjc9KzFRRkfWwWRM2p06d1gOfrq6vTg57laKpTx5owL4S46UjPlhCi6DDLPmSnZ8ssLLp7t976++cu2DLzse66Cy5dyl4bhBA3BenZEkIUHTnp2RoyRG/NnqjcBlu2ifESaAkhbEjPlhCi6MhJz5a3t64g7+2tHwcE3PjyPadPQ4MGN/ZaIUSRJz1bQoiiY+NGvc3urL+AAPDy0vv+/hAZCe++m/Prnjmji5cKIYQDEmwJIYqOr7+G9u2hUaOcv9bfX29ffRX278/+61JTdQ9ZYGDOrymEuClIsCWEKDpOntQ1s2wLiWaXbUX5RYuy/7r4eB1wSbAlhMiEBFtCiKIhMVEHPmXK3Njr3Wx+HcbEZP91Fy7o7fUq1gshbloSbAkhigazIOmNBlvnz1v3zQAqO2Jj9VaCLSFEJiTYEkIUDWfO6O2NJqp36WLdNwOo7DADMxlGFEJkQoItIUTRkNuerS5d4No1aNjwxoKtAtizFRkXyfur32dL1BbLMcMwXNgiIW5OTgm2lFI9lVL7lFIHlVJjHTzfSSl1USm1Ne3rdWdcVwghLHIbbIFeuzAwMGfBVgEdRtx2ehuVP6vMy8te5u5ZdwMwZcsU3N524+zljGtAHow5yImLJ/K7maKIWXN8DZujNru6GQVOrouaKqXcgS+BbkAksEkpNdcwjN3pTl1tGEbf3F5PCCEciozU29zWuwoMhEOHsn9+AR1G/OfgP5b9gzEH2XZ6Gx+v/xiA/ef3U8bHGpQahkGtL2rhrtxJfj0539sqioZFBxfRc3pPyvuWJ+rZKFc3p0BxRs9WC+CgYRiHDcO4BswAbnPC+wohRNaOHYMOHeD112HhQl3F3baEw43Iac/W+fO61ISfX+6u62Qrjq2gSkAVJvaaCMDzi58nISkB0MOLpvBT4UwKnwRAipHCsQvH8r+xotBZengpDSc1ZOrWqZZjX4V/BcDp+NPEXb3Bpa+KKGcEWxUB277nyLRj6bVWSm1TSv2tlArN7M2UUqOUUuFKqfCzZzN2dQshhMVXX8Hq1fDOO7BmDQwcmPv3zGmwtWePXtTa3T3313aioxeO0qJiC8a0GEOPGj2Iio/iStIVy3OgA63m3zZnzMIxltctPLDQFc0VhczTi55mx5kdPPDXA7yz8h1OXTrFgv0LCC2j/7zvPLMz09devnaZvr/0Zd6+efnVXJdzRrDlqHpg+gzMzUBVwzAaAV8Af2b2ZoZhTDYMo5lhGM3K5Cb3QghR9IWHQ9261sejR+f+PStU0GssnjqVvfO3bIGwsNxf18nOXTlHae/SAFQNqMrOMzs5c1nP2Dx2UfderT62GoBpA6YR/1I8lfwrsfzoctc0WBQae87uYceZHbzX5T3aVm7L5xs/54XFL5BipDCh1wTA+rPlyJy9c1hwYAH9Z/QnMTkxy2udu3KOpJQkp7bfFZwRbEUClW0eVwLsfksZhhFnGEZ82v5CwFMpVdoJ1xZC3KxSUyEiAjp1giNHdODljA9ovXvr7Zw51z83IgIOH3Z5sPXYwsfwfMfT8jglNYXzV85b8rLK+eq1Ij3dPanoV9HSs/Xfqf+o7F+ZoY2G4uPlQ8eqHdkQuSHf2y8KhtXHVlt6P7Py267fUCjuD7ufNzu9SUxCDNN3TOeV9q/QpVoXulbryofrPuRq8tUMrx3x1wiGzhlqebz19NZMr/Py0pcp81EZHpr30A19PwWJM4KtTUAtpVQ1pZQXcA8w1/YEpVR5pfT6GUqpFmnXPZ/hnYQQ4nouX4b16+H0abh4UedphYToZXqc4ZZbIDhYB28mw9BDlmYtL9PYsXpNxcGDnXPtG/Tlpi9JTk225GTFJsZiYFC6hP5MW85HB1shJUMIKx9GVLxOXt4YuZEWFVtY3ifYN5hzV87lc+tFfkpJTWHYnGGsOb7GrgzIlC1T6DC1A48tfOy67zF772zaVWlHBb8K3Fr9Vr7q/RWvdXiNdzq/A8BjLR4jJiGGTac28cuOXwj7OoyEpAQSkhKYsnUKAL1q9gJgzp45dP6xM0sPL7W7xs4zO3l/zfsATNs2jWaTmxXqfMJcB1uGYSQDjwGLgD3Ab4Zh7FJKjVZKmX36dwE7lVLbgAnAPYYUexFC3Ih774U2bWDjRv24alXnX8PfH67YfMI/eBDGjIEePezP27MHBgyAatWc34YbcPzicQBLwGQJttJ6tsr6lCXYN5jDsYfZdWYXRy4coWXFlpbXB3oHkpCcwNXkq+w9t1dqchUhhmFwJekKm6M289P2n2g/pT3BnwTz94G/AWty+687f+WR+Y/w2rLXMrxHYnIiV5KusPPMTjqFdLIcf6T5I7zd+W3S+lToULUDAN1/6s6Q2UPYFr2NEu+V4KWlL1le071GdxqUbcCH6z5kxdEV3D3rblKNVADm75/PyHkjUSiOPHmEcZ3HEREVYZeMX9g4pc6WYRgLDcOobRhGDcMw3k079rVhGF+n7U80DCPUMIxGhmG0MgxjnTOuK4S4yRgGzE3rOP/tN72tUsX51ylRwj7YOnpUb7duhR07YNs2vQ7jyZNQu7bzr58D8dfiLfvHLx7nWso1Sx2tMiX0MKKb0r/qqwRUIdgvmLircdSfVB+AlpVsgq3iunzFPwf/4ZYvb2HifxPz5XsQee+biG/wec+HRxY8YjkWfTma3r/0ZtKmSUScimBYo2F4unnydcTXfLbhM7tge92JdXi/6839f95PqpFK4/KNM71WKe9SDG04lEBv+3Io/9v4PwCqlazGkAZDWHb/Mj649QM6VO1ATEIMEaciuHT1Ev1/7c+GyA3cVvc2QkqG8EqHV6hXph5vrnyT5UcKZ06hVJAXQhQetusXzpiht3nRs5U+2DpmM3zRsKHO0Tp4UD92cbBlW0By3Yl1FBtXjDdWvAFYe7Z61ezFqCaj+LT7pwT7BlvO9/Pyo3mF5pbH5h/Hvef2Anp4Mr2FBxby8bqPnf+NiDxzNfkqzyx6BoCIqAjL8Xc6v0NomVAeXfgoBgZPtXyK8FHhvNL+FS4nXbaUCDEMg+82fwfArN2zAGgcnHmwBTDt9mmcfOYkF8deJPX1VCJG6esG+wZz8ImDlPEpQ+kSpXmh7QvMvns2bsqNMQvHUH9SfQwM5gyaw+y7Z1veL8g7CIAu07oUyuFECbaEEIVH+pwp0EN+zubj47hny9vbeswMtmrWdP71c2DuvrmWnqslR5YAWGYUVvTXVXi8Pb35pt83lPMtZwnAvD28OfjEQbw9rd+T2bN15MIRAPad35ehFESfX/rw/OLnZYixEEhJ1XXTXlr6EgnJCVTwq8DEXhMtvVL9avfjzU5v4uflx9i2Y2kc3JjaQbW5tfqtgA66R/w1Aq9xXpZcK4APb/2QqgHZ+5DjX8wfpRRNgpuwdsRa9ozZY/l5NQWVCOK51s+x6dQmriZfpW3ltvSt3dcyLAnwwa0f0KhcIwBum2Et5bn77G6e/PtJvgn/hj/3/snT/zxdIH82c11BXggh8o0ZbM2eDV9/DUFBeXOdEiV0Ar7p6FGdhN+qlbVH7YgOSPJkGDObDMPgr31/0b1Gd07Hn2bN8TWW50p5l6KsT8Zq+uYMxdc7vp7hebNn60DMAcuxvw/8Te9avTO8z9krZx2+vyg4Xlj8Ap9u0L2ZTYObsmnkJpRSdArpxKTwSdQvW59G5RtxV7277F53S+lbAJgUPok5e+fQuHxjbq97O/3q9KNB2Qa4u91YTbk2ldtk+twH3T7g1Q6v4uvlaxdkmVpXbs3W0Vt5b/V7vLLsFXae2clH6z5i2rZpGc7tFNKJ2+oWrNrq0rMlhMhXcVfj+G7zd3SY0oFTl7JZy8oUHa23tWvDokXwyy/ObyBkHEY8cwbKl9fJ+aaICN3TVapU3rQhG/ac28PBmIPcVuc22lSy/iEbHjacRfctcviaTiGdWDl8JS+0fSHDcyWLlwT08j4ebh40LNfQ0ssFcCHxgmX/cOxh53wTIk/siN7Bpxs+BSAqPopu1btZgpjQsqFM7D0x06CpnG85KvtXZs7eOZTwLMGaEWt4reNrhJUPu+FAKzv8ivk5DLRsDQodBECDSQ2Ytm0awxoN4/ATh+lWvRuNyjWidlBtBv8xmFXHVuVZO2+EBFtCiDx1MfEiH6/7mEtXL/HI/EcIGB/AyHkjWX18Nc/9+1z23+jVV+G99/R+btc/vJ70wVZcnF4GqF8/XQICYNMmqFxZL9WTz8wij+Z0+d61etO8ojX36uNuH9OsQrNMX9+haocMQzlgHUY8fvE4Qd5BVA+sbhds7T+/37J/KCYH60eKfGebCA8QVj4sR6+vU7oOoIcaS3iWcFazcq1GqRqWn90pt03hxwE/Ui2wGguHLCRiVASrhq+ion9Fnvj7CRe31J4EW0KIPDVi7gieX/w8FT+tyNcRXwN6iKtmqZrM2z+PaynXrv8mhgHvvgvbt+vHeTV8aCpRQtfzMsXFWXPDmjTR28OHoVKlvG2HA+PXjMf3fV9eW/YaK4+tpJyP7oWoEmAdzgwofmPrQ5YsXhKVtihI6RKlqVayGkcvHMUwDFKNVLsaXLZBmChYjsQeYe2JtYxtO5ZK/vpntE/tPjl6jwcbP0hg8UDG3zo+L5qYKwvuXcD9je5nWKNhlmMebh64u7lTzrccDzZ+kG3R24iOj3ZhK+1JsCUKhPNXzrP+xHpXN0PkAfO+Xrp2id61epP4SiLnXzjPZz0+I/5aPD9v//n6b3L8uP1jtzz+1ZW+Z+vSJetC0xUqWI/nc7D1196/eGnpS1xLuca41eP4Y88fNAluglKKin7WJWk93G4sHdfT3dPSoxFUIogagTW4knQFt7fdaPtDW2ISYiznmkv/iIJn0SE9hDyi8Qg2jdxE7Iux+Hr55ug97ql/D+dfOE9IyZA8aGHu9KzZk6kDpjrsnQXoWq0rAMuOLMvPZmVJgi3hcleSrlB7Ym3a/NBGFsEtYhKSEoiKj2JgvYFMv2M68wfPp5hHMUCXI2hfpT3P/vus3R9xh3amLWrbtSu8kDHXyOlKlICkJP0F9j1btsFWjRp53xYbs/bM0lPnHz/Il72/pGTxknSv0R2wzjzMrTpBOtiqVrIavWr1shzfELnBEmAFFg+UYKsAW3pkKZX9K1OzVE3K+5a35OLl1PXypwqqJsFNKFm8JOPXjufn7T8XiNmJEmwJl4pJiMHnPR/LH9tHFzzKuhPreGzhY0Vi8dGiJiEpgSWHl2T7fHPB4/51+nNvg3vtfnm7u7nzdue3uZB4gaAPg4i7Gpf5G5nDh7//Dh98cENtz5ESaTkqCQl6DcZLl6zBlrtNgnCdOnnfFhsHYw5Sr0w9apSqwaPNH+Xc8+d4suWTADnuuciMGWyNaDyC6oHV6Vmzp+W57dH6PtQOqi3BVgGVaqSy/MhyulTrUmiDpdxyd3OnZcWWbI/eztA5Q1l7Yq2rmyTBlnCt+fvnA+Dl7sXy+5dz7OIx2v7Qli83fWlXrFEUDM/++yzdfurGzjM7s3W+ueBxZkMRHat2pEmwzoE6GHMw8zfatEnXswoMzPwcZzKDrStXdO6WYTiu55XPBU0PxhykZilrXS93N3en/0F9vePrLBu2zLLkyt9D/mbZMD0cE34qHP9i/lTwqyDBVgG1PXo75xPOW4bSblbvdnmXMc3HAAVjOFGCLeFSS48spXSJ0sS/FE+nkE483PRhy3Otvm8lM54KGHM2WnZKNhiGwTcR36BQ1CpVy+E5Sim+66crU2dZSmDjRmjZMvPnnc3HR2+vXNFDiGAfbJlrIeZjQdMLiRc4d+WcXbCV3o8DfuS3u37L1XV8vHzoXK2z3bFqgfr73XV2l6V+lwRbBdPqY6sB7NYuvBk1rdCUib11AdcFBxa4ujkSbAnXORRziN92/Ubf2n3xdPcEYFKfSSS9Zh0+rPlFTWbunOmqJop0zCngl6/pmXqJyYm8u+pdy1IettZHrufPvX/yVqe3LAshO1I9sDqgZ1A5FB4Op05B+/a5bH0O2PZsmcGWmSAPsHQpTJ9ufyyP7Tm7B9BDeJkZ1mgYA0MHOv3alfwrUdyjOKDztcr6lOXclXOkpKY4/Vp5YfWx1fxz8B9XNyPPnb18lhm7ZlCmRBnLLMSb3YjGI/jv5H9siNzg0nZIsCVc5vst35OUksS4zuMsx5RSeLh58NtdvzE8bDgA/x7610UtFOmZwVb4qXBm7Z7FM4ue4dXlrzJy3kguJl60O3fKlin4evnydOuns3xPs0zBC0teYNeZXRlP+OYb8PWFwYOd801kh1mo9NSpzHu2bAuc5oNNpzYBZFk/K694uHlYlngp5V2Kin4VMTAKTWHTDlM70Gt6r+ufWMjdNuM21p1YR0jJkJs2Xyu92+veDljzDV1Fgq0ibMXRFYycO9LlieY7ondw6eolu2Ozds/i/TXv0zGko8NZVANDBzLltim0r9LebukQkXdWHl153VmB5jp67615j4G/D2RS+CTL0h5m4nxSShJbT29l3v559KnVJ1uJ2/1q9wOwn41qGPprwQLo3Ttv1kDMTLNmurzE2rWOgy0X+O/kf1Twq0AFvwrXPzkP1ArSQ8E1S9W0rJ3398G/XdKWG5VqpLq6CXlq6+mtADc8+7AoKuWtPzhdd8ZzHpNgqwgbt2oc3235jg/Xfphn1zhz+QzdfurGuFXjHD5vGAYNv25I6Y9KW37Rnbtyjsf/fhyAR5s9muX71w6qbVe1WuSNj9Z+RKcfO/HqslezPO9q8lXLfgW/CqwcvpJto7cRUCyAqdum0u2nbjT+pjGNv2lM9OVobquTvfXJ5g6eS43AGqyPXM/6E+tZ/EQfJrbzIvqt5yEqCnrlc6+Evz80aqRnP770Enh4QPXq+duGdLZHb7dMJnCFUU1GcWv1W3m3y7vUKFWDaiWrsfr4ape1JzsuJl6k9hfWYdfT8aezOLvwM9eqnNxvsotbUnB4e3pT3KM4sQmxLm2HBFtF2JUkXZTx/TXvc/by2Ty5xoydM1hyeAlfbfoqyzZcS7nGttPbALj3j3s5c/kMqx9YzZ317szy/WsH1Sb6crQk4+aRlNQU/tj9B2+tfAuA1cdX8/C8h9kRvcPh+ZeuWXsox7YdS4eqHfB096RHzR7M3z+fJYeXsOusHgp8se2L3B16d7bb0rZKW1YfX02bH9rQPWghj3dP5rO1n+gne/bM+sV5oUYN2LNHr4H46KP29bXS5Nen5ZTUFPaf30/doLr5cj1H2lZpy+Khiwkqoav3B5UIsuTuFVQTNk6w6xkvLMOeNyI5NZnIuEheaf9KgSxE6kqBxQOlZ0vkDcMw2H12Nx2qduBy0uXsVem+AWavU0JygsPnL1615vG0n9KeYxeOserYKh5r/hjtqrS77vv3qdUHheKLjV84p8HCzsxdM7nr97vw9fKlV81e7Dyzk8mbJ9Po60YOh5/N4eDb695uFygPaTDEsv9O53dIfT2V8beOz9GitT1r9LRbDgbg+8ZwqnV9vQh0fvNNG/709ITPP8/w9O+7fifowyDCT4XneVOOXTzG1ZSr1C3tumArPW8Pb8v/+05TO/HwvIfZdWYXCUmOfxfkl2sp1zgZdxKAzac3U9yjOC0qtgCymIRRiF1LuUbc1ThOxp0kxUihakBVVzepwCnlXYqYRAm2RB44HX+ai1cvctctd9GiYgu+3/J9nlTR3Xd+H6Cnpc/ZMydDSQDbpOnLSZdp+V1LrqZctdTwuZ7QsqG0rNSSNSfWOK/RwmL32d0AHHriEPc1vM9y3MDg3tn3Zli30FxyZ/ag2Xa5Q/3r9Cd8ZDiHnzjMqx1evaHkXNvimbtSRvOQe3PO+UD//i7qPTGDrdKlHS42bU7ceHXZq9z/5/152pR95/T/M3MpnYLA29PbElitPLaSyZsnU39SfUbOG5kv18/s99m7q96l0meV2H12N7vO7KJPrT6sHL4SKJrrOY6aN4qA8QF8Ha7XHW1QroGLW1TwBHoHyjCiyBtm0FMloAojwkaw6+yuPJn6vP/8fsv6VHf8dgftp9hPzzd7tppXaA5A9OVoSniWoG2Vttm+RiX/SkRdinJSi4WtgzEHqR5YHR8vHwaFDuK9Lu/x44AfGVB3ALN2z+LjdR/bnR9/LR4/L8flDppWaGqpx3QjAr0D2VHyZX77Dep1Gsjo+z4HIOLqEdcMV5nBViblHcxSCIsOLWLatml2+WzOZlbiN8tkFAS2PVu2pu+YnucLAA+dMxS3t934fMPnGZ4Lj9I9jePXjOdQ7CFCy4RS3KM4Ff0qFslhxB+3/QjA+LXjubfBvbSq1MrFLSp4ZBhR5BkzEbScbzkGNxhMtZLVuOv3uzhw3nkz+07Hn+b4xeP0qWVdTT79LzOzZ+uzHp+R8EoCf9z9B1se3kJ53+wPC1XwrZCtIpoi5w7FHrIUyXR3c+el9i8xrNEw5gyaQ9dqXZm+YzqgZ3GlpKZw6eqlTIOtXDtzhvrPf8TAS5WhdWuahrRh8dDFACw/ujxvrpkVM9jy8nL4dPphCdshc9BDVjN3ziQmIYYOUzpYZordiKhLUSiUJQG6IDB7ttL3fgL0+LlHnlzzt12/0fnHzpa0iKcXPZ2hxyIxORGAn7f/TKqRSvOK+oNetcBqRa5n6/yV8wD4ePrQpVoXJvSc4OIWFUylvEsRmyg9WyIPmMFWed/y+BfzZ/HQxSSnJtPw64ZOC7jMJRAebW4/o9B26ND8AxRQPIDiHsW545Y7sizK6EiwXzCXrl0i/lp8LlssbKUaqRw4f4AagY4XU+4c0pndZ3ezIXIDbX9oi8c7HkTFRzltDb4MFi7UCz//8Qd46xIT7au0x8fTh78PWEsM/Hvo3ww1vfKEGWxlMiR64uIJu8fp/+jX+qIW9/xxD1/+9yWrj69mcsRk5u2bR+cfO7PrzC5OXDxBvS/rZTqT19bp+NOU8SmDh5vHjX0veaC4R3ESkxMdDs9si97m9OttOrmJwX8MZsXRFXbH0wdQxy8eB/RQeHGP4nSp1gXQC2sXtZytiKgIQM/mXTpsqWXygrAnPVsiz1h6tnx05e4apWowf/B8EpMT+WrTV07J3/rv5H/4ePrQrXo3u+MlPyhpqfpu/lEMKBZww9cxc4NkKNG51p1Yx8WrF2lfxXFldnOot/X3re2qL4eWDc2bBi1aBMHBusZVmmIexehavStz988lJTWFi4kX6fFzD7pM65I3bbCVSbAVkxCDekux+vhqGpZraDl+IfGCZT85NZkUQ1dX/2PPHwBMCp9E/xn9WXF0BXP3zeXd1e+y59weXlv+2nULLp6+fDpHvcH5wRxGtP0j1r1Gd1pUbIG3h7dTc0QNw+CpRU9Rzqecpairl7vucbQNoD5Z94ndGpvtqrSzFOKtV6YeJ+JO4PueryWBvrAz1yi1/TkUGfWr0483Or6RJ3nL2SXBVhEVfTmagGIBliKUAN1qdGNYo2F8vvFzak+sbfnBW3p4KVU+q5LjX0DRl6MJ9gvG3c2dO265A8AyxPTq8leJTYi169m6UWawJUOJzjVv3zy83L3oW7uvw+c7Vu3IW53eokpAFbpW68qvd/5K/EvxPNTkIec3xjBg3Tpo1y5DcHN/o/uJjItk/v75lg8Rm6M25/0vTl/HPXi263X2rdWXdSPWAfbBlu2QoaNenvCocH7e/jMD6g7Az8uPe2bdk2WeU9SlqIIZbCVZg61mFZox866Z3N/ofhKSE4iKd86Ho91nd9Pnlz6sO7GO1zq8ZukZN2v0mT1bLy15iecWPwdAkLfu4alXup7lfUY1HQXoiTq/7PjFKW1ztR1ndlDetzylS5R2dVMKtC7VuvBcm+dcWlVfgq28sGgRTJrk0iZExTv+5fxl7y/x9vDmYMxBTsefZu+5vdz6062ciDth+QSeqUv2VeDPXj5LmRJlAJhx5wzixsZxcexF5g2ex8GYg9SZWIfnFz8PkKuhpzpBegZWbnJeREZHLhwhpGQIfsUc52AppXi94+sce+oYS4Yt4Z769+Dj5ZM3jWndGo4f19t0+tfpj5+XH/8e+pfoy9aAJM9XFrDp2Yq7GmcZLrMtT1GndB1LtW7bnJD1J9Y7fMvnWj9Hy4otmb1nNpeTLvNEiyeYO3guxy4eY9CsQZkGkKfjTxPsG+yEb8p5vD29uZx0mSlbpwDwVe+vKFm8pCUHMLeLyLf6rhVvLH+DHj/3sFSqH9ZoGMXciwG6tz6weCBHYo8QkxDD+LXjAeharSuPt9BFk21n5pXyLsWZ587QuHxjXl/xOi8ufjFX7SsINkdtpn7Z+q5uhsgGCbaAhKQEVh5d6bw37NlTF0G8mA95JQ4kJCWw/Mhyh13Lvl6+zBk0B9DJpcPmDMPTTS8CneXSGz/9pKtq77dWcz975SxlfHSw5enuiV8xP5RS9K3dl9aVWnP2ii6kqlCWGYs3onJAZaoHVndNknQRdurSKZct/WLHMGDjRr3fv3+Gpz3cPGhesTkbT260K25bZ2Id+v7iuFcO4JcdvzDirxF2PU45YtOzVXNCTUp9qJf9sO2xqRNkDbZsr7PhpONFb9tVaWep+fRtv2/pXK0znUI68VmPz1h5bCUzds7I8JpFBxdxIu5EjnMd85o5G/P7Ld8D1mVRzNSF3BQijo6PZuPJjby96m0i4yIBqBpQFR8vH8vvKzflRrXAahy+cJjlR6y/G+5reB8vtH2Br3p/xQNhD9i9bxmfMvxx9x90rdaVD9d9mGfFnvPD0QtH2R69nR418mYygnAuCbbefJMRT1Wj04+dOHrhaK7eKiU1hV92/MK24LSuyvnzc928G7HsyDLOJ5znwcYPOnzeXONs5q6ZbDq1ic97fs7DTR9m3Yl1jtcOS0rSS5YA/GMtH2Hbs5WemU/xUruX2PBQ7ldb7xzSmZXHVpKSmpLr9xLayUsnqeiXcV3KfBeb1iP0ySe6arsDLSq0YFv0Nkvys2nBgQUOe4OiLkUxZPYQpmydwvebv7es25gjPmm9eEpZPjiY722qFVSLQO9AwD7Y2ntur2VpHW8P61B+sF8w73Z5l71j9toNxz7Y+EGaBDfh3tn3Uv1/1S0BBugZeEHeQTzdKusFvfOb7fcF1qVizCTt8wnnb/i903+w+qLXF6x7cJ3ddbw9vKlWshr/HPyHu36/C4C7Q+/m9rq34+3pzSPNH3FYVLdaYDWebf0sAFtOb7nhNrrad5u/A6wLLYuCTYKtt95iRlk9NBFxKiJXb/XT9p8YMnsIt9/rTqoCwvO+srQj5lBLZgUQqwRUsey3qtSKUU1H0apSK+KuxrH33F7riZcvw2+/QYMGcDItn2uZnoFoGAbnrpzLdCr6m53epLxveZ5u9bTlk3xudKnWhQuJF/JkltPNyDAMTl06VTCCrSNpCc7VMq/R1Ti4Mcmpyaw8thKFYtqAafSu1RvIWHIB4Pfdv1v2n1v8HN1+6pbz2Uhuab8ebfI84q7GWfLGXuvwGqW8S1HcozjF3IvZBVtHYo/QLLgZCmW3nmGwbzB+xfwy/N90d3Pn94G/c0/9ezhy4Qifrf/M8tyJuBPUKFXDLv+yIDDb06BsA448ecQyHG3mS6VfDSAntkTZB0HDw4ZbemFfav8S73d9n/sa3ke1ktafmeYVmjPzrpnZyg8NKx8G6GG4wuhayjU+3/A5g0IHUaOU4w8oomBxSrCllOqplNqnlDqolBrr4HmllJqQ9vx2pZTrVlO1sfiXcSy2qRG4+eCqXL2fOSvmiF8y/1UEdu/WQyT5zMwtMbv10/Nw8+Dbft+y4cENrHlgDR5uHpaAyLL0yPHj0LYtDBoE+/bB+PHQtSts3QroP3BJqUmZ9mx1CulE1LNRlmHG3Ooc0hnQ9Xts/xCJG7Pv/D6upVyjon8eBltLlujeqqykplqHDrMItkLL6BmQc/fNxcBgaKOhliGi9L1dYP1Db7vQuTlzK9vMYcRatSyHjl04RlR8FHVL1+Xtzm9bjpfyLmW55sXEi8QmxlKjVA0alGtAr5q98PHUvWTlfMtlernqgdX59c5f6V+nP3/t+8ty/PjF43YfkAoKs2erjE8Zu7X4vD29KeFZwlID6kbY5uOV8i5ll/NZwrMEY9uNxdPd0y6HMCc9PIHegTQs15Bp26YVmt7y2IRYnvv3OV5e+jKfrPuEy0mXs73Qu3C9XAdbSil34EugF1APGKyUqpfutF5ArbSvUYBrs8fTjN7yNt2HWR9HHMrdkjBxV+Ms+6f84KvYf+k7zIPT/y3L1fvmVExCDO7KPcvikw81eYiWlVrivnUbjB1LzSvFcVNu1mnTL7wA29J6kdq3hxdfhM6d4dgxiI+35GM4K5i6nmC/YH7o/wPBvsF8uO5Dx8OdObTsyDKHw0vR8dGsOLqCadumuXSqcF6YuXMmI/4aQfefugPkXXJtfDx06wbPPQfdu0NysuPzFi2CU2mzTG2CmvTMoW/AUkTXDECOXTiW4fzL1y7j4+nDl32+5MTTuh7WD1t+yNn3ULs2/PknfPed5dCxi8fYfXa3JQncVN63vKVH2UxHqFayGlsf3srL7V9mw0MbmNRnkmV4PSsdqnTgUOwhouOjMQxDB1v+BS/YMnO2zEDSVpB3ULaGEc9cPuPw//LBmIN0qNqBJ1o8wYYHM09DMKul/3T7T7zQ9oXsNh3QC6XvObeHNccL7lJgD897mLIf6dGDl5e+zCfrP+H9Ne/z8rKXgTz8/yuczhk9Wy2Ag4ZhHDYM4xowA0gfbt8GTDO0DUBJpZTLp9YsuMM6+67tcYiI26v/uH7xhS6smENxMdbSBF+3K8aYPrCgZirT516/aGF2bYnaQukPS7Pn7J5Mz4lNjKVk8ZKOp7mGh0PZsnDHHZCSAvffDx98gNeDo6jsX5nDsYeJ37WF5y/N5sQjQyAxERbrKt6EptVX2r3bkreS6QyppCTda5GcrN/DCR5o/ABj243ldPxpu7pPNyL8VDhdp3Wl20/dMhTIHPzHYDr/2Jn7/7yfrzZ9lavrFBTJqcl8v/l77vnjHqZsncKJuBO80v4VS8FHp1m8GEaPhipV7I8dPJjx3GvX4JVX9CLTV69ac6Qc8HL3om7puvSu1Zv59+pcSEuwddFBsJV02dLrYQ6V/rjtR/47+V+WzTeHCC1uu81uuZ5lR5ax7/w+GpdvbHdaed/ylteawVZIyRCUUiilqF+2PqObjc7y2qY2ldsAsCFyA+cTzpOQnFAge7bMOmKOZhoHlQjix20/ZpmAfu7KOar9r1qGnupUI5WDMQdpGtyU//X6n12gnV7Pmj05/8J57mt4X44WPQfoVbMXCl0vraCavHkyZ6+cJSU1hWVH7T+0e7h5FKi1MkXWnBFsVQRsSylHph3L6Tn5rm7rfpb9gadLcY4rbF31GzzxBNx1lw5GciDu4G6qpeX6Lq54FX9PXxpe9mV27PpcDSceiT3C95u/JyU1hW8ivuF8wnk+Xf9phvP2ntvL9ujtxCbG2g8hpqbCk09CmzZw331w9izMmQP/+x/s3AnNm8PSpdSI82D6jun4zWrCxy2SeLjufpI83EjySPsxaZA2jXrLFkvNK4ez2ZYv10uc9Oyp/4A2bXrD33t6fWr1wdPNkzl75mTr/CtJV3h31bsZej9sZy/Z5vekpKbYJefaDucUZn1+6cND8x6iRcUWfNbjM7w9vC11h5zm4kXdi/XNNzrpvUkTeP11/ZyZl2Vr3jzYsgUmTMh0SRxbux7dxbzB8yyPy/mUI7B4YIaCoL/v+p1vIr6x9Lgopfi8x+eAXsszM3/u/ZPgT4IzVCi3XfPwsw2fkWqkZgi2yvmWswRb5v+NGx2iNf+AHo49bPlQUbd03Rt6r7xkrlfpqGfLDDifXpR5Uv+Sw0u4knSFr8K/suvd+mXHLyQkJ9jlumUls3SJ6wn0DqRBuQbM3DWTS1cvXf8F+cxc5Bvg7ZVv2/3sjus8jrFtx2arp1QUDM4IthxVCUsfWWTnHH2iUqOUUuFKqfCzZ/N+Wu5Pt//EUy2fokM5nbM0YN4QDOCaO5Zk8OyKS75M2cvgm/a7ObRcA+4q25n1ZRKJCl+R47b9sfsPGkxqQPUJ1Xlo3kPM2z/P8odlxTH790tJTeGWL2+h0deNiEmIscyQAmDpUv0Hbf16nX/Vs6c+/uyzOtD6808AKmy1r4vzd+wmvMZ50ecXPWyTHFKFlOBysGpV5n9QDAOeeUbvL16sey+cmLsWUDyArtW78vnGz3l56csZlkxJb+bOmby6/FVC/hfCrN2zLMc3ndpESMkQAosHWvPUgA5TOwDw8+0/M6TBEBYfXszjCx9n37l9Tmm/K5y/cp5/D/3LqCajWPPAGp5q9RRxL8U5v7fk97Sg9c47dQ9qRAQ8/LA+llmwFRgIt2cv18ZNudmVEFFK0axCM5YcXsL4NeMtCep3z7obwC6fxwwsbYPuK0lX2H12t+WxOUHGXIbKdOma/kPcupK1Bljryvb1wMr7lCc6PppUI5Wo+NytYxhYPBBvD28i4yKZvmM6Qd5Bzu+BdAKzJ8lRPT8zhcG2Lppp7r65tP6+NX/u/RPQQaXth58pW6dQr0w9BtcfnAettvdWp7fYeWYnk8ILRGaLnQ/XfmjZf3vV29QIrMHuR3ez8aGNvNLhFd7p8o4LWydyyhnBViRQ2eZxJSB9qe/snAOAYRiTDcNoZhhGszJl8j4f6L6G9/FZz89oXL8b45bCcb8U3N6EYq/Byhkf5Oi9LqVewS/Z3VLNt16ZetzR+1kMBRN/eDjHbftk/SfEJsTyXpf3ALh95u2sj9TFEg/FHLJbK9D2D8Smk5usn/ZWrIB33tF/1D76SA8bvvWW9SLjx0OFCtCsGU9vgFcPVeLVUgMY6d+ZemV06t3iw4tRbyk8x3nRatg1WLqUkzFH8fH0wc/DBw4c0MHUhQvwyCOWJHrAOpyUYP2Ullu3172d5NRk3l/zPo///XiW55o9Uw3KNmDMwjEkJify76F/mb9/Pm0rt6V+2frsOrsL0D0Y606sw9PNk9vq3mapazRx08TrXqegSklN4bG/HwPg9ltux9Nd1yhy+hp7J07A22/rvKvff7f2ZpZP+0M8ZgxERurAf+BAmD4dfvlFB1oeN96WZhWaceTCEV5a+hKPLXzM7jnbHhdvT2/KlChjl0z/+vLXCf0q1BJIm/9v0w99mbmY99S/x3IsfYBR3rc8SalJxCbEEnUpirI+ZW/431gpReWAymyL3sas3bMYFDrIct8KkmGNhjGu8zhebv9yhueWDltKkHdQhlUfFh9azG0zbmND5AZm7ppJ39p9KeVdim83f4thGMQmxLLt9DbaVGqT42HBGzGg7gAalmvIwgML7Y4vO7KM33f9nsmrsicpJYlVx1ax5PASklKScvTamIQYPlj7AVUDqlqO7Xp0F7eUucUps7tF/nNGsLUJqKWUqqaU8gLuAeamO2cuMCxtVmIr4KJhGAVrobsWLXg4XeWHL6/lLHEyLjURf4oRrwscU79sfULrdWRQyi18UPYA8aczzprKjGEY7Dq7i/51+vNS+5cYFDrI8lydoDoYGOw6s8tybM85aw5XbGIsgcUDYcMGndS+ejUMHqyTladOhYY2xU4761l+dOhAkyh4x+jEO4/PYfLTy9jw4Aam3jaVTiGdLKeHe8dCdDSntqyigl8F1J9/6kTihx+GGTP0ENKAAfDtt/oFAwfqrRMLvNrOwLnemnJbT29lSIMhjL91PGcun2HOnjkMmDGAWkG1+KT7J4SWCWXnmZ2Wf2+A6XdMx9fL126m5eLDi2+8OGYeunT1UpZJ/LN2z7IUyjRn9OWJL7/UAddXX9kvt+Nm8yumcmW49VaYNUsPZwcE6A8AufB4i8fpX6c/nm6eTN8xnW2nraVB0pdKqFqyql1+l9nrYublXUu5BsC5BGvJgsTkREsPTGX/yvx8+8+Ej8xY0iXYT+cuvrb8Nbac3mJ5fKPK+pRl6ZGlJKcmM7TR0Fy9V17xcvfilQ6vOCxJUSuoFg83fZj95/db/l0Bxi61n6zet1ZfhjYcysxdM3F7241SH5bifML5fF3rr3v17qw9sdYyKzElNYVhc4Zx96y7aTq5KYsPLb6h931t+Wt0nNqRbj91480Vb+botTN3ziQhOYEJvSZYjhXzKHZD7RAFQ66DLcMwkoHHgEXAHuA3wzB2KaVGK6XMjNCFwGHgIPAt8KjDN3Oltm0pPX0OR1v+yn0N7wNgXdmrehgsm+LUNfxVMcsU8H61dU5YzwrtSXGD6BOZJ7Wnd/LSSeKuxln+QP58x8/WplbWCwTbTmU/euEoJTxLcFc9XdwvrHwY/Gx9DSNHWveLF4dRo3RwZP5hNAOweGtvmV8xP+4Pu5/l9y+3/JsARDeszqaEQ1QtVhbe071urFyphyhLlIDZs+HBB3WA1SQt78KJwVY533JseXgLz7d5nqMXjtrlNtgyDIPT8aep6FeRziGdKe5RnHtn30tCcgLf9vuWcr7lqF+2PhcSL3Dq0ilLbZ/GwTofZ3CDwYxpPoZJffQQQ0Fam3FD5AbUWwr/8f4Oq46D7pF5a6W1F7OSfyXnXPyRRyAkRA8PmxYu1IH7rbc6aOwGPSkDdC/WH39AxYq6J6zUjeXbmIL9gvnrnr+Ifi4abw9vJkdMtjyXfpZblYAqdj1b5rIvx+P0MbMHy7ag6ISNE3j2X10A07+YP0MaDqFphYw5iOasuEnhk4iIisj1WnWHYw8D8En3TyzvXdg0rdCU5NRkIk5FEJMQw3ebv2Nz1Gbe7/o+x546xoONH2Rg6EAea/EY1QOr2722ZaWW+dbO6oHVSU5NJvpyNN9t/o7vNn/HyUsn6V6jO5ujNvNV+I1Nkll7Yq1lf82J7H9wNwyDP/f9SUjJEEt1eLMqvyi8nFJnyzCMhYZh1DYMo4ZhGO+mHfvaMIyv0/YNwzDGpD3fwDAM11T7zIpSMGAAVXvew0+3/8Rrfn2J8oXkkyd01fTP0mbMzJ2rh90mTszwFnFuSfir4rzS/hUalWtkKTZXLigEgDNL58Frr+kZTraBkAM7oncAEFpWB1u2QxL1ytTDTbnZfUo317n7rt93rLh/Bc+1eU7/MWzVSicrh4XZX+Cbb3QNLVOXtJyQ4cMdtufzHp/TsWpHAMa1TeVwscs8PvMobE4rChgVpYOt2rX1v6VSenmfgLQCg46Crfh4nbdzvXyulJQM54SVD6NZhWYYGOw77zif6kLiBa6mXKW8b3m8Pb35qJvuRQkpGUKzCs0A679vpc8q8XXE1/h6+Vp+8ZcsXpKJvSdahlNzulB3Xpq7z9p5/NP2nxye8+uOX9lzbg8L713IhRcvOG8R1t9/1yVA5qa14fhx2LEDevd2fH7LlnoixtatcP68ngl74oQO2pwk0DuQ3rV6263vadujAnq5l+MXj1t6As1iqOaHIzPY2hC5wZLLZbvkjLksjyPp899yW5pkUp9JDG04tMBVjc+J9lXaA9DmhzYMmT2EkfP0B76+tftSJaAK3/X/jlLepahZqiaHnjjE9tHbufbqNQ49cShfh8rMDyELDyxk5LyRjF6g+wj+HPQn9za4l00nN3E49jBvrniThpMaZnuJH9uJFdkpqLv19FZ6/NyDsUvG8u+hf+lWvRvFPIrx212/8d/IrGfRioLPyYkbRUel0tVJvQSnNy6l0uC0fKtx4yAm7T/NM8/oROBgPVxgGAZx7sn4u/vwTpdxjOtiLfdQtlx12A1npn4JZlwwd65OTq9jP3V39p7ZPL3oaQKKBeCu3C1Bga1A70DK+5a3fAJPSklizfE1tKzYkoDiAXQM0UERu3dDnz5QsuT1v+HKlbMMeoJKBPHLnb9Q8dOKTC17ErdU6LHSJvi4dAk2bbIGbaasgq1x4+CDD2DaNBiayVCJYeh/4z59YMoUu6eaBusehiWHl1gqQtsyZ4eZ+TWPtXiMoQ2HkpicaEm0th1aCz8VTpvKbTKs42jOuCxIPVuJydZyGsuPLmdH9A67RXcB/jv5H0HeQfSs2dO5q91fTfsjsnIlPP20/n8A+h5lpkwZ/WVyZnvSdKza0S7YSp8nUyWgCpeTLhOTEENQiSBLyQ+z+ObFqxdxV+6kGCksObyEemXqEX8tniDvIGbcNeO6s+M2j9pMYnIiRy8cdfjzmBP96/Snf52M60QWJmV8ylC/bH12ntnJPwety3xlNpxt/vym7+XKa+YkH9u8rdFNR+Pt6U3zCs35Zccv1JhgrdLe7NtmPN/meVJSU6jkX4k7693p8H0PxVonHO07t4+U1JQs89CG/zmcbdHb+PfQv4BeoQBgYOjAG//mRIEhy/VkolIFPdU68re0goa1a1sDrR49dB2pH38E9Fppc/fNxVAQ5JGxkGjZirpOzBkfdLXsmTPB3d3yelvvr3mf4xePs+PMDhoHN3ZYw8bPy4/K/pU5EXeCWbtnUfXzqpy7cs7S8wTotkZHwy235OJfwV4FvwrUCKxBvEoi5AIUS18Z49w5/e9kK7NgKy5OL24NeqbkokX2ifWmv//WpSqmTs3wVI1SNWhVqRVfbvoyY30kMgZboGcz2lbxTl+UVTmYOGsGWycvFZyerWMXj1G3dF3CR4bj4ebBoFmDLD1vl69dJv5aPOFR4TSr0My5gdaVK9ah5n/+0UPS4eFQvz7UdW15gvSz/5JSMwZbANUnVOfn7T877NkyazqZqzBcunaJksVLcmv1W6/779g4uDGtK7dmcIPB3FLGef/vCrOIURF2w6CfdP/EuT+PTmDWYfv74N8Ucy/GuefP8UXvLwAY0mCIXXV80BX9H//7cZ5a9JRlTcb0YhNiiUmIoVrJajQu35ik1CS74WnTfyf/446Zd/BtxLd2S5E92uxRKgdUznC+KLwk2MpExRD9Kevk3k162HDvXngsbbZTp056aGTePIwFC6jwaQUGzBxASJwb96dmTOwsU1EHIAdLoQO1u+/W1bV/+UXXwEpzNfkq205vs9QPGt5ouPVNbBa19vtjHpX8K3HswjEG/j6QqPgoapaqqYcOTSfSSiKEhDjhX8PKDOgCk9I+oYWFWYueQvaCrfBwqFlTVw4PDtaPe/aExo11jS6z7aDzfQDKOc5Z+KjbR0RdiuLtlW9neM5RsOXI0mFL2TRyE71q9uLdLu9meL6EZwlKFi+Z78OIH6z5gGLjill6aM5fOc+3Ed+SlJLEsQvHqBpQlaYVmvJEiyfYc24P/X7VOYKtv2+N3/t+bI/ebhnKcZrotKn8n32mZ7K2aaOHA7dty5PeqpxIHzin79kyZ3bFXY3j992/W3q2YhJidM/01ThKeZfCz8uP2EQdbMVfi3f4gUdkj5e7F12rdQX0745nWj/j4hZlVManDJ5uniQmJ1K3dF2CSgRZ0jbK+JRhYq+MKSMvtXvJsu9ouR/bnDszfcG2p8t8XcvvWjJn7xxGzbevedeofKPcfVOiwJFgKxOVKuhPpt+2dOfQ0D76D8k775A86iESRgzlt67lWBO5jiND+1pe0+egG4G+GRNjixfXv6w/bAdbQ/UirQwZovNe/rF2r289vZWk1CQm9p5IzIsxjGkxxvomd1k/Qfl99xOV/CvZrR/2TKtn7D8xmn8Uy2cdaOSU+cvSUtSxYUNoZjPUmZ1gq0sX3Vv1wgsZK/V36aLLRfz9t368P62QX0yMw2HOdlXacfsttzMpfBITNk6we25b9DbclNt1i0t2qdaFZhWasXDIQusQbDq3lL6FTac2Zfk+zjZ26ViupVzju83fkWqkcu/sexk1fxRe47yIiIqwBA9Pt9Z5PVtObyE2IZYdZ3ZY3uOBxg84t1Hmz1WtWnoJp7Vr9QxEN9f/Kkm/Tmf6nC3b4anDsYctPQ0pRgoXr17k4tWL+BfzJ9A7UIItJzKHVB0tGF4QuCk3S+911ZJVMzzfu1ZvfuhvXepp++jtvNf1Pb7p+w2A3RCpyaxKXz2wuiV31wzATPP2z7N7XKZEGdyV/hArax4WPa7/DVlAlfIuxcgmI1kUksLD9Q6TaqRyxvMaD/a6RolJlRjkNZf2I+B/NpNmHlmfrJPCHaieWhKA1cXTEm4HDICqVXWy/K+/AvDbrt/wdPO0llpITdW5UL/9Zs2TAfyuQc1i1qnle8bsybgUyOm0YTUnB1uhZUPZ99g+Pq2Y9kc8Kck+Jyx9sOXnpwPVY2nJ/OfP6++pcWNd76t1az3Z4M037QOve+7RAdq+fdbrnHe81trzbZ4H9EywuKtxpBqpXL52mR+3/UjvWr3xL+b4nuREn1p92HRqE1O3Ts31e2XHJ+usCzg/uvBRxiwYY8nlMHWoqguwli5Rmq966xlTpT7Us/u61+jO4qGLHVf4zw0z2CpbNuvzXCD9MOKdt9jn0gR6B3Lg8QMMDxvOzjM7uZx02TLLq8uPXQg/FU5AsQACiwdahhEl2Mq9BmX1KEH6XMiCxEySd7T8mFKKBxo/wEvtXuLf+/615JaZVf37/trX7vfCsQvHLJXzqwVWo5J/JdyVO0dirYV9I+MiufO3O+3Wr53cbzJHnzrKqWdOZblguSicCu5Pv4sppZjcbzIPN32YpUeW4v62O+U+Lse0bdPszpvQCgbugtQ3IfQs0Mhx9+/+N85RukRpwqPSJmL6+uqlSmrUsCx0O2fvHHrV6kXpYoF6htfIkTp4GzRID2Wm8bsKjXZZawHVLV03Yx5EHgVbALWDauNXIq1CfVLaUM1TT+m2Bgban+zmpmttTZqklwgy6259+qnO9wFd8PKNN/QstagoPSwZF6d7ubZutUxCsCxYnE6T4Ca82+Vd9p7bS8D4AF5b9hrvrHqH6PhoXmiTs8VpMzO4ga5m/caKNzI9x3b2UW7N3DUTgCdbPgnA1xFfE1Y+jE0jN1n+aPWpbU1It13O5eV2L/PPkH+4tbqDMgy5Za7qUACDraASQZb9T7t/yntd38twTs1SNansb82FKeFZAtC9gpC2BJB3oKWmmgRbuVc7qDYvt3uZn253PGu2IDCHoLP6cPJe1/foVqOb5XGT4CZ0DtF1Cp/991lL7p9tD5Z/MX883DwIKB5gme0KsPvsblKNVCb2noinmy5Y27d2Xyr5V8p1jTZRMEmwdR2OZgQ93PRhHm9hrSj+bGITnVbdq5fuqXLA3c2dJsFNmLZtGlU/r0roV6EcU3HQoQNs3Upqagon4k5Qr3Q9ePdd3ev1Q1rX9dy5cPSo5b38rkHDWVnUbdm3Tw/xgA7q8oLZg9UqLfn1s88yr6X19NN6Qeo77tA5WZ06WV+XXvnyepYm6LISZcrochmgA1DQPX7p1q00e3kA3lvzHvP2z6N7tVtpH5txwsKNqB5Yndc7vE5kXGSG4SnDMOj8Y2cqfVbJbpZgbiSlJtG/Tn8+7/m5JUH39rq306xCM849f46IURF2pQhaVGxB71q92fLwFt7t+m7eJSHHpf3BMIeHCxDb8ihVS1bNdOZXcY/ilv1hjYax8aGNlsddq3fVPVsyjOg0Sine7fqupYRKQWT+7Djq2cqMr5cvy+5fxifdPyEmIYYyH5Vh6JyhRMXret27H7XWofPx9CE+yVrD0FxmrH2V9ux/fD/Hnzru/FUdRIEiwdZ19KrZi8VDF3Pg8QOWT2a3Vr+VD7tZ160Ka5aWt9WpU5bvNb7reB5r/hjHLx5n99ndfL/le51gHhPDuQPbSE5NpsKKCN3LY3r1VejXDzw9KZ+2VqqfdwABm7ZTq1QtxrYdm/FCCxdmPOZsTZvCrl06kLoe2xpfkyfrgKt48UxPJyBAz26rWVMPPw4dqothrk0rEjhypH7cr5/OF8Ja6NW0++xuOk9erIcrY2Nz+M05Vi2wGqlGql1hTNALgK84uoJzV85dt6J9dsVdjbMMf37W4zNeaPOCJV8u0DswQxkCHy8fFty7INclB67LnImYV0F8LpmzSc3eAkfMP6ivd3idl9u/TIuKLXisuZ780imkkwwj3oTM3mKzpzMnHmn2CA82fhCAn7f/bMkFtO2h8vXytSzcDXAi7gQKRUX/ioSUDJGZhzcBCaWvQyllGY6pWaomDco2oGG5hiilmHLbFA6cP0CxVi8A7vBo1oXxGwc35ovgL7in/j0M+3MYv+z4hbda/4oCotYtAqDC7LSZfTVrwsGDdrPwVk+BJdWhWKt2sGAB+3st1OelZ641Zy7Fk1fqZfOTavHiUKmSXhsvk6KpGfz1FxQrBt5pS4E0b66DtJQUa4/f/Pm6t+vRR1FKcfyp4xyIOcC9f9zLuUvRDNib9l4nT2Yc3rwBZoJ1rS9qcfnly5TwLIFhGHb5GuGnwp1SkPFi4kX8vXSwNaDuAAbUHZDr93SKS5f0/czFeoZ5acZdMxg0axB1StfJ9Jz7w+6nasmqdA7pbOkB/LTHp7za4VVJkL9JNQ1uym+7fruhoMfb05vv+n9HYPFAPl7/MTvO7KC4R3ECill7f328fOzWsj1x8QTlfMvh5e7llPaLgk96tnKoUflGll/Qw8OG827Xd8HHB15/Pduf9ttWacur7V/lUOwhVgTFQenSnPpUL6sSHI9eAufPP/WMr9tvt7yuZgyMDgfatdMHtm3L8N6AtR7Yv/86ft4VIiJ0HS7PbC6oW726XtLF1KWLLhFhzlI0HTlimaVYOaAyXap1IWLYGk59AnXMfHozfy2XbGezmTOQFh5YyIfrdC+nfzF/VhxdkevrmGUInJHY73SXLulJDwXU3aF3c+3Va5ZFxB1xU250qdbFbqjV093TkpRc0a8iV5KucDj2MNdSrtklMYui6bk2z7F2xFq7dIScMuuJbYnaQnnf8nY/X75evvbBVtwJu9xBUfRJsOUid9xyB+V9y9P71778OaQppzx1cnWFS+hyCqGhuuxBRQdlC8xSC4ds6rYkJ8OyZTrwiI3VyeoFqfehbFkICrr+eZnp3Fn3avXrp3tWli/XdZ4uXdJJ9SbDoOL9j1P2MvCFLkzI6dP6teaMyBtUyb8S3/bTC2zf+dud3DPrHrvaOQ+EPcCfe/+0W+LlRlxNuUpSapIEWzfI0z2bAX0mzIkH5mQY6dkq+tyUG20qt8nVe5jB+q6zuzLkfvl6+XI5SQ8jGobB9ujtdpNaRNEnwZaLBBQPYMvDW6jgV4GvmqZyMu3vavk+gzJfY84UHKzzmmyLf/7yC3TtqnOiYmOdMmxWoLRpY03K7t9f58eZifSLFsHo0bo38K+/dO2yN96AYcP082bOV0iIDrz++ENXpDdreOXAQ00e4tc7damOmbtm8uQ/erbg/sf2c1/D+0hKTaLT1E4sP7L8hr9Vs9hmQPGCl4ROfHyBD7Zyq3ZQbSr4VWDVsVWABFsie2yLJ6evOu/jaR1GPHLhCNGXo3Md3InCpQB1fdx8yvuWp1PVTszbP49KJaH8JSh+3/DrV+L287PmQJlOplU3nzRJr3NY1IItb2+dw3bihO71A2sANmKEfvzff3rotVw5PYPRUaHNjz7SZSdAJ/mH53xN9Hvq38Nd9e5i0KxBzN4zm4BiAdQKqmWpWL7n3B66TOtC/Evx+Hj5XPf9Np3cRKPyjfBy92Lt8bV8u1n3nknPluv4F/Pn7BVd5kKCLZEdZs02gBqBNeyesx1G3BCpV8WwXcZIFH3Ss+VijYMbc/bKWdZVhpAL2NXTypSfnw6obHu2zP0dO3QeU6lSedFc1ypdWs8u9EpLKi1e3D7hfssWmDUL+vbVa0/aBq0REToIMwMt0D1bWSy+nRUPNw+GNtSLZ5uVsdMPX+06u+u677M9ejstvmvBa8teIzo+mnZT2vHjNr1mpgRbrlPCswTR8bqAqwRbIjtsf07SL6bt4+nDqUunaPJNE95c8SZe7l6ZLsgtiiYJtlysWQWdf7WvNFS7gLWApyO3phWpNHu2du2Cd96BxEQdYIGuQbVrV9Hr2crMhx/q3qovv9SPU1N1Xpdp2TIdhDVpovO87r1X94R9/bUOHK5TriMr7aq0y3Bs++jtTLltCgA7ondkeN5WqpHKh2t1cv3KYyszFEz1P3fphtvmVJcvw/r1ev8mCrakZ0vkhFKK0iX0cm3pl/0xf4a2nN7CgZgDVPavnOvcQlG4yDCiizWv0Bz/Yv7EXY0jpHpj3XuTmdmzdVDl4aGLniYm6lmQsbF65uGAAXrB7L17M124ucjx8oLnnoNr13QlerAGpWBf/uKWW2D6dL1vFkhdtUrP6syk8n9WSpcoTfMKze0K3zYo14DQsqE8NPchHpr3EEElgjIt2zBv3zym79Dt2XhyIxtPbuSh6ndxae4sZtYH/4sJOW6T08XEQJ8+ekHwNWt0zlYBrbHlTLb1liTYEtm14N4FPPXPU5YP0ab0P0OpRmp+NksUANKz5WLubu6WNdxajHg963wtPz89UxF00U/TZ5/pHp0HHtA1qB55BF55JQ9bXQB5eemAYOZMXYrjeqpU0WstKqWT6k0bN+peMnMZouv4b+R/vNrhVbtjbsqN7/t/T2X/yjz+9+MY6YYqU41UZu2exYIDCwBYOmwptUvV4imPdkweNotpc2DODGic6vyllnIkOhrq1tVDsD4+er3Kkydvmp4tkwRbIrtaVGzBugfXZUgBMHM3fTx9eLX9q0y/Y7ormidcSHq2CoDv+3/PF72+yFYytUX6npjWrfUsPXP/ZtSypf7KrlKldD2vnTutxzp3hoQEvWzQnXdm/trruD/sfhKTExm9YDS+7/uyffR2apTSSbOvLnuV99e8D+gk2S4bz7DviQPAAQC8/EoyYO8FPWTnSosX67UQf/8ddu+2rmxQpYpr25UPbIMtv2JFP7gUecvbQxdnbl+1Pe90ecfFrRGuIMFWAaCUylmgBbqMAehE8LAwXQhV5Fz9+tZg68wZHWgBrFyZq2ALoHuN7gBcSbrCqPmjWDpsKQBz980FoJh7MfrX7g/vpy1u3qGDXp4pNFTXVzPXIXSV9et1L9btt+s8uMBA3cbsrhxQiJXwkJ4t4Tz96/TndPxpy5Jb4uYjw4iFlVKwaZMu1BkenqtE75taaCgcOABXr8LWrfqYhwfMmaMr3udCtcBqbHl4C+M6j2PZkWXc/+f9XE2+yt5ze3ml/SskvJLAS21egHXr4KGHdIDXrZsuSAvOC7YMQweVTZrAjBm6h6pJEz2Marpwwfr9g85jmzkT2rbVAX2xYvD447pHNburABRitj1bPp45/CAkRDrlfMvxWsfXcv6hWhQZ0rNVmDVrdv1zRNbq19fV9ydO1AEX6ByuO+6AIUP08kCO6nVlU1j5MOqVqceec3uYtm2apSq5ub4mmzfDxYvQsaP1RT4++ppxcfDtt3p/xIjr11/LzKlTeoYqwODB1uPPP6970t58E37Si6wzY4ZuS6tWegLG22/f2DULOfOPoreHN+5u7i5ujRCisJNgS9zczIkGzz2nt1Wr6gr+//ufrko/cSI88USuLuHl7sU3fb9hx5kdbI/eDkDrSq11b1KvXvokcws6qPL31zMmx43Tx+rU0Wti7tunk/dtJ0hcjxlo/f67Xrzb11dPApgyBQ4f1j1qptmz9azDxERYu9Zapf8mY/ZsFfMo5uKWCCGKAhlGFDe32ukWLK5WTW9HjdIzP+fPd8plfLx82PrwVp5p9QzTu35F5Qup8Ntveiiva9eM60b6++vlh0y//qqHA+vWhQYNdICU3WFOMyetY0e9TNHEiXrmJuj38fPTjwcM0G2aOFGX0Whz8y4nYgZb7kp6tYQQuSfBlri5FSume7PMyv1V04oRKqWDmsWL4fPPdX2pXFJK8UmPT7j35V/1BIfPP9dB1uLFGU/299fDiD4+OiD86it48EHr85066cT17Jg9W8+6LFPGeqxFC2uJjFq19CzOpk2tz79hX2D1ZmMGW+pGh26FEMKGBFtCHDmilzuaP99+OR+z1+vpp+Gpp5x3vdWr9XbPHh3kOPqDbi663akT/Pyz3p8yRQdGps2bs77OqVO6d2rt2oztV8oaYNZIW8fNnH3ZsaN9YHYTMqfqp19QWAghboQEW0IopZPQ+/SxX1PSNuCYOhWuXMn+e164oAvM/v679ZhhQM+eev/BB3UCfmZBnFnLqmdPnTf1zDO6cOvMmfDBB/q5ypX1ckTDhsHRo/bXWbpUn2cus2Mu1m2rRNqMu7p19faWW/TQ5OzZ2f8+i6gzl88A0DS46XXOFEKI65MEeSEyM3iw7n2qWROefFL3FNWsmb3Xtmqlk9kBXntN9zBt2ACLFuljQ4bYLyWU3pQpuhxEu7T1F8eN06UXQkL0YtwnT+pg7uOP9YzJqCi9CHdAgF66yQzqQOdlOaqqv22b3prFcCFj7thNqmOInh06utloF7dECFEUqPRLiRQkzZo1M8LDw13dDHGzW7JE179ascK+RENmYmPte8hsNWoEjz6qe7bcc5F8/emn8Oyz9se6dNE9Wr16wT//6GMBAbqXzZGfftIB27JlN15WQgghhIVSKsIwjAx1mXI1jKiUKqWUWqyUOpC2DczkvKNKqR1Kqa1KKYmeROFi5jadOpX1eZcvwxdfWHOpfvxRB119++rH1avrQrSjRuUu0AJdCsL0xRd6u2yZTuRftkwHYk89pWcXZmboUFi+XAItIYTIY7kdRhwLLDUMY7xSamza4xczObezYRi5K8kthCtUrKi3J09mfd7zz8OkSdaFmrt00cN7Xl4QGam3zqq+3r27df/hh/VC5E8+ab127976+kIIIVwut8HWbUCntP0fgRVkHmwJUTj5++tk8uv1bJk1uS5d0jWrKla09hpVquTcNnl6QkSErn7v6amT203Dh8vyTUIIUYDkNtgqZxhGFIBhGFFKqbKZnGcA/yqlDOAbwzAm5/K6QuQfpfQQ4I4dmZ9z/rwuH2GaOjXvh+eaNLHuN2+uFyT/7DMJtIQQooC5brCllFoClHfw1Cs5uE5bwzBOpQVji5VSew3DWJXJ9UYBowCqmNPfhXC1Hj3gk0/gv/90QVBbqakwcKDef+IJXQzVrJOVX0qWhC1b8veaQgghsiVXsxGVUvuATmm9WsHACsMw6lznNW8C8YZhfHy995fZiKLA+O8/XYD0lltg927753bvhtBQvR8TA4EO54kIIYQo4vJkNiIwF7g/bf9+4C8HF/ZRSvmZ+0B3YGcurytE/mrRQi9MfeiQ7smyZQ4v/vCDBFpCCCEyyG2wNR7oppQ6AHRLe4xSqoJSamHaOeWANUqpbcB/wALDMP7J5XWFyH9hYXDtWsZE+R07dCmHe+91SbOEEEIUbLlKkDcM4zzQ1cHxU0DvtP3DQKPcXEeIAqFaNb1t3lyXcnB310vjLFmil7wpVsy17RNCCFEgydqIQmRX9ep6e/o0rFmj9zdsgI0bYcwY17VLCCFEgSbBlhDZVa2adaiwUyf43/+s6x/aFhkVQgghbMhC1EJkl7s7TJ+ug65339XL4dSqpZ8LDnZp04QQQhRc0rMlRE69/bZe47B5czhwwFphXgghhHBAgi0hcsrNDZo1s+ZpxcW5tj1CCCEKNAm2hLhRHTu6ugVCCCEKAQm2hLhRVavqbbdurm2HEEKIAk0S5IW4UUpBbCx4e7u6JUIIIQowCbaEyI2SJV3dAiGEEAWcDCMKIYQQQuQhCbaEEEIIIfKQBFtCCCGEEHlIgi0hhBBCiDwkwZYQQgghRB6SYEsIIYQQIg9JsCWEEEIIkYck2BJCCCGEyEMSbAkhhBBC5CEJtoQQQggh8pAyDMPVbciUUuoscCyP3r40cC6P3lu4ntzfok3ub9El97ZoK+r3t6phGGXSHyzQwVZeUkqFG4bRzNXtEHlD7m/RJve36JJ7W7TdrPdXhhGFEEIIIfKQBFtCCCGEEHnoZg62Jru6ASJPyf0t2uT+Fl1yb4u2m/L+3rQ5W0IIIYQQ+eFm7tkSQgghhMhzRSbYUkpVVkotV0rtUUrtUko9mXa8lFJqsVLqQNo20OY1LymlDiql9imletgcb6qU2pH23ASllHLF9ySssri/Hyml9iqltiul5iilStq8Ru5vIZHZ/bV5/jmllKGUKm1zTO5vIZDVvVVKPZ52/3YppT60OS73tpDI4ndzmFJqg1Jqq1IqXCnVwuY1N9/9NQyjSHwBwUCTtH0/YD9QD/gQGJt2fCzwQdp+PWAbUAyoBhwC3NOe+w9oDSjgb6CXq7+/m/0ri/vbHfBIO/6B3N/C+ZXZ/U17XBlYhK65V1rub+H6yuL/bmdgCVAs7bmycm8L31cW9/df8/4AvYEVN/P9LTI9W4ZhRBmGsTlt/xKwB6gI3Ab8mHbaj8CAtP3bgBmGYVw1DOMIcBBooZQKBvwNw1hv6Ls/zeY1wkUyu7+GYfxrGEZy2mkbgEpp+3J/C5Es/v8CfAa8ANgmmMr9LSSyuLePAOMNw7ia9tyZtJfIvS1Esri/BuCfdloAcCpt/6a8v0Um2LKllAoBGgMbgXKGYUSB/qEAyqadVhE4YfOyyLRjFdP20x8XBUS6+2trBPrTEMj9LbRs769Sqj9w0jCMbelOk/tbCKX7v1sbaK+U2qiUWqmUap52mtzbQird/X0K+EgpdQL4GHgp7bSb8v4WuWBLKeUL/AE8ZRhGXFanOjhmZHFcFACZ3V+l1CtAMjDdPOTg5XJ/Czjb+4u+n68Arzs61cExub8FmIP/ux5AINAKeB74LS1HR+5tIeTg/j4CPG0YRmXgaeB781QHLy/y97dIBVtKKU/0zZ5uGMbstMPRad2TpG3NrupIdC6IqRK6mzMS61CU7XHhYpncX5RS9wN9gSFp3c8g97fQcXB/a6BzOrYppY6i79VmpVR55P4WKpn8340EZhvaf0Aqet08ubeFTCb3937A3P8dMBPkb8r7W2SCrbRPRN8DewzD+NTmqbnom07a9i+b4/copYoppaoBtYD/0oYaLymlWqW95zCb1wgXyez+KqV6Ai8C/Q3DuGLzErm/hYij+2sYxg7DMMoahhFiGEYI+pdxE8MwTiP3t9DI4nfzn0CXtHNqA17oBYrl3hYiWdzfU0DHtP0uwIG0/Zvz/ro6Q99ZX0A7dJfjdmBr2ldvIAhYir7RS4FSNq95BT0TYh82sx6AZsDOtOcmklb8Vb4K5P09iB7/N499Lfe38H1ldn/TnXOUtNmIcn8Lz1cW/3e9gJ/T7tVmoIvc28L3lcX9bQdEoGcebgSa3sz3VyrICyGEEELkoSIzjCiEEEIIURBJsCWEEEIIkYck2BJCCCGEyEMSbAkhhBBC5CEJtoQQQggh8pAEW0IIIYQQeUiCLSGEEEKIPCTBlhBCCCFEHvo/1qsEmTwWox0AAAAASUVORK5CYII=",
      "text/plain": [
       "<Figure size 720x360 with 1 Axes>"
      ]
     },
     "metadata": {
      "needs_background": "light"
     },
     "output_type": "display_data"
    }
   ],
   "source": [
    "tsla2['Predicted Signal'] = model.predict(X)\n",
    "tsla2['Returns'] = np.log(tsla2['Close']/tsla2['Close'].shift(1))\n",
    "cumsum_tsla_ret = np.cumsum(tsla2[split:]['Returns'])\n",
    "\n",
    "tsla2['Strategy'] = tsla2['Returns'] * tsla2['Predicted Signal'].shift(1)\n",
    "cumsum_tsla_st = np.cumsum(tsla2[split:]['Strategy'])\n",
    "\n",
    "plt.figure(figsize=(10,5))\n",
    "plt.plot(cumsum_tsla_ret, color='r',label = 'Tesla Returns')\n",
    "plt.plot(cumsum_tsla_st, color='g', label = 'Strategy Returns')\n",
    "plt.legend()\n",
    "plt.show()"
   ]
  },
  {
   "cell_type": "markdown",
   "metadata": {
    "cell_id": "00013-50d91828-508c-4fef-af6a-befc04215a29",
    "deepnote_cell_type": "markdown",
    "tags": []
   },
   "source": [
    "### k-Nearest Neigbors"
   ]
  },
  {
   "cell_type": "code",
   "execution_count": 371,
   "metadata": {},
   "outputs": [
    {
     "data": {
      "text/html": [
       "<div>\n",
       "<style scoped>\n",
       "    .dataframe tbody tr th:only-of-type {\n",
       "        vertical-align: middle;\n",
       "    }\n",
       "\n",
       "    .dataframe tbody tr th {\n",
       "        vertical-align: top;\n",
       "    }\n",
       "\n",
       "    .dataframe thead th {\n",
       "        text-align: right;\n",
       "    }\n",
       "</style>\n",
       "<table border=\"1\" class=\"dataframe\">\n",
       "  <thead>\n",
       "    <tr style=\"text-align: right;\">\n",
       "      <th></th>\n",
       "      <th>Date</th>\n",
       "      <th>Open</th>\n",
       "      <th>High</th>\n",
       "      <th>Low</th>\n",
       "      <th>Close</th>\n",
       "      <th>Adj Close</th>\n",
       "      <th>Volume</th>\n",
       "    </tr>\n",
       "  </thead>\n",
       "  <tbody>\n",
       "    <tr>\n",
       "      <th>0</th>\n",
       "      <td>2010-06-30</td>\n",
       "      <td>5.158</td>\n",
       "      <td>6.084</td>\n",
       "      <td>4.660</td>\n",
       "      <td>4.766</td>\n",
       "      <td>4.766</td>\n",
       "      <td>85935500</td>\n",
       "    </tr>\n",
       "    <tr>\n",
       "      <th>1</th>\n",
       "      <td>2010-07-01</td>\n",
       "      <td>5.000</td>\n",
       "      <td>5.184</td>\n",
       "      <td>4.054</td>\n",
       "      <td>4.392</td>\n",
       "      <td>4.392</td>\n",
       "      <td>41094000</td>\n",
       "    </tr>\n",
       "    <tr>\n",
       "      <th>2</th>\n",
       "      <td>2010-07-02</td>\n",
       "      <td>4.600</td>\n",
       "      <td>4.620</td>\n",
       "      <td>3.742</td>\n",
       "      <td>3.840</td>\n",
       "      <td>3.840</td>\n",
       "      <td>25699000</td>\n",
       "    </tr>\n",
       "    <tr>\n",
       "      <th>3</th>\n",
       "      <td>2010-07-06</td>\n",
       "      <td>4.000</td>\n",
       "      <td>4.000</td>\n",
       "      <td>3.166</td>\n",
       "      <td>3.222</td>\n",
       "      <td>3.222</td>\n",
       "      <td>34334500</td>\n",
       "    </tr>\n",
       "    <tr>\n",
       "      <th>4</th>\n",
       "      <td>2010-07-07</td>\n",
       "      <td>3.280</td>\n",
       "      <td>3.326</td>\n",
       "      <td>2.996</td>\n",
       "      <td>3.160</td>\n",
       "      <td>3.160</td>\n",
       "      <td>34608500</td>\n",
       "    </tr>\n",
       "  </tbody>\n",
       "</table>\n",
       "</div>"
      ],
      "text/plain": [
       "         Date   Open   High    Low  Close  Adj Close    Volume\n",
       "0  2010-06-30  5.158  6.084  4.660  4.766      4.766  85935500\n",
       "1  2010-07-01  5.000  5.184  4.054  4.392      4.392  41094000\n",
       "2  2010-07-02  4.600  4.620  3.742  3.840      3.840  25699000\n",
       "3  2010-07-06  4.000  4.000  3.166  3.222      3.222  34334500\n",
       "4  2010-07-07  3.280  3.326  2.996  3.160      3.160  34608500"
      ]
     },
     "execution_count": 371,
     "metadata": {},
     "output_type": "execute_result"
    }
   ],
   "source": [
    "# Read In Data\n",
    "tsla = pd.read_csv('Data/TSLA.csv', sep = \",\")\n",
    "tsla3 = tsla.dropna()\n",
    "tsla3.head()"
   ]
  },
  {
   "cell_type": "code",
   "execution_count": 372,
   "metadata": {
    "cell_id": "00034-60fb8c87-3b84-4510-8bd2-eb3fd775c91f",
    "deepnote_cell_type": "code",
    "deepnote_to_be_reexecuted": false,
    "execution_millis": 19,
    "execution_start": 1636756311497,
    "source_hash": "9ce5d7d6",
    "tags": []
   },
   "outputs": [],
   "source": [
    "tsla3 = tsla3[['Open', 'High', 'Close', 'Low']]\n",
    "tsla3['Open-Close'] = tsla3.Open - tsla3.Close\n",
    "tsla3['High-Low'] = tsla3.High = tsla3.Low\n",
    "tsla3 = tsla3.dropna()\n",
    "X_knn = tsla3[['Open-Close', 'High-Low']]\n",
    "\n",
    "Y_knn = np.where(tsla3['Close'].shift(-1) > tsla3['Close'], 1, -1)\n",
    "\n",
    "split3 = int(0.7 * len(tsla3))\n",
    "\n",
    "X_train_knn = X_knn[:split3]\n",
    "Y_train_knn = Y_knn[:split3]\n",
    "X_test_knn = X_knn[split3:]\n",
    "Y_test_knn = Y_knn[split3:]"
   ]
  },
  {
   "cell_type": "code",
   "execution_count": 373,
   "metadata": {
    "cell_id": "00034-ed3a2a75-03a3-4e16-8f8e-2d5fd93fa8e6",
    "deepnote_cell_type": "code",
    "deepnote_to_be_reexecuted": false,
    "execution_millis": 15967,
    "execution_start": 1636756314296,
    "source_hash": "153f69da",
    "tags": []
   },
   "outputs": [
    {
     "data": {
      "text/plain": [
       "KNeighborsClassifier(n_neighbors=15)"
      ]
     },
     "execution_count": 373,
     "metadata": {},
     "output_type": "execute_result"
    }
   ],
   "source": [
    "knn = KNeighborsClassifier(n_neighbors = 15)\n",
    "knn.fit(X_train_knn, Y_train_knn)"
   ]
  },
  {
   "cell_type": "code",
   "execution_count": 374,
   "metadata": {
    "cell_id": "00036-590303c4-6084-46ee-bc46-4aaaeccfe56a",
    "deepnote_cell_type": "code",
    "deepnote_to_be_reexecuted": false,
    "execution_millis": 291,
    "execution_start": 1636756341477,
    "source_hash": "d47cd524",
    "tags": []
   },
   "outputs": [
    {
     "data": {
      "image/png": "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",
      "text/plain": [
       "<Figure size 720x360 with 1 Axes>"
      ]
     },
     "metadata": {
      "needs_background": "light"
     },
     "output_type": "display_data"
    }
   ],
   "source": [
    "tsla3['Predicted'] = knn.predict(X_knn)\n",
    "tsla3['Returns'] = np.log(tsla3['Close']/tsla3['Close'].shift(1))\n",
    "cumsum_ret = tsla3[split3:]['Returns'].cumsum() * 100\n",
    "tsla3['Strategy'] = tsla3['Returns'] * tsla3['Predicted'].shift(1)\n",
    "cumsum_stra = tsla3[split3:]['Strategy'].cumsum() * 100\n",
    "\n",
    "plt.figure(figsize = (10,5))\n",
    "plt.plot(cumsum_ret, color='r',label = 'Tesla Returns')\n",
    "plt.plot(cumsum_stra, color='g', label = 'Strategy Returns')\n",
    "plt.legend()\n",
    "plt.show()"
   ]
  },
  {
   "cell_type": "code",
   "execution_count": 375,
   "metadata": {
    "cell_id": "00037-1e3f1ae6-0537-4e86-b531-9f68569bd063",
    "deepnote_cell_type": "code",
    "deepnote_to_be_reexecuted": false,
    "execution_millis": 7,
    "execution_start": 1636756345535,
    "source_hash": "dbde019c",
    "tags": []
   },
   "outputs": [
    {
     "name": "stdout",
     "output_type": "stream",
     "text": [
      "Average of the training set = 0.52\n",
      "Average of the testing set = 0.49\n"
     ]
    }
   ],
   "source": [
    "train = []\n",
    "test = []\n",
    "\n",
    "for i in range(1, 151, 5):\n",
    "    knn2 = KNeighborsClassifier(n_neighbors = i * 10)\n",
    "    knn2.fit(X_train_knn, Y_train_knn)\n",
    "    train.append(accuracy_score(Y_train_knn, knn2.predict(X_train_knn)))\n",
    "    test.append(accuracy_score(Y_test_knn, knn2.predict(X_test_knn)))\n",
    "\n",
    "print(\"Average of the training set =\", round(sum(train)/len(train), 2))\n",
    "print(\"Average of the testing set =\", round(sum(test)/len(test), 2))"
   ]
  },
  {
   "cell_type": "markdown",
   "metadata": {
    "cell_id": "00043-5c94cd62-3871-4f69-9a67-4c65be69fbcc",
    "deepnote_cell_type": "markdown",
    "tags": []
   },
   "source": [
    "### LSTM"
   ]
  },
  {
   "cell_type": "code",
   "execution_count": 376,
   "metadata": {},
   "outputs": [
    {
     "data": {
      "text/html": [
       "<div>\n",
       "<style scoped>\n",
       "    .dataframe tbody tr th:only-of-type {\n",
       "        vertical-align: middle;\n",
       "    }\n",
       "\n",
       "    .dataframe tbody tr th {\n",
       "        vertical-align: top;\n",
       "    }\n",
       "\n",
       "    .dataframe thead th {\n",
       "        text-align: right;\n",
       "    }\n",
       "</style>\n",
       "<table border=\"1\" class=\"dataframe\">\n",
       "  <thead>\n",
       "    <tr style=\"text-align: right;\">\n",
       "      <th></th>\n",
       "      <th>Date</th>\n",
       "      <th>Open</th>\n",
       "      <th>High</th>\n",
       "      <th>Low</th>\n",
       "      <th>Close</th>\n",
       "      <th>Adj Close</th>\n",
       "      <th>Volume</th>\n",
       "    </tr>\n",
       "  </thead>\n",
       "  <tbody>\n",
       "    <tr>\n",
       "      <th>0</th>\n",
       "      <td>2010-06-30</td>\n",
       "      <td>5.158</td>\n",
       "      <td>6.084</td>\n",
       "      <td>4.660</td>\n",
       "      <td>4.766</td>\n",
       "      <td>4.766</td>\n",
       "      <td>85935500</td>\n",
       "    </tr>\n",
       "    <tr>\n",
       "      <th>1</th>\n",
       "      <td>2010-07-01</td>\n",
       "      <td>5.000</td>\n",
       "      <td>5.184</td>\n",
       "      <td>4.054</td>\n",
       "      <td>4.392</td>\n",
       "      <td>4.392</td>\n",
       "      <td>41094000</td>\n",
       "    </tr>\n",
       "    <tr>\n",
       "      <th>2</th>\n",
       "      <td>2010-07-02</td>\n",
       "      <td>4.600</td>\n",
       "      <td>4.620</td>\n",
       "      <td>3.742</td>\n",
       "      <td>3.840</td>\n",
       "      <td>3.840</td>\n",
       "      <td>25699000</td>\n",
       "    </tr>\n",
       "    <tr>\n",
       "      <th>3</th>\n",
       "      <td>2010-07-06</td>\n",
       "      <td>4.000</td>\n",
       "      <td>4.000</td>\n",
       "      <td>3.166</td>\n",
       "      <td>3.222</td>\n",
       "      <td>3.222</td>\n",
       "      <td>34334500</td>\n",
       "    </tr>\n",
       "    <tr>\n",
       "      <th>4</th>\n",
       "      <td>2010-07-07</td>\n",
       "      <td>3.280</td>\n",
       "      <td>3.326</td>\n",
       "      <td>2.996</td>\n",
       "      <td>3.160</td>\n",
       "      <td>3.160</td>\n",
       "      <td>34608500</td>\n",
       "    </tr>\n",
       "  </tbody>\n",
       "</table>\n",
       "</div>"
      ],
      "text/plain": [
       "         Date   Open   High    Low  Close  Adj Close    Volume\n",
       "0  2010-06-30  5.158  6.084  4.660  4.766      4.766  85935500\n",
       "1  2010-07-01  5.000  5.184  4.054  4.392      4.392  41094000\n",
       "2  2010-07-02  4.600  4.620  3.742  3.840      3.840  25699000\n",
       "3  2010-07-06  4.000  4.000  3.166  3.222      3.222  34334500\n",
       "4  2010-07-07  3.280  3.326  2.996  3.160      3.160  34608500"
      ]
     },
     "execution_count": 376,
     "metadata": {},
     "output_type": "execute_result"
    }
   ],
   "source": [
    "# Read In Data\n",
    "tsla = pd.read_csv('Data/TSLA.csv', sep = \",\")\n",
    "tsla.head()"
   ]
  },
  {
   "cell_type": "code",
   "execution_count": 377,
   "metadata": {
    "cell_id": "00046-168c4b6b-5fba-46c9-bb48-f246d31e9617",
    "deepnote_cell_type": "code",
    "deepnote_to_be_reexecuted": false,
    "execution_millis": 342,
    "execution_start": 1636852197528,
    "source_hash": "a80cf57e",
    "tags": []
   },
   "outputs": [
    {
     "data": {
      "image/png": "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",
      "text/plain": [
       "<Figure size 720x360 with 1 Axes>"
      ]
     },
     "metadata": {
      "needs_background": "light"
     },
     "output_type": "display_data"
    }
   ],
   "source": [
    "plt.figure(figsize = (10,5))\n",
    "plt.title('Close Price History')\n",
    "plt.plot(tsla['Close'])\n",
    "plt.xlabel('Data', fontsize=15 )\n",
    "plt.ylabel('Close Price USD ($)', fontsize=15)\n",
    "plt.show()"
   ]
  },
  {
   "cell_type": "code",
   "execution_count": 378,
   "metadata": {
    "cell_id": "00047-2e5af09b-a676-414b-87bd-916d79657916",
    "deepnote_cell_type": "code",
    "deepnote_to_be_reexecuted": false,
    "execution_millis": 6,
    "execution_start": 1636852200182,
    "source_hash": "b9025e39",
    "tags": []
   },
   "outputs": [],
   "source": [
    "#Create a dataframe with only the 'Create Column\n",
    "data = tsla.filter(['Close'])\n",
    "#convert the dataframe to a numpy array\n",
    "dataset = data.values\n",
    "#get the number of rows to train the model on\n",
    "training_data_len= math.ceil(len(dataset)* 0.85)"
   ]
  },
  {
   "cell_type": "code",
   "execution_count": 379,
   "metadata": {
    "cell_id": "00047-83cbeb26-78f9-4ebb-afc8-97e048c8809c",
    "deepnote_cell_type": "code",
    "deepnote_to_be_reexecuted": false,
    "execution_millis": 4,
    "execution_start": 1636852207488,
    "source_hash": "b8416c8c",
    "tags": []
   },
   "outputs": [],
   "source": [
    "#Scale the all of the data to be values between 0 and 1 \n",
    "scaler = MinMaxScaler(feature_range=(0,1))\n",
    "scaled_data = scaler.fit_transform(dataset)"
   ]
  },
  {
   "cell_type": "code",
   "execution_count": 380,
   "metadata": {
    "cell_id": "00048-7ddca1cc-9c7e-4a07-bad6-8370d69705dd",
    "deepnote_cell_type": "code",
    "deepnote_to_be_reexecuted": false,
    "execution_millis": 0,
    "execution_start": 1636852210930,
    "source_hash": "db3e25fb",
    "tags": []
   },
   "outputs": [],
   "source": [
    "#Create the scaled training data set \n",
    "train_data = scaled_data[0:training_data_len  , : ]\n",
    "#Split the data into x_train and y_train data sets\n",
    "x_train=[]\n",
    "y_train = []\n",
    "for i in range(180,len(train_data)):\n",
    "    x_train.append(train_data[i-180:i,0])\n",
    "    y_train.append(train_data[i,0])\n"
   ]
  },
  {
   "cell_type": "code",
   "execution_count": 381,
   "metadata": {
    "cell_id": "00049-7d72b903-999a-40f0-924e-5c22bbf47ee4",
    "deepnote_cell_type": "code",
    "deepnote_to_be_reexecuted": false,
    "execution_millis": 11,
    "execution_start": 1636852223358,
    "source_hash": "b3f24923",
    "tags": []
   },
   "outputs": [],
   "source": [
    "x_train, y_train = np.array(x_train), np.array(y_train)\n",
    "#Reshape the data into the shape accepted by the LSTM\n",
    "x_train = np.reshape(x_train, (x_train.shape[0],x_train.shape[1],1))"
   ]
  },
  {
   "cell_type": "code",
   "execution_count": 382,
   "metadata": {
    "cell_id": "00050-0f243b09-09b2-491b-95e7-7f6ebb3e2508",
    "deepnote_cell_type": "code",
    "deepnote_to_be_reexecuted": false,
    "execution_millis": 810,
    "execution_start": 1636852225838,
    "source_hash": "e6547dde",
    "tags": []
   },
   "outputs": [],
   "source": [
    "model = Sequential()\n",
    "model.add(LSTM(units=50, return_sequences=True,input_shape=(x_train.shape[1],1)))\n",
    "model.add(LSTM(units=50, return_sequences=False))\n",
    "model.add(Dense(units=25))\n",
    "model.add(Dense(units=1))"
   ]
  },
  {
   "cell_type": "code",
   "execution_count": 383,
   "metadata": {
    "cell_id": "00051-4232a14f-36fd-4744-88b9-7bab7229544d",
    "deepnote_cell_type": "code",
    "deepnote_to_be_reexecuted": false,
    "execution_millis": 220177,
    "execution_start": 1636852232015,
    "source_hash": "6ff8be3c",
    "tags": []
   },
   "outputs": [
    {
     "name": "stdout",
     "output_type": "stream",
     "text": [
      "2244/2244 [==============================] - 271s 120ms/step - loss: 3.9054e-05\n"
     ]
    },
    {
     "data": {
      "text/plain": [
       "<keras.callbacks.History at 0x7faa9b671f70>"
      ]
     },
     "execution_count": 383,
     "metadata": {},
     "output_type": "execute_result"
    }
   ],
   "source": [
    "# Compile the model\n",
    "model.compile(optimizer='adam', loss='mean_squared_error')\n",
    "# Train the model\n",
    "model.fit(x_train, y_train, batch_size=1, epochs=1)"
   ]
  },
  {
   "cell_type": "code",
   "execution_count": 384,
   "metadata": {
    "cell_id": "00052-8d153e66-cc4a-4b62-880b-e1da629832bf",
    "deepnote_cell_type": "code",
    "deepnote_to_be_reexecuted": false,
    "execution_millis": 0,
    "execution_start": 1636852452191,
    "source_hash": "4a642b83",
    "tags": []
   },
   "outputs": [],
   "source": [
    "# Test data set\n",
    "test_data = scaled_data[training_data_len - 180: , : ]\n",
    "# Create the x_test and y_test data sets\n",
    "x_test = []\n",
    "y_test =  dataset[training_data_len : , : ] \n",
    "for i in range(180,len(test_data)):\n",
    "    x_test.append(test_data[i-180:i,0])"
   ]
  },
  {
   "cell_type": "code",
   "execution_count": 385,
   "metadata": {
    "cell_id": "00053-fd733222-3ed4-437c-a375-96c9f823e1d8",
    "deepnote_cell_type": "code",
    "deepnote_to_be_reexecuted": false,
    "execution_millis": 1728,
    "execution_start": 1636852452191,
    "source_hash": "2540208c",
    "tags": []
   },
   "outputs": [
    {
     "name": "stdout",
     "output_type": "stream",
     "text": [
      "224.8626802091422\n",
      "181.15206904852278\n"
     ]
    }
   ],
   "source": [
    "x_test = np.array(x_test)\n",
    "x_test = np.reshape(x_test, (x_test.shape[0],x_test.shape[1],1))\n",
    "# Getting the models predicted price values\n",
    "predictions = model.predict(x_test) \n",
    "predictions = scaler.inverse_transform(predictions)\n",
    "# Undo scaling\n",
    "rmse = math.sqrt(mean_squared_error(y_test, predictions))\n",
    "mae = mean_absolute_error(y_test, predictions)\n",
    "\n",
    "print(rmse)\n",
    "print(mae)"
   ]
  },
  {
   "cell_type": "code",
   "execution_count": 386,
   "metadata": {
    "cell_id": "00054-2810e3f8-d2d5-40fb-9474-ff57c1221213",
    "deepnote_cell_type": "code",
    "deepnote_to_be_reexecuted": false,
    "execution_millis": 346,
    "execution_start": 1636852453921,
    "source_hash": "3e744801",
    "tags": []
   },
   "outputs": [
    {
     "data": {
      "image/png": "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",
      "text/plain": [
       "<Figure size 432x288 with 1 Axes>"
      ]
     },
     "metadata": {
      "needs_background": "light"
     },
     "output_type": "display_data"
    }
   ],
   "source": [
    "# Visualising the results\n",
    "plt.plot(y_test,color='red',label='Real Tesla Stock price')\n",
    "plt.plot(predictions,color='blue',label='Predicted Tesla Stock price')\n",
    "plt.title('Tesla stock price prediction using LSTM')\n",
    "plt.xlabel('Timeline')\n",
    "plt.ylabel('Stock Price')\n",
    "plt.legend()\n",
    "plt.show()"
   ]
  }
 ],
 "metadata": {
  "deepnote": {},
  "deepnoteSessionId": "dea8a0f5-35e3-4468-94eb-804ff5fc7baa",
  "deepnote_execution_queue": [],
  "deepnote_notebook_id": "0f460af1-1872-4aa4-804e-36716dbf15fd",
  "kernelspec": {
   "display_name": "Python 3",
   "language": "python",
   "name": "python3"
  },
  "language_info": {
   "codemirror_mode": {
    "name": "ipython",
    "version": 3
   },
   "file_extension": ".py",
   "mimetype": "text/x-python",
   "name": "python",
   "nbconvert_exporter": "python",
   "pygments_lexer": "ipython3",
   "version": "3.8.8"
  }
 },
 "nbformat": 4,
 "nbformat_minor": 2
}
